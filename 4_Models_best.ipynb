{
  "nbformat": 4,
  "nbformat_minor": 0,
  "metadata": {
    "colab": {
      "name": "4_Models_best.ipynb",
      "provenance": [],
      "collapsed_sections": [
        "ggZhYrMEPmp_",
        "7h2fBBENbsfo",
        "Frkj--yqNDw2"
      ],
      "include_colab_link": true
    },
    "kernelspec": {
      "name": "python3",
      "display_name": "Python 3"
    }
  },
  "cells": [
    {
      "cell_type": "markdown",
      "metadata": {
        "id": "view-in-github",
        "colab_type": "text"
      },
      "source": [
        "<a href=\"https://colab.research.google.com/github/MKrezheska/data-mining-project/blob/main/4_Models_best.ipynb\" target=\"_parent\"><img src=\"https://colab.research.google.com/assets/colab-badge.svg\" alt=\"Open In Colab\"/></a>"
      ]
    },
    {
      "cell_type": "code",
      "metadata": {
        "id": "7s--VnmDJiRa"
      },
      "source": [
        "import numpy as np \n",
        "import pandas as pd \n",
        "import matplotlib.pyplot as plt\n",
        "import matplotlib.ticker as ticker\n",
        "from sklearn import datasets, linear_model\n",
        "from sklearn.decomposition import PCA\n",
        "from sklearn.preprocessing import MinMaxScaler\n",
        "from sklearn.manifold import TSNE\n",
        "import seaborn as sns\n",
        "from sklearn import tree\n",
        "from sklearn.metrics import accuracy_score\n",
        "%matplotlib inline\n",
        "from sklearn.tree import DecisionTreeClassifier, export_graphviz\n",
        "from sklearn.metrics import confusion_matrix, accuracy_score, precision_score, recall_score, roc_curve, auc, roc_auc_score\n",
        "import seaborn as sn\n"
      ],
      "execution_count": null,
      "outputs": []
    },
    {
      "cell_type": "markdown",
      "metadata": {
        "id": "uehVk7itL7Bd"
      },
      "source": [
        "#Вчитување на податоците"
      ]
    },
    {
      "cell_type": "code",
      "metadata": {
        "id": "k9cUWArMJqdG",
        "outputId": "48694d48-6b7b-4bf9-a5fb-f96f69227091",
        "colab": {
          "base_uri": "https://localhost:8080/",
          "height": 34
        }
      },
      "source": [
        "from google.colab import drive\n",
        "drive.mount('/content/drive')"
      ],
      "execution_count": null,
      "outputs": [
        {
          "output_type": "stream",
          "text": [
            "Drive already mounted at /content/drive; to attempt to forcibly remount, call drive.mount(\"/content/drive\", force_remount=True).\n"
          ],
          "name": "stdout"
        }
      ]
    },
    {
      "cell_type": "code",
      "metadata": {
        "id": "mNy92BYdJySH",
        "outputId": "3e8cb7b6-4a87-4da1-915a-390136873e59",
        "colab": {
          "base_uri": "https://localhost:8080/",
          "height": 34
        }
      },
      "source": [
        "df = pd.read_csv(\"/content/drive/My Drive/with_genres.csv\")\n",
        "df.shape"
      ],
      "execution_count": null,
      "outputs": [
        {
          "output_type": "execute_result",
          "data": {
            "text/plain": [
              "(1991, 23)"
            ]
          },
          "metadata": {
            "tags": []
          },
          "execution_count": 218
        }
      ]
    },
    {
      "cell_type": "code",
      "metadata": {
        "id": "DqcWoa29PuWm",
        "outputId": "3c3fa52c-5aa1-4760-e28c-3317a576d01e",
        "colab": {
          "base_uri": "https://localhost:8080/",
          "height": 762
        }
      },
      "source": [
        "df = df.drop([\"Unnamed: 0.1\",\"Unnamed: 0\"], axis=\"columns\")\n",
        "df.head(100)"
      ],
      "execution_count": null,
      "outputs": [
        {
          "output_type": "execute_result",
          "data": {
            "text/html": [
              "<div>\n",
              "<style scoped>\n",
              "    .dataframe tbody tr th:only-of-type {\n",
              "        vertical-align: middle;\n",
              "    }\n",
              "\n",
              "    .dataframe tbody tr th {\n",
              "        vertical-align: top;\n",
              "    }\n",
              "\n",
              "    .dataframe thead th {\n",
              "        text-align: right;\n",
              "    }\n",
              "</style>\n",
              "<table border=\"1\" class=\"dataframe\">\n",
              "  <thead>\n",
              "    <tr style=\"text-align: right;\">\n",
              "      <th></th>\n",
              "      <th>energy</th>\n",
              "      <th>liveness</th>\n",
              "      <th>tempo</th>\n",
              "      <th>speechiness</th>\n",
              "      <th>acousticness</th>\n",
              "      <th>instrumentalness</th>\n",
              "      <th>time_signature</th>\n",
              "      <th>danceability</th>\n",
              "      <th>key</th>\n",
              "      <th>duration_ms</th>\n",
              "      <th>loudness</th>\n",
              "      <th>valence</th>\n",
              "      <th>mode</th>\n",
              "      <th>type</th>\n",
              "      <th>popularity</th>\n",
              "      <th>uri</th>\n",
              "      <th>title</th>\n",
              "      <th>artist</th>\n",
              "      <th>year</th>\n",
              "      <th>target</th>\n",
              "      <th>genre</th>\n",
              "    </tr>\n",
              "  </thead>\n",
              "  <tbody>\n",
              "    <tr>\n",
              "      <th>0</th>\n",
              "      <td>0.425</td>\n",
              "      <td>0.1000</td>\n",
              "      <td>135.128</td>\n",
              "      <td>0.3750</td>\n",
              "      <td>0.328000</td>\n",
              "      <td>0.130000</td>\n",
              "      <td>4</td>\n",
              "      <td>0.701</td>\n",
              "      <td>7</td>\n",
              "      <td>194088</td>\n",
              "      <td>-10.965</td>\n",
              "      <td>0.5620</td>\n",
              "      <td>1</td>\n",
              "      <td>audio_features</td>\n",
              "      <td>89</td>\n",
              "      <td>spotify:track:2Fxmhks0bxGSBdJ92vM42m</td>\n",
              "      <td>bad guy</td>\n",
              "      <td>Billie Eilish</td>\n",
              "      <td>2019</td>\n",
              "      <td>1</td>\n",
              "      <td>22</td>\n",
              "    </tr>\n",
              "    <tr>\n",
              "      <th>1</th>\n",
              "      <td>0.125</td>\n",
              "      <td>0.2650</td>\n",
              "      <td>111.554</td>\n",
              "      <td>0.2390</td>\n",
              "      <td>0.751000</td>\n",
              "      <td>0.002070</td>\n",
              "      <td>4</td>\n",
              "      <td>0.521</td>\n",
              "      <td>9</td>\n",
              "      <td>243725</td>\n",
              "      <td>-17.832</td>\n",
              "      <td>0.0528</td>\n",
              "      <td>1</td>\n",
              "      <td>audio_features</td>\n",
              "      <td>78</td>\n",
              "      <td>spotify:track:4QIo4oxwzzafcBWkKjDpXY</td>\n",
              "      <td>xanny</td>\n",
              "      <td>Billie Eilish</td>\n",
              "      <td>2019</td>\n",
              "      <td>1</td>\n",
              "      <td>22</td>\n",
              "    </tr>\n",
              "    <tr>\n",
              "      <th>2</th>\n",
              "      <td>0.533</td>\n",
              "      <td>0.1390</td>\n",
              "      <td>150.455</td>\n",
              "      <td>0.1860</td>\n",
              "      <td>0.462000</td>\n",
              "      <td>0.219000</td>\n",
              "      <td>4</td>\n",
              "      <td>0.678</td>\n",
              "      <td>4</td>\n",
              "      <td>180953</td>\n",
              "      <td>-10.485</td>\n",
              "      <td>0.3230</td>\n",
              "      <td>1</td>\n",
              "      <td>audio_features</td>\n",
              "      <td>81</td>\n",
              "      <td>spotify:track:3XF5xLJHOQQRbWya6hBp7d</td>\n",
              "      <td>you should see me in a crown</td>\n",
              "      <td>Billie Eilish</td>\n",
              "      <td>2019</td>\n",
              "      <td>1</td>\n",
              "      <td>22</td>\n",
              "    </tr>\n",
              "    <tr>\n",
              "      <th>3</th>\n",
              "      <td>0.444</td>\n",
              "      <td>0.1770</td>\n",
              "      <td>185.044</td>\n",
              "      <td>0.3720</td>\n",
              "      <td>0.283000</td>\n",
              "      <td>0.143000</td>\n",
              "      <td>4</td>\n",
              "      <td>0.726</td>\n",
              "      <td>8</td>\n",
              "      <td>168840</td>\n",
              "      <td>-8.922</td>\n",
              "      <td>0.5690</td>\n",
              "      <td>0</td>\n",
              "      <td>audio_features</td>\n",
              "      <td>80</td>\n",
              "      <td>spotify:track:6IRdLKIyS4p7XNiP8r6rsx</td>\n",
              "      <td>all the good girls go to hell</td>\n",
              "      <td>Billie Eilish</td>\n",
              "      <td>2019</td>\n",
              "      <td>1</td>\n",
              "      <td>22</td>\n",
              "    </tr>\n",
              "    <tr>\n",
              "      <th>4</th>\n",
              "      <td>0.351</td>\n",
              "      <td>0.7520</td>\n",
              "      <td>118.028</td>\n",
              "      <td>0.2410</td>\n",
              "      <td>0.390000</td>\n",
              "      <td>0.000009</td>\n",
              "      <td>4</td>\n",
              "      <td>0.853</td>\n",
              "      <td>7</td>\n",
              "      <td>221543</td>\n",
              "      <td>-10.198</td>\n",
              "      <td>0.2820</td>\n",
              "      <td>1</td>\n",
              "      <td>audio_features</td>\n",
              "      <td>81</td>\n",
              "      <td>spotify:track:3Fj47GNK2kUF0uaEDgXLaD</td>\n",
              "      <td>wish you were gay</td>\n",
              "      <td>Billie Eilish</td>\n",
              "      <td>2019</td>\n",
              "      <td>1</td>\n",
              "      <td>22</td>\n",
              "    </tr>\n",
              "    <tr>\n",
              "      <th>...</th>\n",
              "      <td>...</td>\n",
              "      <td>...</td>\n",
              "      <td>...</td>\n",
              "      <td>...</td>\n",
              "      <td>...</td>\n",
              "      <td>...</td>\n",
              "      <td>...</td>\n",
              "      <td>...</td>\n",
              "      <td>...</td>\n",
              "      <td>...</td>\n",
              "      <td>...</td>\n",
              "      <td>...</td>\n",
              "      <td>...</td>\n",
              "      <td>...</td>\n",
              "      <td>...</td>\n",
              "      <td>...</td>\n",
              "      <td>...</td>\n",
              "      <td>...</td>\n",
              "      <td>...</td>\n",
              "      <td>...</td>\n",
              "      <td>...</td>\n",
              "    </tr>\n",
              "    <tr>\n",
              "      <th>95</th>\n",
              "      <td>0.836</td>\n",
              "      <td>0.0550</td>\n",
              "      <td>132.937</td>\n",
              "      <td>0.0438</td>\n",
              "      <td>0.000143</td>\n",
              "      <td>0.000507</td>\n",
              "      <td>4</td>\n",
              "      <td>0.484</td>\n",
              "      <td>1</td>\n",
              "      <td>494773</td>\n",
              "      <td>-4.658</td>\n",
              "      <td>0.4030</td>\n",
              "      <td>1</td>\n",
              "      <td>audio_features</td>\n",
              "      <td>41</td>\n",
              "      <td>spotify:track:5jE2hljNVTJZeodUXQu9Ea</td>\n",
              "      <td>Fixxxer</td>\n",
              "      <td>Metallica</td>\n",
              "      <td>1997</td>\n",
              "      <td>1</td>\n",
              "      <td>26</td>\n",
              "    </tr>\n",
              "    <tr>\n",
              "      <th>96</th>\n",
              "      <td>0.903</td>\n",
              "      <td>0.0979</td>\n",
              "      <td>157.825</td>\n",
              "      <td>0.0314</td>\n",
              "      <td>0.000022</td>\n",
              "      <td>0.052200</td>\n",
              "      <td>4</td>\n",
              "      <td>0.426</td>\n",
              "      <td>10</td>\n",
              "      <td>304400</td>\n",
              "      <td>-4.535</td>\n",
              "      <td>0.4420</td>\n",
              "      <td>0</td>\n",
              "      <td>audio_features</td>\n",
              "      <td>48</td>\n",
              "      <td>spotify:track:3QWzxUE2WA5WoSi82KCODk</td>\n",
              "      <td>Ain't My Bitch</td>\n",
              "      <td>Metallica</td>\n",
              "      <td>1996</td>\n",
              "      <td>1</td>\n",
              "      <td>26</td>\n",
              "    </tr>\n",
              "    <tr>\n",
              "      <th>97</th>\n",
              "      <td>0.907</td>\n",
              "      <td>0.5490</td>\n",
              "      <td>115.217</td>\n",
              "      <td>0.0345</td>\n",
              "      <td>0.000005</td>\n",
              "      <td>0.008570</td>\n",
              "      <td>4</td>\n",
              "      <td>0.512</td>\n",
              "      <td>1</td>\n",
              "      <td>328200</td>\n",
              "      <td>-4.432</td>\n",
              "      <td>0.6730</td>\n",
              "      <td>0</td>\n",
              "      <td>audio_features</td>\n",
              "      <td>45</td>\n",
              "      <td>spotify:track:0SwHR5lvAfgI8Z2D6YgvMd</td>\n",
              "      <td>2 X 4</td>\n",
              "      <td>Metallica</td>\n",
              "      <td>1996</td>\n",
              "      <td>1</td>\n",
              "      <td>26</td>\n",
              "    </tr>\n",
              "    <tr>\n",
              "      <th>98</th>\n",
              "      <td>0.859</td>\n",
              "      <td>0.1550</td>\n",
              "      <td>94.437</td>\n",
              "      <td>0.0307</td>\n",
              "      <td>0.000018</td>\n",
              "      <td>0.003410</td>\n",
              "      <td>4</td>\n",
              "      <td>0.478</td>\n",
              "      <td>4</td>\n",
              "      <td>398867</td>\n",
              "      <td>-5.347</td>\n",
              "      <td>0.2860</td>\n",
              "      <td>1</td>\n",
              "      <td>audio_features</td>\n",
              "      <td>45</td>\n",
              "      <td>spotify:track:2UmXstEJ8nkpUUfQRYieC6</td>\n",
              "      <td>The House That Jack Built</td>\n",
              "      <td>Metallica</td>\n",
              "      <td>1996</td>\n",
              "      <td>1</td>\n",
              "      <td>26</td>\n",
              "    </tr>\n",
              "    <tr>\n",
              "      <th>99</th>\n",
              "      <td>0.920</td>\n",
              "      <td>0.1490</td>\n",
              "      <td>113.394</td>\n",
              "      <td>0.0297</td>\n",
              "      <td>0.000248</td>\n",
              "      <td>0.071400</td>\n",
              "      <td>4</td>\n",
              "      <td>0.568</td>\n",
              "      <td>8</td>\n",
              "      <td>267933</td>\n",
              "      <td>-4.434</td>\n",
              "      <td>0.7190</td>\n",
              "      <td>0</td>\n",
              "      <td>audio_features</td>\n",
              "      <td>58</td>\n",
              "      <td>spotify:track:2Iv4HSoMX2fDeXFcOJWyWX</td>\n",
              "      <td>Until It Sleeps</td>\n",
              "      <td>Metallica</td>\n",
              "      <td>1996</td>\n",
              "      <td>1</td>\n",
              "      <td>26</td>\n",
              "    </tr>\n",
              "  </tbody>\n",
              "</table>\n",
              "<p>100 rows × 21 columns</p>\n",
              "</div>"
            ],
            "text/plain": [
              "    energy  liveness    tempo  speechiness  ...         artist  year  target  genre\n",
              "0    0.425    0.1000  135.128       0.3750  ...  Billie Eilish  2019       1     22\n",
              "1    0.125    0.2650  111.554       0.2390  ...  Billie Eilish  2019       1     22\n",
              "2    0.533    0.1390  150.455       0.1860  ...  Billie Eilish  2019       1     22\n",
              "3    0.444    0.1770  185.044       0.3720  ...  Billie Eilish  2019       1     22\n",
              "4    0.351    0.7520  118.028       0.2410  ...  Billie Eilish  2019       1     22\n",
              "..     ...       ...      ...          ...  ...            ...   ...     ...    ...\n",
              "95   0.836    0.0550  132.937       0.0438  ...      Metallica  1997       1     26\n",
              "96   0.903    0.0979  157.825       0.0314  ...      Metallica  1996       1     26\n",
              "97   0.907    0.5490  115.217       0.0345  ...      Metallica  1996       1     26\n",
              "98   0.859    0.1550   94.437       0.0307  ...      Metallica  1996       1     26\n",
              "99   0.920    0.1490  113.394       0.0297  ...      Metallica  1996       1     26\n",
              "\n",
              "[100 rows x 21 columns]"
            ]
          },
          "metadata": {
            "tags": []
          },
          "execution_count": 219
        }
      ]
    },
    {
      "cell_type": "code",
      "metadata": {
        "id": "fylOhvdlWHZV",
        "outputId": "027664e6-5dd6-4c1f-fb15-e295c52e3f00",
        "colab": {
          "base_uri": "https://localhost:8080/",
          "height": 419
        }
      },
      "source": [
        "df.drop(['title','artist', 'uri', 'type'], axis=1, inplace=True)\n",
        "df.head(1991)"
      ],
      "execution_count": null,
      "outputs": [
        {
          "output_type": "execute_result",
          "data": {
            "text/html": [
              "<div>\n",
              "<style scoped>\n",
              "    .dataframe tbody tr th:only-of-type {\n",
              "        vertical-align: middle;\n",
              "    }\n",
              "\n",
              "    .dataframe tbody tr th {\n",
              "        vertical-align: top;\n",
              "    }\n",
              "\n",
              "    .dataframe thead th {\n",
              "        text-align: right;\n",
              "    }\n",
              "</style>\n",
              "<table border=\"1\" class=\"dataframe\">\n",
              "  <thead>\n",
              "    <tr style=\"text-align: right;\">\n",
              "      <th></th>\n",
              "      <th>energy</th>\n",
              "      <th>liveness</th>\n",
              "      <th>tempo</th>\n",
              "      <th>speechiness</th>\n",
              "      <th>acousticness</th>\n",
              "      <th>instrumentalness</th>\n",
              "      <th>time_signature</th>\n",
              "      <th>danceability</th>\n",
              "      <th>key</th>\n",
              "      <th>duration_ms</th>\n",
              "      <th>loudness</th>\n",
              "      <th>valence</th>\n",
              "      <th>mode</th>\n",
              "      <th>popularity</th>\n",
              "      <th>year</th>\n",
              "      <th>target</th>\n",
              "      <th>genre</th>\n",
              "    </tr>\n",
              "  </thead>\n",
              "  <tbody>\n",
              "    <tr>\n",
              "      <th>0</th>\n",
              "      <td>0.425</td>\n",
              "      <td>0.100</td>\n",
              "      <td>135.128</td>\n",
              "      <td>0.3750</td>\n",
              "      <td>0.32800</td>\n",
              "      <td>0.130000</td>\n",
              "      <td>4</td>\n",
              "      <td>0.701</td>\n",
              "      <td>7</td>\n",
              "      <td>194088</td>\n",
              "      <td>-10.965</td>\n",
              "      <td>0.5620</td>\n",
              "      <td>1</td>\n",
              "      <td>89</td>\n",
              "      <td>2019</td>\n",
              "      <td>1</td>\n",
              "      <td>22</td>\n",
              "    </tr>\n",
              "    <tr>\n",
              "      <th>1</th>\n",
              "      <td>0.125</td>\n",
              "      <td>0.265</td>\n",
              "      <td>111.554</td>\n",
              "      <td>0.2390</td>\n",
              "      <td>0.75100</td>\n",
              "      <td>0.002070</td>\n",
              "      <td>4</td>\n",
              "      <td>0.521</td>\n",
              "      <td>9</td>\n",
              "      <td>243725</td>\n",
              "      <td>-17.832</td>\n",
              "      <td>0.0528</td>\n",
              "      <td>1</td>\n",
              "      <td>78</td>\n",
              "      <td>2019</td>\n",
              "      <td>1</td>\n",
              "      <td>22</td>\n",
              "    </tr>\n",
              "    <tr>\n",
              "      <th>2</th>\n",
              "      <td>0.533</td>\n",
              "      <td>0.139</td>\n",
              "      <td>150.455</td>\n",
              "      <td>0.1860</td>\n",
              "      <td>0.46200</td>\n",
              "      <td>0.219000</td>\n",
              "      <td>4</td>\n",
              "      <td>0.678</td>\n",
              "      <td>4</td>\n",
              "      <td>180953</td>\n",
              "      <td>-10.485</td>\n",
              "      <td>0.3230</td>\n",
              "      <td>1</td>\n",
              "      <td>81</td>\n",
              "      <td>2019</td>\n",
              "      <td>1</td>\n",
              "      <td>22</td>\n",
              "    </tr>\n",
              "    <tr>\n",
              "      <th>3</th>\n",
              "      <td>0.444</td>\n",
              "      <td>0.177</td>\n",
              "      <td>185.044</td>\n",
              "      <td>0.3720</td>\n",
              "      <td>0.28300</td>\n",
              "      <td>0.143000</td>\n",
              "      <td>4</td>\n",
              "      <td>0.726</td>\n",
              "      <td>8</td>\n",
              "      <td>168840</td>\n",
              "      <td>-8.922</td>\n",
              "      <td>0.5690</td>\n",
              "      <td>0</td>\n",
              "      <td>80</td>\n",
              "      <td>2019</td>\n",
              "      <td>1</td>\n",
              "      <td>22</td>\n",
              "    </tr>\n",
              "    <tr>\n",
              "      <th>4</th>\n",
              "      <td>0.351</td>\n",
              "      <td>0.752</td>\n",
              "      <td>118.028</td>\n",
              "      <td>0.2410</td>\n",
              "      <td>0.39000</td>\n",
              "      <td>0.000009</td>\n",
              "      <td>4</td>\n",
              "      <td>0.853</td>\n",
              "      <td>7</td>\n",
              "      <td>221543</td>\n",
              "      <td>-10.198</td>\n",
              "      <td>0.2820</td>\n",
              "      <td>1</td>\n",
              "      <td>81</td>\n",
              "      <td>2019</td>\n",
              "      <td>1</td>\n",
              "      <td>22</td>\n",
              "    </tr>\n",
              "    <tr>\n",
              "      <th>...</th>\n",
              "      <td>...</td>\n",
              "      <td>...</td>\n",
              "      <td>...</td>\n",
              "      <td>...</td>\n",
              "      <td>...</td>\n",
              "      <td>...</td>\n",
              "      <td>...</td>\n",
              "      <td>...</td>\n",
              "      <td>...</td>\n",
              "      <td>...</td>\n",
              "      <td>...</td>\n",
              "      <td>...</td>\n",
              "      <td>...</td>\n",
              "      <td>...</td>\n",
              "      <td>...</td>\n",
              "      <td>...</td>\n",
              "      <td>...</td>\n",
              "    </tr>\n",
              "    <tr>\n",
              "      <th>1986</th>\n",
              "      <td>0.364</td>\n",
              "      <td>0.101</td>\n",
              "      <td>123.022</td>\n",
              "      <td>0.0287</td>\n",
              "      <td>0.54500</td>\n",
              "      <td>0.000069</td>\n",
              "      <td>4</td>\n",
              "      <td>0.340</td>\n",
              "      <td>9</td>\n",
              "      <td>203760</td>\n",
              "      <td>-8.331</td>\n",
              "      <td>0.1100</td>\n",
              "      <td>1</td>\n",
              "      <td>41</td>\n",
              "      <td>2019</td>\n",
              "      <td>0</td>\n",
              "      <td>16</td>\n",
              "    </tr>\n",
              "    <tr>\n",
              "      <th>1987</th>\n",
              "      <td>0.886</td>\n",
              "      <td>0.096</td>\n",
              "      <td>126.044</td>\n",
              "      <td>0.0443</td>\n",
              "      <td>0.00114</td>\n",
              "      <td>0.000014</td>\n",
              "      <td>4</td>\n",
              "      <td>0.490</td>\n",
              "      <td>8</td>\n",
              "      <td>213333</td>\n",
              "      <td>-5.404</td>\n",
              "      <td>0.4930</td>\n",
              "      <td>1</td>\n",
              "      <td>45</td>\n",
              "      <td>2019</td>\n",
              "      <td>0</td>\n",
              "      <td>16</td>\n",
              "    </tr>\n",
              "    <tr>\n",
              "      <th>1988</th>\n",
              "      <td>0.475</td>\n",
              "      <td>0.104</td>\n",
              "      <td>101.069</td>\n",
              "      <td>0.0265</td>\n",
              "      <td>0.34800</td>\n",
              "      <td>0.000025</td>\n",
              "      <td>4</td>\n",
              "      <td>0.475</td>\n",
              "      <td>2</td>\n",
              "      <td>275133</td>\n",
              "      <td>-7.319</td>\n",
              "      <td>0.1290</td>\n",
              "      <td>1</td>\n",
              "      <td>40</td>\n",
              "      <td>2019</td>\n",
              "      <td>0</td>\n",
              "      <td>16</td>\n",
              "    </tr>\n",
              "    <tr>\n",
              "      <th>1989</th>\n",
              "      <td>0.637</td>\n",
              "      <td>0.100</td>\n",
              "      <td>76.037</td>\n",
              "      <td>0.0313</td>\n",
              "      <td>0.24900</td>\n",
              "      <td>0.000006</td>\n",
              "      <td>4</td>\n",
              "      <td>0.568</td>\n",
              "      <td>7</td>\n",
              "      <td>192107</td>\n",
              "      <td>-5.977</td>\n",
              "      <td>0.4520</td>\n",
              "      <td>1</td>\n",
              "      <td>39</td>\n",
              "      <td>2019</td>\n",
              "      <td>0</td>\n",
              "      <td>16</td>\n",
              "    </tr>\n",
              "    <tr>\n",
              "      <th>1990</th>\n",
              "      <td>0.360</td>\n",
              "      <td>0.129</td>\n",
              "      <td>99.194</td>\n",
              "      <td>0.0303</td>\n",
              "      <td>0.84100</td>\n",
              "      <td>0.000006</td>\n",
              "      <td>4</td>\n",
              "      <td>0.580</td>\n",
              "      <td>6</td>\n",
              "      <td>210113</td>\n",
              "      <td>-7.930</td>\n",
              "      <td>0.3020</td>\n",
              "      <td>1</td>\n",
              "      <td>68</td>\n",
              "      <td>2019</td>\n",
              "      <td>0</td>\n",
              "      <td>16</td>\n",
              "    </tr>\n",
              "  </tbody>\n",
              "</table>\n",
              "<p>1991 rows × 17 columns</p>\n",
              "</div>"
            ],
            "text/plain": [
              "      energy  liveness    tempo  speechiness  ...  popularity  year  target  genre\n",
              "0      0.425     0.100  135.128       0.3750  ...          89  2019       1     22\n",
              "1      0.125     0.265  111.554       0.2390  ...          78  2019       1     22\n",
              "2      0.533     0.139  150.455       0.1860  ...          81  2019       1     22\n",
              "3      0.444     0.177  185.044       0.3720  ...          80  2019       1     22\n",
              "4      0.351     0.752  118.028       0.2410  ...          81  2019       1     22\n",
              "...      ...       ...      ...          ...  ...         ...   ...     ...    ...\n",
              "1986   0.364     0.101  123.022       0.0287  ...          41  2019       0     16\n",
              "1987   0.886     0.096  126.044       0.0443  ...          45  2019       0     16\n",
              "1988   0.475     0.104  101.069       0.0265  ...          40  2019       0     16\n",
              "1989   0.637     0.100   76.037       0.0313  ...          39  2019       0     16\n",
              "1990   0.360     0.129   99.194       0.0303  ...          68  2019       0     16\n",
              "\n",
              "[1991 rows x 17 columns]"
            ]
          },
          "metadata": {
            "tags": []
          },
          "execution_count": 220
        }
      ]
    },
    {
      "cell_type": "code",
      "metadata": {
        "id": "jJBICeJmND-a"
      },
      "source": [
        "cols = ['genre']  + [col for col in df if col != 'genre']\n",
        "df = df[cols]"
      ],
      "execution_count": null,
      "outputs": []
    },
    {
      "cell_type": "code",
      "metadata": {
        "id": "S70B_AYSQQPO",
        "outputId": "77ae3aff-d946-49ed-c4b4-ad74bece913b",
        "colab": {
          "base_uri": "https://localhost:8080/",
          "height": 419
        }
      },
      "source": [
        "df.head(100)"
      ],
      "execution_count": null,
      "outputs": [
        {
          "output_type": "execute_result",
          "data": {
            "text/html": [
              "<div>\n",
              "<style scoped>\n",
              "    .dataframe tbody tr th:only-of-type {\n",
              "        vertical-align: middle;\n",
              "    }\n",
              "\n",
              "    .dataframe tbody tr th {\n",
              "        vertical-align: top;\n",
              "    }\n",
              "\n",
              "    .dataframe thead th {\n",
              "        text-align: right;\n",
              "    }\n",
              "</style>\n",
              "<table border=\"1\" class=\"dataframe\">\n",
              "  <thead>\n",
              "    <tr style=\"text-align: right;\">\n",
              "      <th></th>\n",
              "      <th>genre</th>\n",
              "      <th>energy</th>\n",
              "      <th>liveness</th>\n",
              "      <th>tempo</th>\n",
              "      <th>speechiness</th>\n",
              "      <th>acousticness</th>\n",
              "      <th>instrumentalness</th>\n",
              "      <th>time_signature</th>\n",
              "      <th>danceability</th>\n",
              "      <th>key</th>\n",
              "      <th>duration_ms</th>\n",
              "      <th>loudness</th>\n",
              "      <th>valence</th>\n",
              "      <th>mode</th>\n",
              "      <th>popularity</th>\n",
              "      <th>year</th>\n",
              "      <th>target</th>\n",
              "    </tr>\n",
              "  </thead>\n",
              "  <tbody>\n",
              "    <tr>\n",
              "      <th>0</th>\n",
              "      <td>22</td>\n",
              "      <td>0.425</td>\n",
              "      <td>0.1000</td>\n",
              "      <td>135.128</td>\n",
              "      <td>0.3750</td>\n",
              "      <td>0.328000</td>\n",
              "      <td>0.130000</td>\n",
              "      <td>4</td>\n",
              "      <td>0.701</td>\n",
              "      <td>7</td>\n",
              "      <td>194088</td>\n",
              "      <td>-10.965</td>\n",
              "      <td>0.5620</td>\n",
              "      <td>1</td>\n",
              "      <td>89</td>\n",
              "      <td>2019</td>\n",
              "      <td>1</td>\n",
              "    </tr>\n",
              "    <tr>\n",
              "      <th>1</th>\n",
              "      <td>22</td>\n",
              "      <td>0.125</td>\n",
              "      <td>0.2650</td>\n",
              "      <td>111.554</td>\n",
              "      <td>0.2390</td>\n",
              "      <td>0.751000</td>\n",
              "      <td>0.002070</td>\n",
              "      <td>4</td>\n",
              "      <td>0.521</td>\n",
              "      <td>9</td>\n",
              "      <td>243725</td>\n",
              "      <td>-17.832</td>\n",
              "      <td>0.0528</td>\n",
              "      <td>1</td>\n",
              "      <td>78</td>\n",
              "      <td>2019</td>\n",
              "      <td>1</td>\n",
              "    </tr>\n",
              "    <tr>\n",
              "      <th>2</th>\n",
              "      <td>22</td>\n",
              "      <td>0.533</td>\n",
              "      <td>0.1390</td>\n",
              "      <td>150.455</td>\n",
              "      <td>0.1860</td>\n",
              "      <td>0.462000</td>\n",
              "      <td>0.219000</td>\n",
              "      <td>4</td>\n",
              "      <td>0.678</td>\n",
              "      <td>4</td>\n",
              "      <td>180953</td>\n",
              "      <td>-10.485</td>\n",
              "      <td>0.3230</td>\n",
              "      <td>1</td>\n",
              "      <td>81</td>\n",
              "      <td>2019</td>\n",
              "      <td>1</td>\n",
              "    </tr>\n",
              "    <tr>\n",
              "      <th>3</th>\n",
              "      <td>22</td>\n",
              "      <td>0.444</td>\n",
              "      <td>0.1770</td>\n",
              "      <td>185.044</td>\n",
              "      <td>0.3720</td>\n",
              "      <td>0.283000</td>\n",
              "      <td>0.143000</td>\n",
              "      <td>4</td>\n",
              "      <td>0.726</td>\n",
              "      <td>8</td>\n",
              "      <td>168840</td>\n",
              "      <td>-8.922</td>\n",
              "      <td>0.5690</td>\n",
              "      <td>0</td>\n",
              "      <td>80</td>\n",
              "      <td>2019</td>\n",
              "      <td>1</td>\n",
              "    </tr>\n",
              "    <tr>\n",
              "      <th>4</th>\n",
              "      <td>22</td>\n",
              "      <td>0.351</td>\n",
              "      <td>0.7520</td>\n",
              "      <td>118.028</td>\n",
              "      <td>0.2410</td>\n",
              "      <td>0.390000</td>\n",
              "      <td>0.000009</td>\n",
              "      <td>4</td>\n",
              "      <td>0.853</td>\n",
              "      <td>7</td>\n",
              "      <td>221543</td>\n",
              "      <td>-10.198</td>\n",
              "      <td>0.2820</td>\n",
              "      <td>1</td>\n",
              "      <td>81</td>\n",
              "      <td>2019</td>\n",
              "      <td>1</td>\n",
              "    </tr>\n",
              "    <tr>\n",
              "      <th>...</th>\n",
              "      <td>...</td>\n",
              "      <td>...</td>\n",
              "      <td>...</td>\n",
              "      <td>...</td>\n",
              "      <td>...</td>\n",
              "      <td>...</td>\n",
              "      <td>...</td>\n",
              "      <td>...</td>\n",
              "      <td>...</td>\n",
              "      <td>...</td>\n",
              "      <td>...</td>\n",
              "      <td>...</td>\n",
              "      <td>...</td>\n",
              "      <td>...</td>\n",
              "      <td>...</td>\n",
              "      <td>...</td>\n",
              "      <td>...</td>\n",
              "    </tr>\n",
              "    <tr>\n",
              "      <th>95</th>\n",
              "      <td>26</td>\n",
              "      <td>0.836</td>\n",
              "      <td>0.0550</td>\n",
              "      <td>132.937</td>\n",
              "      <td>0.0438</td>\n",
              "      <td>0.000143</td>\n",
              "      <td>0.000507</td>\n",
              "      <td>4</td>\n",
              "      <td>0.484</td>\n",
              "      <td>1</td>\n",
              "      <td>494773</td>\n",
              "      <td>-4.658</td>\n",
              "      <td>0.4030</td>\n",
              "      <td>1</td>\n",
              "      <td>41</td>\n",
              "      <td>1997</td>\n",
              "      <td>1</td>\n",
              "    </tr>\n",
              "    <tr>\n",
              "      <th>96</th>\n",
              "      <td>26</td>\n",
              "      <td>0.903</td>\n",
              "      <td>0.0979</td>\n",
              "      <td>157.825</td>\n",
              "      <td>0.0314</td>\n",
              "      <td>0.000022</td>\n",
              "      <td>0.052200</td>\n",
              "      <td>4</td>\n",
              "      <td>0.426</td>\n",
              "      <td>10</td>\n",
              "      <td>304400</td>\n",
              "      <td>-4.535</td>\n",
              "      <td>0.4420</td>\n",
              "      <td>0</td>\n",
              "      <td>48</td>\n",
              "      <td>1996</td>\n",
              "      <td>1</td>\n",
              "    </tr>\n",
              "    <tr>\n",
              "      <th>97</th>\n",
              "      <td>26</td>\n",
              "      <td>0.907</td>\n",
              "      <td>0.5490</td>\n",
              "      <td>115.217</td>\n",
              "      <td>0.0345</td>\n",
              "      <td>0.000005</td>\n",
              "      <td>0.008570</td>\n",
              "      <td>4</td>\n",
              "      <td>0.512</td>\n",
              "      <td>1</td>\n",
              "      <td>328200</td>\n",
              "      <td>-4.432</td>\n",
              "      <td>0.6730</td>\n",
              "      <td>0</td>\n",
              "      <td>45</td>\n",
              "      <td>1996</td>\n",
              "      <td>1</td>\n",
              "    </tr>\n",
              "    <tr>\n",
              "      <th>98</th>\n",
              "      <td>26</td>\n",
              "      <td>0.859</td>\n",
              "      <td>0.1550</td>\n",
              "      <td>94.437</td>\n",
              "      <td>0.0307</td>\n",
              "      <td>0.000018</td>\n",
              "      <td>0.003410</td>\n",
              "      <td>4</td>\n",
              "      <td>0.478</td>\n",
              "      <td>4</td>\n",
              "      <td>398867</td>\n",
              "      <td>-5.347</td>\n",
              "      <td>0.2860</td>\n",
              "      <td>1</td>\n",
              "      <td>45</td>\n",
              "      <td>1996</td>\n",
              "      <td>1</td>\n",
              "    </tr>\n",
              "    <tr>\n",
              "      <th>99</th>\n",
              "      <td>26</td>\n",
              "      <td>0.920</td>\n",
              "      <td>0.1490</td>\n",
              "      <td>113.394</td>\n",
              "      <td>0.0297</td>\n",
              "      <td>0.000248</td>\n",
              "      <td>0.071400</td>\n",
              "      <td>4</td>\n",
              "      <td>0.568</td>\n",
              "      <td>8</td>\n",
              "      <td>267933</td>\n",
              "      <td>-4.434</td>\n",
              "      <td>0.7190</td>\n",
              "      <td>0</td>\n",
              "      <td>58</td>\n",
              "      <td>1996</td>\n",
              "      <td>1</td>\n",
              "    </tr>\n",
              "  </tbody>\n",
              "</table>\n",
              "<p>100 rows × 17 columns</p>\n",
              "</div>"
            ],
            "text/plain": [
              "    genre  energy  liveness    tempo  ...  mode  popularity  year  target\n",
              "0      22   0.425    0.1000  135.128  ...     1          89  2019       1\n",
              "1      22   0.125    0.2650  111.554  ...     1          78  2019       1\n",
              "2      22   0.533    0.1390  150.455  ...     1          81  2019       1\n",
              "3      22   0.444    0.1770  185.044  ...     0          80  2019       1\n",
              "4      22   0.351    0.7520  118.028  ...     1          81  2019       1\n",
              "..    ...     ...       ...      ...  ...   ...         ...   ...     ...\n",
              "95     26   0.836    0.0550  132.937  ...     1          41  1997       1\n",
              "96     26   0.903    0.0979  157.825  ...     0          48  1996       1\n",
              "97     26   0.907    0.5490  115.217  ...     0          45  1996       1\n",
              "98     26   0.859    0.1550   94.437  ...     1          45  1996       1\n",
              "99     26   0.920    0.1490  113.394  ...     0          58  1996       1\n",
              "\n",
              "[100 rows x 17 columns]"
            ]
          },
          "metadata": {
            "tags": []
          },
          "execution_count": 222
        }
      ]
    },
    {
      "cell_type": "code",
      "metadata": {
        "id": "jYPQCB5xiUjB",
        "outputId": "438ed249-ff54-497a-9295-e147bdcd0207",
        "colab": {
          "base_uri": "https://localhost:8080/",
          "height": 419
        }
      },
      "source": [
        "from sklearn.utils import shuffle\n",
        "df = shuffle(df)\n",
        "df.head(1991)"
      ],
      "execution_count": null,
      "outputs": [
        {
          "output_type": "execute_result",
          "data": {
            "text/html": [
              "<div>\n",
              "<style scoped>\n",
              "    .dataframe tbody tr th:only-of-type {\n",
              "        vertical-align: middle;\n",
              "    }\n",
              "\n",
              "    .dataframe tbody tr th {\n",
              "        vertical-align: top;\n",
              "    }\n",
              "\n",
              "    .dataframe thead th {\n",
              "        text-align: right;\n",
              "    }\n",
              "</style>\n",
              "<table border=\"1\" class=\"dataframe\">\n",
              "  <thead>\n",
              "    <tr style=\"text-align: right;\">\n",
              "      <th></th>\n",
              "      <th>genre</th>\n",
              "      <th>energy</th>\n",
              "      <th>liveness</th>\n",
              "      <th>tempo</th>\n",
              "      <th>speechiness</th>\n",
              "      <th>acousticness</th>\n",
              "      <th>instrumentalness</th>\n",
              "      <th>time_signature</th>\n",
              "      <th>danceability</th>\n",
              "      <th>key</th>\n",
              "      <th>duration_ms</th>\n",
              "      <th>loudness</th>\n",
              "      <th>valence</th>\n",
              "      <th>mode</th>\n",
              "      <th>popularity</th>\n",
              "      <th>year</th>\n",
              "      <th>target</th>\n",
              "    </tr>\n",
              "  </thead>\n",
              "  <tbody>\n",
              "    <tr>\n",
              "      <th>89</th>\n",
              "      <td>26</td>\n",
              "      <td>0.865</td>\n",
              "      <td>0.1820</td>\n",
              "      <td>142.770</td>\n",
              "      <td>0.0341</td>\n",
              "      <td>0.000011</td>\n",
              "      <td>0.104000</td>\n",
              "      <td>4</td>\n",
              "      <td>0.394</td>\n",
              "      <td>3</td>\n",
              "      <td>372200</td>\n",
              "      <td>-5.338</td>\n",
              "      <td>0.515</td>\n",
              "      <td>0</td>\n",
              "      <td>44</td>\n",
              "      <td>1997</td>\n",
              "      <td>1</td>\n",
              "    </tr>\n",
              "    <tr>\n",
              "      <th>81</th>\n",
              "      <td>26</td>\n",
              "      <td>0.928</td>\n",
              "      <td>0.0908</td>\n",
              "      <td>164.351</td>\n",
              "      <td>0.0670</td>\n",
              "      <td>0.000047</td>\n",
              "      <td>0.835000</td>\n",
              "      <td>4</td>\n",
              "      <td>0.254</td>\n",
              "      <td>4</td>\n",
              "      <td>597720</td>\n",
              "      <td>-4.357</td>\n",
              "      <td>0.410</td>\n",
              "      <td>0</td>\n",
              "      <td>46</td>\n",
              "      <td>2008</td>\n",
              "      <td>1</td>\n",
              "    </tr>\n",
              "    <tr>\n",
              "      <th>483</th>\n",
              "      <td>18</td>\n",
              "      <td>0.846</td>\n",
              "      <td>0.0378</td>\n",
              "      <td>136.069</td>\n",
              "      <td>0.0587</td>\n",
              "      <td>0.200000</td>\n",
              "      <td>0.000000</td>\n",
              "      <td>4</td>\n",
              "      <td>0.701</td>\n",
              "      <td>9</td>\n",
              "      <td>193560</td>\n",
              "      <td>-6.034</td>\n",
              "      <td>0.669</td>\n",
              "      <td>1</td>\n",
              "      <td>12</td>\n",
              "      <td>2001</td>\n",
              "      <td>1</td>\n",
              "    </tr>\n",
              "    <tr>\n",
              "      <th>1595</th>\n",
              "      <td>23</td>\n",
              "      <td>0.793</td>\n",
              "      <td>0.1900</td>\n",
              "      <td>159.989</td>\n",
              "      <td>0.2740</td>\n",
              "      <td>0.341000</td>\n",
              "      <td>0.000092</td>\n",
              "      <td>4</td>\n",
              "      <td>0.701</td>\n",
              "      <td>11</td>\n",
              "      <td>168040</td>\n",
              "      <td>-5.087</td>\n",
              "      <td>0.627</td>\n",
              "      <td>0</td>\n",
              "      <td>37</td>\n",
              "      <td>2018</td>\n",
              "      <td>0</td>\n",
              "    </tr>\n",
              "    <tr>\n",
              "      <th>625</th>\n",
              "      <td>11</td>\n",
              "      <td>0.404</td>\n",
              "      <td>0.1400</td>\n",
              "      <td>108.010</td>\n",
              "      <td>0.0261</td>\n",
              "      <td>0.487000</td>\n",
              "      <td>0.048500</td>\n",
              "      <td>4</td>\n",
              "      <td>0.489</td>\n",
              "      <td>8</td>\n",
              "      <td>597600</td>\n",
              "      <td>-7.815</td>\n",
              "      <td>0.153</td>\n",
              "      <td>1</td>\n",
              "      <td>66</td>\n",
              "      <td>2016</td>\n",
              "      <td>1</td>\n",
              "    </tr>\n",
              "    <tr>\n",
              "      <th>...</th>\n",
              "      <td>...</td>\n",
              "      <td>...</td>\n",
              "      <td>...</td>\n",
              "      <td>...</td>\n",
              "      <td>...</td>\n",
              "      <td>...</td>\n",
              "      <td>...</td>\n",
              "      <td>...</td>\n",
              "      <td>...</td>\n",
              "      <td>...</td>\n",
              "      <td>...</td>\n",
              "      <td>...</td>\n",
              "      <td>...</td>\n",
              "      <td>...</td>\n",
              "      <td>...</td>\n",
              "      <td>...</td>\n",
              "      <td>...</td>\n",
              "    </tr>\n",
              "    <tr>\n",
              "      <th>599</th>\n",
              "      <td>4</td>\n",
              "      <td>0.908</td>\n",
              "      <td>0.1320</td>\n",
              "      <td>173.713</td>\n",
              "      <td>0.0463</td>\n",
              "      <td>0.000198</td>\n",
              "      <td>0.000092</td>\n",
              "      <td>4</td>\n",
              "      <td>0.277</td>\n",
              "      <td>10</td>\n",
              "      <td>95387</td>\n",
              "      <td>-11.029</td>\n",
              "      <td>0.351</td>\n",
              "      <td>0</td>\n",
              "      <td>49</td>\n",
              "      <td>1993</td>\n",
              "      <td>1</td>\n",
              "    </tr>\n",
              "    <tr>\n",
              "      <th>1930</th>\n",
              "      <td>41</td>\n",
              "      <td>0.795</td>\n",
              "      <td>0.1490</td>\n",
              "      <td>104.983</td>\n",
              "      <td>0.0507</td>\n",
              "      <td>0.133000</td>\n",
              "      <td>0.000000</td>\n",
              "      <td>4</td>\n",
              "      <td>0.811</td>\n",
              "      <td>7</td>\n",
              "      <td>181227</td>\n",
              "      <td>-5.824</td>\n",
              "      <td>0.853</td>\n",
              "      <td>0</td>\n",
              "      <td>12</td>\n",
              "      <td>2007</td>\n",
              "      <td>0</td>\n",
              "    </tr>\n",
              "    <tr>\n",
              "      <th>1679</th>\n",
              "      <td>35</td>\n",
              "      <td>0.819</td>\n",
              "      <td>0.1610</td>\n",
              "      <td>170.117</td>\n",
              "      <td>0.1010</td>\n",
              "      <td>0.197000</td>\n",
              "      <td>0.000000</td>\n",
              "      <td>4</td>\n",
              "      <td>0.601</td>\n",
              "      <td>10</td>\n",
              "      <td>185000</td>\n",
              "      <td>-3.835</td>\n",
              "      <td>0.210</td>\n",
              "      <td>1</td>\n",
              "      <td>69</td>\n",
              "      <td>2017</td>\n",
              "      <td>0</td>\n",
              "    </tr>\n",
              "    <tr>\n",
              "      <th>1249</th>\n",
              "      <td>7</td>\n",
              "      <td>0.674</td>\n",
              "      <td>0.1200</td>\n",
              "      <td>110.047</td>\n",
              "      <td>0.0660</td>\n",
              "      <td>0.018600</td>\n",
              "      <td>0.000000</td>\n",
              "      <td>4</td>\n",
              "      <td>0.842</td>\n",
              "      <td>5</td>\n",
              "      <td>173531</td>\n",
              "      <td>-7.167</td>\n",
              "      <td>0.449</td>\n",
              "      <td>0</td>\n",
              "      <td>31</td>\n",
              "      <td>2019</td>\n",
              "      <td>0</td>\n",
              "    </tr>\n",
              "    <tr>\n",
              "      <th>328</th>\n",
              "      <td>4</td>\n",
              "      <td>0.667</td>\n",
              "      <td>0.3060</td>\n",
              "      <td>90.387</td>\n",
              "      <td>0.0630</td>\n",
              "      <td>0.067900</td>\n",
              "      <td>0.360000</td>\n",
              "      <td>4</td>\n",
              "      <td>0.744</td>\n",
              "      <td>4</td>\n",
              "      <td>307093</td>\n",
              "      <td>-7.539</td>\n",
              "      <td>0.766</td>\n",
              "      <td>0</td>\n",
              "      <td>37</td>\n",
              "      <td>1995</td>\n",
              "      <td>1</td>\n",
              "    </tr>\n",
              "  </tbody>\n",
              "</table>\n",
              "<p>1991 rows × 17 columns</p>\n",
              "</div>"
            ],
            "text/plain": [
              "      genre  energy  liveness    tempo  ...  mode  popularity  year  target\n",
              "89       26   0.865    0.1820  142.770  ...     0          44  1997       1\n",
              "81       26   0.928    0.0908  164.351  ...     0          46  2008       1\n",
              "483      18   0.846    0.0378  136.069  ...     1          12  2001       1\n",
              "1595     23   0.793    0.1900  159.989  ...     0          37  2018       0\n",
              "625      11   0.404    0.1400  108.010  ...     1          66  2016       1\n",
              "...     ...     ...       ...      ...  ...   ...         ...   ...     ...\n",
              "599       4   0.908    0.1320  173.713  ...     0          49  1993       1\n",
              "1930     41   0.795    0.1490  104.983  ...     0          12  2007       0\n",
              "1679     35   0.819    0.1610  170.117  ...     1          69  2017       0\n",
              "1249      7   0.674    0.1200  110.047  ...     0          31  2019       0\n",
              "328       4   0.667    0.3060   90.387  ...     0          37  1995       1\n",
              "\n",
              "[1991 rows x 17 columns]"
            ]
          },
          "metadata": {
            "tags": []
          },
          "execution_count": 223
        }
      ]
    },
    {
      "cell_type": "markdown",
      "metadata": {
        "id": "NVBH3v1JJEDr"
      },
      "source": [
        "#Делење на податочното множество на тренирачко, валидациско и тестирачко "
      ]
    },
    {
      "cell_type": "markdown",
      "metadata": {
        "id": "v3Fp_dfCywo0"
      },
      "source": [
        "Делење на податочното множество на тренирачко, валидациско и тестирачко множество, \n",
        "    така што првите 70% од секоја од класите  се доделени во тренирачкото множество. \n",
        "    Следните 10% од секоја од класите влегуваат во валидациско множество, \n",
        "    а последните 20% од секоја од класите се дел од тестирачкото множество.\n",
        "    На крај се прави shuffle на множествата (заедно со соодветните лабели)."
      ]
    },
    {
      "cell_type": "code",
      "metadata": {
        "id": "iGyfg9Fnyvz6"
      },
      "source": [
        "tmp = df.values.tolist().copy()\n",
        "dataset =  [[row[i] if i != len(row)-1   else int(row[i]) for i in range(len(row))] for row in tmp]\n",
        "print(tmp)\n",
        "print(dataset)\n",
        "\n",
        "bad_classes = [x for x in dataset if x[-1] == 0]\n",
        "good_classes = [x for x in dataset if x[-1] == 1]\n",
        "\n",
        "train_set =  bad_classes[:int(len(bad_classes) * 0.7)] + good_classes[:int(len(good_classes) * 0.7)]\n",
        "val_set = bad_classes[int(len(bad_classes) * 0.7):int(len(bad_classes) * 0.8)] + good_classes[int(len(good_classes) * 0.7):int(len(good_classes) * 0.8)]\n",
        "test_set =  bad_classes[int(len(bad_classes) * 0.8):] + good_classes[int(len(good_classes) * 0.8):]\n",
        "\n",
        "train_x = [x[:-1] for x in train_set]\n",
        "train_y = [x[-1] for x in train_set]\n",
        "val_x = [x[:-1] for x in val_set]\n",
        "val_y = [x[-1] for x in val_set]\n",
        "test_x = [x[:-1] for x in test_set]\n",
        "test_y = [x[-1] for x in test_set]\n"
      ],
      "execution_count": null,
      "outputs": []
    },
    {
      "cell_type": "code",
      "metadata": {
        "id": "wYkGUFkT3yEA",
        "outputId": "a110760c-6643-4959-cc91-9b3ef5497c74",
        "colab": {
          "base_uri": "https://localhost:8080/",
          "height": 102
        }
      },
      "source": [
        "import collections\n",
        "X_train = np.array(train_x)\n",
        "y_train = np.array(train_y)\n",
        "X_val = np.array(val_x)\n",
        "y_val = np.array(val_y)\n",
        "X_test = np.array(test_x)\n",
        "y_test = np.array(test_y)\n",
        "\n",
        "from sklearn.utils import shuffle\n",
        "X_train,y_train = shuffle(X_train,y_train,random_state=0)\n",
        "X_val, y_val = shuffle(X_val, y_val,random_state=0)\n",
        "X_test, y_test = shuffle(X_test, y_test,random_state=0)\n",
        "\n",
        "print(X_train.shape, X_val.shape, X_test.shape)\n",
        "print(y_train.shape, y_val.shape, y_test.shape)\n",
        "print(collections.Counter(y_train))\n",
        "print(collections.Counter(y_val))\n",
        "print(collections.Counter(y_test))"
      ],
      "execution_count": null,
      "outputs": [
        {
          "output_type": "stream",
          "text": [
            "(1392, 16) (200, 16) (399, 16)\n",
            "(1392,) (200,) (399,)\n",
            "Counter({1: 702, 0: 690})\n",
            "Counter({1: 101, 0: 99})\n",
            "Counter({1: 201, 0: 198})\n"
          ],
          "name": "stdout"
        }
      ]
    },
    {
      "cell_type": "code",
      "metadata": {
        "id": "SqAcPKaeZv9G"
      },
      "source": [
        "#80% train, 20% test\n",
        "xtrain = np.concatenate((X_train,X_val)) \n",
        "ytrain = np.concatenate((y_train,y_val))  "
      ],
      "execution_count": null,
      "outputs": []
    },
    {
      "cell_type": "markdown",
      "metadata": {
        "id": "3A2L0RbVb4dd"
      },
      "source": [
        "#Наивен Баесов, Дрво на одлука и Random Forest"
      ]
    },
    {
      "cell_type": "code",
      "metadata": {
        "id": "QIISLP-uYiii",
        "outputId": "8761ed72-d429-4606-d021-ce123ac6b121",
        "colab": {
          "base_uri": "https://localhost:8080/",
          "height": 153
        }
      },
      "source": [
        "from sklearn.tree import DecisionTreeClassifier\n",
        "from sklearn.naive_bayes import GaussianNB\n",
        "from sklearn.ensemble import RandomForestClassifier\n",
        "\n",
        "dtc = DecisionTreeClassifier()\n",
        "nbc = GaussianNB()\n",
        "rfc = RandomForestClassifier()\n",
        "\n",
        "dtc.fit(xtrain, ytrain)\n",
        "nbc.fit(xtrain, ytrain)\n",
        "rfc.fit(xtrain, ytrain)"
      ],
      "execution_count": null,
      "outputs": [
        {
          "output_type": "execute_result",
          "data": {
            "text/plain": [
              "RandomForestClassifier(bootstrap=True, ccp_alpha=0.0, class_weight=None,\n",
              "                       criterion='gini', max_depth=None, max_features='auto',\n",
              "                       max_leaf_nodes=None, max_samples=None,\n",
              "                       min_impurity_decrease=0.0, min_impurity_split=None,\n",
              "                       min_samples_leaf=1, min_samples_split=2,\n",
              "                       min_weight_fraction_leaf=0.0, n_estimators=100,\n",
              "                       n_jobs=None, oob_score=False, random_state=None,\n",
              "                       verbose=0, warm_start=False)"
            ]
          },
          "metadata": {
            "tags": []
          },
          "execution_count": 139
        }
      ]
    },
    {
      "cell_type": "code",
      "metadata": {
        "id": "GWQ4N-HOLInm",
        "outputId": "7129e7bf-bc03-4020-a823-01eb0171b404",
        "colab": {
          "base_uri": "https://localhost:8080/",
          "height": 51
        }
      },
      "source": [
        "importances = list(rfc.feature_importances_)\n",
        "\n",
        "most_important_feature = importances.index(max(importances))\n",
        "least_important_feature = importances.index(min(importances))\n",
        "print('Most important feature: '+ df.columns[most_important_feature])\n",
        "print('Least important feature: '+ df.columns[least_important_feature])"
      ],
      "execution_count": null,
      "outputs": [
        {
          "output_type": "stream",
          "text": [
            "Most important feature: genre\n",
            "Least important feature: time_signature\n"
          ],
          "name": "stdout"
        }
      ]
    },
    {
      "cell_type": "code",
      "metadata": {
        "id": "JD4ff9Nrj9jd",
        "outputId": "a5e512b3-e081-4b99-c46d-36940ab99abf",
        "colab": {
          "base_uri": "https://localhost:8080/",
          "height": 527
        }
      },
      "source": [
        "from sklearn.metrics import classification_report\n",
        "\n",
        "test_tree_predict = dtc.predict(X_test)\n",
        "test_naive_predict = nbc.predict(X_test)\n",
        "test_random_forest_predict = rfc.predict(X_test)\n",
        "\n",
        "print('Decision Tree score on test:\\n', classification_report( y_test,test_tree_predict))\n",
        "print('Naive Bayes score on test:\\n', classification_report( y_test,test_naive_predict))\n",
        "print('Random Forest score on test:\\n', classification_report( y_test,test_random_forest_predict))"
      ],
      "execution_count": null,
      "outputs": [
        {
          "output_type": "stream",
          "text": [
            "Decision Tree score on test:\n",
            "               precision    recall  f1-score   support\n",
            "\n",
            "           0       0.93      0.93      0.93       198\n",
            "           1       0.93      0.93      0.93       201\n",
            "\n",
            "    accuracy                           0.93       399\n",
            "   macro avg       0.93      0.93      0.93       399\n",
            "weighted avg       0.93      0.93      0.93       399\n",
            "\n",
            "Naive Bayes score on test:\n",
            "               precision    recall  f1-score   support\n",
            "\n",
            "           0       0.66      0.90      0.76       198\n",
            "           1       0.85      0.53      0.65       201\n",
            "\n",
            "    accuracy                           0.72       399\n",
            "   macro avg       0.75      0.72      0.71       399\n",
            "weighted avg       0.75      0.72      0.71       399\n",
            "\n",
            "Random Forest score on test:\n",
            "               precision    recall  f1-score   support\n",
            "\n",
            "           0       0.90      0.95      0.93       198\n",
            "           1       0.95      0.90      0.92       201\n",
            "\n",
            "    accuracy                           0.92       399\n",
            "   macro avg       0.93      0.93      0.92       399\n",
            "weighted avg       0.93      0.92      0.92       399\n",
            "\n"
          ],
          "name": "stdout"
        }
      ]
    },
    {
      "cell_type": "code",
      "metadata": {
        "id": "PGq1gJH5cXZ0",
        "outputId": "4f5b739b-7ea5-4977-d45d-ffc53fe2ece6",
        "colab": {
          "base_uri": "https://localhost:8080/",
          "height": 358
        }
      },
      "source": [
        "confusion = confusion_matrix(y_test, test_tree_predict)\n",
        "TP = confusion[1, 1]\n",
        "TN = confusion[0, 0]\n",
        "FP = confusion[0, 1]\n",
        "FN = confusion[1, 0]\n",
        "\n",
        "df_Results = pd.DataFrame(columns = [\"Model\", \"Acc\",\"Recall\",\"ROC\",\"TP\",\"FN\"])\n",
        "df_Results.loc[0, \"Model\"] = \"Decision Tree \"\n",
        "df_Results.loc[0, \"Acc\"] = accuracy_score(y_test, test_tree_predict)\n",
        "df_Results.loc[0, \"Recall\"] = recall_score(y_test, test_tree_predict)\n",
        "df_Results.loc[0, \"ROC\"] = roc_auc_score(y_test,test_tree_predict)\n",
        "df_Results.loc[0, \"TP\"] = TP\n",
        "df_Results.loc[0, \"FN\"] = FN\n",
        "\n",
        "\n",
        "import seaborn as sn\n",
        "from sklearn.metrics import confusion_matrix\n",
        "import warnings\n",
        "warnings.simplefilter(action='ignore', category=FutureWarning)\n",
        "import pandas as pd\n",
        "\n",
        "# Визуелизација со матрица на конфузија \n",
        "names = ['bad', 'good'] \n",
        "\n",
        "confusion = 100 * confusion.astype('float') / confusion.sum(axis=-1)[:, np.newaxis]  \n",
        "\n",
        "df = pd.DataFrame(data=confusion, columns=names, index=names)\n",
        "g = sn.heatmap(df, annot=True, fmt=\".1f\", linewidths=.5, vmin=0, vmax=100,\n",
        "                    cmap='Blues')\n",
        "g.set_title('Confusion matrix')\n",
        "g.set_ylabel('True label')\n",
        "g.set_xlabel('Predicted label')\n",
        "g.plot()\n",
        "\n",
        "df_Results.head()\n"
      ],
      "execution_count": null,
      "outputs": [
        {
          "output_type": "execute_result",
          "data": {
            "text/html": [
              "<div>\n",
              "<style scoped>\n",
              "    .dataframe tbody tr th:only-of-type {\n",
              "        vertical-align: middle;\n",
              "    }\n",
              "\n",
              "    .dataframe tbody tr th {\n",
              "        vertical-align: top;\n",
              "    }\n",
              "\n",
              "    .dataframe thead th {\n",
              "        text-align: right;\n",
              "    }\n",
              "</style>\n",
              "<table border=\"1\" class=\"dataframe\">\n",
              "  <thead>\n",
              "    <tr style=\"text-align: right;\">\n",
              "      <th></th>\n",
              "      <th>Model</th>\n",
              "      <th>Acc</th>\n",
              "      <th>Recall</th>\n",
              "      <th>ROC</th>\n",
              "      <th>TP</th>\n",
              "      <th>FN</th>\n",
              "    </tr>\n",
              "  </thead>\n",
              "  <tbody>\n",
              "    <tr>\n",
              "      <th>0</th>\n",
              "      <td>Decision Tree</td>\n",
              "      <td>0.929825</td>\n",
              "      <td>0.925373</td>\n",
              "      <td>0.929858</td>\n",
              "      <td>186</td>\n",
              "      <td>15</td>\n",
              "    </tr>\n",
              "  </tbody>\n",
              "</table>\n",
              "</div>"
            ],
            "text/plain": [
              "            Model       Acc    Recall       ROC   TP  FN\n",
              "0  Decision Tree   0.929825  0.925373  0.929858  186  15"
            ]
          },
          "metadata": {
            "tags": []
          },
          "execution_count": 142
        },
        {
          "output_type": "display_data",
          "data": {
            "image/png": "[encoded data removed]",
            "text/plain": [
              "<Figure size 432x288 with 2 Axes>"
            ]
          },
          "metadata": {
            "tags": [],
            "needs_background": "light"
          }
        }
      ]
    },
    {
      "cell_type": "code",
      "metadata": {
        "id": "BY2982QdbPb5",
        "outputId": "712c4730-1606-47b0-e543-668c524cab54",
        "colab": {
          "base_uri": "https://localhost:8080/",
          "height": 389
        }
      },
      "source": [
        "confusion = confusion_matrix(y_test, test_random_forest_predict)\n",
        "TP = confusion[1, 1]\n",
        "TN = confusion[0, 0]\n",
        "FP = confusion[0, 1]\n",
        "FN = confusion[1, 0]\n",
        "\n",
        "df_Results.loc[1, \"Model\"] = \"Random Forest\"\n",
        "df_Results.loc[1, \"Acc\"] = accuracy_score(y_test, test_random_forest_predict)\n",
        "df_Results.loc[1, \"Recall\"] = recall_score(y_test, test_random_forest_predict)\n",
        "df_Results.loc[1, \"ROC\"] = roc_auc_score(y_test,test_random_forest_predict)\n",
        "df_Results.loc[1, \"TP\"] = TP\n",
        "df_Results.loc[1, \"FN\"] = FN\n",
        "\n",
        "import seaborn as sn\n",
        "from sklearn.metrics import confusion_matrix\n",
        "import warnings\n",
        "warnings.simplefilter(action='ignore', category=FutureWarning)\n",
        "import pandas as pd\n",
        "\n",
        "# Визуелизација со матрица на конфузија \n",
        "names = ['bad', 'good'] \n",
        "\n",
        "confusion = 100 * confusion.astype('float') / confusion.sum(axis=-1)[:, np.newaxis]  \n",
        "\n",
        "df = pd.DataFrame(data=confusion, columns=names, index=names)\n",
        "g = sn.heatmap(df, annot=True, fmt=\".1f\", linewidths=.5, vmin=0, vmax=100,\n",
        "                    cmap='Blues')\n",
        "g.set_title('Confusion matrix')\n",
        "g.set_ylabel('True label')\n",
        "g.set_xlabel('Predicted label')\n",
        "g.plot()\n",
        "\n",
        "df_Results.head()"
      ],
      "execution_count": null,
      "outputs": [
        {
          "output_type": "execute_result",
          "data": {
            "text/html": [
              "<div>\n",
              "<style scoped>\n",
              "    .dataframe tbody tr th:only-of-type {\n",
              "        vertical-align: middle;\n",
              "    }\n",
              "\n",
              "    .dataframe tbody tr th {\n",
              "        vertical-align: top;\n",
              "    }\n",
              "\n",
              "    .dataframe thead th {\n",
              "        text-align: right;\n",
              "    }\n",
              "</style>\n",
              "<table border=\"1\" class=\"dataframe\">\n",
              "  <thead>\n",
              "    <tr style=\"text-align: right;\">\n",
              "      <th></th>\n",
              "      <th>Model</th>\n",
              "      <th>Acc</th>\n",
              "      <th>Recall</th>\n",
              "      <th>ROC</th>\n",
              "      <th>TP</th>\n",
              "      <th>FN</th>\n",
              "    </tr>\n",
              "  </thead>\n",
              "  <tbody>\n",
              "    <tr>\n",
              "      <th>0</th>\n",
              "      <td>Decision Tree</td>\n",
              "      <td>0.929825</td>\n",
              "      <td>0.925373</td>\n",
              "      <td>0.929858</td>\n",
              "      <td>186</td>\n",
              "      <td>15</td>\n",
              "    </tr>\n",
              "    <tr>\n",
              "      <th>1</th>\n",
              "      <td>Random Forest</td>\n",
              "      <td>0.924812</td>\n",
              "      <td>0.895522</td>\n",
              "      <td>0.925034</td>\n",
              "      <td>180</td>\n",
              "      <td>21</td>\n",
              "    </tr>\n",
              "  </tbody>\n",
              "</table>\n",
              "</div>"
            ],
            "text/plain": [
              "            Model       Acc    Recall       ROC   TP  FN\n",
              "0  Decision Tree   0.929825  0.925373  0.929858  186  15\n",
              "1   Random Forest  0.924812  0.895522  0.925034  180  21"
            ]
          },
          "metadata": {
            "tags": []
          },
          "execution_count": 143
        },
        {
          "output_type": "display_data",
          "data": {
            "image/png": "[encoded data removed]",
            "text/plain": [
              "<Figure size 432x288 with 2 Axes>"
            ]
          },
          "metadata": {
            "tags": [],
            "needs_background": "light"
          }
        }
      ]
    },
    {
      "cell_type": "code",
      "metadata": {
        "id": "2f6pstjwdGaG",
        "outputId": "5f406e15-56c7-4636-88e4-e52e3ce48685",
        "colab": {
          "base_uri": "https://localhost:8080/",
          "height": 420
        }
      },
      "source": [
        "confusion = confusion_matrix(y_test, test_naive_predict)\n",
        "TP = confusion[1, 1]\n",
        "TN = confusion[0, 0]\n",
        "FP = confusion[0, 1]\n",
        "FN = confusion[1, 0]\n",
        "\n",
        "df_Results.loc[2, \"Model\"] = \"Naive Bayes\"\n",
        "df_Results.loc[2, \"Acc\"] = accuracy_score(y_test, test_naive_predict)\n",
        "df_Results.loc[2, \"Recall\"] = recall_score(y_test, test_naive_predict)\n",
        "df_Results.loc[2, \"ROC\"] = roc_auc_score(y_test,test_naive_predict)\n",
        "df_Results.loc[2, \"TP\"] = TP\n",
        "df_Results.loc[2, \"FN\"] = FN\n",
        "\n",
        "import seaborn as sn\n",
        "from sklearn.metrics import confusion_matrix\n",
        "import warnings\n",
        "warnings.simplefilter(action='ignore', category=FutureWarning)\n",
        "import pandas as pd\n",
        "\n",
        "# Визуелизација со матрица на конфузија \n",
        "names = ['bad', 'good'] \n",
        "\n",
        "confusion = 100 * confusion.astype('float') / confusion.sum(axis=-1)[:, np.newaxis]  \n",
        "\n",
        "df = pd.DataFrame(data=confusion, columns=names, index=names)\n",
        "g = sn.heatmap(df, annot=True, fmt=\".1f\", linewidths=.5, vmin=0, vmax=100,\n",
        "                    cmap='Blues')\n",
        "g.set_title('Confusion matrix')\n",
        "g.set_ylabel('True label')\n",
        "g.set_xlabel('Predicted label')\n",
        "g.plot()\n",
        "\n",
        "df_Results.head(3)"
      ],
      "execution_count": null,
      "outputs": [
        {
          "output_type": "execute_result",
          "data": {
            "text/html": [
              "<div>\n",
              "<style scoped>\n",
              "    .dataframe tbody tr th:only-of-type {\n",
              "        vertical-align: middle;\n",
              "    }\n",
              "\n",
              "    .dataframe tbody tr th {\n",
              "        vertical-align: top;\n",
              "    }\n",
              "\n",
              "    .dataframe thead th {\n",
              "        text-align: right;\n",
              "    }\n",
              "</style>\n",
              "<table border=\"1\" class=\"dataframe\">\n",
              "  <thead>\n",
              "    <tr style=\"text-align: right;\">\n",
              "      <th></th>\n",
              "      <th>Model</th>\n",
              "      <th>Acc</th>\n",
              "      <th>Recall</th>\n",
              "      <th>ROC</th>\n",
              "      <th>TP</th>\n",
              "      <th>FN</th>\n",
              "    </tr>\n",
              "  </thead>\n",
              "  <tbody>\n",
              "    <tr>\n",
              "      <th>0</th>\n",
              "      <td>Decision Tree</td>\n",
              "      <td>0.929825</td>\n",
              "      <td>0.925373</td>\n",
              "      <td>0.929858</td>\n",
              "      <td>186</td>\n",
              "      <td>15</td>\n",
              "    </tr>\n",
              "    <tr>\n",
              "      <th>1</th>\n",
              "      <td>Random Forest</td>\n",
              "      <td>0.924812</td>\n",
              "      <td>0.895522</td>\n",
              "      <td>0.925034</td>\n",
              "      <td>180</td>\n",
              "      <td>21</td>\n",
              "    </tr>\n",
              "    <tr>\n",
              "      <th>2</th>\n",
              "      <td>Naive Bayes</td>\n",
              "      <td>0.716792</td>\n",
              "      <td>0.532338</td>\n",
              "      <td>0.718189</td>\n",
              "      <td>107</td>\n",
              "      <td>94</td>\n",
              "    </tr>\n",
              "  </tbody>\n",
              "</table>\n",
              "</div>"
            ],
            "text/plain": [
              "            Model       Acc    Recall       ROC   TP  FN\n",
              "0  Decision Tree   0.929825  0.925373  0.929858  186  15\n",
              "1   Random Forest  0.924812  0.895522  0.925034  180  21\n",
              "2     Naive Bayes  0.716792  0.532338  0.718189  107  94"
            ]
          },
          "metadata": {
            "tags": []
          },
          "execution_count": 144
        },
        {
          "output_type": "display_data",
          "data": {
            "image/png": "[encoded data removed]",
            "text/plain": [
              "<Figure size 432x288 with 2 Axes>"
            ]
          },
          "metadata": {
            "tags": [],
            "needs_background": "light"
          }
        }
      ]
    },
    {
      "cell_type": "code",
      "metadata": {
        "id": "Lw0SxTacbi4Y",
        "outputId": "34140894-7814-4864-e543-eae03545b5b8",
        "colab": {
          "base_uri": "https://localhost:8080/",
          "height": 279
        }
      },
      "source": [
        "from sklearn.metrics import roc_curve, auc\n",
        "import matplotlib.pyplot as plt\n",
        "\n",
        "actual = y_test\n",
        "decision_tree_prob = [p[1] for p in dtc.predict_proba(X_test)]\n",
        "naive_bayes_prob = [p[1] for p in nbc.predict_proba(X_test)]\n",
        "random_forest_prob = [p[1] for p in rfc.predict_proba(X_test)]\n",
        "\n",
        "dt_false_pos, dt_true_pos, _ = roc_curve(actual, decision_tree_prob)\n",
        "dt_auc = auc(dt_false_pos, dt_true_pos)\n",
        "\n",
        "nb_false_pos, nb_true_pos, _ = roc_curve(actual, naive_bayes_prob)\n",
        "nb_auc = auc(nb_false_pos, nb_true_pos)\n",
        "\n",
        "rf_false_pos, rf_true_pos, _ = roc_curve(actual, random_forest_prob)\n",
        "rf_auc = auc(rf_false_pos, rf_true_pos)\n",
        "\n",
        "# plot\n",
        "plt.plot(dt_false_pos, dt_true_pos, 'r', label='Decision Tree AUC = %0.2f'% dt_auc)\n",
        "plt.plot(nb_false_pos, nb_true_pos, 'g', label='Naive Bayes AUC = %0.2f'% nb_auc)\n",
        "plt.plot(rf_false_pos, rf_true_pos, 'b', label='Random Forest AUC = %0.2f'% rf_auc)\n",
        "\n",
        "plt.legend(loc='lower right')\n",
        "plt.plot([0,1], [0,1], 'r--')\n",
        "plt.ylabel('True Positive Rate')\n",
        "plt.xlabel('False Positive Rate')\n",
        "plt.show()"
      ],
      "execution_count": null,
      "outputs": [
        {
          "output_type": "display_data",
          "data": {
            "image/png": "[encoded data removed]",
            "text/plain": [
              "<Figure size 432x288 with 1 Axes>"
            ]
          },
          "metadata": {
            "tags": [],
            "needs_background": "light"
          }
        }
      ]
    },
    {
      "cell_type": "markdown",
      "metadata": {
        "id": "Frkj--yqNDw2"
      },
      "source": [
        "#Random Forest со подесени параметри"
      ]
    },
    {
      "cell_type": "code",
      "metadata": {
        "id": "TKiTwA91NkXi",
        "outputId": "bd7c40ef-073c-4a0f-8244-dd6a4c3fd6ab",
        "colab": {
          "base_uri": "https://localhost:8080/",
          "height": 720
        }
      },
      "source": [
        "from sklearn.model_selection import StratifiedKFold, RandomizedSearchCV\n",
        "\n",
        "parameters_rf = {\n",
        "          \"criterion\":['gini','entropy'],\n",
        "          \"max_depth\": [3,5,None],\n",
        "          \"max_features\": [None, \"auto\"],\n",
        "          \"min_samples_leaf\": [1, 5],\n",
        "          \"min_samples_split\": [2, 5],\n",
        "          'bootstrap': [False, True],\n",
        "          # 'max_features': [0.5, 1.0],\n",
        "          'max_samples': [0.5, 1],\n",
        "          'n_estimators': [2, 5, 100],\n",
        "          \"oob_score\":[False, True],\n",
        "           \"random_state\":[None,2]\n",
        "         }\n",
        "\n",
        "\n",
        "gs_rf = RandomizedSearchCV(rfc, parameters_rf, scoring='accuracy', n_jobs=3)\n",
        "gs_rf.fit(xtrain, ytrain)\n",
        "\n",
        "print(\"Best score: %0.3f\" % gs_rf.best_score_) \n",
        "print(\"Best parameters set:\" )\n",
        "best_parameters_rf = gs_rf.best_estimator_.get_params()\n",
        "for param_name_rf in sorted (parameters_rf . keys()): \n",
        "                    print(\"\\t %s: %r\" % (param_name_rf, best_parameters_rf[param_name_rf]))\n",
        "        \n",
        "y_pred = gs_rf.predict(X_test)\n",
        "\n",
        "print(classification_report(y_test, y_pred))\n",
        "print(\"accuracy: \",accuracy_score(y_test, y_pred))\n",
        "print (\"\\n\")\n",
        "# Визуелизација со матрица на конфузија \n",
        "cm=confusion_matrix(y_test,y_pred)\n",
        "names = ['bad', 'good'] \n",
        "\n",
        "cm = 100 * cm.astype('float') / cm.sum(axis=-1)[:, np.newaxis]  \n",
        "\n",
        "df = pd.DataFrame(data=cm, columns=names, index=names)\n",
        "g = sn.heatmap(df, annot=True, fmt=\".1f\", linewidths=.5, vmin=0, vmax=100,\n",
        "                    cmap='Blues')\n",
        "g.set_title('Confusion matrix')\n",
        "g.set_ylabel('True label')\n",
        "g.set_xlabel('Predicted label')\n",
        "g.plot()\n"
      ],
      "execution_count": null,
      "outputs": [
        {
          "output_type": "stream",
          "text": [
            "Best score: 0.938\n",
            "Best parameters set:\n",
            "\t bootstrap: True\n",
            "\t criterion: 'entropy'\n",
            "\t max_depth: None\n",
            "\t max_features: None\n",
            "\t max_samples: 0.5\n",
            "\t min_samples_leaf: 1\n",
            "\t min_samples_split: 5\n",
            "\t n_estimators: 100\n",
            "\t oob_score: False\n",
            "\t random_state: None\n",
            "              precision    recall  f1-score   support\n",
            "\n",
            "           0       0.95      0.98      0.97       198\n",
            "           1       0.98      0.95      0.96       201\n",
            "\n",
            "    accuracy                           0.96       399\n",
            "   macro avg       0.97      0.97      0.96       399\n",
            "weighted avg       0.97      0.96      0.96       399\n",
            "\n",
            "accuracy:  0.9649122807017544\n",
            "\n",
            "\n"
          ],
          "name": "stdout"
        },
        {
          "output_type": "execute_result",
          "data": {
            "text/plain": [
              "[]"
            ]
          },
          "metadata": {
            "tags": []
          },
          "execution_count": 146
        },
        {
          "output_type": "display_data",
          "data": {
            "image/png": "[encoded data removed]",
            "text/plain": [
              "<Figure size 432x288 with 2 Axes>"
            ]
          },
          "metadata": {
            "tags": [],
            "needs_background": "light"
          }
        }
      ]
    },
    {
      "cell_type": "code",
      "metadata": {
        "id": "fVHfLXxnKtQ8",
        "outputId": "e0da120e-f139-4918-8b4a-52f0a996edc4",
        "colab": {
          "base_uri": "https://localhost:8080/",
          "height": 173
        }
      },
      "source": [
        "confusion = confusion_matrix(y_test, y_pred)\n",
        "TP = confusion[1, 1]\n",
        "TN = confusion[0, 0]\n",
        "FP = confusion[0, 1]\n",
        "FN = confusion[1, 0]\n",
        "\n",
        "df_Results.loc[3, \"Model\"] = \"Tuned Random Forest\"\n",
        "df_Results.loc[3, \"Acc\"] = accuracy_score(y_test, y_pred)\n",
        "df_Results.loc[3, \"Recall\"] = recall_score(y_test, y_pred)\n",
        "df_Results.loc[3, \"ROC\"] = roc_auc_score(y_test,y_pred)\n",
        "df_Results.loc[3, \"TP\"] = TP\n",
        "df_Results.loc[3, \"FN\"] = FN\n",
        "\n",
        "df_Results.head(10)"
      ],
      "execution_count": null,
      "outputs": [
        {
          "output_type": "execute_result",
          "data": {
            "text/html": [
              "<div>\n",
              "<style scoped>\n",
              "    .dataframe tbody tr th:only-of-type {\n",
              "        vertical-align: middle;\n",
              "    }\n",
              "\n",
              "    .dataframe tbody tr th {\n",
              "        vertical-align: top;\n",
              "    }\n",
              "\n",
              "    .dataframe thead th {\n",
              "        text-align: right;\n",
              "    }\n",
              "</style>\n",
              "<table border=\"1\" class=\"dataframe\">\n",
              "  <thead>\n",
              "    <tr style=\"text-align: right;\">\n",
              "      <th></th>\n",
              "      <th>Model</th>\n",
              "      <th>Acc</th>\n",
              "      <th>Recall</th>\n",
              "      <th>ROC</th>\n",
              "      <th>TP</th>\n",
              "      <th>FN</th>\n",
              "    </tr>\n",
              "  </thead>\n",
              "  <tbody>\n",
              "    <tr>\n",
              "      <th>0</th>\n",
              "      <td>Decision Tree</td>\n",
              "      <td>0.929825</td>\n",
              "      <td>0.925373</td>\n",
              "      <td>0.929858</td>\n",
              "      <td>186</td>\n",
              "      <td>15</td>\n",
              "    </tr>\n",
              "    <tr>\n",
              "      <th>1</th>\n",
              "      <td>Random Forest</td>\n",
              "      <td>0.924812</td>\n",
              "      <td>0.895522</td>\n",
              "      <td>0.925034</td>\n",
              "      <td>180</td>\n",
              "      <td>21</td>\n",
              "    </tr>\n",
              "    <tr>\n",
              "      <th>2</th>\n",
              "      <td>Naive Bayes</td>\n",
              "      <td>0.716792</td>\n",
              "      <td>0.532338</td>\n",
              "      <td>0.718189</td>\n",
              "      <td>107</td>\n",
              "      <td>94</td>\n",
              "    </tr>\n",
              "    <tr>\n",
              "      <th>3</th>\n",
              "      <td>Tuned Random Forest</td>\n",
              "      <td>0.964912</td>\n",
              "      <td>0.950249</td>\n",
              "      <td>0.965023</td>\n",
              "      <td>191</td>\n",
              "      <td>10</td>\n",
              "    </tr>\n",
              "  </tbody>\n",
              "</table>\n",
              "</div>"
            ],
            "text/plain": [
              "                 Model       Acc    Recall       ROC   TP  FN\n",
              "0       Decision Tree   0.929825  0.925373  0.929858  186  15\n",
              "1        Random Forest  0.924812  0.895522  0.925034  180  21\n",
              "2          Naive Bayes  0.716792  0.532338  0.718189  107  94\n",
              "3  Tuned Random Forest  0.964912  0.950249  0.965023  191  10"
            ]
          },
          "metadata": {
            "tags": []
          },
          "execution_count": 147
        }
      ]
    },
    {
      "cell_type": "code",
      "metadata": {
        "id": "AXuF_eSyoJ9H",
        "outputId": "84ad1710-6c4e-4e21-cddd-2cc70ded61a2",
        "colab": {
          "base_uri": "https://localhost:8080/",
          "height": 279
        }
      },
      "source": [
        "from sklearn.metrics import roc_curve, auc\n",
        "import matplotlib.pyplot as plt\n",
        "\n",
        "actual = y_test\n",
        "gs_rf_prob = [p[1] for p in gs_rf.predict_proba(X_test)]\n",
        "random_forest_prob = [p[1] for p in rfc.predict_proba(X_test)]\n",
        "\n",
        "\n",
        "\n",
        "gs_rf_false_pos, gs_rf_true_pos, _ = roc_curve(actual, gs_rf_prob)\n",
        "gs_rf_auc = auc(gs_rf_false_pos, gs_rf_true_pos)\n",
        "\n",
        "rf_false_pos, rf_true_pos, _ = roc_curve(actual, random_forest_prob)\n",
        "rf_auc = auc(rf_false_pos, rf_true_pos)\n",
        "\n",
        "# plot\n",
        "plt.plot(gs_rf_false_pos, gs_rf_true_pos, 'g', label='Tuned RF AUC = %0.3f'% gs_rf_auc)\n",
        "plt.plot(rf_false_pos, rf_true_pos, 'b', label='Random Forest AUC = %0.3f'% rf_auc)\n",
        "\n",
        "plt.legend(loc='lower right')\n",
        "plt.plot([0,1], [0,1], 'r--')\n",
        "plt.ylabel('True Positive Rate')\n",
        "plt.xlabel('False Positive Rate')\n",
        "plt.show()"
      ],
      "execution_count": null,
      "outputs": [
        {
          "output_type": "display_data",
          "data": {
            "image/png": "[encoded data removed]",
            "text/plain": [
              "<Figure size 432x288 with 1 Axes>"
            ]
          },
          "metadata": {
            "tags": [],
            "needs_background": "light"
          }
        }
      ]
    },
    {
      "cell_type": "markdown",
      "metadata": {
        "id": "8UtwKGJ10ctR"
      },
      "source": [
        "#Bagging Classifier"
      ]
    },
    {
      "cell_type": "code",
      "metadata": {
        "id": "PpqCJzObKuwG",
        "outputId": "d909755d-834a-49f8-f9f8-110b57d30513",
        "colab": {
          "base_uri": "https://localhost:8080/",
          "height": 686
        }
      },
      "source": [
        "from sklearn.ensemble import BaggingClassifier\n",
        "from sklearn.model_selection import StratifiedKFold, RandomizedSearchCV\n",
        "\n",
        "kf = StratifiedKFold(n_splits=5, shuffle=True)\n",
        "\n",
        "parameters5 = {\"base_estimator__max_depth\": [3,5,None],\n",
        "          \"base_estimator__max_features\": [None, \"auto\"],\n",
        "          \"base_estimator__min_samples_leaf\": [1, 5],\n",
        "          \"base_estimator__min_samples_split\": [2, 5],\n",
        "          'bootstrap_features': [False, True],\n",
        "          'max_features': [0.5, 1.0],\n",
        "          'max_samples': [0.5, 1.0],\n",
        "          'n_estimators': [2, 5, 100],\n",
        "         }\n",
        "\n",
        "model_rf = BaggingClassifier(DecisionTreeClassifier(random_state=42))\n",
        "\n",
        "gs5 = RandomizedSearchCV(model_rf, parameters5,scoring='accuracy',  n_jobs=3)\n",
        "gs5.fit(xtrain, ytrain)\n",
        "\n",
        "print(\"Best score: %0.3f\" % gs5.best_score_) \n",
        "print(\"Best parameters set:\" )\n",
        "best_parameters5 = gs5.best_estimator_.get_params()\n",
        "for param_name5 in sorted (parameters5 . keys()): \n",
        "                    print(\"\\t %s: %r\" % (param_name5, best_parameters5[param_name5]))\n",
        "        \n",
        "y_pred = gs5.predict(X_test)\n",
        "\n",
        "print(classification_report(y_test, y_pred))\n",
        "print(\"accuracy: \",accuracy_score(y_test, y_pred))\n",
        "print (\"\\n\")\n",
        "# Визуелизација со матрица на конфузија \n",
        "cm=confusion_matrix(y_test,y_pred)\n",
        "names = ['bad', 'good'] \n",
        "\n",
        "cm = 100 * cm.astype('float') / cm.sum(axis=-1)[:, np.newaxis]  \n",
        "\n",
        "df = pd.DataFrame(data=cm, columns=names, index=names)\n",
        "g = sn.heatmap(df, annot=True, fmt=\".1f\", linewidths=.5, vmin=0, vmax=100,\n",
        "                    cmap='Blues')\n",
        "g.set_title('Confusion matrix')\n",
        "g.set_ylabel('True label')\n",
        "g.set_xlabel('Predicted label')\n",
        "g.plot()\n"
      ],
      "execution_count": null,
      "outputs": [
        {
          "output_type": "stream",
          "text": [
            "Best score: 0.847\n",
            "Best parameters set:\n",
            "\t base_estimator__max_depth: 5\n",
            "\t base_estimator__max_features: None\n",
            "\t base_estimator__min_samples_leaf: 1\n",
            "\t base_estimator__min_samples_split: 5\n",
            "\t bootstrap_features: True\n",
            "\t max_features: 1.0\n",
            "\t max_samples: 0.5\n",
            "\t n_estimators: 5\n",
            "              precision    recall  f1-score   support\n",
            "\n",
            "           0       0.83      0.95      0.88       198\n",
            "           1       0.94      0.81      0.87       201\n",
            "\n",
            "    accuracy                           0.88       399\n",
            "   macro avg       0.89      0.88      0.88       399\n",
            "weighted avg       0.89      0.88      0.88       399\n",
            "\n",
            "accuracy:  0.8771929824561403\n",
            "\n",
            "\n"
          ],
          "name": "stdout"
        },
        {
          "output_type": "execute_result",
          "data": {
            "text/plain": [
              "[]"
            ]
          },
          "metadata": {
            "tags": []
          },
          "execution_count": 166
        },
        {
          "output_type": "display_data",
          "data": {
            "image/png": "[encoded data removed]",
            "text/plain": [
              "<Figure size 432x288 with 2 Axes>"
            ]
          },
          "metadata": {
            "tags": [],
            "needs_background": "light"
          }
        }
      ]
    },
    {
      "cell_type": "code",
      "metadata": {
        "id": "EtpI7ZQXz0dM"
      },
      "source": [
        "confusion = confusion_matrix(y_test, y_pred)\n",
        "TP = confusion[1, 1]\n",
        "TN = confusion[0, 0]\n",
        "FP = confusion[0, 1]\n",
        "FN = confusion[1, 0]\n",
        "\n",
        "df_Results.loc[4, \"Model\"] = \"Bagging Classifier\"\n",
        "df_Results.loc[4, \"Acc\"] = accuracy_score(y_test, y_pred)\n",
        "df_Results.loc[4, \"Recall\"] = recall_score(y_test, y_pred)\n",
        "df_Results.loc[4, \"ROC\"] = roc_auc_score(y_test,y_pred)\n",
        "df_Results.loc[4, \"TP\"] = TP\n",
        "df_Results.loc[4, \"FN\"] = FN\n"
      ],
      "execution_count": null,
      "outputs": []
    },
    {
      "cell_type": "code",
      "metadata": {
        "id": "amg7Hlt87Z2G",
        "outputId": "c1f02782-66b2-412d-bd9a-0757952a1f40",
        "colab": {
          "base_uri": "https://localhost:8080/",
          "height": 204
        }
      },
      "source": [
        "df_Results.head(5)"
      ],
      "execution_count": null,
      "outputs": [
        {
          "output_type": "execute_result",
          "data": {
            "text/html": [
              "<div>\n",
              "<style scoped>\n",
              "    .dataframe tbody tr th:only-of-type {\n",
              "        vertical-align: middle;\n",
              "    }\n",
              "\n",
              "    .dataframe tbody tr th {\n",
              "        vertical-align: top;\n",
              "    }\n",
              "\n",
              "    .dataframe thead th {\n",
              "        text-align: right;\n",
              "    }\n",
              "</style>\n",
              "<table border=\"1\" class=\"dataframe\">\n",
              "  <thead>\n",
              "    <tr style=\"text-align: right;\">\n",
              "      <th></th>\n",
              "      <th>Model</th>\n",
              "      <th>Acc</th>\n",
              "      <th>Recall</th>\n",
              "      <th>ROC</th>\n",
              "      <th>TP</th>\n",
              "      <th>FN</th>\n",
              "    </tr>\n",
              "  </thead>\n",
              "  <tbody>\n",
              "    <tr>\n",
              "      <th>0</th>\n",
              "      <td>Decision Tree</td>\n",
              "      <td>0.929825</td>\n",
              "      <td>0.925373</td>\n",
              "      <td>0.929858</td>\n",
              "      <td>186</td>\n",
              "      <td>15</td>\n",
              "    </tr>\n",
              "    <tr>\n",
              "      <th>1</th>\n",
              "      <td>Random Forest</td>\n",
              "      <td>0.924812</td>\n",
              "      <td>0.895522</td>\n",
              "      <td>0.925034</td>\n",
              "      <td>180</td>\n",
              "      <td>21</td>\n",
              "    </tr>\n",
              "    <tr>\n",
              "      <th>2</th>\n",
              "      <td>Naive Bayes</td>\n",
              "      <td>0.716792</td>\n",
              "      <td>0.532338</td>\n",
              "      <td>0.718189</td>\n",
              "      <td>107</td>\n",
              "      <td>94</td>\n",
              "    </tr>\n",
              "    <tr>\n",
              "      <th>3</th>\n",
              "      <td>Tuned Random Forest</td>\n",
              "      <td>0.964912</td>\n",
              "      <td>0.950249</td>\n",
              "      <td>0.965023</td>\n",
              "      <td>191</td>\n",
              "      <td>10</td>\n",
              "    </tr>\n",
              "    <tr>\n",
              "      <th>4</th>\n",
              "      <td>Bagging Classifier</td>\n",
              "      <td>0.877193</td>\n",
              "      <td>0.80597</td>\n",
              "      <td>0.877733</td>\n",
              "      <td>162</td>\n",
              "      <td>39</td>\n",
              "    </tr>\n",
              "  </tbody>\n",
              "</table>\n",
              "</div>"
            ],
            "text/plain": [
              "                 Model       Acc    Recall       ROC   TP  FN\n",
              "0       Decision Tree   0.929825  0.925373  0.929858  186  15\n",
              "1        Random Forest  0.924812  0.895522  0.925034  180  21\n",
              "2          Naive Bayes  0.716792  0.532338  0.718189  107  94\n",
              "3  Tuned Random Forest  0.964912  0.950249  0.965023  191  10\n",
              "4   Bagging Classifier  0.877193   0.80597  0.877733  162  39"
            ]
          },
          "metadata": {
            "tags": []
          },
          "execution_count": 229
        }
      ]
    },
    {
      "cell_type": "code",
      "metadata": {
        "id": "sqgvILIC0oeJ",
        "outputId": "5aeaef05-2491-45f1-9506-a69afb9d9d42",
        "colab": {
          "base_uri": "https://localhost:8080/",
          "height": 279
        }
      },
      "source": [
        "from sklearn.metrics import roc_curve, auc\n",
        "import matplotlib.pyplot as plt\n",
        "\n",
        "actual = y_test\n",
        "gs5_prob = [p[1] for p in gs_rf.predict_proba(X_test)]\n",
        "bagging_prob = [p[1] for p in gs5.predict_proba(X_test)]\n",
        "\n",
        "\n",
        "\n",
        "gs5_false_pos, gs5_true_pos, _ = roc_curve(actual, gs5_prob)\n",
        "gs5_auc = auc(gs5_false_pos, gs5_true_pos)\n",
        "\n",
        "rf_false_pos, rf_true_pos, _ = roc_curve(actual, bagging_prob)\n",
        "rf_auc = auc(rf_false_pos, rf_true_pos)\n",
        "\n",
        "# plot\n",
        "plt.plot(gs5_false_pos, gs5_true_pos, 'g', label='Tuned RF AUC = %0.3f'% gs5_auc)\n",
        "plt.plot(rf_false_pos, rf_true_pos, 'b', label='Bagging AUC = %0.3f'% rf_auc)\n",
        "\n",
        "plt.legend(loc='lower right')\n",
        "plt.plot([0,1], [0,1], 'r--')\n",
        "plt.ylabel('True Positive Rate')\n",
        "plt.xlabel('False Positive Rate')\n",
        "plt.show()"
      ],
      "execution_count": null,
      "outputs": [
        {
          "output_type": "display_data",
          "data": {
            "image/png": "[encoded data removed]",
            "text/plain": [
              "<Figure size 432x288 with 1 Axes>"
            ]
          },
          "metadata": {
            "tags": [],
            "needs_background": "light"
          }
        }
      ]
    },
    {
      "cell_type": "markdown",
      "metadata": {
        "id": "6pFeC4CvNd8r"
      },
      "source": [
        "#XGBOOST"
      ]
    },
    {
      "cell_type": "code",
      "metadata": {
        "id": "g3WtdnCpNJot",
        "outputId": "456c580e-677f-4be8-92d5-b84567271286",
        "colab": {
          "base_uri": "https://localhost:8080/",
          "height": 737
        }
      },
      "source": [
        "from xgboost.sklearn import XGBClassifier\n",
        "import scipy.stats as st\n",
        "from sklearn.model_selection import RandomizedSearchCV\n",
        "\n",
        "model_xg = XGBClassifier(random_state=42,n_jobs=-1)\n",
        "\n",
        "one_to_left = st.beta(10, 1) \n",
        "\n",
        "parameters6 = {  \n",
        "    \"n_estimators\": st.randint(20,40), # Number of boosted trees to fit.\n",
        "    'reg_alpha': st.uniform(0.05,10),   # L1 regularization term on weights\n",
        "    \"max_depth\": st.randint(3, 12),     # Maximum tree depth for base learners.\n",
        "    \"learning_rate\": st.uniform(0.05, 0.4), #     Boosting learning rate (xgb’s “eta”)\n",
        "    \"colsample_bytree\": one_to_left, #     Subsample ratio of columns when constructing each tree.\n",
        "    \"subsample\": one_to_left,     # Subsample ratio of the training instance.\n",
        "    \"gamma\": st.uniform(0, 10), #     Minimum loss reduction required to make a further partition on a leaf node of the tree.\n",
        "    \"min_child_weight\": st.uniform(1,20), #    Minimum sum of instance weight(hessian) needed in a child.\n",
        "}\n",
        "\n",
        "xgb = RandomizedSearchCV(model_xg,parameters6, scoring='accuracy', n_iter=25, verbose= True)\n",
        "\n",
        "xgb.fit(xtrain, ytrain)\n",
        "\n",
        "print(\"Best score: %0.3f\" % xgb.best_score_) \n",
        "print(\"Best parameters set:\" )\n",
        "best_parameters6 = xgb.best_estimator_.get_params()\n",
        "for param_name6 in sorted (parameters6 . keys()): \n",
        "                    print(\"\\t %s: %r\" % (param_name6, best_parameters6[param_name6]))\n",
        "        \n",
        "y_pred = xgb.predict(X_test)\n",
        "\n",
        "print(classification_report(y_test, y_pred))\n",
        "print(\"accuracy: \",accuracy_score(y_test, y_pred))\n",
        "print (\"\\n\")\n",
        "# Визуелизација со матрица на конфузија \n",
        "cm=confusion_matrix(y_test,y_pred)\n",
        "names = ['bad', 'good'] \n",
        "\n",
        "cm = 100 * cm.astype('float') / cm.sum(axis=-1)[:, np.newaxis]  \n",
        "\n",
        "df = pd.DataFrame(data=cm, columns=names, index=names)\n",
        "g = sn.heatmap(df, annot=True, fmt=\".1f\", linewidths=.5, vmin=0, vmax=100,\n",
        "                    cmap='Blues')\n",
        "g.set_title('Confusion matrix')\n",
        "g.set_ylabel('True label')\n",
        "g.set_xlabel('Predicted label')\n",
        "g.plot()"
      ],
      "execution_count": null,
      "outputs": [
        {
          "output_type": "stream",
          "text": [
            "Fitting 5 folds for each of 25 candidates, totalling 125 fits\n"
          ],
          "name": "stdout"
        },
        {
          "output_type": "stream",
          "text": [
            "[Parallel(n_jobs=1)]: Using backend SequentialBackend with 1 concurrent workers.\n"
          ],
          "name": "stderr"
        },
        {
          "output_type": "stream",
          "text": [
            "Best score: 0.960\n",
            "Best parameters set:\n",
            "\t colsample_bytree: 0.9310027847448368\n",
            "\t gamma: 2.4271218554791196\n",
            "\t learning_rate: 0.2282336457043735\n",
            "\t max_depth: 8\n",
            "\t min_child_weight: 7.183432442939054\n",
            "\t n_estimators: 35\n",
            "\t reg_alpha: 0.6721642969744801\n",
            "\t subsample: 0.9943412796064232\n",
            "              precision    recall  f1-score   support\n",
            "\n",
            "           0       0.97      0.98      0.97       198\n",
            "           1       0.98      0.97      0.97       201\n",
            "\n",
            "    accuracy                           0.97       399\n",
            "   macro avg       0.97      0.97      0.97       399\n",
            "weighted avg       0.97      0.97      0.97       399\n",
            "\n",
            "accuracy:  0.974937343358396\n",
            "\n",
            "\n"
          ],
          "name": "stdout"
        },
        {
          "output_type": "stream",
          "text": [
            "[Parallel(n_jobs=1)]: Done 125 out of 125 | elapsed:    7.0s finished\n"
          ],
          "name": "stderr"
        },
        {
          "output_type": "execute_result",
          "data": {
            "text/plain": [
              "[]"
            ]
          },
          "metadata": {
            "tags": []
          },
          "execution_count": 161
        },
        {
          "output_type": "display_data",
          "data": {
            "image/png": "[encoded data removed]",
            "text/plain": [
              "<Figure size 432x288 with 2 Axes>"
            ]
          },
          "metadata": {
            "tags": [],
            "needs_background": "light"
          }
        }
      ]
    },
    {
      "cell_type": "code",
      "metadata": {
        "id": "J4RehRGMP8Vq",
        "outputId": "70327e7a-fc47-4cca-e2d0-7e00634d4fd2",
        "colab": {
          "base_uri": "https://localhost:8080/",
          "height": 295
        }
      },
      "source": [
        "from xgboost import plot_importance\n",
        "#f0 e genre, f14 e popularity\n",
        "plot_importance(xgb.best_estimator_, height = 0.8,max_num_features=5);"
      ],
      "execution_count": null,
      "outputs": [
        {
          "output_type": "display_data",
          "data": {
            "image/png": "[encoded data removed]",
            "text/plain": [
              "<Figure size 432x288 with 1 Axes>"
            ]
          },
          "metadata": {
            "tags": [],
            "needs_background": "light"
          }
        }
      ]
    },
    {
      "cell_type": "code",
      "metadata": {
        "id": "VXR1GX3chiML",
        "outputId": "69c14ae8-b30e-4028-e493-71bfb7e62908",
        "colab": {
          "base_uri": "https://localhost:8080/",
          "height": 513
        }
      },
      "source": [
        "confusion = confusion_matrix(y_test, y_pred)\n",
        "TP = confusion[1, 1]\n",
        "TN = confusion[0, 0]\n",
        "FP = confusion[0, 1]\n",
        "FN = confusion[1, 0]\n",
        "\n",
        "df_Results.loc[5, \"Model\"] = \"XGBoost\"\n",
        "df_Results.loc[5, \"Acc\"] = accuracy_score(y_test, y_pred)\n",
        "df_Results.loc[5, \"Recall\"] = recall_score(y_test, y_pred)\n",
        "df_Results.loc[5, \"ROC\"] = roc_auc_score(y_test,y_pred)\n",
        "df_Results.loc[5, \"TP\"] = TP\n",
        "df_Results.loc[5, \"FN\"] = FN\n",
        "\n",
        "import seaborn as sn\n",
        "from sklearn.metrics import confusion_matrix\n",
        "import warnings\n",
        "warnings.simplefilter(action='ignore', category=FutureWarning)\n",
        "import pandas as pd\n",
        "\n",
        "# Визуелизација со матрица на конфузија \n",
        "names = ['bad', 'good'] \n",
        "\n",
        "confusion = 100 * confusion.astype('float') / confusion.sum(axis=-1)[:, np.newaxis]  \n",
        "\n",
        "df = pd.DataFrame(data=confusion, columns=names, index=names)\n",
        "g = sn.heatmap(df, annot=True, fmt=\".1f\", linewidths=.5, vmin=0, vmax=100,\n",
        "                    cmap='Blues')\n",
        "g.set_title('Confusion matrix')\n",
        "g.set_ylabel('True label')\n",
        "g.set_xlabel('Predicted label')\n",
        "g.plot()\n",
        "\n",
        "df_Results.head(10)"
      ],
      "execution_count": null,
      "outputs": [
        {
          "output_type": "execute_result",
          "data": {
            "text/html": [
              "<div>\n",
              "<style scoped>\n",
              "    .dataframe tbody tr th:only-of-type {\n",
              "        vertical-align: middle;\n",
              "    }\n",
              "\n",
              "    .dataframe tbody tr th {\n",
              "        vertical-align: top;\n",
              "    }\n",
              "\n",
              "    .dataframe thead th {\n",
              "        text-align: right;\n",
              "    }\n",
              "</style>\n",
              "<table border=\"1\" class=\"dataframe\">\n",
              "  <thead>\n",
              "    <tr style=\"text-align: right;\">\n",
              "      <th></th>\n",
              "      <th>Model</th>\n",
              "      <th>Acc</th>\n",
              "      <th>Recall</th>\n",
              "      <th>ROC</th>\n",
              "      <th>TP</th>\n",
              "      <th>FN</th>\n",
              "    </tr>\n",
              "  </thead>\n",
              "  <tbody>\n",
              "    <tr>\n",
              "      <th>0</th>\n",
              "      <td>Decision Tree</td>\n",
              "      <td>0.929825</td>\n",
              "      <td>0.925373</td>\n",
              "      <td>0.929858</td>\n",
              "      <td>186</td>\n",
              "      <td>15</td>\n",
              "    </tr>\n",
              "    <tr>\n",
              "      <th>1</th>\n",
              "      <td>Random Forest</td>\n",
              "      <td>0.924812</td>\n",
              "      <td>0.895522</td>\n",
              "      <td>0.925034</td>\n",
              "      <td>180</td>\n",
              "      <td>21</td>\n",
              "    </tr>\n",
              "    <tr>\n",
              "      <th>2</th>\n",
              "      <td>Naive Bayes</td>\n",
              "      <td>0.716792</td>\n",
              "      <td>0.532338</td>\n",
              "      <td>0.718189</td>\n",
              "      <td>107</td>\n",
              "      <td>94</td>\n",
              "    </tr>\n",
              "    <tr>\n",
              "      <th>3</th>\n",
              "      <td>Tuned Random Forest</td>\n",
              "      <td>0.964912</td>\n",
              "      <td>0.950249</td>\n",
              "      <td>0.965023</td>\n",
              "      <td>191</td>\n",
              "      <td>10</td>\n",
              "    </tr>\n",
              "    <tr>\n",
              "      <th>4</th>\n",
              "      <td>Bagging Classifier</td>\n",
              "      <td>0.912281</td>\n",
              "      <td>0.880597</td>\n",
              "      <td>0.912521</td>\n",
              "      <td>177</td>\n",
              "      <td>24</td>\n",
              "    </tr>\n",
              "    <tr>\n",
              "      <th>5</th>\n",
              "      <td>XGBoost</td>\n",
              "      <td>0.974937</td>\n",
              "      <td>0.970149</td>\n",
              "      <td>0.974974</td>\n",
              "      <td>195</td>\n",
              "      <td>6</td>\n",
              "    </tr>\n",
              "  </tbody>\n",
              "</table>\n",
              "</div>"
            ],
            "text/plain": [
              "                 Model       Acc    Recall       ROC   TP  FN\n",
              "0       Decision Tree   0.929825  0.925373  0.929858  186  15\n",
              "1        Random Forest  0.924812  0.895522  0.925034  180  21\n",
              "2          Naive Bayes  0.716792  0.532338  0.718189  107  94\n",
              "3  Tuned Random Forest  0.964912  0.950249  0.965023  191  10\n",
              "4   Bagging Classifier  0.912281  0.880597  0.912521  177  24\n",
              "5              XGBoost  0.974937  0.970149  0.974974  195   6"
            ]
          },
          "metadata": {
            "tags": []
          },
          "execution_count": 163
        },
        {
          "output_type": "display_data",
          "data": {
            "image/png": "[encoded data removed]",
            "text/plain": [
              "<Figure size 432x288 with 2 Axes>"
            ]
          },
          "metadata": {
            "tags": [],
            "needs_background": "light"
          }
        }
      ]
    },
    {
      "cell_type": "markdown",
      "metadata": {
        "id": "7h2fBBENbsfo"
      },
      "source": [
        "#Пример невронскa мрежa"
      ]
    },
    {
      "cell_type": "code",
      "metadata": {
        "id": "NWTubFV1kZiX"
      },
      "source": [
        "import keras\n",
        "from keras.models import Sequential \n",
        "from keras.layers import Dense   \n",
        "from tensorflow.keras.callbacks import EarlyStopping"
      ],
      "execution_count": null,
      "outputs": []
    },
    {
      "cell_type": "code",
      "metadata": {
        "id": "VJ1RwU0fjBf5"
      },
      "source": [
        "from sklearn.preprocessing import StandardScaler\n",
        "scaler = StandardScaler()\n",
        "X_train_norm = scaler.fit_transform(X_train)\n",
        "X_val_norm = scaler.fit_transform(X_val)\n",
        "X_test_norm = scaler.fit_transform(X_test)"
      ],
      "execution_count": null,
      "outputs": []
    },
    {
      "cell_type": "code",
      "metadata": {
        "id": "T6-xkCEUkgQO",
        "outputId": "88ab072c-0b21-4348-96b7-80a52aea2270",
        "colab": {
          "base_uri": "https://localhost:8080/",
          "height": 1000
        }
      },
      "source": [
        "classifier = Sequential()\n",
        "\n",
        "classifier.add(Dense(16, activation='relu', kernel_initializer='random_normal', input_dim=16))\n",
        "\n",
        "classifier.add(Dense(128, activation='relu', kernel_initializer='random_normal'))\n",
        "\n",
        "classifier.add(Dense(1, activation='sigmoid'))\n",
        "\n",
        "\n",
        "classifier.compile(optimizer ='adam',loss='binary_crossentropy', metrics =['accuracy'])\n",
        "es = EarlyStopping(monitor='val_loss', mode='min', verbose=1,patience=10)\n",
        "history_callback = classifier.fit(X_train_norm, y_train, epochs=500, batch_size=260,validation_data=(X_val_norm,y_val), callbacks=[es])\n"
      ],
      "execution_count": null,
      "outputs": [
        {
          "output_type": "stream",
          "text": [
            "Epoch 1/500\n",
            "6/6 [==============================] - 0s 24ms/step - loss: 0.6897 - accuracy: 0.6386 - val_loss: 0.6858 - val_accuracy: 0.6500\n",
            "Epoch 2/500\n",
            "6/6 [==============================] - 0s 4ms/step - loss: 0.6803 - accuracy: 0.7155 - val_loss: 0.6772 - val_accuracy: 0.6600\n",
            "Epoch 3/500\n",
            "6/6 [==============================] - 0s 4ms/step - loss: 0.6664 - accuracy: 0.7478 - val_loss: 0.6644 - val_accuracy: 0.6850\n",
            "Epoch 4/500\n",
            "6/6 [==============================] - 0s 4ms/step - loss: 0.6458 - accuracy: 0.7593 - val_loss: 0.6462 - val_accuracy: 0.6800\n",
            "Epoch 5/500\n",
            "6/6 [==============================] - 0s 5ms/step - loss: 0.6174 - accuracy: 0.7629 - val_loss: 0.6234 - val_accuracy: 0.6800\n",
            "Epoch 6/500\n",
            "6/6 [==============================] - 0s 5ms/step - loss: 0.5834 - accuracy: 0.7629 - val_loss: 0.5984 - val_accuracy: 0.6750\n",
            "Epoch 7/500\n",
            "6/6 [==============================] - 0s 5ms/step - loss: 0.5464 - accuracy: 0.7622 - val_loss: 0.5749 - val_accuracy: 0.6850\n",
            "Epoch 8/500\n",
            "6/6 [==============================] - 0s 5ms/step - loss: 0.5128 - accuracy: 0.7644 - val_loss: 0.5568 - val_accuracy: 0.7050\n",
            "Epoch 9/500\n",
            "6/6 [==============================] - 0s 5ms/step - loss: 0.4866 - accuracy: 0.7708 - val_loss: 0.5457 - val_accuracy: 0.7150\n",
            "Epoch 10/500\n",
            "6/6 [==============================] - 0s 6ms/step - loss: 0.4695 - accuracy: 0.7737 - val_loss: 0.5395 - val_accuracy: 0.7150\n",
            "Epoch 11/500\n",
            "6/6 [==============================] - 0s 5ms/step - loss: 0.4589 - accuracy: 0.7751 - val_loss: 0.5339 - val_accuracy: 0.7200\n",
            "Epoch 12/500\n",
            "6/6 [==============================] - 0s 6ms/step - loss: 0.4516 - accuracy: 0.7759 - val_loss: 0.5255 - val_accuracy: 0.7050\n",
            "Epoch 13/500\n",
            "6/6 [==============================] - 0s 5ms/step - loss: 0.4443 - accuracy: 0.7816 - val_loss: 0.5157 - val_accuracy: 0.7000\n",
            "Epoch 14/500\n",
            "6/6 [==============================] - 0s 4ms/step - loss: 0.4376 - accuracy: 0.7852 - val_loss: 0.5074 - val_accuracy: 0.7150\n",
            "Epoch 15/500\n",
            "6/6 [==============================] - 0s 5ms/step - loss: 0.4323 - accuracy: 0.7902 - val_loss: 0.4997 - val_accuracy: 0.7200\n",
            "Epoch 16/500\n",
            "6/6 [==============================] - 0s 4ms/step - loss: 0.4279 - accuracy: 0.7953 - val_loss: 0.4940 - val_accuracy: 0.7300\n",
            "Epoch 17/500\n",
            "6/6 [==============================] - 0s 4ms/step - loss: 0.4235 - accuracy: 0.7974 - val_loss: 0.4891 - val_accuracy: 0.7300\n",
            "Epoch 18/500\n",
            "6/6 [==============================] - 0s 4ms/step - loss: 0.4197 - accuracy: 0.7960 - val_loss: 0.4857 - val_accuracy: 0.7300\n",
            "Epoch 19/500\n",
            "6/6 [==============================] - 0s 5ms/step - loss: 0.4158 - accuracy: 0.8003 - val_loss: 0.4829 - val_accuracy: 0.7250\n",
            "Epoch 20/500\n",
            "6/6 [==============================] - 0s 5ms/step - loss: 0.4122 - accuracy: 0.8053 - val_loss: 0.4806 - val_accuracy: 0.7350\n",
            "Epoch 21/500\n",
            "6/6 [==============================] - 0s 5ms/step - loss: 0.4083 - accuracy: 0.8024 - val_loss: 0.4799 - val_accuracy: 0.7500\n",
            "Epoch 22/500\n",
            "6/6 [==============================] - 0s 5ms/step - loss: 0.4050 - accuracy: 0.8053 - val_loss: 0.4792 - val_accuracy: 0.7550\n",
            "Epoch 23/500\n",
            "6/6 [==============================] - 0s 5ms/step - loss: 0.4015 - accuracy: 0.8103 - val_loss: 0.4788 - val_accuracy: 0.7450\n",
            "Epoch 24/500\n",
            "6/6 [==============================] - 0s 4ms/step - loss: 0.3981 - accuracy: 0.8118 - val_loss: 0.4751 - val_accuracy: 0.7500\n",
            "Epoch 25/500\n",
            "6/6 [==============================] - 0s 5ms/step - loss: 0.3946 - accuracy: 0.8132 - val_loss: 0.4720 - val_accuracy: 0.7450\n",
            "Epoch 26/500\n",
            "6/6 [==============================] - 0s 5ms/step - loss: 0.3909 - accuracy: 0.8111 - val_loss: 0.4691 - val_accuracy: 0.7500\n",
            "Epoch 27/500\n",
            "6/6 [==============================] - 0s 5ms/step - loss: 0.3874 - accuracy: 0.8118 - val_loss: 0.4675 - val_accuracy: 0.7450\n",
            "Epoch 28/500\n",
            "6/6 [==============================] - 0s 5ms/step - loss: 0.3840 - accuracy: 0.8147 - val_loss: 0.4659 - val_accuracy: 0.7550\n",
            "Epoch 29/500\n",
            "6/6 [==============================] - 0s 4ms/step - loss: 0.3805 - accuracy: 0.8168 - val_loss: 0.4625 - val_accuracy: 0.7500\n",
            "Epoch 30/500\n",
            "6/6 [==============================] - 0s 4ms/step - loss: 0.3774 - accuracy: 0.8190 - val_loss: 0.4591 - val_accuracy: 0.7600\n",
            "Epoch 31/500\n",
            "6/6 [==============================] - 0s 5ms/step - loss: 0.3734 - accuracy: 0.8233 - val_loss: 0.4549 - val_accuracy: 0.7550\n",
            "Epoch 32/500\n",
            "6/6 [==============================] - 0s 5ms/step - loss: 0.3705 - accuracy: 0.8254 - val_loss: 0.4536 - val_accuracy: 0.7600\n",
            "Epoch 33/500\n",
            "6/6 [==============================] - 0s 5ms/step - loss: 0.3669 - accuracy: 0.8297 - val_loss: 0.4535 - val_accuracy: 0.7650\n",
            "Epoch 34/500\n",
            "6/6 [==============================] - 0s 6ms/step - loss: 0.3637 - accuracy: 0.8326 - val_loss: 0.4513 - val_accuracy: 0.7600\n",
            "Epoch 35/500\n",
            "6/6 [==============================] - 0s 4ms/step - loss: 0.3599 - accuracy: 0.8348 - val_loss: 0.4483 - val_accuracy: 0.7700\n",
            "Epoch 36/500\n",
            "6/6 [==============================] - 0s 5ms/step - loss: 0.3562 - accuracy: 0.8341 - val_loss: 0.4440 - val_accuracy: 0.7550\n",
            "Epoch 37/500\n",
            "6/6 [==============================] - 0s 5ms/step - loss: 0.3523 - accuracy: 0.8355 - val_loss: 0.4425 - val_accuracy: 0.7500\n",
            "Epoch 38/500\n",
            "6/6 [==============================] - 0s 6ms/step - loss: 0.3487 - accuracy: 0.8384 - val_loss: 0.4395 - val_accuracy: 0.7600\n",
            "Epoch 39/500\n",
            "6/6 [==============================] - 0s 5ms/step - loss: 0.3454 - accuracy: 0.8420 - val_loss: 0.4381 - val_accuracy: 0.7700\n",
            "Epoch 40/500\n",
            "6/6 [==============================] - 0s 5ms/step - loss: 0.3413 - accuracy: 0.8491 - val_loss: 0.4338 - val_accuracy: 0.7650\n",
            "Epoch 41/500\n",
            "6/6 [==============================] - 0s 5ms/step - loss: 0.3385 - accuracy: 0.8491 - val_loss: 0.4323 - val_accuracy: 0.7650\n",
            "Epoch 42/500\n",
            "6/6 [==============================] - 0s 5ms/step - loss: 0.3344 - accuracy: 0.8513 - val_loss: 0.4301 - val_accuracy: 0.7750\n",
            "Epoch 43/500\n",
            "6/6 [==============================] - 0s 5ms/step - loss: 0.3307 - accuracy: 0.8570 - val_loss: 0.4275 - val_accuracy: 0.7750\n",
            "Epoch 44/500\n",
            "6/6 [==============================] - 0s 5ms/step - loss: 0.3276 - accuracy: 0.8578 - val_loss: 0.4246 - val_accuracy: 0.7650\n",
            "Epoch 45/500\n",
            "6/6 [==============================] - 0s 5ms/step - loss: 0.3248 - accuracy: 0.8599 - val_loss: 0.4231 - val_accuracy: 0.7700\n",
            "Epoch 46/500\n",
            "6/6 [==============================] - 0s 5ms/step - loss: 0.3216 - accuracy: 0.8635 - val_loss: 0.4241 - val_accuracy: 0.7800\n",
            "Epoch 47/500\n",
            "6/6 [==============================] - 0s 5ms/step - loss: 0.3180 - accuracy: 0.8628 - val_loss: 0.4277 - val_accuracy: 0.7850\n",
            "Epoch 48/500\n",
            "6/6 [==============================] - 0s 5ms/step - loss: 0.3152 - accuracy: 0.8649 - val_loss: 0.4253 - val_accuracy: 0.7900\n",
            "Epoch 49/500\n",
            "6/6 [==============================] - 0s 5ms/step - loss: 0.3127 - accuracy: 0.8649 - val_loss: 0.4207 - val_accuracy: 0.7800\n",
            "Epoch 50/500\n",
            "6/6 [==============================] - 0s 5ms/step - loss: 0.3093 - accuracy: 0.8707 - val_loss: 0.4165 - val_accuracy: 0.7750\n",
            "Epoch 51/500\n",
            "6/6 [==============================] - 0s 5ms/step - loss: 0.3068 - accuracy: 0.8700 - val_loss: 0.4126 - val_accuracy: 0.7750\n",
            "Epoch 52/500\n",
            "6/6 [==============================] - 0s 6ms/step - loss: 0.3044 - accuracy: 0.8721 - val_loss: 0.4109 - val_accuracy: 0.7850\n",
            "Epoch 53/500\n",
            "6/6 [==============================] - 0s 5ms/step - loss: 0.3021 - accuracy: 0.8693 - val_loss: 0.4142 - val_accuracy: 0.7800\n",
            "Epoch 54/500\n",
            "6/6 [==============================] - 0s 5ms/step - loss: 0.3009 - accuracy: 0.8700 - val_loss: 0.4213 - val_accuracy: 0.8000\n",
            "Epoch 55/500\n",
            "6/6 [==============================] - 0s 5ms/step - loss: 0.2975 - accuracy: 0.8728 - val_loss: 0.4092 - val_accuracy: 0.7800\n",
            "Epoch 56/500\n",
            "6/6 [==============================] - 0s 5ms/step - loss: 0.2951 - accuracy: 0.8728 - val_loss: 0.4062 - val_accuracy: 0.7850\n",
            "Epoch 57/500\n",
            "6/6 [==============================] - 0s 5ms/step - loss: 0.2922 - accuracy: 0.8721 - val_loss: 0.4058 - val_accuracy: 0.8050\n",
            "Epoch 58/500\n",
            "6/6 [==============================] - 0s 5ms/step - loss: 0.2924 - accuracy: 0.8757 - val_loss: 0.4060 - val_accuracy: 0.8050\n",
            "Epoch 59/500\n",
            "6/6 [==============================] - 0s 5ms/step - loss: 0.2900 - accuracy: 0.8786 - val_loss: 0.4035 - val_accuracy: 0.8100\n",
            "Epoch 60/500\n",
            "6/6 [==============================] - 0s 5ms/step - loss: 0.2895 - accuracy: 0.8800 - val_loss: 0.4087 - val_accuracy: 0.8000\n",
            "Epoch 61/500\n",
            "6/6 [==============================] - 0s 5ms/step - loss: 0.2860 - accuracy: 0.8786 - val_loss: 0.4012 - val_accuracy: 0.7950\n",
            "Epoch 62/500\n",
            "6/6 [==============================] - 0s 5ms/step - loss: 0.2832 - accuracy: 0.8843 - val_loss: 0.4045 - val_accuracy: 0.8150\n",
            "Epoch 63/500\n",
            "6/6 [==============================] - 0s 5ms/step - loss: 0.2824 - accuracy: 0.8807 - val_loss: 0.4087 - val_accuracy: 0.8150\n",
            "Epoch 64/500\n",
            "6/6 [==============================] - 0s 5ms/step - loss: 0.2798 - accuracy: 0.8836 - val_loss: 0.3989 - val_accuracy: 0.8000\n",
            "Epoch 65/500\n",
            "6/6 [==============================] - 0s 7ms/step - loss: 0.2783 - accuracy: 0.8829 - val_loss: 0.4012 - val_accuracy: 0.8050\n",
            "Epoch 66/500\n",
            "6/6 [==============================] - 0s 5ms/step - loss: 0.2765 - accuracy: 0.8836 - val_loss: 0.3995 - val_accuracy: 0.8150\n",
            "Epoch 67/500\n",
            "6/6 [==============================] - 0s 6ms/step - loss: 0.2748 - accuracy: 0.8879 - val_loss: 0.4007 - val_accuracy: 0.8250\n",
            "Epoch 68/500\n",
            "6/6 [==============================] - 0s 5ms/step - loss: 0.2734 - accuracy: 0.8886 - val_loss: 0.3983 - val_accuracy: 0.8200\n",
            "Epoch 69/500\n",
            "6/6 [==============================] - 0s 5ms/step - loss: 0.2719 - accuracy: 0.8872 - val_loss: 0.3970 - val_accuracy: 0.8300\n",
            "Epoch 70/500\n",
            "6/6 [==============================] - 0s 4ms/step - loss: 0.2713 - accuracy: 0.8894 - val_loss: 0.3954 - val_accuracy: 0.8150\n",
            "Epoch 71/500\n",
            "6/6 [==============================] - 0s 5ms/step - loss: 0.2691 - accuracy: 0.8886 - val_loss: 0.4040 - val_accuracy: 0.8300\n",
            "Epoch 72/500\n",
            "6/6 [==============================] - 0s 5ms/step - loss: 0.2695 - accuracy: 0.8843 - val_loss: 0.4100 - val_accuracy: 0.8350\n",
            "Epoch 73/500\n",
            "6/6 [==============================] - 0s 5ms/step - loss: 0.2665 - accuracy: 0.8872 - val_loss: 0.3985 - val_accuracy: 0.8250\n",
            "Epoch 74/500\n",
            "6/6 [==============================] - 0s 6ms/step - loss: 0.2658 - accuracy: 0.8937 - val_loss: 0.4023 - val_accuracy: 0.8350\n",
            "Epoch 75/500\n",
            "6/6 [==============================] - 0s 5ms/step - loss: 0.2639 - accuracy: 0.8894 - val_loss: 0.3984 - val_accuracy: 0.8350\n",
            "Epoch 76/500\n",
            "6/6 [==============================] - 0s 5ms/step - loss: 0.2621 - accuracy: 0.8908 - val_loss: 0.3942 - val_accuracy: 0.8400\n",
            "Epoch 77/500\n",
            "6/6 [==============================] - 0s 5ms/step - loss: 0.2622 - accuracy: 0.8915 - val_loss: 0.3941 - val_accuracy: 0.8400\n",
            "Epoch 78/500\n",
            "6/6 [==============================] - 0s 6ms/step - loss: 0.2600 - accuracy: 0.8922 - val_loss: 0.3999 - val_accuracy: 0.8350\n",
            "Epoch 79/500\n",
            "6/6 [==============================] - 0s 6ms/step - loss: 0.2589 - accuracy: 0.8922 - val_loss: 0.4026 - val_accuracy: 0.8350\n",
            "Epoch 80/500\n",
            "6/6 [==============================] - 0s 5ms/step - loss: 0.2584 - accuracy: 0.8930 - val_loss: 0.3945 - val_accuracy: 0.8350\n",
            "Epoch 81/500\n",
            "6/6 [==============================] - 0s 5ms/step - loss: 0.2564 - accuracy: 0.8937 - val_loss: 0.3938 - val_accuracy: 0.8400\n",
            "Epoch 82/500\n",
            "6/6 [==============================] - 0s 5ms/step - loss: 0.2555 - accuracy: 0.8958 - val_loss: 0.3962 - val_accuracy: 0.8300\n",
            "Epoch 83/500\n",
            "6/6 [==============================] - 0s 5ms/step - loss: 0.2546 - accuracy: 0.8944 - val_loss: 0.4005 - val_accuracy: 0.8300\n",
            "Epoch 84/500\n",
            "6/6 [==============================] - 0s 4ms/step - loss: 0.2519 - accuracy: 0.8901 - val_loss: 0.4096 - val_accuracy: 0.8300\n",
            "Epoch 85/500\n",
            "6/6 [==============================] - 0s 5ms/step - loss: 0.2525 - accuracy: 0.8915 - val_loss: 0.4076 - val_accuracy: 0.8250\n",
            "Epoch 86/500\n",
            "6/6 [==============================] - 0s 6ms/step - loss: 0.2521 - accuracy: 0.8973 - val_loss: 0.3970 - val_accuracy: 0.8200\n",
            "Epoch 87/500\n",
            "6/6 [==============================] - 0s 6ms/step - loss: 0.2503 - accuracy: 0.8958 - val_loss: 0.4112 - val_accuracy: 0.8350\n",
            "Epoch 88/500\n",
            "6/6 [==============================] - 0s 6ms/step - loss: 0.2488 - accuracy: 0.8966 - val_loss: 0.3982 - val_accuracy: 0.8300\n",
            "Epoch 89/500\n",
            "6/6 [==============================] - 0s 5ms/step - loss: 0.2483 - accuracy: 0.8994 - val_loss: 0.3984 - val_accuracy: 0.8250\n",
            "Epoch 90/500\n",
            "6/6 [==============================] - 0s 7ms/step - loss: 0.2475 - accuracy: 0.8994 - val_loss: 0.4032 - val_accuracy: 0.8200\n",
            "Epoch 91/500\n",
            "6/6 [==============================] - 0s 5ms/step - loss: 0.2466 - accuracy: 0.9001 - val_loss: 0.4062 - val_accuracy: 0.8200\n",
            "Epoch 00091: early stopping\n"
          ],
          "name": "stdout"
        }
      ]
    },
    {
      "cell_type": "code",
      "metadata": {
        "id": "9mN7n6l7hzjq",
        "outputId": "0d7fed6e-e374-46e7-de36-8c027c9538f1",
        "colab": {
          "base_uri": "https://localhost:8080/",
          "height": 187
        }
      },
      "source": [
        "from sklearn.metrics import classification_report\n",
        "\n",
        "probs       = classifier.predict(X_test_norm)\n",
        "preds       = probs > 0.5\n",
        "print('Neural network score on test:\\n',classification_report(y_test, preds))"
      ],
      "execution_count": null,
      "outputs": [
        {
          "output_type": "stream",
          "text": [
            "Neural network score on test:\n",
            "               precision    recall  f1-score   support\n",
            "\n",
            "           0       0.86      0.84      0.85       198\n",
            "           1       0.84      0.86      0.85       201\n",
            "\n",
            "    accuracy                           0.85       399\n",
            "   macro avg       0.85      0.85      0.85       399\n",
            "weighted avg       0.85      0.85      0.85       399\n",
            "\n"
          ],
          "name": "stdout"
        }
      ]
    },
    {
      "cell_type": "code",
      "metadata": {
        "id": "gClJEaL3jiBv",
        "outputId": "561d9cef-fe8a-4ef2-ab1e-19d869a6a6d5",
        "colab": {
          "base_uri": "https://localhost:8080/",
          "height": 715
        }
      },
      "source": [
        "# Визуелизација на вредностите на функцијата на загуба при тренирање и валидација\n",
        "import matplotlib.pyplot as plt\n",
        "\n",
        "loss_train = np.asarray(history_callback.history['loss'])\n",
        "loss_val = np.asarray(history_callback.history['val_loss'])\n",
        "epochs = range(1,loss_train.shape[0]+1)\n",
        "plt.axes([0,0,2.5,1])\n",
        "plt.plot(epochs, loss_train, 'g', label='Training loss')\n",
        "plt.plot(epochs, loss_val, 'b', label='Validation loss')\n",
        "plt.title('Training and Validation loss')\n",
        "plt.xlabel('Epochs')\n",
        "plt.ylabel('Loss')\n",
        "plt.legend()\n",
        "plt.show()\n",
        "\n",
        "# Визуелизација на вредностите на accuracy при тренирање и валидација\n",
        "acc_train = np.asarray(history_callback.history['accuracy'])\n",
        "acc_val = np.asarray(history_callback.history['val_accuracy'])\n",
        "epochs = range(1,acc_train.shape[0]+1)\n",
        "plt.axes([0,0,2.5,1])\n",
        "plt.plot(epochs, acc_train, 'r', label='Training accuracy')\n",
        "plt.plot(epochs, acc_val, 'orange', label='Validation accuracy')\n",
        "plt.title('Training and Validation accuracy')\n",
        "plt.xlabel('Epochs')\n",
        "plt.ylabel('Accuracy')\n",
        "plt.legend()\n",
        "plt.show()"
      ],
      "execution_count": null,
      "outputs": [
        {
          "output_type": "display_data",
          "data": {
            "image/png": "[encoded data removed]",
            "text/plain": [
              "<Figure size 432x288 with 1 Axes>"
            ]
          },
          "metadata": {
            "tags": [],
            "needs_background": "light"
          }
        },
        {
          "output_type": "display_data",
          "data": {
            "image/png": "[encoded data removed]",
            "text/plain": [
              "<Figure size 432x288 with 1 Axes>"
            ]
          },
          "metadata": {
            "tags": [],
            "needs_background": "light"
          }
        }
      ]
    },
    {
      "cell_type": "code",
      "metadata": {
        "id": "lhSvvGBbPfVo",
        "outputId": "a5153fb3-f670-4869-818e-15b98c559d82",
        "colab": {
          "base_uri": "https://localhost:8080/",
          "height": 312
        }
      },
      "source": [
        "import seaborn as sn\n",
        "from sklearn.metrics import confusion_matrix\n",
        "import warnings\n",
        "warnings.simplefilter(action='ignore', category=FutureWarning)\n",
        "import pandas as pd\n",
        "\n",
        "cm=confusion_matrix(y_test,preds)\n",
        "names = ['bad', 'good'] \n",
        "cm = 100 * cm.astype('float') / cm.sum(axis=-1)[:, np.newaxis]  \n",
        " \n",
        "\n",
        "df = pd.DataFrame(data=cm, columns=names, index=names)\n",
        "g = sn.heatmap(df, annot=True, fmt=\".1f\", linewidths=.5, vmin=0, vmax=100,\n",
        "                    cmap='Blues')\n",
        "g.set_title('Confusion matrix')\n",
        "g.set_ylabel('True label')\n",
        "g.set_xlabel('Predicted label')\n",
        "g.plot()"
      ],
      "execution_count": null,
      "outputs": [
        {
          "output_type": "execute_result",
          "data": {
            "text/plain": [
              "[]"
            ]
          },
          "metadata": {
            "tags": []
          },
          "execution_count": 256
        },
        {
          "output_type": "display_data",
          "data": {
            "image/png": "[encoded data removed]",
            "text/plain": [
              "<Figure size 432x288 with 2 Axes>"
            ]
          },
          "metadata": {
            "tags": [],
            "needs_background": "light"
          }
        }
      ]
    },
    {
      "cell_type": "code",
      "metadata": {
        "id": "oILrT70ooJ6M",
        "outputId": "8e3b2ccc-d35f-4c21-fed7-68998d11e432",
        "colab": {
          "base_uri": "https://localhost:8080/",
          "height": 266
        }
      },
      "source": [
        "confusion = confusion_matrix(y_test, preds)\n",
        "TP = confusion[1, 1]\n",
        "TN = confusion[0, 0]\n",
        "FP = confusion[0, 1]\n",
        "FN = confusion[1, 0]\n",
        "\n",
        "\n",
        "df_Results.loc[6, \"Model\"] = \"ANN\"\n",
        "df_Results.loc[6, \"Acc\"] = accuracy_score(y_test, preds)\n",
        "df_Results.loc[6, \"Recall\"] = recall_score(y_test, preds)\n",
        "df_Results.loc[6, \"ROC\"] = roc_auc_score(y_test,preds)\n",
        "df_Results.loc[6, \"TP\"] = TP\n",
        "df_Results.loc[6, \"FN\"] = FN\n",
        "\n",
        "df_Results.head(10)"
      ],
      "execution_count": null,
      "outputs": [
        {
          "output_type": "execute_result",
          "data": {
            "text/html": [
              "<div>\n",
              "<style scoped>\n",
              "    .dataframe tbody tr th:only-of-type {\n",
              "        vertical-align: middle;\n",
              "    }\n",
              "\n",
              "    .dataframe tbody tr th {\n",
              "        vertical-align: top;\n",
              "    }\n",
              "\n",
              "    .dataframe thead th {\n",
              "        text-align: right;\n",
              "    }\n",
              "</style>\n",
              "<table border=\"1\" class=\"dataframe\">\n",
              "  <thead>\n",
              "    <tr style=\"text-align: right;\">\n",
              "      <th></th>\n",
              "      <th>Model</th>\n",
              "      <th>Acc</th>\n",
              "      <th>Recall</th>\n",
              "      <th>ROC</th>\n",
              "      <th>TP</th>\n",
              "      <th>FN</th>\n",
              "    </tr>\n",
              "  </thead>\n",
              "  <tbody>\n",
              "    <tr>\n",
              "      <th>0</th>\n",
              "      <td>Decision Tree</td>\n",
              "      <td>0.929825</td>\n",
              "      <td>0.925373</td>\n",
              "      <td>0.929858</td>\n",
              "      <td>186</td>\n",
              "      <td>15</td>\n",
              "    </tr>\n",
              "    <tr>\n",
              "      <th>1</th>\n",
              "      <td>Random Forest</td>\n",
              "      <td>0.924812</td>\n",
              "      <td>0.895522</td>\n",
              "      <td>0.925034</td>\n",
              "      <td>180</td>\n",
              "      <td>21</td>\n",
              "    </tr>\n",
              "    <tr>\n",
              "      <th>2</th>\n",
              "      <td>Naive Bayes</td>\n",
              "      <td>0.716792</td>\n",
              "      <td>0.532338</td>\n",
              "      <td>0.718189</td>\n",
              "      <td>107</td>\n",
              "      <td>94</td>\n",
              "    </tr>\n",
              "    <tr>\n",
              "      <th>3</th>\n",
              "      <td>Tuned Random Forest</td>\n",
              "      <td>0.964912</td>\n",
              "      <td>0.950249</td>\n",
              "      <td>0.965023</td>\n",
              "      <td>191</td>\n",
              "      <td>10</td>\n",
              "    </tr>\n",
              "    <tr>\n",
              "      <th>4</th>\n",
              "      <td>Bagging Classifier</td>\n",
              "      <td>0.877193</td>\n",
              "      <td>0.80597</td>\n",
              "      <td>0.877733</td>\n",
              "      <td>162</td>\n",
              "      <td>39</td>\n",
              "    </tr>\n",
              "    <tr>\n",
              "      <th>5</th>\n",
              "      <td>XGBoost</td>\n",
              "      <td>0.974937</td>\n",
              "      <td>0.970149</td>\n",
              "      <td>0.974974</td>\n",
              "      <td>195</td>\n",
              "      <td>6</td>\n",
              "    </tr>\n",
              "    <tr>\n",
              "      <th>6</th>\n",
              "      <td>ANN</td>\n",
              "      <td>0.849624</td>\n",
              "      <td>0.860697</td>\n",
              "      <td>0.84954</td>\n",
              "      <td>173</td>\n",
              "      <td>28</td>\n",
              "    </tr>\n",
              "  </tbody>\n",
              "</table>\n",
              "</div>"
            ],
            "text/plain": [
              "                 Model       Acc    Recall       ROC   TP  FN\n",
              "0       Decision Tree   0.929825  0.925373  0.929858  186  15\n",
              "1        Random Forest  0.924812  0.895522  0.925034  180  21\n",
              "2          Naive Bayes  0.716792  0.532338  0.718189  107  94\n",
              "3  Tuned Random Forest  0.964912  0.950249  0.965023  191  10\n",
              "4   Bagging Classifier  0.877193   0.80597  0.877733  162  39\n",
              "5              XGBoost  0.974937  0.970149  0.974974  195   6\n",
              "6                  ANN  0.849624  0.860697   0.84954  173  28"
            ]
          },
          "metadata": {
            "tags": []
          },
          "execution_count": 257
        }
      ]
    },
    {
      "cell_type": "code",
      "metadata": {
        "id": "hZS_Z2pelnKG"
      },
      "source": [
        "#Зачувување на моделот и тежините\n",
        "classifier.save(\"/content/drive/My Drive/neural_network_dobra.h5\")\n",
        "classifier.save_weights(\"/content/drive/My Drive/neural_network_dobra_weights.h5\")"
      ],
      "execution_count": null,
      "outputs": []
    },
    {
      "cell_type": "code",
      "metadata": {
        "id": "E4DBsi3tmLbX"
      },
      "source": [
        "# Зачувување на вредностите на функцијата на загуба при тренирање и валидација\n",
        "np.savetxt(\"/content/drive/My Drive/loss_train_dobra.txt\", loss_train, delimiter=\",\")\n",
        "np.savetxt(\"/content/drive/My Drive/loss_val_dobra.txt\", loss_val, delimiter=\",\")\n",
        "np.savetxt(\"/content/drive/My Drive/acc_train_dobra.txt\", acc_train, delimiter=\",\")\n",
        "np.savetxt(\"/content/drive/My Drive/acc_val_dobra.txt\", acc_val, delimiter=\",\")"
      ],
      "execution_count": null,
      "outputs": []
    },
    {
      "cell_type": "code",
      "metadata": {
        "id": "1-SdtLJqsjC-",
        "outputId": "50076ff6-98ca-4161-aa39-0491a0e7f37e",
        "colab": {
          "base_uri": "https://localhost:8080/",
          "height": 465
        }
      },
      "source": [
        "#Пример за вчитување на зачуваниот модел\n",
        "from tensorflow.keras.models import load_model\n",
        "\n",
        "model2 = load_model(\"/content/drive/My Drive/neural_network_dobra.h5\")\n",
        "probs       = model2.predict(X_test_norm)\n",
        "preds       = probs > 0.5\n",
        "\n",
        "from sklearn.metrics import classification_report\n",
        "print(classification_report(y_test, preds))\n",
        "\n",
        "import seaborn as sn\n",
        "from sklearn.metrics import confusion_matrix\n",
        "import warnings\n",
        "warnings.simplefilter(action='ignore', category=FutureWarning)\n",
        "import pandas as pd\n",
        "\n",
        "cm=confusion_matrix(y_test,preds)\n",
        "names = ['bad', 'good'] \n",
        "cm = 100 * cm.astype('float') / cm.sum(axis=-1)[:, np.newaxis]  \n",
        " \n",
        "\n",
        "df = pd.DataFrame(data=cm, columns=names, index=names)\n",
        "g = sn.heatmap(df, annot=True, fmt=\".1f\", linewidths=.5, vmin=0, vmax=100,\n",
        "                    cmap='Blues')\n",
        "g.set_title('Confusion matrix')\n",
        "g.set_ylabel('True label')\n",
        "g.set_xlabel('Predicted label')\n",
        "g.plot()"
      ],
      "execution_count": null,
      "outputs": [
        {
          "output_type": "stream",
          "text": [
            "              precision    recall  f1-score   support\n",
            "\n",
            "           0       0.86      0.84      0.85       198\n",
            "           1       0.84      0.86      0.85       201\n",
            "\n",
            "    accuracy                           0.85       399\n",
            "   macro avg       0.85      0.85      0.85       399\n",
            "weighted avg       0.85      0.85      0.85       399\n",
            "\n"
          ],
          "name": "stdout"
        },
        {
          "output_type": "execute_result",
          "data": {
            "text/plain": [
              "[]"
            ]
          },
          "metadata": {
            "tags": []
          },
          "execution_count": 252
        },
        {
          "output_type": "display_data",
          "data": {
            "image/png": "[encoded data removed]",
            "text/plain": [
              "<Figure size 432x288 with 2 Axes>"
            ]
          },
          "metadata": {
            "tags": [],
            "needs_background": "light"
          }
        }
      ]
    },
    {
      "cell_type": "code",
      "metadata": {
        "id": "e9w9img-vOyd",
        "outputId": "54dc3480-17f9-4667-fe38-3beb2190054a",
        "colab": {
          "base_uri": "https://localhost:8080/",
          "height": 715
        }
      },
      "source": [
        "tmp1 = np.loadtxt(\"/content/drive/My Drive/loss_train_dobra.txt\", delimiter=\",\")\n",
        "tmp2 = np.loadtxt(\"/content/drive/My Drive/loss_val_dobra.txt\", delimiter=\",\")\n",
        "epochs = range(1,tmp1.shape[0]+1)\n",
        "plt.axes([0,0,2.5,1])\n",
        "plt.plot(epochs, tmp1, 'g', label='Training loss')\n",
        "plt.plot(epochs, tmp2, 'b', label='Validation loss')\n",
        "plt.title('Model loss')\n",
        "plt.xlabel('Epochs')\n",
        "plt.ylabel('Loss')\n",
        "plt.legend()\n",
        "plt.show()\n",
        "\n",
        "tmp1 = np.loadtxt(\"/content/drive/My Drive/acc_train_dobra.txt\", delimiter=\",\")\n",
        "tmp2 = np.loadtxt(\"/content/drive/My Drive/acc_val_dobra.txt\", delimiter=\",\")\n",
        "epochs = range(1,tmp1.shape[0]+1)\n",
        "plt.axes([0,0,2.5,1])\n",
        "plt.plot(epochs, tmp1, 'r', label='Training accuracy')\n",
        "plt.plot(epochs, tmp2, 'orange', label='Validation accuracy')\n",
        "plt.title('Model accuracy')\n",
        "plt.xlabel('Epochs')\n",
        "plt.ylabel('Accuracy')\n",
        "plt.legend()\n",
        "plt.show()"
      ],
      "execution_count": null,
      "outputs": [
        {
          "output_type": "display_data",
          "data": {
            "image/png": "[encoded data removed]",
            "text/plain": [
              "<Figure size 432x288 with 1 Axes>"
            ]
          },
          "metadata": {
            "tags": [],
            "needs_background": "light"
          }
        },
        {
          "output_type": "display_data",
          "data": {
            "image/png": "[encoded data removed]",
            "text/plain": [
              "<Figure size 432x288 with 1 Axes>"
            ]
          },
          "metadata": {
            "tags": [],
            "needs_background": "light"
          }
        }
      ]
    },
    {
      "cell_type": "code",
      "metadata": {
        "id": "t4XdDAXbp5ob",
        "outputId": "25d938ed-a85a-4142-8a2e-4bb492c32ceb",
        "colab": {
          "base_uri": "https://localhost:8080/",
          "height": 279
        }
      },
      "source": [
        "from sklearn.metrics import roc_curve, auc\n",
        "import matplotlib.pyplot as plt\n",
        "\n",
        "actual = y_test\n",
        "NN_prob = [p[0] for p in classifier.predict(X_test_norm)]\n",
        "\n",
        "\n",
        "\n",
        "NN_false_pos, NN_true_pos, _ = roc_curve(actual, NN_prob)\n",
        "NN_auc = auc(NN_false_pos, NN_true_pos)\n",
        "\n",
        "\n",
        "# plot\n",
        "plt.plot(NN_false_pos, NN_true_pos, 'g', label='Neural Network AUC = %0.2f'% NN_auc)\n",
        "\n",
        "plt.legend(loc='lower right')\n",
        "plt.plot([0,1], [0,1], 'r--')\n",
        "plt.ylabel('True Positive Rate')\n",
        "plt.xlabel('False Positive Rate')\n",
        "plt.show()"
      ],
      "execution_count": null,
      "outputs": [
        {
          "output_type": "display_data",
          "data": {
            "image/png": "[encoded data removed]",
            "text/plain": [
              "<Figure size 432x288 with 1 Axes>"
            ]
          },
          "metadata": {
            "tags": [],
            "needs_background": "light"
          }
        }
      ]
    },
    {
      "cell_type": "markdown",
      "metadata": {
        "id": "bscPIw7Lo-kw"
      },
      "source": [
        "#K-Nearest Neighbor"
      ]
    },
    {
      "cell_type": "code",
      "metadata": {
        "id": "3iTZkHJ04IDC"
      },
      "source": [
        "#80% train, 20% test\n",
        "xtrain_norm = np.concatenate((X_train_norm,X_val_norm)) \n",
        "ytrain_norm = np.concatenate((y_train,y_val))  "
      ],
      "execution_count": null,
      "outputs": []
    },
    {
      "cell_type": "code",
      "metadata": {
        "id": "bI5o5ZXNo9oa",
        "outputId": "78cd5061-e7ad-4711-c128-895abd2447e2",
        "colab": {
          "base_uri": "https://localhost:8080/",
          "height": 68
        }
      },
      "source": [
        "from sklearn.neighbors import KNeighborsClassifier\n",
        "from sklearn.metrics import confusion_matrix, classification_report\n",
        "\n",
        "knn_model = KNeighborsClassifier() \n",
        "knn_model.fit(xtrain_norm, ytrain)"
      ],
      "execution_count": null,
      "outputs": [
        {
          "output_type": "execute_result",
          "data": {
            "text/plain": [
              "KNeighborsClassifier(algorithm='auto', leaf_size=30, metric='minkowski',\n",
              "                     metric_params=None, n_jobs=None, n_neighbors=5, p=2,\n",
              "                     weights='uniform')"
            ]
          },
          "metadata": {
            "tags": []
          },
          "execution_count": 230
        }
      ]
    },
    {
      "cell_type": "code",
      "metadata": {
        "id": "jdpL_6nSoJgB",
        "outputId": "cb4bb4a2-0255-40c9-a1d5-1669d2fb902a",
        "colab": {
          "base_uri": "https://localhost:8080/",
          "height": 465
        }
      },
      "source": [
        "pred = knn_model.predict(X_test_norm)\n",
        "print(classification_report(y_test, pred))\n",
        "# Визуелизација со матрица на конфузија\n",
        "cm=confusion_matrix(y_test,pred)\n",
        "names = ['bad', 'good'] \n",
        "\n",
        "cm = 100 * cm.astype('float') / cm.sum(axis=-1)[:, np.newaxis]  \n",
        "\n",
        "df = pd.DataFrame(data=cm, columns=names, index=names)\n",
        "g = sn.heatmap(df, annot=True, fmt=\".1f\", linewidths=.5, vmin=0, vmax=100,\n",
        "                    cmap='Blues')\n",
        "g.set_title('Confusion matrix')\n",
        "g.set_ylabel('True label')\n",
        "g.set_xlabel('Predicted label')\n",
        "g.plot()\n"
      ],
      "execution_count": null,
      "outputs": [
        {
          "output_type": "stream",
          "text": [
            "              precision    recall  f1-score   support\n",
            "\n",
            "           0       0.79      0.88      0.83       198\n",
            "           1       0.87      0.77      0.82       201\n",
            "\n",
            "    accuracy                           0.82       399\n",
            "   macro avg       0.83      0.82      0.82       399\n",
            "weighted avg       0.83      0.82      0.82       399\n",
            "\n"
          ],
          "name": "stdout"
        },
        {
          "output_type": "execute_result",
          "data": {
            "text/plain": [
              "[]"
            ]
          },
          "metadata": {
            "tags": []
          },
          "execution_count": 231
        },
        {
          "output_type": "display_data",
          "data": {
            "image/png": "[encoded data removed]",
            "text/plain": [
              "<Figure size 432x288 with 2 Axes>"
            ]
          },
          "metadata": {
            "tags": [],
            "needs_background": "light"
          }
        }
      ]
    },
    {
      "cell_type": "code",
      "metadata": {
        "id": "LtPvJEj4iVH8",
        "outputId": "6543e217-0452-4d79-ce78-7963334b6ec0",
        "colab": {
          "base_uri": "https://localhost:8080/",
          "height": 297
        }
      },
      "source": [
        "confusion = confusion_matrix(y_test, pred)\n",
        "TP = confusion[1, 1]\n",
        "TN = confusion[0, 0]\n",
        "FP = confusion[0, 1]\n",
        "FN = confusion[1, 0]\n",
        "\n",
        "df_Results.loc[7, \"Model\"] = \"KNN\"\n",
        "df_Results.loc[7, \"Acc\"] = accuracy_score(y_test, pred)\n",
        "df_Results.loc[7, \"Recall\"] = recall_score(y_test, pred)\n",
        "df_Results.loc[7, \"ROC\"] = roc_auc_score(y_test,pred)\n",
        "df_Results.loc[7, \"TP\"] = TP\n",
        "df_Results.loc[7, \"FN\"] = FN\n",
        "\n",
        "df_Results.head(8)"
      ],
      "execution_count": null,
      "outputs": [
        {
          "output_type": "execute_result",
          "data": {
            "text/html": [
              "<div>\n",
              "<style scoped>\n",
              "    .dataframe tbody tr th:only-of-type {\n",
              "        vertical-align: middle;\n",
              "    }\n",
              "\n",
              "    .dataframe tbody tr th {\n",
              "        vertical-align: top;\n",
              "    }\n",
              "\n",
              "    .dataframe thead th {\n",
              "        text-align: right;\n",
              "    }\n",
              "</style>\n",
              "<table border=\"1\" class=\"dataframe\">\n",
              "  <thead>\n",
              "    <tr style=\"text-align: right;\">\n",
              "      <th></th>\n",
              "      <th>Model</th>\n",
              "      <th>Acc</th>\n",
              "      <th>Recall</th>\n",
              "      <th>ROC</th>\n",
              "      <th>TP</th>\n",
              "      <th>FN</th>\n",
              "    </tr>\n",
              "  </thead>\n",
              "  <tbody>\n",
              "    <tr>\n",
              "      <th>0</th>\n",
              "      <td>Decision Tree</td>\n",
              "      <td>0.929825</td>\n",
              "      <td>0.925373</td>\n",
              "      <td>0.929858</td>\n",
              "      <td>186</td>\n",
              "      <td>15</td>\n",
              "    </tr>\n",
              "    <tr>\n",
              "      <th>1</th>\n",
              "      <td>Random Forest</td>\n",
              "      <td>0.924812</td>\n",
              "      <td>0.895522</td>\n",
              "      <td>0.925034</td>\n",
              "      <td>180</td>\n",
              "      <td>21</td>\n",
              "    </tr>\n",
              "    <tr>\n",
              "      <th>2</th>\n",
              "      <td>Naive Bayes</td>\n",
              "      <td>0.716792</td>\n",
              "      <td>0.532338</td>\n",
              "      <td>0.718189</td>\n",
              "      <td>107</td>\n",
              "      <td>94</td>\n",
              "    </tr>\n",
              "    <tr>\n",
              "      <th>3</th>\n",
              "      <td>Tuned Random Forest</td>\n",
              "      <td>0.964912</td>\n",
              "      <td>0.950249</td>\n",
              "      <td>0.965023</td>\n",
              "      <td>191</td>\n",
              "      <td>10</td>\n",
              "    </tr>\n",
              "    <tr>\n",
              "      <th>4</th>\n",
              "      <td>Bagging Classifier</td>\n",
              "      <td>0.877193</td>\n",
              "      <td>0.80597</td>\n",
              "      <td>0.877733</td>\n",
              "      <td>162</td>\n",
              "      <td>39</td>\n",
              "    </tr>\n",
              "    <tr>\n",
              "      <th>5</th>\n",
              "      <td>XGBoost</td>\n",
              "      <td>0.974937</td>\n",
              "      <td>0.970149</td>\n",
              "      <td>0.974974</td>\n",
              "      <td>195</td>\n",
              "      <td>6</td>\n",
              "    </tr>\n",
              "    <tr>\n",
              "      <th>6</th>\n",
              "      <td>ANN</td>\n",
              "      <td>0.849624</td>\n",
              "      <td>0.860697</td>\n",
              "      <td>0.84954</td>\n",
              "      <td>173</td>\n",
              "      <td>28</td>\n",
              "    </tr>\n",
              "    <tr>\n",
              "      <th>7</th>\n",
              "      <td>KNN</td>\n",
              "      <td>0.824561</td>\n",
              "      <td>0.771144</td>\n",
              "      <td>0.824966</td>\n",
              "      <td>155</td>\n",
              "      <td>46</td>\n",
              "    </tr>\n",
              "  </tbody>\n",
              "</table>\n",
              "</div>"
            ],
            "text/plain": [
              "                 Model       Acc    Recall       ROC   TP  FN\n",
              "0       Decision Tree   0.929825  0.925373  0.929858  186  15\n",
              "1        Random Forest  0.924812  0.895522  0.925034  180  21\n",
              "2          Naive Bayes  0.716792  0.532338  0.718189  107  94\n",
              "3  Tuned Random Forest  0.964912  0.950249  0.965023  191  10\n",
              "4   Bagging Classifier  0.877193   0.80597  0.877733  162  39\n",
              "5              XGBoost  0.974937  0.970149  0.974974  195   6\n",
              "6                  ANN  0.849624  0.860697   0.84954  173  28\n",
              "7                  KNN  0.824561  0.771144  0.824966  155  46"
            ]
          },
          "metadata": {
            "tags": []
          },
          "execution_count": 263
        }
      ]
    },
    {
      "cell_type": "markdown",
      "metadata": {
        "id": "RsBDEylBEKZ0"
      },
      "source": [
        "#KNN со подесени параметри"
      ]
    },
    {
      "cell_type": "code",
      "metadata": {
        "id": "pgXg58TsDaHu",
        "outputId": "54fcad22-2c00-4d72-8bf6-2a54c66a6844",
        "colab": {
          "base_uri": "https://localhost:8080/",
          "height": 499
        }
      },
      "source": [
        "from sklearn.model_selection import GridSearchCV\n",
        "\n",
        "param_KNN = {\"n_neighbors\": np.arange(1, 20),\n",
        "              \"weights\": ['uniform','distance']}\n",
        "\n",
        "# Instantiate the GridSearchCV object: logreg_cv\n",
        "KNN_cv = GridSearchCV(knn_model, param_KNN, cv=5, scoring='roc_auc')\n",
        "\n",
        "# Fit it to the data\n",
        "KNN_cv.fit(xtrain_norm, ytrain)\n",
        "\n",
        "# Print the tuned parameters and score\n",
        "print(\"Tuned KNN Parameters: {}\".format(KNN_cv.best_params_)) \n",
        "print(\"Best score is {}\".format(KNN_cv.best_score_))\n",
        "print(classification_report(y_test, KNN_cv.predict(X_test_norm) ))\n",
        "\n",
        "cm=confusion_matrix(y_test,KNN_cv.predict(X_test_norm))\n",
        "names = ['bad', 'good'] \n",
        "\n",
        "cm = 100 * cm.astype('float') / cm.sum(axis=-1)[:, np.newaxis]  \n",
        "\n",
        "df = pd.DataFrame(data=cm, columns=names, index=names)\n",
        "g = sn.heatmap(df, annot=True, fmt=\".1f\", linewidths=.5, vmin=0, vmax=100,\n",
        "                    cmap='Blues')\n",
        "g.set_title('Confusion matrix')\n",
        "g.set_ylabel('True label')\n",
        "g.set_xlabel('Predicted label')\n",
        "g.plot()"
      ],
      "execution_count": null,
      "outputs": [
        {
          "output_type": "stream",
          "text": [
            "Tuned KNN Parameters: {'n_neighbors': 11, 'weights': 'distance'}\n",
            "Best score is 0.9369648828949918\n",
            "              precision    recall  f1-score   support\n",
            "\n",
            "           0       0.81      0.92      0.86       198\n",
            "           1       0.91      0.79      0.84       201\n",
            "\n",
            "    accuracy                           0.85       399\n",
            "   macro avg       0.86      0.86      0.85       399\n",
            "weighted avg       0.86      0.85      0.85       399\n",
            "\n"
          ],
          "name": "stdout"
        },
        {
          "output_type": "execute_result",
          "data": {
            "text/plain": [
              "[]"
            ]
          },
          "metadata": {
            "tags": []
          },
          "execution_count": 200
        },
        {
          "output_type": "display_data",
          "data": {
            "image/png": "[encoded data removed]",
            "text/plain": [
              "<Figure size 432x288 with 2 Axes>"
            ]
          },
          "metadata": {
            "tags": [],
            "needs_background": "light"
          }
        }
      ]
    },
    {
      "cell_type": "code",
      "metadata": {
        "id": "xlm1xT0HEWji",
        "outputId": "b29e9783-ff4d-462b-c6d0-2eec9693ebd5",
        "colab": {
          "base_uri": "https://localhost:8080/",
          "height": 328
        }
      },
      "source": [
        "confusion = confusion_matrix(y_test, KNN_cv.predict(X_test_norm))\n",
        "TP = confusion[1, 1]\n",
        "TN = confusion[0, 0]\n",
        "FP = confusion[0, 1]\n",
        "FN = confusion[1, 0]\n",
        "\n",
        "df_Results.loc[8, \"Model\"] = \"Tuned KNN\"\n",
        "df_Results.loc[8, \"Acc\"] = accuracy_score(y_test, KNN_cv.predict(X_test_norm))\n",
        "df_Results.loc[8, \"Recall\"] = recall_score(y_test, KNN_cv.predict(X_test_norm))\n",
        "df_Results.loc[8, \"ROC\"] = roc_auc_score(y_test,KNN_cv.predict(X_test_norm))\n",
        "df_Results.loc[8, \"TP\"] = TP\n",
        "df_Results.loc[8, \"FN\"] = FN\n",
        "\n",
        "df_Results.head(9)"
      ],
      "execution_count": null,
      "outputs": [
        {
          "output_type": "execute_result",
          "data": {
            "text/html": [
              "<div>\n",
              "<style scoped>\n",
              "    .dataframe tbody tr th:only-of-type {\n",
              "        vertical-align: middle;\n",
              "    }\n",
              "\n",
              "    .dataframe tbody tr th {\n",
              "        vertical-align: top;\n",
              "    }\n",
              "\n",
              "    .dataframe thead th {\n",
              "        text-align: right;\n",
              "    }\n",
              "</style>\n",
              "<table border=\"1\" class=\"dataframe\">\n",
              "  <thead>\n",
              "    <tr style=\"text-align: right;\">\n",
              "      <th></th>\n",
              "      <th>Model</th>\n",
              "      <th>Acc</th>\n",
              "      <th>Recall</th>\n",
              "      <th>ROC</th>\n",
              "      <th>TP</th>\n",
              "      <th>FN</th>\n",
              "    </tr>\n",
              "  </thead>\n",
              "  <tbody>\n",
              "    <tr>\n",
              "      <th>0</th>\n",
              "      <td>Decision Tree</td>\n",
              "      <td>0.929825</td>\n",
              "      <td>0.925373</td>\n",
              "      <td>0.929858</td>\n",
              "      <td>186</td>\n",
              "      <td>15</td>\n",
              "    </tr>\n",
              "    <tr>\n",
              "      <th>1</th>\n",
              "      <td>Random Forest</td>\n",
              "      <td>0.924812</td>\n",
              "      <td>0.895522</td>\n",
              "      <td>0.925034</td>\n",
              "      <td>180</td>\n",
              "      <td>21</td>\n",
              "    </tr>\n",
              "    <tr>\n",
              "      <th>2</th>\n",
              "      <td>Naive Bayes</td>\n",
              "      <td>0.716792</td>\n",
              "      <td>0.532338</td>\n",
              "      <td>0.718189</td>\n",
              "      <td>107</td>\n",
              "      <td>94</td>\n",
              "    </tr>\n",
              "    <tr>\n",
              "      <th>3</th>\n",
              "      <td>Tuned Random Forest</td>\n",
              "      <td>0.964912</td>\n",
              "      <td>0.950249</td>\n",
              "      <td>0.965023</td>\n",
              "      <td>191</td>\n",
              "      <td>10</td>\n",
              "    </tr>\n",
              "    <tr>\n",
              "      <th>4</th>\n",
              "      <td>Bagging Classifier</td>\n",
              "      <td>0.877193</td>\n",
              "      <td>0.80597</td>\n",
              "      <td>0.877733</td>\n",
              "      <td>162</td>\n",
              "      <td>39</td>\n",
              "    </tr>\n",
              "    <tr>\n",
              "      <th>5</th>\n",
              "      <td>XGBoost</td>\n",
              "      <td>0.974937</td>\n",
              "      <td>0.970149</td>\n",
              "      <td>0.974974</td>\n",
              "      <td>195</td>\n",
              "      <td>6</td>\n",
              "    </tr>\n",
              "    <tr>\n",
              "      <th>6</th>\n",
              "      <td>ANN</td>\n",
              "      <td>0.849624</td>\n",
              "      <td>0.860697</td>\n",
              "      <td>0.84954</td>\n",
              "      <td>173</td>\n",
              "      <td>28</td>\n",
              "    </tr>\n",
              "    <tr>\n",
              "      <th>7</th>\n",
              "      <td>KNN</td>\n",
              "      <td>0.824561</td>\n",
              "      <td>0.771144</td>\n",
              "      <td>0.824966</td>\n",
              "      <td>155</td>\n",
              "      <td>46</td>\n",
              "    </tr>\n",
              "    <tr>\n",
              "      <th>8</th>\n",
              "      <td>Tuned KNN</td>\n",
              "      <td>0.854637</td>\n",
              "      <td>0.78607</td>\n",
              "      <td>0.855156</td>\n",
              "      <td>158</td>\n",
              "      <td>43</td>\n",
              "    </tr>\n",
              "  </tbody>\n",
              "</table>\n",
              "</div>"
            ],
            "text/plain": [
              "                 Model       Acc    Recall       ROC   TP  FN\n",
              "0       Decision Tree   0.929825  0.925373  0.929858  186  15\n",
              "1        Random Forest  0.924812  0.895522  0.925034  180  21\n",
              "2          Naive Bayes  0.716792  0.532338  0.718189  107  94\n",
              "3  Tuned Random Forest  0.964912  0.950249  0.965023  191  10\n",
              "4   Bagging Classifier  0.877193   0.80597  0.877733  162  39\n",
              "5              XGBoost  0.974937  0.970149  0.974974  195   6\n",
              "6                  ANN  0.849624  0.860697   0.84954  173  28\n",
              "7                  KNN  0.824561  0.771144  0.824966  155  46\n",
              "8            Tuned KNN  0.854637   0.78607  0.855156  158  43"
            ]
          },
          "metadata": {
            "tags": []
          },
          "execution_count": 264
        }
      ]
    },
    {
      "cell_type": "code",
      "metadata": {
        "id": "ShMd_hFMn_2c",
        "outputId": "e57c1a84-f16b-417c-e3a2-36aab6c5a146",
        "colab": {
          "base_uri": "https://localhost:8080/",
          "height": 279
        }
      },
      "source": [
        "from sklearn.metrics import roc_curve, auc\n",
        "import matplotlib.pyplot as plt\n",
        "\n",
        "actual = y_test\n",
        "KNN_cv_prob = [p[1] for p in KNN_cv.predict_proba(X_test_norm)]\n",
        "knn_model_prob = [p[1] for p in knn_model.predict_proba(X_test_norm)]\n",
        "\n",
        "\n",
        "\n",
        "KNN_cv_false_pos, KNN_cv_true_pos, _ = roc_curve(actual, KNN_cv_prob)\n",
        "KNN_cv_auc = auc(KNN_cv_false_pos, KNN_cv_true_pos)\n",
        "\n",
        "knn_model_false_pos, knn_model_true_pos, _ = roc_curve(actual, knn_model_prob)\n",
        "knn_model_auc = auc(knn_model_false_pos, knn_model_true_pos)\n",
        "\n",
        "# plot\n",
        "plt.plot(KNN_cv_false_pos, KNN_cv_true_pos, 'g', label='Tuned KNN AUC = %0.2f'% KNN_cv_auc)\n",
        "plt.plot(knn_model_false_pos, knn_model_true_pos, 'b', label='KNN AUC = %0.2f'% knn_model_auc)\n",
        "\n",
        "plt.legend(loc='lower right')\n",
        "plt.plot([0,1], [0,1], 'r--')\n",
        "plt.ylabel('True Positive Rate')\n",
        "plt.xlabel('False Positive Rate')\n",
        "plt.show()"
      ],
      "execution_count": null,
      "outputs": [
        {
          "output_type": "display_data",
          "data": {
            "image/png": "[encoded data removed]",
            "text/plain": [
              "<Figure size 432x288 with 1 Axes>"
            ]
          },
          "metadata": {
            "tags": [],
            "needs_background": "light"
          }
        }
      ]
    },
    {
      "cell_type": "markdown",
      "metadata": {
        "id": "rdpLGA62QuMQ"
      },
      "source": [
        "#SVM"
      ]
    },
    {
      "cell_type": "code",
      "metadata": {
        "id": "2qC2lnGDbJ69"
      },
      "source": [
        "X_train_norm = scaler.fit_transform(xtrain)"
      ],
      "execution_count": null,
      "outputs": []
    },
    {
      "cell_type": "code",
      "metadata": {
        "id": "t7GkkmAqQUKd",
        "outputId": "c2357d20-40cf-4ab3-da4f-f248d78fb513",
        "colab": {
          "base_uri": "https://localhost:8080/",
          "height": 465
        }
      },
      "source": [
        "from sklearn.svm import SVC\n",
        "SVM = SVC()\n",
        "\n",
        "SVM.probability = True\n",
        "SVM.fit(X_train_norm, ytrain)\n",
        "\n",
        "y_pred = SVM.predict(X_test_norm)\n",
        "\n",
        "from sklearn.metrics import classification_report\n",
        "print(classification_report(y_test, y_pred))\n",
        "\n",
        "\n",
        "confusion = confusion_matrix(y_test,y_pred)\n",
        "import seaborn as sn\n",
        "from sklearn.metrics import confusion_matrix\n",
        "import warnings\n",
        "warnings.simplefilter(action='ignore', category=FutureWarning)\n",
        "import pandas as pd\n",
        "\n",
        "# Визуелизација со матрица на конфузија \n",
        "names = ['bad', 'good'] \n",
        "\n",
        "confusion = 100 * confusion.astype('float') / confusion.sum(axis=-1)[:, np.newaxis]  \n",
        "\n",
        "df = pd.DataFrame(data=confusion, columns=names, index=names)\n",
        "g = sn.heatmap(df, annot=True, fmt=\".1f\", linewidths=.5, vmin=0, vmax=100,\n",
        "                    cmap='Blues')\n",
        "g.set_title('Confusion matrix')\n",
        "g.set_ylabel('True label')\n",
        "g.set_xlabel('Predicted label')\n",
        "g.plot()"
      ],
      "execution_count": null,
      "outputs": [
        {
          "output_type": "stream",
          "text": [
            "              precision    recall  f1-score   support\n",
            "\n",
            "           0       0.81      0.86      0.83       198\n",
            "           1       0.85      0.80      0.83       201\n",
            "\n",
            "    accuracy                           0.83       399\n",
            "   macro avg       0.83      0.83      0.83       399\n",
            "weighted avg       0.83      0.83      0.83       399\n",
            "\n"
          ],
          "name": "stdout"
        },
        {
          "output_type": "execute_result",
          "data": {
            "text/plain": [
              "[]"
            ]
          },
          "metadata": {
            "tags": []
          },
          "execution_count": 206
        },
        {
          "output_type": "display_data",
          "data": {
            "image/png": "[encoded data removed]",
            "text/plain": [
              "<Figure size 432x288 with 2 Axes>"
            ]
          },
          "metadata": {
            "tags": [],
            "needs_background": "light"
          }
        }
      ]
    },
    {
      "cell_type": "code",
      "metadata": {
        "id": "5UD74P8nVN_q",
        "outputId": "f527f74c-a37c-41cc-def8-2bf2a832d47b",
        "colab": {
          "base_uri": "https://localhost:8080/",
          "height": 279
        }
      },
      "source": [
        "from sklearn.metrics import roc_curve, auc\n",
        "import matplotlib.pyplot as plt\n",
        "\n",
        "actual = y_test\n",
        "SVM_prob = [p[1] for p in SVM.predict_proba(X_test_norm)]\n",
        "\n",
        "\n",
        "SVM_false_pos, SVM_true_pos, _ = roc_curve(actual, SVM_prob)\n",
        "SVM_auc = auc(SVM_false_pos, SVM_true_pos)\n",
        "\n",
        "\n",
        "# plot\n",
        "plt.plot(SVM_false_pos, SVM_true_pos, 'g', label='SVM AUC = %0.2f'% SVM_auc)\n",
        "\n",
        "plt.legend(loc='lower right')\n",
        "plt.plot([0,1], [0,1], 'r--')\n",
        "plt.ylabel('True Positive Rate')\n",
        "plt.xlabel('False Positive Rate')\n",
        "plt.show()"
      ],
      "execution_count": null,
      "outputs": [
        {
          "output_type": "display_data",
          "data": {
            "image/png": "[encoded data removed]",
            "text/plain": [
              "<Figure size 432x288 with 1 Axes>"
            ]
          },
          "metadata": {
            "tags": [],
            "needs_background": "light"
          }
        }
      ]
    },
    {
      "cell_type": "code",
      "metadata": {
        "id": "lyu-v_tSShYa",
        "outputId": "151508ad-f8c2-4bc4-adf3-cdf0c1a9c90b",
        "colab": {
          "base_uri": "https://localhost:8080/",
          "height": 359
        }
      },
      "source": [
        "confusion = confusion_matrix(y_test, y_pred)\n",
        "TP = confusion[1, 1]\n",
        "TN = confusion[0, 0]\n",
        "FP = confusion[0, 1]\n",
        "FN = confusion[1, 0]\n",
        "\n",
        "df_Results.loc[9, \"Model\"] = \"SVM\"\n",
        "df_Results.loc[9, \"Acc\"] = accuracy_score(y_test, y_pred)\n",
        "df_Results.loc[9, \"Recall\"] = recall_score(y_test, y_pred)\n",
        "df_Results.loc[9, \"ROC\"] = roc_auc_score(y_test,y_pred)\n",
        "df_Results.loc[9, \"TP\"] = TP\n",
        "df_Results.loc[9, \"FN\"] = FN\n",
        "df_Results = df_Results.astype({\"TP\": int, \"FN\": int})\n",
        "\n",
        "df_Results.head(10)"
      ],
      "execution_count": null,
      "outputs": [
        {
          "output_type": "execute_result",
          "data": {
            "text/html": [
              "<div>\n",
              "<style scoped>\n",
              "    .dataframe tbody tr th:only-of-type {\n",
              "        vertical-align: middle;\n",
              "    }\n",
              "\n",
              "    .dataframe tbody tr th {\n",
              "        vertical-align: top;\n",
              "    }\n",
              "\n",
              "    .dataframe thead th {\n",
              "        text-align: right;\n",
              "    }\n",
              "</style>\n",
              "<table border=\"1\" class=\"dataframe\">\n",
              "  <thead>\n",
              "    <tr style=\"text-align: right;\">\n",
              "      <th></th>\n",
              "      <th>Model</th>\n",
              "      <th>Acc</th>\n",
              "      <th>Recall</th>\n",
              "      <th>ROC</th>\n",
              "      <th>TP</th>\n",
              "      <th>FN</th>\n",
              "    </tr>\n",
              "  </thead>\n",
              "  <tbody>\n",
              "    <tr>\n",
              "      <th>0</th>\n",
              "      <td>Decision Tree</td>\n",
              "      <td>0.929825</td>\n",
              "      <td>0.925373</td>\n",
              "      <td>0.929858</td>\n",
              "      <td>186</td>\n",
              "      <td>15</td>\n",
              "    </tr>\n",
              "    <tr>\n",
              "      <th>1</th>\n",
              "      <td>Random Forest</td>\n",
              "      <td>0.924812</td>\n",
              "      <td>0.895522</td>\n",
              "      <td>0.925034</td>\n",
              "      <td>180</td>\n",
              "      <td>21</td>\n",
              "    </tr>\n",
              "    <tr>\n",
              "      <th>2</th>\n",
              "      <td>Naive Bayes</td>\n",
              "      <td>0.716792</td>\n",
              "      <td>0.532338</td>\n",
              "      <td>0.718189</td>\n",
              "      <td>107</td>\n",
              "      <td>94</td>\n",
              "    </tr>\n",
              "    <tr>\n",
              "      <th>3</th>\n",
              "      <td>Tuned Random Forest</td>\n",
              "      <td>0.964912</td>\n",
              "      <td>0.950249</td>\n",
              "      <td>0.965023</td>\n",
              "      <td>191</td>\n",
              "      <td>10</td>\n",
              "    </tr>\n",
              "    <tr>\n",
              "      <th>4</th>\n",
              "      <td>Bagging Classifier</td>\n",
              "      <td>0.877193</td>\n",
              "      <td>0.80597</td>\n",
              "      <td>0.877733</td>\n",
              "      <td>162</td>\n",
              "      <td>39</td>\n",
              "    </tr>\n",
              "    <tr>\n",
              "      <th>5</th>\n",
              "      <td>XGBoost</td>\n",
              "      <td>0.974937</td>\n",
              "      <td>0.970149</td>\n",
              "      <td>0.974974</td>\n",
              "      <td>195</td>\n",
              "      <td>6</td>\n",
              "    </tr>\n",
              "    <tr>\n",
              "      <th>6</th>\n",
              "      <td>ANN</td>\n",
              "      <td>0.849624</td>\n",
              "      <td>0.860697</td>\n",
              "      <td>0.84954</td>\n",
              "      <td>173</td>\n",
              "      <td>28</td>\n",
              "    </tr>\n",
              "    <tr>\n",
              "      <th>7</th>\n",
              "      <td>KNN</td>\n",
              "      <td>0.824561</td>\n",
              "      <td>0.771144</td>\n",
              "      <td>0.824966</td>\n",
              "      <td>155</td>\n",
              "      <td>46</td>\n",
              "    </tr>\n",
              "    <tr>\n",
              "      <th>8</th>\n",
              "      <td>Tuned KNN</td>\n",
              "      <td>0.854637</td>\n",
              "      <td>0.78607</td>\n",
              "      <td>0.855156</td>\n",
              "      <td>158</td>\n",
              "      <td>43</td>\n",
              "    </tr>\n",
              "    <tr>\n",
              "      <th>9</th>\n",
              "      <td>SVM</td>\n",
              "      <td>0.829574</td>\n",
              "      <td>0.800995</td>\n",
              "      <td>0.82979</td>\n",
              "      <td>161</td>\n",
              "      <td>40</td>\n",
              "    </tr>\n",
              "  </tbody>\n",
              "</table>\n",
              "</div>"
            ],
            "text/plain": [
              "                 Model       Acc    Recall       ROC   TP  FN\n",
              "0       Decision Tree   0.929825  0.925373  0.929858  186  15\n",
              "1        Random Forest  0.924812  0.895522  0.925034  180  21\n",
              "2          Naive Bayes  0.716792  0.532338  0.718189  107  94\n",
              "3  Tuned Random Forest  0.964912  0.950249  0.965023  191  10\n",
              "4   Bagging Classifier  0.877193   0.80597  0.877733  162  39\n",
              "5              XGBoost  0.974937  0.970149  0.974974  195   6\n",
              "6                  ANN  0.849624  0.860697   0.84954  173  28\n",
              "7                  KNN  0.824561  0.771144  0.824966  155  46\n",
              "8            Tuned KNN  0.854637   0.78607  0.855156  158  43\n",
              "9                  SVM  0.829574  0.800995   0.82979  161  40"
            ]
          },
          "metadata": {
            "tags": []
          },
          "execution_count": 265
        }
      ]
    },
    {
      "cell_type": "markdown",
      "metadata": {
        "id": "EVSmb0nxoO8P"
      },
      "source": [
        "#Extra"
      ]
    },
    {
      "cell_type": "code",
      "metadata": {
        "id": "gt6nA4AYoSJi",
        "outputId": "50469cc0-8dc0-443f-c7e3-346452721a5a",
        "colab": {
          "base_uri": "https://localhost:8080/",
          "height": 279
        }
      },
      "source": [
        "from sklearn.metrics import roc_curve, auc\n",
        "import matplotlib.pyplot as plt\n",
        "\n",
        "actual = y_test\n",
        "gs5_prob = [p[1] for p in gs_rf.predict_proba(X_test)]\n",
        "random_forest_prob = [p[1] for p in rfc.predict_proba(X_test)]\n",
        "xgb_prob = [p[1] for p in xgb.predict_proba(X_test)]\n",
        "decision_tree_prob = [p[1] for p in dtc.predict_proba(X_test)]\n",
        "\n",
        "dt_false_pos, dt_true_pos, _ = roc_curve(actual, decision_tree_prob)\n",
        "dt_auc = auc(dt_false_pos, dt_true_pos)\n",
        "\n",
        "\n",
        "gs5_false_pos, gs5_true_pos, _ = roc_curve(actual, gs5_prob)\n",
        "gs5_auc = auc(gs5_false_pos, gs5_true_pos)\n",
        "\n",
        "rf_false_pos, rf_true_pos, _ = roc_curve(actual, random_forest_prob)\n",
        "rf_auc = auc(rf_false_pos, rf_true_pos)\n",
        "\n",
        "xgb_false_pos, xgb_true_pos, _ = roc_curve(actual, xgb_prob)\n",
        "xgb_auc = auc(xgb_false_pos, xgb_true_pos)\n",
        "\n",
        "# plot\n",
        "plt.plot(xgb_false_pos, xgb_true_pos, 'blue', label='XGBoost AUC = %0.3f'% xgb_auc)\n",
        "plt.plot(gs5_false_pos, gs5_true_pos, 'red', label='Tuned RF AUC = %0.3f'% gs5_auc)\n",
        "plt.plot(rf_false_pos, rf_true_pos, 'orange', label='Random Forest AUC = %0.3f'% rf_auc)\n",
        "plt.plot(dt_false_pos, dt_true_pos, 'green', label='Decision Tree AUC = %0.3f'% dt_auc)\n",
        "\n",
        "\n",
        "plt.legend(loc='lower right')\n",
        "plt.plot([0,1], [0,1], 'r--')\n",
        "plt.ylabel('True Positive Rate')\n",
        "plt.xlabel('False Positive Rate')\n",
        "plt.show()"
      ],
      "execution_count": null,
      "outputs": [
        {
          "output_type": "display_data",
          "data": {
            "image/png": "[encoded data removed]",
            "text/plain": [
              "<Figure size 432x288 with 1 Axes>"
            ]
          },
          "metadata": {
            "tags": [],
            "needs_background": "light"
          }
        }
      ]
    },
    {
      "cell_type": "code",
      "metadata": {
        "id": "fFlBqAtjb8IZ",
        "outputId": "69c7febf-cd27-4235-8598-f4feec9f3ef9",
        "colab": {
          "base_uri": "https://localhost:8080/",
          "height": 328
        }
      },
      "source": [
        "df_Results_sorted = df_Results.sort_values(by=['Acc'],ascending=False)\n",
        "df_Results_sorted = df_Results_sorted.reset_index()\n",
        "df_Results_sorted = df_Results_sorted.reindex(index=range(0,9))\n",
        "df_Results_sorted = df_Results_sorted.drop('index',axis='columns')\n",
        "df_Results_sorted.head(10)"
      ],
      "execution_count": null,
      "outputs": [
        {
          "output_type": "execute_result",
          "data": {
            "text/html": [
              "<div>\n",
              "<style scoped>\n",
              "    .dataframe tbody tr th:only-of-type {\n",
              "        vertical-align: middle;\n",
              "    }\n",
              "\n",
              "    .dataframe tbody tr th {\n",
              "        vertical-align: top;\n",
              "    }\n",
              "\n",
              "    .dataframe thead th {\n",
              "        text-align: right;\n",
              "    }\n",
              "</style>\n",
              "<table border=\"1\" class=\"dataframe\">\n",
              "  <thead>\n",
              "    <tr style=\"text-align: right;\">\n",
              "      <th></th>\n",
              "      <th>Model</th>\n",
              "      <th>Acc</th>\n",
              "      <th>Recall</th>\n",
              "      <th>ROC</th>\n",
              "      <th>TP</th>\n",
              "      <th>FN</th>\n",
              "    </tr>\n",
              "  </thead>\n",
              "  <tbody>\n",
              "    <tr>\n",
              "      <th>0</th>\n",
              "      <td>XGBoost</td>\n",
              "      <td>0.974937</td>\n",
              "      <td>0.970149</td>\n",
              "      <td>0.974974</td>\n",
              "      <td>195</td>\n",
              "      <td>6</td>\n",
              "    </tr>\n",
              "    <tr>\n",
              "      <th>1</th>\n",
              "      <td>Tuned Random Forest</td>\n",
              "      <td>0.964912</td>\n",
              "      <td>0.950249</td>\n",
              "      <td>0.965023</td>\n",
              "      <td>191</td>\n",
              "      <td>10</td>\n",
              "    </tr>\n",
              "    <tr>\n",
              "      <th>2</th>\n",
              "      <td>Decision Tree</td>\n",
              "      <td>0.929825</td>\n",
              "      <td>0.925373</td>\n",
              "      <td>0.929858</td>\n",
              "      <td>186</td>\n",
              "      <td>15</td>\n",
              "    </tr>\n",
              "    <tr>\n",
              "      <th>3</th>\n",
              "      <td>Random Forest</td>\n",
              "      <td>0.924812</td>\n",
              "      <td>0.895522</td>\n",
              "      <td>0.925034</td>\n",
              "      <td>180</td>\n",
              "      <td>21</td>\n",
              "    </tr>\n",
              "    <tr>\n",
              "      <th>4</th>\n",
              "      <td>Bagging Classifier</td>\n",
              "      <td>0.877193</td>\n",
              "      <td>0.80597</td>\n",
              "      <td>0.877733</td>\n",
              "      <td>162</td>\n",
              "      <td>39</td>\n",
              "    </tr>\n",
              "    <tr>\n",
              "      <th>5</th>\n",
              "      <td>Tuned KNN</td>\n",
              "      <td>0.854637</td>\n",
              "      <td>0.78607</td>\n",
              "      <td>0.855156</td>\n",
              "      <td>158</td>\n",
              "      <td>43</td>\n",
              "    </tr>\n",
              "    <tr>\n",
              "      <th>6</th>\n",
              "      <td>ANN</td>\n",
              "      <td>0.849624</td>\n",
              "      <td>0.860697</td>\n",
              "      <td>0.84954</td>\n",
              "      <td>173</td>\n",
              "      <td>28</td>\n",
              "    </tr>\n",
              "    <tr>\n",
              "      <th>7</th>\n",
              "      <td>SVM</td>\n",
              "      <td>0.829574</td>\n",
              "      <td>0.800995</td>\n",
              "      <td>0.82979</td>\n",
              "      <td>161</td>\n",
              "      <td>40</td>\n",
              "    </tr>\n",
              "    <tr>\n",
              "      <th>8</th>\n",
              "      <td>KNN</td>\n",
              "      <td>0.824561</td>\n",
              "      <td>0.771144</td>\n",
              "      <td>0.824966</td>\n",
              "      <td>155</td>\n",
              "      <td>46</td>\n",
              "    </tr>\n",
              "  </tbody>\n",
              "</table>\n",
              "</div>"
            ],
            "text/plain": [
              "                 Model       Acc    Recall       ROC   TP  FN\n",
              "0              XGBoost  0.974937  0.970149  0.974974  195   6\n",
              "1  Tuned Random Forest  0.964912  0.950249  0.965023  191  10\n",
              "2       Decision Tree   0.929825  0.925373  0.929858  186  15\n",
              "3        Random Forest  0.924812  0.895522  0.925034  180  21\n",
              "4   Bagging Classifier  0.877193   0.80597  0.877733  162  39\n",
              "5            Tuned KNN  0.854637   0.78607  0.855156  158  43\n",
              "6                  ANN  0.849624  0.860697   0.84954  173  28\n",
              "7                  SVM  0.829574  0.800995   0.82979  161  40\n",
              "8                  KNN  0.824561  0.771144  0.824966  155  46"
            ]
          },
          "metadata": {
            "tags": []
          },
          "execution_count": 266
        }
      ]
    },
    {
      "cell_type": "code",
      "metadata": {
        "id": "7FqaGD2GsUYb",
        "outputId": "29cfc264-e6e7-4640-a9be-67257968a975",
        "colab": {
          "base_uri": "https://localhost:8080/",
          "height": 34
        }
      },
      "source": [
        "cd drive/My\\ Drive"
      ],
      "execution_count": null,
      "outputs": [
        {
          "output_type": "stream",
          "text": [
            "/content/drive/My Drive\n"
          ],
          "name": "stdout"
        }
      ]
    },
    {
      "cell_type": "code",
      "metadata": {
        "id": "fFNmyN-hrKx7"
      },
      "source": [
        "df_Results_sorted.to_csv(\"modeli4.csv\")"
      ],
      "execution_count": null,
      "outputs": []
    },
    {
      "cell_type": "code",
      "metadata": {
        "id": "lUv7-y5RrtH_",
        "outputId": "83b69f9e-9840-4b4b-cb42-dc68134ffb4e",
        "colab": {
          "base_uri": "https://localhost:8080/",
          "height": 328
        }
      },
      "source": [
        "modeli = pd.read_csv(\"/content/drive/My Drive/modeli4.csv\")\n",
        "modeli = modeli.drop(\"Unnamed: 0\", axis=\"columns\")\n",
        "modeli.head(10)"
      ],
      "execution_count": null,
      "outputs": [
        {
          "output_type": "execute_result",
          "data": {
            "text/html": [
              "<div>\n",
              "<style scoped>\n",
              "    .dataframe tbody tr th:only-of-type {\n",
              "        vertical-align: middle;\n",
              "    }\n",
              "\n",
              "    .dataframe tbody tr th {\n",
              "        vertical-align: top;\n",
              "    }\n",
              "\n",
              "    .dataframe thead th {\n",
              "        text-align: right;\n",
              "    }\n",
              "</style>\n",
              "<table border=\"1\" class=\"dataframe\">\n",
              "  <thead>\n",
              "    <tr style=\"text-align: right;\">\n",
              "      <th></th>\n",
              "      <th>Model</th>\n",
              "      <th>Acc</th>\n",
              "      <th>Recall</th>\n",
              "      <th>ROC</th>\n",
              "      <th>TP</th>\n",
              "      <th>FN</th>\n",
              "    </tr>\n",
              "  </thead>\n",
              "  <tbody>\n",
              "    <tr>\n",
              "      <th>0</th>\n",
              "      <td>XGBoost</td>\n",
              "      <td>0.974937</td>\n",
              "      <td>0.970149</td>\n",
              "      <td>0.974974</td>\n",
              "      <td>195</td>\n",
              "      <td>6</td>\n",
              "    </tr>\n",
              "    <tr>\n",
              "      <th>1</th>\n",
              "      <td>Tuned Random Forest</td>\n",
              "      <td>0.964912</td>\n",
              "      <td>0.950249</td>\n",
              "      <td>0.965023</td>\n",
              "      <td>191</td>\n",
              "      <td>10</td>\n",
              "    </tr>\n",
              "    <tr>\n",
              "      <th>2</th>\n",
              "      <td>Decision Tree</td>\n",
              "      <td>0.929825</td>\n",
              "      <td>0.925373</td>\n",
              "      <td>0.929858</td>\n",
              "      <td>186</td>\n",
              "      <td>15</td>\n",
              "    </tr>\n",
              "    <tr>\n",
              "      <th>3</th>\n",
              "      <td>Random Forest</td>\n",
              "      <td>0.924812</td>\n",
              "      <td>0.895522</td>\n",
              "      <td>0.925034</td>\n",
              "      <td>180</td>\n",
              "      <td>21</td>\n",
              "    </tr>\n",
              "    <tr>\n",
              "      <th>4</th>\n",
              "      <td>Bagging Classifier</td>\n",
              "      <td>0.877193</td>\n",
              "      <td>0.805970</td>\n",
              "      <td>0.877733</td>\n",
              "      <td>162</td>\n",
              "      <td>39</td>\n",
              "    </tr>\n",
              "    <tr>\n",
              "      <th>5</th>\n",
              "      <td>Tuned KNN</td>\n",
              "      <td>0.854637</td>\n",
              "      <td>0.786070</td>\n",
              "      <td>0.855156</td>\n",
              "      <td>158</td>\n",
              "      <td>43</td>\n",
              "    </tr>\n",
              "    <tr>\n",
              "      <th>6</th>\n",
              "      <td>ANN</td>\n",
              "      <td>0.849624</td>\n",
              "      <td>0.860697</td>\n",
              "      <td>0.849540</td>\n",
              "      <td>173</td>\n",
              "      <td>28</td>\n",
              "    </tr>\n",
              "    <tr>\n",
              "      <th>7</th>\n",
              "      <td>SVM</td>\n",
              "      <td>0.829574</td>\n",
              "      <td>0.800995</td>\n",
              "      <td>0.829790</td>\n",
              "      <td>161</td>\n",
              "      <td>40</td>\n",
              "    </tr>\n",
              "    <tr>\n",
              "      <th>8</th>\n",
              "      <td>KNN</td>\n",
              "      <td>0.824561</td>\n",
              "      <td>0.771144</td>\n",
              "      <td>0.824966</td>\n",
              "      <td>155</td>\n",
              "      <td>46</td>\n",
              "    </tr>\n",
              "  </tbody>\n",
              "</table>\n",
              "</div>"
            ],
            "text/plain": [
              "                 Model       Acc    Recall       ROC   TP  FN\n",
              "0              XGBoost  0.974937  0.970149  0.974974  195   6\n",
              "1  Tuned Random Forest  0.964912  0.950249  0.965023  191  10\n",
              "2       Decision Tree   0.929825  0.925373  0.929858  186  15\n",
              "3        Random Forest  0.924812  0.895522  0.925034  180  21\n",
              "4   Bagging Classifier  0.877193  0.805970  0.877733  162  39\n",
              "5            Tuned KNN  0.854637  0.786070  0.855156  158  43\n",
              "6                  ANN  0.849624  0.860697  0.849540  173  28\n",
              "7                  SVM  0.829574  0.800995  0.829790  161  40\n",
              "8                  KNN  0.824561  0.771144  0.824966  155  46"
            ]
          },
          "metadata": {
            "tags": []
          },
          "execution_count": 268
        }
      ]
    }
  ]
}