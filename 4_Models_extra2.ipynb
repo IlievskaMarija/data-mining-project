{
  "nbformat": 4,
  "nbformat_minor": 0,
  "metadata": {
    "colab": {
      "name": "4_Models_extra2.ipynb",
      "provenance": [],
      "collapsed_sections": [
        "ggZhYrMEPmp_",
        "7h2fBBENbsfo",
        "Frkj--yqNDw2"
      ],
      "include_colab_link": true
    },
    "kernelspec": {
      "name": "python3",
      "display_name": "Python 3"
    }
  },
  "cells": [
    {
      "cell_type": "markdown",
      "metadata": {
        "id": "view-in-github",
        "colab_type": "text"
      },
      "source": [
        "<a href=\"https://colab.research.google.com/github/MKrezheska/data-mining-project/blob/main/4_Models_extra2.ipynb\" target=\"_parent\"><img src=\"https://colab.research.google.com/assets/colab-badge.svg\" alt=\"Open In Colab\"/></a>"
      ]
    },
    {
      "cell_type": "code",
      "metadata": {
        "id": "7s--VnmDJiRa"
      },
      "source": [
        "import numpy as np \n",
        "import pandas as pd \n",
        "import matplotlib.pyplot as plt\n",
        "import matplotlib.ticker as ticker\n",
        "from sklearn import datasets, linear_model\n",
        "from sklearn.decomposition import PCA\n",
        "from sklearn.preprocessing import MinMaxScaler\n",
        "from sklearn.manifold import TSNE\n",
        "import seaborn as sns\n",
        "from sklearn import tree\n",
        "from sklearn.metrics import accuracy_score\n",
        "%matplotlib inline\n",
        "from sklearn.tree import DecisionTreeClassifier, export_graphviz\n",
        "from sklearn.metrics import confusion_matrix, accuracy_score, precision_score, recall_score, roc_curve, auc, roc_auc_score\n"
      ],
      "execution_count": null,
      "outputs": []
    },
    {
      "cell_type": "markdown",
      "metadata": {
        "id": "uehVk7itL7Bd"
      },
      "source": [
        "#Вчитување на податоците"
      ]
    },
    {
      "cell_type": "code",
      "metadata": {
        "id": "k9cUWArMJqdG",
        "outputId": "a6a85e4b-aca5-455c-8975-ba011983a282",
        "colab": {
          "base_uri": "https://localhost:8080/"
        }
      },
      "source": [
        "from google.colab import drive\n",
        "drive.mount('/content/drive')"
      ],
      "execution_count": null,
      "outputs": [
        {
          "output_type": "stream",
          "text": [
            "Mounted at /content/drive\n"
          ],
          "name": "stdout"
        }
      ]
    },
    {
      "cell_type": "code",
      "metadata": {
        "id": "mNy92BYdJySH",
        "outputId": "0aa4176b-141c-4585-8aef-82b2dd524d7d",
        "colab": {
          "base_uri": "https://localhost:8080/"
        }
      },
      "source": [
        "df = pd.read_csv(\"/content/drive/My Drive/with_genres.csv\")\n",
        "df.shape"
      ],
      "execution_count": null,
      "outputs": [
        {
          "output_type": "execute_result",
          "data": {
            "text/plain": [
              "(1991, 23)"
            ]
          },
          "metadata": {
            "tags": []
          },
          "execution_count": 3
        }
      ]
    },
    {
      "cell_type": "code",
      "metadata": {
        "id": "DqcWoa29PuWm",
        "outputId": "cd3a4324-4595-424f-e0be-5b284d8c7498",
        "colab": {
          "base_uri": "https://localhost:8080/",
          "height": 762
        }
      },
      "source": [
        "df = df.drop([\"Unnamed: 0.1\",\"Unnamed: 0\"], axis=\"columns\")\n",
        "df.head(100)"
      ],
      "execution_count": null,
      "outputs": [
        {
          "output_type": "execute_result",
          "data": {
            "text/html": [
              "<div>\n",
              "<style scoped>\n",
              "    .dataframe tbody tr th:only-of-type {\n",
              "        vertical-align: middle;\n",
              "    }\n",
              "\n",
              "    .dataframe tbody tr th {\n",
              "        vertical-align: top;\n",
              "    }\n",
              "\n",
              "    .dataframe thead th {\n",
              "        text-align: right;\n",
              "    }\n",
              "</style>\n",
              "<table border=\"1\" class=\"dataframe\">\n",
              "  <thead>\n",
              "    <tr style=\"text-align: right;\">\n",
              "      <th></th>\n",
              "      <th>energy</th>\n",
              "      <th>liveness</th>\n",
              "      <th>tempo</th>\n",
              "      <th>speechiness</th>\n",
              "      <th>acousticness</th>\n",
              "      <th>instrumentalness</th>\n",
              "      <th>time_signature</th>\n",
              "      <th>danceability</th>\n",
              "      <th>key</th>\n",
              "      <th>duration_ms</th>\n",
              "      <th>loudness</th>\n",
              "      <th>valence</th>\n",
              "      <th>mode</th>\n",
              "      <th>type</th>\n",
              "      <th>popularity</th>\n",
              "      <th>uri</th>\n",
              "      <th>title</th>\n",
              "      <th>artist</th>\n",
              "      <th>year</th>\n",
              "      <th>target</th>\n",
              "      <th>genre</th>\n",
              "    </tr>\n",
              "  </thead>\n",
              "  <tbody>\n",
              "    <tr>\n",
              "      <th>0</th>\n",
              "      <td>0.425</td>\n",
              "      <td>0.1000</td>\n",
              "      <td>135.128</td>\n",
              "      <td>0.3750</td>\n",
              "      <td>0.328000</td>\n",
              "      <td>0.130000</td>\n",
              "      <td>4</td>\n",
              "      <td>0.701</td>\n",
              "      <td>7</td>\n",
              "      <td>194088</td>\n",
              "      <td>-10.965</td>\n",
              "      <td>0.5620</td>\n",
              "      <td>1</td>\n",
              "      <td>audio_features</td>\n",
              "      <td>89</td>\n",
              "      <td>spotify:track:2Fxmhks0bxGSBdJ92vM42m</td>\n",
              "      <td>bad guy</td>\n",
              "      <td>Billie Eilish</td>\n",
              "      <td>2019</td>\n",
              "      <td>1</td>\n",
              "      <td>22</td>\n",
              "    </tr>\n",
              "    <tr>\n",
              "      <th>1</th>\n",
              "      <td>0.125</td>\n",
              "      <td>0.2650</td>\n",
              "      <td>111.554</td>\n",
              "      <td>0.2390</td>\n",
              "      <td>0.751000</td>\n",
              "      <td>0.002070</td>\n",
              "      <td>4</td>\n",
              "      <td>0.521</td>\n",
              "      <td>9</td>\n",
              "      <td>243725</td>\n",
              "      <td>-17.832</td>\n",
              "      <td>0.0528</td>\n",
              "      <td>1</td>\n",
              "      <td>audio_features</td>\n",
              "      <td>78</td>\n",
              "      <td>spotify:track:4QIo4oxwzzafcBWkKjDpXY</td>\n",
              "      <td>xanny</td>\n",
              "      <td>Billie Eilish</td>\n",
              "      <td>2019</td>\n",
              "      <td>1</td>\n",
              "      <td>22</td>\n",
              "    </tr>\n",
              "    <tr>\n",
              "      <th>2</th>\n",
              "      <td>0.533</td>\n",
              "      <td>0.1390</td>\n",
              "      <td>150.455</td>\n",
              "      <td>0.1860</td>\n",
              "      <td>0.462000</td>\n",
              "      <td>0.219000</td>\n",
              "      <td>4</td>\n",
              "      <td>0.678</td>\n",
              "      <td>4</td>\n",
              "      <td>180953</td>\n",
              "      <td>-10.485</td>\n",
              "      <td>0.3230</td>\n",
              "      <td>1</td>\n",
              "      <td>audio_features</td>\n",
              "      <td>81</td>\n",
              "      <td>spotify:track:3XF5xLJHOQQRbWya6hBp7d</td>\n",
              "      <td>you should see me in a crown</td>\n",
              "      <td>Billie Eilish</td>\n",
              "      <td>2019</td>\n",
              "      <td>1</td>\n",
              "      <td>22</td>\n",
              "    </tr>\n",
              "    <tr>\n",
              "      <th>3</th>\n",
              "      <td>0.444</td>\n",
              "      <td>0.1770</td>\n",
              "      <td>185.044</td>\n",
              "      <td>0.3720</td>\n",
              "      <td>0.283000</td>\n",
              "      <td>0.143000</td>\n",
              "      <td>4</td>\n",
              "      <td>0.726</td>\n",
              "      <td>8</td>\n",
              "      <td>168840</td>\n",
              "      <td>-8.922</td>\n",
              "      <td>0.5690</td>\n",
              "      <td>0</td>\n",
              "      <td>audio_features</td>\n",
              "      <td>80</td>\n",
              "      <td>spotify:track:6IRdLKIyS4p7XNiP8r6rsx</td>\n",
              "      <td>all the good girls go to hell</td>\n",
              "      <td>Billie Eilish</td>\n",
              "      <td>2019</td>\n",
              "      <td>1</td>\n",
              "      <td>22</td>\n",
              "    </tr>\n",
              "    <tr>\n",
              "      <th>4</th>\n",
              "      <td>0.351</td>\n",
              "      <td>0.7520</td>\n",
              "      <td>118.028</td>\n",
              "      <td>0.2410</td>\n",
              "      <td>0.390000</td>\n",
              "      <td>0.000009</td>\n",
              "      <td>4</td>\n",
              "      <td>0.853</td>\n",
              "      <td>7</td>\n",
              "      <td>221543</td>\n",
              "      <td>-10.198</td>\n",
              "      <td>0.2820</td>\n",
              "      <td>1</td>\n",
              "      <td>audio_features</td>\n",
              "      <td>81</td>\n",
              "      <td>spotify:track:3Fj47GNK2kUF0uaEDgXLaD</td>\n",
              "      <td>wish you were gay</td>\n",
              "      <td>Billie Eilish</td>\n",
              "      <td>2019</td>\n",
              "      <td>1</td>\n",
              "      <td>22</td>\n",
              "    </tr>\n",
              "    <tr>\n",
              "      <th>...</th>\n",
              "      <td>...</td>\n",
              "      <td>...</td>\n",
              "      <td>...</td>\n",
              "      <td>...</td>\n",
              "      <td>...</td>\n",
              "      <td>...</td>\n",
              "      <td>...</td>\n",
              "      <td>...</td>\n",
              "      <td>...</td>\n",
              "      <td>...</td>\n",
              "      <td>...</td>\n",
              "      <td>...</td>\n",
              "      <td>...</td>\n",
              "      <td>...</td>\n",
              "      <td>...</td>\n",
              "      <td>...</td>\n",
              "      <td>...</td>\n",
              "      <td>...</td>\n",
              "      <td>...</td>\n",
              "      <td>...</td>\n",
              "      <td>...</td>\n",
              "    </tr>\n",
              "    <tr>\n",
              "      <th>95</th>\n",
              "      <td>0.836</td>\n",
              "      <td>0.0550</td>\n",
              "      <td>132.937</td>\n",
              "      <td>0.0438</td>\n",
              "      <td>0.000143</td>\n",
              "      <td>0.000507</td>\n",
              "      <td>4</td>\n",
              "      <td>0.484</td>\n",
              "      <td>1</td>\n",
              "      <td>494773</td>\n",
              "      <td>-4.658</td>\n",
              "      <td>0.4030</td>\n",
              "      <td>1</td>\n",
              "      <td>audio_features</td>\n",
              "      <td>41</td>\n",
              "      <td>spotify:track:5jE2hljNVTJZeodUXQu9Ea</td>\n",
              "      <td>Fixxxer</td>\n",
              "      <td>Metallica</td>\n",
              "      <td>1997</td>\n",
              "      <td>1</td>\n",
              "      <td>26</td>\n",
              "    </tr>\n",
              "    <tr>\n",
              "      <th>96</th>\n",
              "      <td>0.903</td>\n",
              "      <td>0.0979</td>\n",
              "      <td>157.825</td>\n",
              "      <td>0.0314</td>\n",
              "      <td>0.000022</td>\n",
              "      <td>0.052200</td>\n",
              "      <td>4</td>\n",
              "      <td>0.426</td>\n",
              "      <td>10</td>\n",
              "      <td>304400</td>\n",
              "      <td>-4.535</td>\n",
              "      <td>0.4420</td>\n",
              "      <td>0</td>\n",
              "      <td>audio_features</td>\n",
              "      <td>48</td>\n",
              "      <td>spotify:track:3QWzxUE2WA5WoSi82KCODk</td>\n",
              "      <td>Ain't My Bitch</td>\n",
              "      <td>Metallica</td>\n",
              "      <td>1996</td>\n",
              "      <td>1</td>\n",
              "      <td>26</td>\n",
              "    </tr>\n",
              "    <tr>\n",
              "      <th>97</th>\n",
              "      <td>0.907</td>\n",
              "      <td>0.5490</td>\n",
              "      <td>115.217</td>\n",
              "      <td>0.0345</td>\n",
              "      <td>0.000005</td>\n",
              "      <td>0.008570</td>\n",
              "      <td>4</td>\n",
              "      <td>0.512</td>\n",
              "      <td>1</td>\n",
              "      <td>328200</td>\n",
              "      <td>-4.432</td>\n",
              "      <td>0.6730</td>\n",
              "      <td>0</td>\n",
              "      <td>audio_features</td>\n",
              "      <td>45</td>\n",
              "      <td>spotify:track:0SwHR5lvAfgI8Z2D6YgvMd</td>\n",
              "      <td>2 X 4</td>\n",
              "      <td>Metallica</td>\n",
              "      <td>1996</td>\n",
              "      <td>1</td>\n",
              "      <td>26</td>\n",
              "    </tr>\n",
              "    <tr>\n",
              "      <th>98</th>\n",
              "      <td>0.859</td>\n",
              "      <td>0.1550</td>\n",
              "      <td>94.437</td>\n",
              "      <td>0.0307</td>\n",
              "      <td>0.000018</td>\n",
              "      <td>0.003410</td>\n",
              "      <td>4</td>\n",
              "      <td>0.478</td>\n",
              "      <td>4</td>\n",
              "      <td>398867</td>\n",
              "      <td>-5.347</td>\n",
              "      <td>0.2860</td>\n",
              "      <td>1</td>\n",
              "      <td>audio_features</td>\n",
              "      <td>45</td>\n",
              "      <td>spotify:track:2UmXstEJ8nkpUUfQRYieC6</td>\n",
              "      <td>The House That Jack Built</td>\n",
              "      <td>Metallica</td>\n",
              "      <td>1996</td>\n",
              "      <td>1</td>\n",
              "      <td>26</td>\n",
              "    </tr>\n",
              "    <tr>\n",
              "      <th>99</th>\n",
              "      <td>0.920</td>\n",
              "      <td>0.1490</td>\n",
              "      <td>113.394</td>\n",
              "      <td>0.0297</td>\n",
              "      <td>0.000248</td>\n",
              "      <td>0.071400</td>\n",
              "      <td>4</td>\n",
              "      <td>0.568</td>\n",
              "      <td>8</td>\n",
              "      <td>267933</td>\n",
              "      <td>-4.434</td>\n",
              "      <td>0.7190</td>\n",
              "      <td>0</td>\n",
              "      <td>audio_features</td>\n",
              "      <td>58</td>\n",
              "      <td>spotify:track:2Iv4HSoMX2fDeXFcOJWyWX</td>\n",
              "      <td>Until It Sleeps</td>\n",
              "      <td>Metallica</td>\n",
              "      <td>1996</td>\n",
              "      <td>1</td>\n",
              "      <td>26</td>\n",
              "    </tr>\n",
              "  </tbody>\n",
              "</table>\n",
              "<p>100 rows × 21 columns</p>\n",
              "</div>"
            ],
            "text/plain": [
              "    energy  liveness    tempo  speechiness  ...         artist  year  target  genre\n",
              "0    0.425    0.1000  135.128       0.3750  ...  Billie Eilish  2019       1     22\n",
              "1    0.125    0.2650  111.554       0.2390  ...  Billie Eilish  2019       1     22\n",
              "2    0.533    0.1390  150.455       0.1860  ...  Billie Eilish  2019       1     22\n",
              "3    0.444    0.1770  185.044       0.3720  ...  Billie Eilish  2019       1     22\n",
              "4    0.351    0.7520  118.028       0.2410  ...  Billie Eilish  2019       1     22\n",
              "..     ...       ...      ...          ...  ...            ...   ...     ...    ...\n",
              "95   0.836    0.0550  132.937       0.0438  ...      Metallica  1997       1     26\n",
              "96   0.903    0.0979  157.825       0.0314  ...      Metallica  1996       1     26\n",
              "97   0.907    0.5490  115.217       0.0345  ...      Metallica  1996       1     26\n",
              "98   0.859    0.1550   94.437       0.0307  ...      Metallica  1996       1     26\n",
              "99   0.920    0.1490  113.394       0.0297  ...      Metallica  1996       1     26\n",
              "\n",
              "[100 rows x 21 columns]"
            ]
          },
          "metadata": {
            "tags": []
          },
          "execution_count": 4
        }
      ]
    },
    {
      "cell_type": "code",
      "metadata": {
        "id": "fylOhvdlWHZV",
        "outputId": "e03768a8-65fa-41c9-e761-8c7c16b992cc",
        "colab": {
          "base_uri": "https://localhost:8080/",
          "height": 419
        }
      },
      "source": [
        "df.drop(['title','artist', 'uri', 'type'], axis=1, inplace=True)\n",
        "df.head(1991)"
      ],
      "execution_count": null,
      "outputs": [
        {
          "output_type": "execute_result",
          "data": {
            "text/html": [
              "<div>\n",
              "<style scoped>\n",
              "    .dataframe tbody tr th:only-of-type {\n",
              "        vertical-align: middle;\n",
              "    }\n",
              "\n",
              "    .dataframe tbody tr th {\n",
              "        vertical-align: top;\n",
              "    }\n",
              "\n",
              "    .dataframe thead th {\n",
              "        text-align: right;\n",
              "    }\n",
              "</style>\n",
              "<table border=\"1\" class=\"dataframe\">\n",
              "  <thead>\n",
              "    <tr style=\"text-align: right;\">\n",
              "      <th></th>\n",
              "      <th>energy</th>\n",
              "      <th>liveness</th>\n",
              "      <th>tempo</th>\n",
              "      <th>speechiness</th>\n",
              "      <th>acousticness</th>\n",
              "      <th>instrumentalness</th>\n",
              "      <th>time_signature</th>\n",
              "      <th>danceability</th>\n",
              "      <th>key</th>\n",
              "      <th>duration_ms</th>\n",
              "      <th>loudness</th>\n",
              "      <th>valence</th>\n",
              "      <th>mode</th>\n",
              "      <th>popularity</th>\n",
              "      <th>year</th>\n",
              "      <th>target</th>\n",
              "      <th>genre</th>\n",
              "    </tr>\n",
              "  </thead>\n",
              "  <tbody>\n",
              "    <tr>\n",
              "      <th>0</th>\n",
              "      <td>0.425</td>\n",
              "      <td>0.100</td>\n",
              "      <td>135.128</td>\n",
              "      <td>0.3750</td>\n",
              "      <td>0.32800</td>\n",
              "      <td>0.130000</td>\n",
              "      <td>4</td>\n",
              "      <td>0.701</td>\n",
              "      <td>7</td>\n",
              "      <td>194088</td>\n",
              "      <td>-10.965</td>\n",
              "      <td>0.5620</td>\n",
              "      <td>1</td>\n",
              "      <td>89</td>\n",
              "      <td>2019</td>\n",
              "      <td>1</td>\n",
              "      <td>22</td>\n",
              "    </tr>\n",
              "    <tr>\n",
              "      <th>1</th>\n",
              "      <td>0.125</td>\n",
              "      <td>0.265</td>\n",
              "      <td>111.554</td>\n",
              "      <td>0.2390</td>\n",
              "      <td>0.75100</td>\n",
              "      <td>0.002070</td>\n",
              "      <td>4</td>\n",
              "      <td>0.521</td>\n",
              "      <td>9</td>\n",
              "      <td>243725</td>\n",
              "      <td>-17.832</td>\n",
              "      <td>0.0528</td>\n",
              "      <td>1</td>\n",
              "      <td>78</td>\n",
              "      <td>2019</td>\n",
              "      <td>1</td>\n",
              "      <td>22</td>\n",
              "    </tr>\n",
              "    <tr>\n",
              "      <th>2</th>\n",
              "      <td>0.533</td>\n",
              "      <td>0.139</td>\n",
              "      <td>150.455</td>\n",
              "      <td>0.1860</td>\n",
              "      <td>0.46200</td>\n",
              "      <td>0.219000</td>\n",
              "      <td>4</td>\n",
              "      <td>0.678</td>\n",
              "      <td>4</td>\n",
              "      <td>180953</td>\n",
              "      <td>-10.485</td>\n",
              "      <td>0.3230</td>\n",
              "      <td>1</td>\n",
              "      <td>81</td>\n",
              "      <td>2019</td>\n",
              "      <td>1</td>\n",
              "      <td>22</td>\n",
              "    </tr>\n",
              "    <tr>\n",
              "      <th>3</th>\n",
              "      <td>0.444</td>\n",
              "      <td>0.177</td>\n",
              "      <td>185.044</td>\n",
              "      <td>0.3720</td>\n",
              "      <td>0.28300</td>\n",
              "      <td>0.143000</td>\n",
              "      <td>4</td>\n",
              "      <td>0.726</td>\n",
              "      <td>8</td>\n",
              "      <td>168840</td>\n",
              "      <td>-8.922</td>\n",
              "      <td>0.5690</td>\n",
              "      <td>0</td>\n",
              "      <td>80</td>\n",
              "      <td>2019</td>\n",
              "      <td>1</td>\n",
              "      <td>22</td>\n",
              "    </tr>\n",
              "    <tr>\n",
              "      <th>4</th>\n",
              "      <td>0.351</td>\n",
              "      <td>0.752</td>\n",
              "      <td>118.028</td>\n",
              "      <td>0.2410</td>\n",
              "      <td>0.39000</td>\n",
              "      <td>0.000009</td>\n",
              "      <td>4</td>\n",
              "      <td>0.853</td>\n",
              "      <td>7</td>\n",
              "      <td>221543</td>\n",
              "      <td>-10.198</td>\n",
              "      <td>0.2820</td>\n",
              "      <td>1</td>\n",
              "      <td>81</td>\n",
              "      <td>2019</td>\n",
              "      <td>1</td>\n",
              "      <td>22</td>\n",
              "    </tr>\n",
              "    <tr>\n",
              "      <th>...</th>\n",
              "      <td>...</td>\n",
              "      <td>...</td>\n",
              "      <td>...</td>\n",
              "      <td>...</td>\n",
              "      <td>...</td>\n",
              "      <td>...</td>\n",
              "      <td>...</td>\n",
              "      <td>...</td>\n",
              "      <td>...</td>\n",
              "      <td>...</td>\n",
              "      <td>...</td>\n",
              "      <td>...</td>\n",
              "      <td>...</td>\n",
              "      <td>...</td>\n",
              "      <td>...</td>\n",
              "      <td>...</td>\n",
              "      <td>...</td>\n",
              "    </tr>\n",
              "    <tr>\n",
              "      <th>1986</th>\n",
              "      <td>0.364</td>\n",
              "      <td>0.101</td>\n",
              "      <td>123.022</td>\n",
              "      <td>0.0287</td>\n",
              "      <td>0.54500</td>\n",
              "      <td>0.000069</td>\n",
              "      <td>4</td>\n",
              "      <td>0.340</td>\n",
              "      <td>9</td>\n",
              "      <td>203760</td>\n",
              "      <td>-8.331</td>\n",
              "      <td>0.1100</td>\n",
              "      <td>1</td>\n",
              "      <td>41</td>\n",
              "      <td>2019</td>\n",
              "      <td>0</td>\n",
              "      <td>16</td>\n",
              "    </tr>\n",
              "    <tr>\n",
              "      <th>1987</th>\n",
              "      <td>0.886</td>\n",
              "      <td>0.096</td>\n",
              "      <td>126.044</td>\n",
              "      <td>0.0443</td>\n",
              "      <td>0.00114</td>\n",
              "      <td>0.000014</td>\n",
              "      <td>4</td>\n",
              "      <td>0.490</td>\n",
              "      <td>8</td>\n",
              "      <td>213333</td>\n",
              "      <td>-5.404</td>\n",
              "      <td>0.4930</td>\n",
              "      <td>1</td>\n",
              "      <td>45</td>\n",
              "      <td>2019</td>\n",
              "      <td>0</td>\n",
              "      <td>16</td>\n",
              "    </tr>\n",
              "    <tr>\n",
              "      <th>1988</th>\n",
              "      <td>0.475</td>\n",
              "      <td>0.104</td>\n",
              "      <td>101.069</td>\n",
              "      <td>0.0265</td>\n",
              "      <td>0.34800</td>\n",
              "      <td>0.000025</td>\n",
              "      <td>4</td>\n",
              "      <td>0.475</td>\n",
              "      <td>2</td>\n",
              "      <td>275133</td>\n",
              "      <td>-7.319</td>\n",
              "      <td>0.1290</td>\n",
              "      <td>1</td>\n",
              "      <td>40</td>\n",
              "      <td>2019</td>\n",
              "      <td>0</td>\n",
              "      <td>16</td>\n",
              "    </tr>\n",
              "    <tr>\n",
              "      <th>1989</th>\n",
              "      <td>0.637</td>\n",
              "      <td>0.100</td>\n",
              "      <td>76.037</td>\n",
              "      <td>0.0313</td>\n",
              "      <td>0.24900</td>\n",
              "      <td>0.000006</td>\n",
              "      <td>4</td>\n",
              "      <td>0.568</td>\n",
              "      <td>7</td>\n",
              "      <td>192107</td>\n",
              "      <td>-5.977</td>\n",
              "      <td>0.4520</td>\n",
              "      <td>1</td>\n",
              "      <td>39</td>\n",
              "      <td>2019</td>\n",
              "      <td>0</td>\n",
              "      <td>16</td>\n",
              "    </tr>\n",
              "    <tr>\n",
              "      <th>1990</th>\n",
              "      <td>0.360</td>\n",
              "      <td>0.129</td>\n",
              "      <td>99.194</td>\n",
              "      <td>0.0303</td>\n",
              "      <td>0.84100</td>\n",
              "      <td>0.000006</td>\n",
              "      <td>4</td>\n",
              "      <td>0.580</td>\n",
              "      <td>6</td>\n",
              "      <td>210113</td>\n",
              "      <td>-7.930</td>\n",
              "      <td>0.3020</td>\n",
              "      <td>1</td>\n",
              "      <td>68</td>\n",
              "      <td>2019</td>\n",
              "      <td>0</td>\n",
              "      <td>16</td>\n",
              "    </tr>\n",
              "  </tbody>\n",
              "</table>\n",
              "<p>1991 rows × 17 columns</p>\n",
              "</div>"
            ],
            "text/plain": [
              "      energy  liveness    tempo  speechiness  ...  popularity  year  target  genre\n",
              "0      0.425     0.100  135.128       0.3750  ...          89  2019       1     22\n",
              "1      0.125     0.265  111.554       0.2390  ...          78  2019       1     22\n",
              "2      0.533     0.139  150.455       0.1860  ...          81  2019       1     22\n",
              "3      0.444     0.177  185.044       0.3720  ...          80  2019       1     22\n",
              "4      0.351     0.752  118.028       0.2410  ...          81  2019       1     22\n",
              "...      ...       ...      ...          ...  ...         ...   ...     ...    ...\n",
              "1986   0.364     0.101  123.022       0.0287  ...          41  2019       0     16\n",
              "1987   0.886     0.096  126.044       0.0443  ...          45  2019       0     16\n",
              "1988   0.475     0.104  101.069       0.0265  ...          40  2019       0     16\n",
              "1989   0.637     0.100   76.037       0.0313  ...          39  2019       0     16\n",
              "1990   0.360     0.129   99.194       0.0303  ...          68  2019       0     16\n",
              "\n",
              "[1991 rows x 17 columns]"
            ]
          },
          "metadata": {
            "tags": []
          },
          "execution_count": 5
        }
      ]
    },
    {
      "cell_type": "code",
      "metadata": {
        "id": "jJBICeJmND-a"
      },
      "source": [
        "cols = ['genre']  + [col for col in df if col != 'genre']\n",
        "df = df[cols]"
      ],
      "execution_count": null,
      "outputs": []
    },
    {
      "cell_type": "code",
      "metadata": {
        "id": "S70B_AYSQQPO",
        "outputId": "9c84a915-3903-429f-a901-8dfb34e2ec06",
        "colab": {
          "base_uri": "https://localhost:8080/",
          "height": 419
        }
      },
      "source": [
        "df.head(100)"
      ],
      "execution_count": null,
      "outputs": [
        {
          "output_type": "execute_result",
          "data": {
            "text/html": [
              "<div>\n",
              "<style scoped>\n",
              "    .dataframe tbody tr th:only-of-type {\n",
              "        vertical-align: middle;\n",
              "    }\n",
              "\n",
              "    .dataframe tbody tr th {\n",
              "        vertical-align: top;\n",
              "    }\n",
              "\n",
              "    .dataframe thead th {\n",
              "        text-align: right;\n",
              "    }\n",
              "</style>\n",
              "<table border=\"1\" class=\"dataframe\">\n",
              "  <thead>\n",
              "    <tr style=\"text-align: right;\">\n",
              "      <th></th>\n",
              "      <th>genre</th>\n",
              "      <th>energy</th>\n",
              "      <th>liveness</th>\n",
              "      <th>tempo</th>\n",
              "      <th>speechiness</th>\n",
              "      <th>acousticness</th>\n",
              "      <th>instrumentalness</th>\n",
              "      <th>time_signature</th>\n",
              "      <th>danceability</th>\n",
              "      <th>key</th>\n",
              "      <th>duration_ms</th>\n",
              "      <th>loudness</th>\n",
              "      <th>valence</th>\n",
              "      <th>mode</th>\n",
              "      <th>popularity</th>\n",
              "      <th>year</th>\n",
              "      <th>target</th>\n",
              "    </tr>\n",
              "  </thead>\n",
              "  <tbody>\n",
              "    <tr>\n",
              "      <th>0</th>\n",
              "      <td>22</td>\n",
              "      <td>0.425</td>\n",
              "      <td>0.1000</td>\n",
              "      <td>135.128</td>\n",
              "      <td>0.3750</td>\n",
              "      <td>0.328000</td>\n",
              "      <td>0.130000</td>\n",
              "      <td>4</td>\n",
              "      <td>0.701</td>\n",
              "      <td>7</td>\n",
              "      <td>194088</td>\n",
              "      <td>-10.965</td>\n",
              "      <td>0.5620</td>\n",
              "      <td>1</td>\n",
              "      <td>89</td>\n",
              "      <td>2019</td>\n",
              "      <td>1</td>\n",
              "    </tr>\n",
              "    <tr>\n",
              "      <th>1</th>\n",
              "      <td>22</td>\n",
              "      <td>0.125</td>\n",
              "      <td>0.2650</td>\n",
              "      <td>111.554</td>\n",
              "      <td>0.2390</td>\n",
              "      <td>0.751000</td>\n",
              "      <td>0.002070</td>\n",
              "      <td>4</td>\n",
              "      <td>0.521</td>\n",
              "      <td>9</td>\n",
              "      <td>243725</td>\n",
              "      <td>-17.832</td>\n",
              "      <td>0.0528</td>\n",
              "      <td>1</td>\n",
              "      <td>78</td>\n",
              "      <td>2019</td>\n",
              "      <td>1</td>\n",
              "    </tr>\n",
              "    <tr>\n",
              "      <th>2</th>\n",
              "      <td>22</td>\n",
              "      <td>0.533</td>\n",
              "      <td>0.1390</td>\n",
              "      <td>150.455</td>\n",
              "      <td>0.1860</td>\n",
              "      <td>0.462000</td>\n",
              "      <td>0.219000</td>\n",
              "      <td>4</td>\n",
              "      <td>0.678</td>\n",
              "      <td>4</td>\n",
              "      <td>180953</td>\n",
              "      <td>-10.485</td>\n",
              "      <td>0.3230</td>\n",
              "      <td>1</td>\n",
              "      <td>81</td>\n",
              "      <td>2019</td>\n",
              "      <td>1</td>\n",
              "    </tr>\n",
              "    <tr>\n",
              "      <th>3</th>\n",
              "      <td>22</td>\n",
              "      <td>0.444</td>\n",
              "      <td>0.1770</td>\n",
              "      <td>185.044</td>\n",
              "      <td>0.3720</td>\n",
              "      <td>0.283000</td>\n",
              "      <td>0.143000</td>\n",
              "      <td>4</td>\n",
              "      <td>0.726</td>\n",
              "      <td>8</td>\n",
              "      <td>168840</td>\n",
              "      <td>-8.922</td>\n",
              "      <td>0.5690</td>\n",
              "      <td>0</td>\n",
              "      <td>80</td>\n",
              "      <td>2019</td>\n",
              "      <td>1</td>\n",
              "    </tr>\n",
              "    <tr>\n",
              "      <th>4</th>\n",
              "      <td>22</td>\n",
              "      <td>0.351</td>\n",
              "      <td>0.7520</td>\n",
              "      <td>118.028</td>\n",
              "      <td>0.2410</td>\n",
              "      <td>0.390000</td>\n",
              "      <td>0.000009</td>\n",
              "      <td>4</td>\n",
              "      <td>0.853</td>\n",
              "      <td>7</td>\n",
              "      <td>221543</td>\n",
              "      <td>-10.198</td>\n",
              "      <td>0.2820</td>\n",
              "      <td>1</td>\n",
              "      <td>81</td>\n",
              "      <td>2019</td>\n",
              "      <td>1</td>\n",
              "    </tr>\n",
              "    <tr>\n",
              "      <th>...</th>\n",
              "      <td>...</td>\n",
              "      <td>...</td>\n",
              "      <td>...</td>\n",
              "      <td>...</td>\n",
              "      <td>...</td>\n",
              "      <td>...</td>\n",
              "      <td>...</td>\n",
              "      <td>...</td>\n",
              "      <td>...</td>\n",
              "      <td>...</td>\n",
              "      <td>...</td>\n",
              "      <td>...</td>\n",
              "      <td>...</td>\n",
              "      <td>...</td>\n",
              "      <td>...</td>\n",
              "      <td>...</td>\n",
              "      <td>...</td>\n",
              "    </tr>\n",
              "    <tr>\n",
              "      <th>95</th>\n",
              "      <td>26</td>\n",
              "      <td>0.836</td>\n",
              "      <td>0.0550</td>\n",
              "      <td>132.937</td>\n",
              "      <td>0.0438</td>\n",
              "      <td>0.000143</td>\n",
              "      <td>0.000507</td>\n",
              "      <td>4</td>\n",
              "      <td>0.484</td>\n",
              "      <td>1</td>\n",
              "      <td>494773</td>\n",
              "      <td>-4.658</td>\n",
              "      <td>0.4030</td>\n",
              "      <td>1</td>\n",
              "      <td>41</td>\n",
              "      <td>1997</td>\n",
              "      <td>1</td>\n",
              "    </tr>\n",
              "    <tr>\n",
              "      <th>96</th>\n",
              "      <td>26</td>\n",
              "      <td>0.903</td>\n",
              "      <td>0.0979</td>\n",
              "      <td>157.825</td>\n",
              "      <td>0.0314</td>\n",
              "      <td>0.000022</td>\n",
              "      <td>0.052200</td>\n",
              "      <td>4</td>\n",
              "      <td>0.426</td>\n",
              "      <td>10</td>\n",
              "      <td>304400</td>\n",
              "      <td>-4.535</td>\n",
              "      <td>0.4420</td>\n",
              "      <td>0</td>\n",
              "      <td>48</td>\n",
              "      <td>1996</td>\n",
              "      <td>1</td>\n",
              "    </tr>\n",
              "    <tr>\n",
              "      <th>97</th>\n",
              "      <td>26</td>\n",
              "      <td>0.907</td>\n",
              "      <td>0.5490</td>\n",
              "      <td>115.217</td>\n",
              "      <td>0.0345</td>\n",
              "      <td>0.000005</td>\n",
              "      <td>0.008570</td>\n",
              "      <td>4</td>\n",
              "      <td>0.512</td>\n",
              "      <td>1</td>\n",
              "      <td>328200</td>\n",
              "      <td>-4.432</td>\n",
              "      <td>0.6730</td>\n",
              "      <td>0</td>\n",
              "      <td>45</td>\n",
              "      <td>1996</td>\n",
              "      <td>1</td>\n",
              "    </tr>\n",
              "    <tr>\n",
              "      <th>98</th>\n",
              "      <td>26</td>\n",
              "      <td>0.859</td>\n",
              "      <td>0.1550</td>\n",
              "      <td>94.437</td>\n",
              "      <td>0.0307</td>\n",
              "      <td>0.000018</td>\n",
              "      <td>0.003410</td>\n",
              "      <td>4</td>\n",
              "      <td>0.478</td>\n",
              "      <td>4</td>\n",
              "      <td>398867</td>\n",
              "      <td>-5.347</td>\n",
              "      <td>0.2860</td>\n",
              "      <td>1</td>\n",
              "      <td>45</td>\n",
              "      <td>1996</td>\n",
              "      <td>1</td>\n",
              "    </tr>\n",
              "    <tr>\n",
              "      <th>99</th>\n",
              "      <td>26</td>\n",
              "      <td>0.920</td>\n",
              "      <td>0.1490</td>\n",
              "      <td>113.394</td>\n",
              "      <td>0.0297</td>\n",
              "      <td>0.000248</td>\n",
              "      <td>0.071400</td>\n",
              "      <td>4</td>\n",
              "      <td>0.568</td>\n",
              "      <td>8</td>\n",
              "      <td>267933</td>\n",
              "      <td>-4.434</td>\n",
              "      <td>0.7190</td>\n",
              "      <td>0</td>\n",
              "      <td>58</td>\n",
              "      <td>1996</td>\n",
              "      <td>1</td>\n",
              "    </tr>\n",
              "  </tbody>\n",
              "</table>\n",
              "<p>100 rows × 17 columns</p>\n",
              "</div>"
            ],
            "text/plain": [
              "    genre  energy  liveness    tempo  ...  mode  popularity  year  target\n",
              "0      22   0.425    0.1000  135.128  ...     1          89  2019       1\n",
              "1      22   0.125    0.2650  111.554  ...     1          78  2019       1\n",
              "2      22   0.533    0.1390  150.455  ...     1          81  2019       1\n",
              "3      22   0.444    0.1770  185.044  ...     0          80  2019       1\n",
              "4      22   0.351    0.7520  118.028  ...     1          81  2019       1\n",
              "..    ...     ...       ...      ...  ...   ...         ...   ...     ...\n",
              "95     26   0.836    0.0550  132.937  ...     1          41  1997       1\n",
              "96     26   0.903    0.0979  157.825  ...     0          48  1996       1\n",
              "97     26   0.907    0.5490  115.217  ...     0          45  1996       1\n",
              "98     26   0.859    0.1550   94.437  ...     1          45  1996       1\n",
              "99     26   0.920    0.1490  113.394  ...     0          58  1996       1\n",
              "\n",
              "[100 rows x 17 columns]"
            ]
          },
          "metadata": {
            "tags": []
          },
          "execution_count": 7
        }
      ]
    },
    {
      "cell_type": "code",
      "metadata": {
        "id": "jYPQCB5xiUjB",
        "outputId": "0b23a903-1674-4bf5-bd8c-f84703f4ffc7",
        "colab": {
          "base_uri": "https://localhost:8080/",
          "height": 419
        }
      },
      "source": [
        "from sklearn.utils import shuffle\n",
        "df = shuffle(df)\n",
        "df.head(1991)"
      ],
      "execution_count": null,
      "outputs": [
        {
          "output_type": "execute_result",
          "data": {
            "text/html": [
              "<div>\n",
              "<style scoped>\n",
              "    .dataframe tbody tr th:only-of-type {\n",
              "        vertical-align: middle;\n",
              "    }\n",
              "\n",
              "    .dataframe tbody tr th {\n",
              "        vertical-align: top;\n",
              "    }\n",
              "\n",
              "    .dataframe thead th {\n",
              "        text-align: right;\n",
              "    }\n",
              "</style>\n",
              "<table border=\"1\" class=\"dataframe\">\n",
              "  <thead>\n",
              "    <tr style=\"text-align: right;\">\n",
              "      <th></th>\n",
              "      <th>genre</th>\n",
              "      <th>energy</th>\n",
              "      <th>liveness</th>\n",
              "      <th>tempo</th>\n",
              "      <th>speechiness</th>\n",
              "      <th>acousticness</th>\n",
              "      <th>instrumentalness</th>\n",
              "      <th>time_signature</th>\n",
              "      <th>danceability</th>\n",
              "      <th>key</th>\n",
              "      <th>duration_ms</th>\n",
              "      <th>loudness</th>\n",
              "      <th>valence</th>\n",
              "      <th>mode</th>\n",
              "      <th>popularity</th>\n",
              "      <th>year</th>\n",
              "      <th>target</th>\n",
              "    </tr>\n",
              "  </thead>\n",
              "  <tbody>\n",
              "    <tr>\n",
              "      <th>1661</th>\n",
              "      <td>35</td>\n",
              "      <td>0.595</td>\n",
              "      <td>0.1570</td>\n",
              "      <td>134.992</td>\n",
              "      <td>0.0725</td>\n",
              "      <td>0.03390</td>\n",
              "      <td>0.000000</td>\n",
              "      <td>4</td>\n",
              "      <td>0.891</td>\n",
              "      <td>10</td>\n",
              "      <td>142213</td>\n",
              "      <td>-5.736</td>\n",
              "      <td>0.359</td>\n",
              "      <td>1</td>\n",
              "      <td>56</td>\n",
              "      <td>2018</td>\n",
              "      <td>0</td>\n",
              "    </tr>\n",
              "    <tr>\n",
              "      <th>1101</th>\n",
              "      <td>34</td>\n",
              "      <td>0.859</td>\n",
              "      <td>0.4760</td>\n",
              "      <td>93.952</td>\n",
              "      <td>0.2010</td>\n",
              "      <td>0.01580</td>\n",
              "      <td>0.000000</td>\n",
              "      <td>4</td>\n",
              "      <td>0.608</td>\n",
              "      <td>10</td>\n",
              "      <td>214933</td>\n",
              "      <td>-4.951</td>\n",
              "      <td>0.440</td>\n",
              "      <td>0</td>\n",
              "      <td>7</td>\n",
              "      <td>2012</td>\n",
              "      <td>0</td>\n",
              "    </tr>\n",
              "    <tr>\n",
              "      <th>972</th>\n",
              "      <td>13</td>\n",
              "      <td>0.505</td>\n",
              "      <td>0.1640</td>\n",
              "      <td>160.053</td>\n",
              "      <td>0.1930</td>\n",
              "      <td>0.14200</td>\n",
              "      <td>0.000000</td>\n",
              "      <td>4</td>\n",
              "      <td>0.706</td>\n",
              "      <td>8</td>\n",
              "      <td>218880</td>\n",
              "      <td>-6.923</td>\n",
              "      <td>0.388</td>\n",
              "      <td>1</td>\n",
              "      <td>73</td>\n",
              "      <td>2016</td>\n",
              "      <td>1</td>\n",
              "    </tr>\n",
              "    <tr>\n",
              "      <th>942</th>\n",
              "      <td>36</td>\n",
              "      <td>0.638</td>\n",
              "      <td>0.1410</td>\n",
              "      <td>96.988</td>\n",
              "      <td>0.0273</td>\n",
              "      <td>0.01720</td>\n",
              "      <td>0.432000</td>\n",
              "      <td>3</td>\n",
              "      <td>0.450</td>\n",
              "      <td>5</td>\n",
              "      <td>271107</td>\n",
              "      <td>-5.795</td>\n",
              "      <td>0.292</td>\n",
              "      <td>1</td>\n",
              "      <td>59</td>\n",
              "      <td>2015</td>\n",
              "      <td>1</td>\n",
              "    </tr>\n",
              "    <tr>\n",
              "      <th>992</th>\n",
              "      <td>13</td>\n",
              "      <td>0.339</td>\n",
              "      <td>0.3060</td>\n",
              "      <td>135.089</td>\n",
              "      <td>0.0361</td>\n",
              "      <td>0.88700</td>\n",
              "      <td>0.000000</td>\n",
              "      <td>3</td>\n",
              "      <td>0.397</td>\n",
              "      <td>1</td>\n",
              "      <td>224747</td>\n",
              "      <td>-6.688</td>\n",
              "      <td>0.459</td>\n",
              "      <td>1</td>\n",
              "      <td>57</td>\n",
              "      <td>2018</td>\n",
              "      <td>1</td>\n",
              "    </tr>\n",
              "    <tr>\n",
              "      <th>...</th>\n",
              "      <td>...</td>\n",
              "      <td>...</td>\n",
              "      <td>...</td>\n",
              "      <td>...</td>\n",
              "      <td>...</td>\n",
              "      <td>...</td>\n",
              "      <td>...</td>\n",
              "      <td>...</td>\n",
              "      <td>...</td>\n",
              "      <td>...</td>\n",
              "      <td>...</td>\n",
              "      <td>...</td>\n",
              "      <td>...</td>\n",
              "      <td>...</td>\n",
              "      <td>...</td>\n",
              "      <td>...</td>\n",
              "      <td>...</td>\n",
              "    </tr>\n",
              "    <tr>\n",
              "      <th>1459</th>\n",
              "      <td>7</td>\n",
              "      <td>0.441</td>\n",
              "      <td>0.1880</td>\n",
              "      <td>82.525</td>\n",
              "      <td>0.3910</td>\n",
              "      <td>0.00388</td>\n",
              "      <td>0.005000</td>\n",
              "      <td>4</td>\n",
              "      <td>0.841</td>\n",
              "      <td>11</td>\n",
              "      <td>188112</td>\n",
              "      <td>-11.847</td>\n",
              "      <td>0.391</td>\n",
              "      <td>1</td>\n",
              "      <td>7</td>\n",
              "      <td>2019</td>\n",
              "      <td>0</td>\n",
              "    </tr>\n",
              "    <tr>\n",
              "      <th>1200</th>\n",
              "      <td>34</td>\n",
              "      <td>0.950</td>\n",
              "      <td>0.0782</td>\n",
              "      <td>117.701</td>\n",
              "      <td>0.0821</td>\n",
              "      <td>0.44400</td>\n",
              "      <td>0.000000</td>\n",
              "      <td>4</td>\n",
              "      <td>0.535</td>\n",
              "      <td>6</td>\n",
              "      <td>197147</td>\n",
              "      <td>-3.846</td>\n",
              "      <td>0.694</td>\n",
              "      <td>0</td>\n",
              "      <td>5</td>\n",
              "      <td>2020</td>\n",
              "      <td>0</td>\n",
              "    </tr>\n",
              "    <tr>\n",
              "      <th>1198</th>\n",
              "      <td>34</td>\n",
              "      <td>0.324</td>\n",
              "      <td>0.1190</td>\n",
              "      <td>83.220</td>\n",
              "      <td>0.0614</td>\n",
              "      <td>0.70500</td>\n",
              "      <td>0.000001</td>\n",
              "      <td>4</td>\n",
              "      <td>0.510</td>\n",
              "      <td>7</td>\n",
              "      <td>247547</td>\n",
              "      <td>-12.808</td>\n",
              "      <td>0.403</td>\n",
              "      <td>0</td>\n",
              "      <td>4</td>\n",
              "      <td>2020</td>\n",
              "      <td>0</td>\n",
              "    </tr>\n",
              "    <tr>\n",
              "      <th>220</th>\n",
              "      <td>20</td>\n",
              "      <td>0.439</td>\n",
              "      <td>0.6370</td>\n",
              "      <td>81.986</td>\n",
              "      <td>0.2380</td>\n",
              "      <td>0.80500</td>\n",
              "      <td>0.000000</td>\n",
              "      <td>4</td>\n",
              "      <td>0.483</td>\n",
              "      <td>9</td>\n",
              "      <td>303640</td>\n",
              "      <td>-10.212</td>\n",
              "      <td>0.618</td>\n",
              "      <td>0</td>\n",
              "      <td>43</td>\n",
              "      <td>2017</td>\n",
              "      <td>1</td>\n",
              "    </tr>\n",
              "    <tr>\n",
              "      <th>596</th>\n",
              "      <td>4</td>\n",
              "      <td>0.524</td>\n",
              "      <td>0.1310</td>\n",
              "      <td>136.293</td>\n",
              "      <td>0.0474</td>\n",
              "      <td>0.00064</td>\n",
              "      <td>0.022100</td>\n",
              "      <td>4</td>\n",
              "      <td>0.468</td>\n",
              "      <td>1</td>\n",
              "      <td>234747</td>\n",
              "      <td>-12.380</td>\n",
              "      <td>0.537</td>\n",
              "      <td>0</td>\n",
              "      <td>54</td>\n",
              "      <td>1993</td>\n",
              "      <td>1</td>\n",
              "    </tr>\n",
              "  </tbody>\n",
              "</table>\n",
              "<p>1991 rows × 17 columns</p>\n",
              "</div>"
            ],
            "text/plain": [
              "      genre  energy  liveness    tempo  ...  mode  popularity  year  target\n",
              "1661     35   0.595    0.1570  134.992  ...     1          56  2018       0\n",
              "1101     34   0.859    0.4760   93.952  ...     0           7  2012       0\n",
              "972      13   0.505    0.1640  160.053  ...     1          73  2016       1\n",
              "942      36   0.638    0.1410   96.988  ...     1          59  2015       1\n",
              "992      13   0.339    0.3060  135.089  ...     1          57  2018       1\n",
              "...     ...     ...       ...      ...  ...   ...         ...   ...     ...\n",
              "1459      7   0.441    0.1880   82.525  ...     1           7  2019       0\n",
              "1200     34   0.950    0.0782  117.701  ...     0           5  2020       0\n",
              "1198     34   0.324    0.1190   83.220  ...     0           4  2020       0\n",
              "220      20   0.439    0.6370   81.986  ...     0          43  2017       1\n",
              "596       4   0.524    0.1310  136.293  ...     0          54  1993       1\n",
              "\n",
              "[1991 rows x 17 columns]"
            ]
          },
          "metadata": {
            "tags": []
          },
          "execution_count": 8
        }
      ]
    },
    {
      "cell_type": "markdown",
      "metadata": {
        "id": "NVBH3v1JJEDr"
      },
      "source": [
        "#Делење на податочното множество на тренирачко, валидациско и тестирачко "
      ]
    },
    {
      "cell_type": "markdown",
      "metadata": {
        "id": "v3Fp_dfCywo0"
      },
      "source": [
        "Делење на податочното множество на тренирачко, валидациско и тестирачко множество, \n",
        "    така што првите 70% од секоја од класите  се доделени во тренирачкото множество. \n",
        "    Следните 10% од секоја од класите влегуваат во валидациско множество, \n",
        "    а последните 20% од секоја од класите се дел од тестирачкото множество.\n",
        "    На крај се прави shuffle на множествата (заедно со соодветните лабели)."
      ]
    },
    {
      "cell_type": "code",
      "metadata": {
        "id": "iGyfg9Fnyvz6"
      },
      "source": [
        "tmp = df.values.tolist().copy()\n",
        "dataset =  [[row[i] if i != len(row)-1   else int(row[i]) for i in range(len(row))] for row in tmp]\n",
        "print(tmp)\n",
        "print(dataset)\n",
        "\n",
        "bad_classes = [x for x in dataset if x[-1] == 0]\n",
        "good_classes = [x for x in dataset if x[-1] == 1]\n",
        "\n",
        "train_set =  bad_classes[:int(len(bad_classes) * 0.7)] + good_classes[:int(len(good_classes) * 0.7)]\n",
        "val_set = bad_classes[int(len(bad_classes) * 0.7):int(len(bad_classes) * 0.8)] + good_classes[int(len(good_classes) * 0.7):int(len(good_classes) * 0.8)]\n",
        "test_set =  bad_classes[int(len(bad_classes) * 0.8):] + good_classes[int(len(good_classes) * 0.8):]\n",
        "\n",
        "train_x = [x[:-1] for x in train_set]\n",
        "train_y = [x[-1] for x in train_set]\n",
        "val_x = [x[:-1] for x in val_set]\n",
        "val_y = [x[-1] for x in val_set]\n",
        "test_x = [x[:-1] for x in test_set]\n",
        "test_y = [x[-1] for x in test_set]\n"
      ],
      "execution_count": null,
      "outputs": []
    },
    {
      "cell_type": "code",
      "metadata": {
        "id": "wYkGUFkT3yEA",
        "outputId": "68e64369-d9e5-4eb2-bf2a-87d2051526a7",
        "colab": {
          "base_uri": "https://localhost:8080/"
        }
      },
      "source": [
        "import collections\n",
        "X_train = np.array(train_x)\n",
        "y_train = np.array(train_y)\n",
        "X_val = np.array(val_x)\n",
        "y_val = np.array(val_y)\n",
        "X_test = np.array(test_x)\n",
        "y_test = np.array(test_y)\n",
        "\n",
        "from sklearn.utils import shuffle\n",
        "X_train,y_train = shuffle(X_train,y_train,random_state=0)\n",
        "X_val, y_val = shuffle(X_val, y_val,random_state=0)\n",
        "X_test, y_test = shuffle(X_test, y_test,random_state=0)\n",
        "\n",
        "print(X_train.shape, X_val.shape, X_test.shape)\n",
        "print(y_train.shape, y_val.shape, y_test.shape)\n",
        "print(collections.Counter(y_train))\n",
        "print(collections.Counter(y_val))\n",
        "print(collections.Counter(y_test))"
      ],
      "execution_count": null,
      "outputs": [
        {
          "output_type": "stream",
          "text": [
            "(1392, 16) (200, 16) (399, 16)\n",
            "(1392,) (200,) (399,)\n",
            "Counter({1: 702, 0: 690})\n",
            "Counter({1: 101, 0: 99})\n",
            "Counter({1: 201, 0: 198})\n"
          ],
          "name": "stdout"
        }
      ]
    },
    {
      "cell_type": "code",
      "metadata": {
        "id": "SqAcPKaeZv9G"
      },
      "source": [
        "#80% train, 20% test\n",
        "xtrain = np.concatenate((X_train,X_val)) \n",
        "ytrain = np.concatenate((y_train,y_val))  "
      ],
      "execution_count": null,
      "outputs": []
    },
    {
      "cell_type": "markdown",
      "metadata": {
        "id": "3A2L0RbVb4dd"
      },
      "source": [
        "#Наивен Баесов, Дрво на одлука и Рандом Форест"
      ]
    },
    {
      "cell_type": "code",
      "metadata": {
        "id": "QIISLP-uYiii",
        "outputId": "bdd849c0-451c-4da4-ccde-91b4393f6245",
        "colab": {
          "base_uri": "https://localhost:8080/"
        }
      },
      "source": [
        "from sklearn.tree import DecisionTreeClassifier\n",
        "from sklearn.naive_bayes import GaussianNB\n",
        "from sklearn.ensemble import RandomForestClassifier\n",
        "\n",
        "dtc = DecisionTreeClassifier()\n",
        "nbc = GaussianNB()\n",
        "rfc = RandomForestClassifier()\n",
        "\n",
        "dtc.fit(xtrain, ytrain)\n",
        "nbc.fit(xtrain, ytrain)\n",
        "rfc.fit(xtrain, ytrain)"
      ],
      "execution_count": null,
      "outputs": [
        {
          "output_type": "execute_result",
          "data": {
            "text/plain": [
              "RandomForestClassifier(bootstrap=True, ccp_alpha=0.0, class_weight=None,\n",
              "                       criterion='gini', max_depth=None, max_features='auto',\n",
              "                       max_leaf_nodes=None, max_samples=None,\n",
              "                       min_impurity_decrease=0.0, min_impurity_split=None,\n",
              "                       min_samples_leaf=1, min_samples_split=2,\n",
              "                       min_weight_fraction_leaf=0.0, n_estimators=100,\n",
              "                       n_jobs=None, oob_score=False, random_state=None,\n",
              "                       verbose=0, warm_start=False)"
            ]
          },
          "metadata": {
            "tags": []
          },
          "execution_count": 12
        }
      ]
    },
    {
      "cell_type": "code",
      "metadata": {
        "id": "GWQ4N-HOLInm",
        "outputId": "ec8a31d1-d8d8-49dd-9b2b-b7d07f17b8b5",
        "colab": {
          "base_uri": "https://localhost:8080/"
        }
      },
      "source": [
        "importances = list(rfc.feature_importances_)\n",
        "\n",
        "most_important_feature = importances.index(max(importances))\n",
        "least_important_feature = importances.index(min(importances))\n",
        "print('Most important feature: '+ df.columns[most_important_feature])\n",
        "print('Least important feature: '+ df.columns[least_important_feature])"
      ],
      "execution_count": null,
      "outputs": [
        {
          "output_type": "stream",
          "text": [
            "Most important feature: genre\n",
            "Least important feature: time_signature\n"
          ],
          "name": "stdout"
        }
      ]
    },
    {
      "cell_type": "code",
      "metadata": {
        "id": "JD4ff9Nrj9jd",
        "outputId": "0917565c-354a-4d3d-ef87-2c6d708d779c",
        "colab": {
          "base_uri": "https://localhost:8080/"
        }
      },
      "source": [
        "from sklearn.metrics import classification_report\n",
        "\n",
        "test_tree_predict = dtc.predict(X_test)\n",
        "test_naive_predict = nbc.predict(X_test)\n",
        "test_random_forest_predict = rfc.predict(X_test)\n",
        "\n",
        "print('Decision Tree score on test:\\n', classification_report( y_test,test_tree_predict))\n",
        "print('Naive Bayes score on test:\\n', classification_report( y_test,test_naive_predict))\n",
        "print('Random Forest score on test:\\n', classification_report( y_test,test_random_forest_predict))"
      ],
      "execution_count": null,
      "outputs": [
        {
          "output_type": "stream",
          "text": [
            "Decision Tree score on test:\n",
            "               precision    recall  f1-score   support\n",
            "\n",
            "           0       0.88      0.89      0.88       198\n",
            "           1       0.89      0.88      0.89       201\n",
            "\n",
            "    accuracy                           0.88       399\n",
            "   macro avg       0.88      0.88      0.88       399\n",
            "weighted avg       0.88      0.88      0.88       399\n",
            "\n",
            "Naive Bayes score on test:\n",
            "               precision    recall  f1-score   support\n",
            "\n",
            "           0       0.66      0.91      0.77       198\n",
            "           1       0.86      0.55      0.67       201\n",
            "\n",
            "    accuracy                           0.73       399\n",
            "   macro avg       0.76      0.73      0.72       399\n",
            "weighted avg       0.76      0.73      0.72       399\n",
            "\n",
            "Random Forest score on test:\n",
            "               precision    recall  f1-score   support\n",
            "\n",
            "           0       0.88      0.96      0.92       198\n",
            "           1       0.96      0.87      0.91       201\n",
            "\n",
            "    accuracy                           0.91       399\n",
            "   macro avg       0.92      0.91      0.91       399\n",
            "weighted avg       0.92      0.91      0.91       399\n",
            "\n"
          ],
          "name": "stdout"
        }
      ]
    },
    {
      "cell_type": "code",
      "metadata": {
        "id": "PGq1gJH5cXZ0",
        "outputId": "a50982d8-fecf-4f8c-c447-c9838af14651",
        "colab": {
          "base_uri": "https://localhost:8080/",
          "height": 358
        }
      },
      "source": [
        "confusion = confusion_matrix(y_test, test_tree_predict)\n",
        "TP = confusion[1, 1]\n",
        "TN = confusion[0, 0]\n",
        "FP = confusion[0, 1]\n",
        "FN = confusion[1, 0]\n",
        "\n",
        "df_Results = pd.DataFrame(columns = [\"Model\", \"Acc\",\"Recall\",\"ROC\",\"TP\",\"FN\"])\n",
        "df_Results.loc[0, \"Model\"] = \"Decision Tree \"\n",
        "df_Results.loc[0, \"Acc\"] = accuracy_score(y_test, test_tree_predict)\n",
        "df_Results.loc[0, \"Recall\"] = recall_score(y_test, test_tree_predict)\n",
        "df_Results.loc[0, \"ROC\"] = roc_auc_score(y_test,test_tree_predict)\n",
        "df_Results.loc[0, \"TP\"] = TP\n",
        "df_Results.loc[0, \"FN\"] = FN\n",
        "\n",
        "\n",
        "import seaborn as sn\n",
        "from sklearn.metrics import confusion_matrix\n",
        "import warnings\n",
        "warnings.simplefilter(action='ignore', category=FutureWarning)\n",
        "import pandas as pd\n",
        "\n",
        "# Визуелизација со матрица на конфузија \n",
        "names = ['bad', 'good'] \n",
        "\n",
        "confusion = 100 * confusion.astype('float') / confusion.sum(axis=-1)[:, np.newaxis]  \n",
        "\n",
        "df = pd.DataFrame(data=confusion, columns=names, index=names)\n",
        "g = sn.heatmap(df, annot=True, fmt=\".1f\", linewidths=.5, vmin=0, vmax=100,\n",
        "                    cmap='Blues')\n",
        "g.set_title('Confusion matrix')\n",
        "g.set_ylabel('True label')\n",
        "g.set_xlabel('Predicted label')\n",
        "g.plot()\n",
        "\n",
        "df_Results.head()\n"
      ],
      "execution_count": null,
      "outputs": [
        {
          "output_type": "execute_result",
          "data": {
            "text/html": [
              "<div>\n",
              "<style scoped>\n",
              "    .dataframe tbody tr th:only-of-type {\n",
              "        vertical-align: middle;\n",
              "    }\n",
              "\n",
              "    .dataframe tbody tr th {\n",
              "        vertical-align: top;\n",
              "    }\n",
              "\n",
              "    .dataframe thead th {\n",
              "        text-align: right;\n",
              "    }\n",
              "</style>\n",
              "<table border=\"1\" class=\"dataframe\">\n",
              "  <thead>\n",
              "    <tr style=\"text-align: right;\">\n",
              "      <th></th>\n",
              "      <th>Model</th>\n",
              "      <th>Acc</th>\n",
              "      <th>Recall</th>\n",
              "      <th>ROC</th>\n",
              "      <th>TP</th>\n",
              "      <th>FN</th>\n",
              "    </tr>\n",
              "  </thead>\n",
              "  <tbody>\n",
              "    <tr>\n",
              "      <th>0</th>\n",
              "      <td>Decision Tree</td>\n",
              "      <td>0.884712</td>\n",
              "      <td>0.880597</td>\n",
              "      <td>0.884743</td>\n",
              "      <td>177</td>\n",
              "      <td>24</td>\n",
              "    </tr>\n",
              "  </tbody>\n",
              "</table>\n",
              "</div>"
            ],
            "text/plain": [
              "            Model       Acc    Recall       ROC   TP  FN\n",
              "0  Decision Tree   0.884712  0.880597  0.884743  177  24"
            ]
          },
          "metadata": {
            "tags": []
          },
          "execution_count": 15
        },
        {
          "output_type": "display_data",
          "data": {
            "image/png": "[encoded data removed]",
            "text/plain": [
              "<Figure size 432x288 with 2 Axes>"
            ]
          },
          "metadata": {
            "tags": [],
            "needs_background": "light"
          }
        }
      ]
    },
    {
      "cell_type": "code",
      "metadata": {
        "id": "BY2982QdbPb5",
        "outputId": "5b57c585-8187-470f-9634-799e0ac8c532",
        "colab": {
          "base_uri": "https://localhost:8080/",
          "height": 389
        }
      },
      "source": [
        "confusion = confusion_matrix(y_test, test_random_forest_predict)\n",
        "TP = confusion[1, 1]\n",
        "TN = confusion[0, 0]\n",
        "FP = confusion[0, 1]\n",
        "FN = confusion[1, 0]\n",
        "\n",
        "df_Results.loc[1, \"Model\"] = \"Random Forest\"\n",
        "df_Results.loc[1, \"Acc\"] = accuracy_score(y_test, test_random_forest_predict)\n",
        "df_Results.loc[1, \"Recall\"] = recall_score(y_test, test_random_forest_predict)\n",
        "df_Results.loc[1, \"ROC\"] = roc_auc_score(y_test,test_random_forest_predict)\n",
        "df_Results.loc[1, \"TP\"] = TP\n",
        "df_Results.loc[1, \"FN\"] = FN\n",
        "\n",
        "import seaborn as sn\n",
        "from sklearn.metrics import confusion_matrix\n",
        "import warnings\n",
        "warnings.simplefilter(action='ignore', category=FutureWarning)\n",
        "import pandas as pd\n",
        "\n",
        "# Визуелизација со матрица на конфузија \n",
        "names = ['bad', 'good'] \n",
        "\n",
        "confusion = 100 * confusion.astype('float') / confusion.sum(axis=-1)[:, np.newaxis]  \n",
        "\n",
        "df = pd.DataFrame(data=confusion, columns=names, index=names)\n",
        "g = sn.heatmap(df, annot=True, fmt=\".1f\", linewidths=.5, vmin=0, vmax=100,\n",
        "                    cmap='Blues')\n",
        "g.set_title('Confusion matrix')\n",
        "g.set_ylabel('True label')\n",
        "g.set_xlabel('Predicted label')\n",
        "g.plot()\n",
        "\n",
        "df_Results.head()"
      ],
      "execution_count": null,
      "outputs": [
        {
          "output_type": "execute_result",
          "data": {
            "text/html": [
              "<div>\n",
              "<style scoped>\n",
              "    .dataframe tbody tr th:only-of-type {\n",
              "        vertical-align: middle;\n",
              "    }\n",
              "\n",
              "    .dataframe tbody tr th {\n",
              "        vertical-align: top;\n",
              "    }\n",
              "\n",
              "    .dataframe thead th {\n",
              "        text-align: right;\n",
              "    }\n",
              "</style>\n",
              "<table border=\"1\" class=\"dataframe\">\n",
              "  <thead>\n",
              "    <tr style=\"text-align: right;\">\n",
              "      <th></th>\n",
              "      <th>Model</th>\n",
              "      <th>Acc</th>\n",
              "      <th>Recall</th>\n",
              "      <th>ROC</th>\n",
              "      <th>TP</th>\n",
              "      <th>FN</th>\n",
              "    </tr>\n",
              "  </thead>\n",
              "  <tbody>\n",
              "    <tr>\n",
              "      <th>0</th>\n",
              "      <td>Decision Tree</td>\n",
              "      <td>0.884712</td>\n",
              "      <td>0.880597</td>\n",
              "      <td>0.884743</td>\n",
              "      <td>177</td>\n",
              "      <td>24</td>\n",
              "    </tr>\n",
              "    <tr>\n",
              "      <th>1</th>\n",
              "      <td>Random Forest</td>\n",
              "      <td>0.912281</td>\n",
              "      <td>0.865672</td>\n",
              "      <td>0.912634</td>\n",
              "      <td>174</td>\n",
              "      <td>27</td>\n",
              "    </tr>\n",
              "  </tbody>\n",
              "</table>\n",
              "</div>"
            ],
            "text/plain": [
              "            Model       Acc    Recall       ROC   TP  FN\n",
              "0  Decision Tree   0.884712  0.880597  0.884743  177  24\n",
              "1   Random Forest  0.912281  0.865672  0.912634  174  27"
            ]
          },
          "metadata": {
            "tags": []
          },
          "execution_count": 16
        },
        {
          "output_type": "display_data",
          "data": {
            "image/png": "[encoded data removed]",
            "text/plain": [
              "<Figure size 432x288 with 2 Axes>"
            ]
          },
          "metadata": {
            "tags": [],
            "needs_background": "light"
          }
        }
      ]
    },
    {
      "cell_type": "code",
      "metadata": {
        "id": "2f6pstjwdGaG",
        "outputId": "a2394fd7-9631-48c9-e45f-ad6d6d85b476",
        "colab": {
          "base_uri": "https://localhost:8080/",
          "height": 420
        }
      },
      "source": [
        "confusion = confusion_matrix(y_test, test_naive_predict)\n",
        "TP = confusion[1, 1]\n",
        "TN = confusion[0, 0]\n",
        "FP = confusion[0, 1]\n",
        "FN = confusion[1, 0]\n",
        "\n",
        "df_Results.loc[2, \"Model\"] = \"Naive Bayes\"\n",
        "df_Results.loc[2, \"Acc\"] = accuracy_score(y_test, test_naive_predict)\n",
        "df_Results.loc[2, \"Recall\"] = recall_score(y_test, test_naive_predict)\n",
        "df_Results.loc[2, \"ROC\"] = roc_auc_score(y_test,test_naive_predict)\n",
        "df_Results.loc[2, \"TP\"] = TP\n",
        "df_Results.loc[2, \"FN\"] = FN\n",
        "\n",
        "import seaborn as sn\n",
        "from sklearn.metrics import confusion_matrix\n",
        "import warnings\n",
        "warnings.simplefilter(action='ignore', category=FutureWarning)\n",
        "import pandas as pd\n",
        "\n",
        "# Визуелизација со матрица на конфузија \n",
        "names = ['bad', 'good'] \n",
        "\n",
        "confusion = 100 * confusion.astype('float') / confusion.sum(axis=-1)[:, np.newaxis]  \n",
        "\n",
        "df = pd.DataFrame(data=confusion, columns=names, index=names)\n",
        "g = sn.heatmap(df, annot=True, fmt=\".1f\", linewidths=.5, vmin=0, vmax=100,\n",
        "                    cmap='Blues')\n",
        "g.set_title('Confusion matrix')\n",
        "g.set_ylabel('True label')\n",
        "g.set_xlabel('Predicted label')\n",
        "g.plot()\n",
        "\n",
        "df_Results.head(3)"
      ],
      "execution_count": null,
      "outputs": [
        {
          "output_type": "execute_result",
          "data": {
            "text/html": [
              "<div>\n",
              "<style scoped>\n",
              "    .dataframe tbody tr th:only-of-type {\n",
              "        vertical-align: middle;\n",
              "    }\n",
              "\n",
              "    .dataframe tbody tr th {\n",
              "        vertical-align: top;\n",
              "    }\n",
              "\n",
              "    .dataframe thead th {\n",
              "        text-align: right;\n",
              "    }\n",
              "</style>\n",
              "<table border=\"1\" class=\"dataframe\">\n",
              "  <thead>\n",
              "    <tr style=\"text-align: right;\">\n",
              "      <th></th>\n",
              "      <th>Model</th>\n",
              "      <th>Acc</th>\n",
              "      <th>Recall</th>\n",
              "      <th>ROC</th>\n",
              "      <th>TP</th>\n",
              "      <th>FN</th>\n",
              "    </tr>\n",
              "  </thead>\n",
              "  <tbody>\n",
              "    <tr>\n",
              "      <th>0</th>\n",
              "      <td>Decision Tree</td>\n",
              "      <td>0.884712</td>\n",
              "      <td>0.880597</td>\n",
              "      <td>0.884743</td>\n",
              "      <td>177</td>\n",
              "      <td>24</td>\n",
              "    </tr>\n",
              "    <tr>\n",
              "      <th>1</th>\n",
              "      <td>Random Forest</td>\n",
              "      <td>0.912281</td>\n",
              "      <td>0.865672</td>\n",
              "      <td>0.912634</td>\n",
              "      <td>174</td>\n",
              "      <td>27</td>\n",
              "    </tr>\n",
              "    <tr>\n",
              "      <th>2</th>\n",
              "      <td>Naive Bayes</td>\n",
              "      <td>0.726817</td>\n",
              "      <td>0.547264</td>\n",
              "      <td>0.728177</td>\n",
              "      <td>110</td>\n",
              "      <td>91</td>\n",
              "    </tr>\n",
              "  </tbody>\n",
              "</table>\n",
              "</div>"
            ],
            "text/plain": [
              "            Model       Acc    Recall       ROC   TP  FN\n",
              "0  Decision Tree   0.884712  0.880597  0.884743  177  24\n",
              "1   Random Forest  0.912281  0.865672  0.912634  174  27\n",
              "2     Naive Bayes  0.726817  0.547264  0.728177  110  91"
            ]
          },
          "metadata": {
            "tags": []
          },
          "execution_count": 17
        },
        {
          "output_type": "display_data",
          "data": {
            "image/png": "[encoded data removed]",
            "text/plain": [
              "<Figure size 432x288 with 2 Axes>"
            ]
          },
          "metadata": {
            "tags": [],
            "needs_background": "light"
          }
        }
      ]
    },
    {
      "cell_type": "code",
      "metadata": {
        "id": "Lw0SxTacbi4Y",
        "outputId": "ea934c92-8d66-45e0-bdc5-2c12cd434eb3",
        "colab": {
          "base_uri": "https://localhost:8080/",
          "height": 279
        }
      },
      "source": [
        "from sklearn.metrics import roc_curve, auc\n",
        "import matplotlib.pyplot as plt\n",
        "\n",
        "actual = y_test\n",
        "decision_tree_prob = [p[1] for p in dtc.predict_proba(X_test)]\n",
        "naive_bayes_prob = [p[1] for p in nbc.predict_proba(X_test)]\n",
        "random_forest_prob = [p[1] for p in rfc.predict_proba(X_test)]\n",
        "\n",
        "dt_false_pos, dt_true_pos, _ = roc_curve(actual, decision_tree_prob)\n",
        "dt_auc = auc(dt_false_pos, dt_true_pos)\n",
        "\n",
        "nb_false_pos, nb_true_pos, _ = roc_curve(actual, naive_bayes_prob)\n",
        "nb_auc = auc(nb_false_pos, nb_true_pos)\n",
        "\n",
        "rf_false_pos, rf_true_pos, _ = roc_curve(actual, random_forest_prob)\n",
        "rf_auc = auc(rf_false_pos, rf_true_pos)\n",
        "\n",
        "# plot\n",
        "plt.plot(dt_false_pos, dt_true_pos, 'r', label='Decision Tree AUC = %0.2f'% dt_auc)\n",
        "plt.plot(nb_false_pos, nb_true_pos, 'g', label='Naive Bayes AUC = %0.2f'% nb_auc)\n",
        "plt.plot(rf_false_pos, rf_true_pos, 'b', label='Random Forest AUC = %0.2f'% rf_auc)\n",
        "\n",
        "plt.legend(loc='lower right')\n",
        "plt.plot([0,1], [0,1], 'r--')\n",
        "plt.ylabel('True Positive Rate')\n",
        "plt.xlabel('False Positive Rate')\n",
        "plt.show()"
      ],
      "execution_count": null,
      "outputs": [
        {
          "output_type": "display_data",
          "data": {
            "image/png": "[encoded data removed]",
            "text/plain": [
              "<Figure size 432x288 with 1 Axes>"
            ]
          },
          "metadata": {
            "tags": [],
            "needs_background": "light"
          }
        }
      ]
    },
    {
      "cell_type": "markdown",
      "metadata": {
        "id": "6pFeC4CvNd8r"
      },
      "source": [
        "#XGBOOST"
      ]
    },
    {
      "cell_type": "code",
      "metadata": {
        "id": "4wK9TdssqZC7"
      },
      "source": [
        "#80% train, 20% test\n",
        "xtrain = np.concatenate((X_train,X_val)) \n",
        "ytrain = np.concatenate((y_train,y_val))  "
      ],
      "execution_count": null,
      "outputs": []
    },
    {
      "cell_type": "code",
      "metadata": {
        "id": "g3WtdnCpNJot",
        "outputId": "1892948d-4138-443b-a686-78ab887caabd",
        "colab": {
          "base_uri": "https://localhost:8080/",
          "height": 737
        }
      },
      "source": [
        "from xgboost.sklearn import XGBClassifier\n",
        "import scipy.stats as st\n",
        "from sklearn.model_selection import RandomizedSearchCV\n",
        "\n",
        "model_xg = XGBClassifier(random_state=42,n_jobs=-1)\n",
        "\n",
        "one_to_left = st.beta(10, 1) \n",
        "\n",
        "parameters6 = {  \n",
        "    \"n_estimators\": st.randint(20,40), # Number of boosted trees to fit.\n",
        "    'reg_alpha': st.uniform(0.05,10),   # L1 regularization term on weights\n",
        "    \"max_depth\": st.randint(3, 12),     # Maximum tree depth for base learners.\n",
        "    \"learning_rate\": st.uniform(0.05, 0.4), #     Boosting learning rate (xgb’s “eta”)\n",
        "\n",
        "    \"colsample_bytree\": one_to_left, #     Subsample ratio of columns when constructing each tree.\n",
        "    \"subsample\": one_to_left,     # Subsample ratio of the training instance.\n",
        "    \"gamma\": st.uniform(0, 10), #     Minimum loss reduction required to make a further partition on a leaf node of the tree.\n",
        "    \"min_child_weight\": st.uniform(1,20), #    Minimum sum of instance weight(hessian) needed in a child.\n",
        "}\n",
        "\n",
        "xgb = RandomizedSearchCV(model_xg,parameters6, scoring='recall', n_iter=25, verbose= True)\n",
        "\n",
        "xgb.fit(xtrain, ytrain)\n",
        "\n",
        "print(\"Best score: %0.3f\" % xgb.best_score_) \n",
        "print(\"Best parameters set:\" )\n",
        "best_parameters6 = xgb.best_estimator_.get_params()\n",
        "for param_name6 in sorted (parameters6 . keys()): \n",
        "                    print(\"\\t %s: %r\" % (param_name6, best_parameters6[param_name6]))\n",
        "        \n",
        "y_pred = xgb.predict(X_test)\n",
        "\n",
        "print(classification_report(y_test, y_pred))\n",
        "print(\"accuracy: \",accuracy_score(y_test, y_pred))\n",
        "print (\"\\n\")\n",
        "# Визуелизација со матрица на конфузија \n",
        "cm=confusion_matrix(y_test,y_pred)\n",
        "names = ['bad', 'good'] \n",
        "\n",
        "cm = 100 * cm.astype('float') / cm.sum(axis=-1)[:, np.newaxis]  \n",
        "\n",
        "df = pd.DataFrame(data=cm, columns=names, index=names)\n",
        "g = sn.heatmap(df, annot=True, fmt=\".1f\", linewidths=.5, vmin=0, vmax=100,\n",
        "                    cmap='Blues')\n",
        "g.set_title('Confusion matrix')\n",
        "g.set_ylabel('True label')\n",
        "g.set_xlabel('Predicted label')\n",
        "g.plot()"
      ],
      "execution_count": null,
      "outputs": [
        {
          "output_type": "stream",
          "text": [
            "Fitting 5 folds for each of 25 candidates, totalling 125 fits\n"
          ],
          "name": "stdout"
        },
        {
          "output_type": "stream",
          "text": [
            "[Parallel(n_jobs=1)]: Using backend SequentialBackend with 1 concurrent workers.\n"
          ],
          "name": "stderr"
        },
        {
          "output_type": "stream",
          "text": [
            "Best score: 0.933\n",
            "Best parameters set:\n",
            "\t colsample_bytree: 0.9259919400806608\n",
            "\t gamma: 8.371113906023401\n",
            "\t learning_rate: 0.2186012052916595\n",
            "\t max_depth: 7\n",
            "\t min_child_weight: 4.713141077906672\n",
            "\t n_estimators: 32\n",
            "\t reg_alpha: 3.3638447390104504\n",
            "\t subsample: 0.935576579658719\n",
            "              precision    recall  f1-score   support\n",
            "\n",
            "           0       0.92      0.97      0.95       198\n",
            "           1       0.97      0.92      0.94       201\n",
            "\n",
            "    accuracy                           0.94       399\n",
            "   macro avg       0.95      0.95      0.94       399\n",
            "weighted avg       0.95      0.94      0.94       399\n",
            "\n",
            "accuracy:  0.9448621553884712\n",
            "\n",
            "\n"
          ],
          "name": "stdout"
        },
        {
          "output_type": "stream",
          "text": [
            "[Parallel(n_jobs=1)]: Done 125 out of 125 | elapsed:    7.2s finished\n"
          ],
          "name": "stderr"
        },
        {
          "output_type": "execute_result",
          "data": {
            "text/plain": [
              "[]"
            ]
          },
          "metadata": {
            "tags": []
          },
          "execution_count": 19
        },
        {
          "output_type": "display_data",
          "data": {
            "image/png": "[encoded data removed]",
            "text/plain": [
              "<Figure size 432x288 with 2 Axes>"
            ]
          },
          "metadata": {
            "tags": [],
            "needs_background": "light"
          }
        }
      ]
    },
    {
      "cell_type": "code",
      "metadata": {
        "id": "J4RehRGMP8Vq",
        "outputId": "c21645d6-10f4-44d4-9d33-501d9d79c61e",
        "colab": {
          "base_uri": "https://localhost:8080/",
          "height": 295
        }
      },
      "source": [
        "from xgboost import plot_importance\n",
        "\n",
        "#f0 e genre, f14 e popularity\n",
        "plot_importance(xgb.best_estimator_, height = 0.8,max_num_features=5);"
      ],
      "execution_count": null,
      "outputs": [
        {
          "output_type": "display_data",
          "data": {
            "image/png": "[encoded data removed]",
            "text/plain": [
              "<Figure size 432x288 with 1 Axes>"
            ]
          },
          "metadata": {
            "tags": [],
            "needs_background": "light"
          }
        }
      ]
    },
    {
      "cell_type": "code",
      "metadata": {
        "id": "VXR1GX3chiML",
        "outputId": "affaeafb-13fc-4670-8eb2-7cdf1a0a6402",
        "colab": {
          "base_uri": "https://localhost:8080/",
          "height": 451
        }
      },
      "source": [
        "confusion = confusion_matrix(y_test, y_pred)\n",
        "TP = confusion[1, 1]\n",
        "TN = confusion[0, 0]\n",
        "FP = confusion[0, 1]\n",
        "FN = confusion[1, 0]\n",
        "\n",
        "df_Results.loc[3, \"Model\"] = \"XGBoost\"\n",
        "df_Results.loc[3, \"Acc\"] = accuracy_score(y_test, y_pred)\n",
        "df_Results.loc[3, \"Recall\"] = recall_score(y_test, y_pred)\n",
        "df_Results.loc[3, \"ROC\"] = roc_auc_score(y_test,y_pred)\n",
        "df_Results.loc[3, \"TP\"] = TP\n",
        "df_Results.loc[3, \"FN\"] = FN\n",
        "\n",
        "import seaborn as sn\n",
        "from sklearn.metrics import confusion_matrix\n",
        "import warnings\n",
        "warnings.simplefilter(action='ignore', category=FutureWarning)\n",
        "import pandas as pd\n",
        "\n",
        "# Визуелизација со матрица на конфузија \n",
        "names = ['bad', 'good'] \n",
        "\n",
        "confusion = 100 * confusion.astype('float') / confusion.sum(axis=-1)[:, np.newaxis]  \n",
        "\n",
        "df = pd.DataFrame(data=confusion, columns=names, index=names)\n",
        "g = sn.heatmap(df, annot=True, fmt=\".1f\", linewidths=.5, vmin=0, vmax=100,\n",
        "                    cmap='Blues')\n",
        "g.set_title('Confusion matrix')\n",
        "g.set_ylabel('True label')\n",
        "g.set_xlabel('Predicted label')\n",
        "g.plot()\n",
        "\n",
        "df_Results.head()"
      ],
      "execution_count": null,
      "outputs": [
        {
          "output_type": "execute_result",
          "data": {
            "text/html": [
              "<div>\n",
              "<style scoped>\n",
              "    .dataframe tbody tr th:only-of-type {\n",
              "        vertical-align: middle;\n",
              "    }\n",
              "\n",
              "    .dataframe tbody tr th {\n",
              "        vertical-align: top;\n",
              "    }\n",
              "\n",
              "    .dataframe thead th {\n",
              "        text-align: right;\n",
              "    }\n",
              "</style>\n",
              "<table border=\"1\" class=\"dataframe\">\n",
              "  <thead>\n",
              "    <tr style=\"text-align: right;\">\n",
              "      <th></th>\n",
              "      <th>Model</th>\n",
              "      <th>Acc</th>\n",
              "      <th>Recall</th>\n",
              "      <th>ROC</th>\n",
              "      <th>TP</th>\n",
              "      <th>FN</th>\n",
              "    </tr>\n",
              "  </thead>\n",
              "  <tbody>\n",
              "    <tr>\n",
              "      <th>0</th>\n",
              "      <td>Decision Tree</td>\n",
              "      <td>0.884712</td>\n",
              "      <td>0.880597</td>\n",
              "      <td>0.884743</td>\n",
              "      <td>177</td>\n",
              "      <td>24</td>\n",
              "    </tr>\n",
              "    <tr>\n",
              "      <th>1</th>\n",
              "      <td>Random Forest</td>\n",
              "      <td>0.912281</td>\n",
              "      <td>0.865672</td>\n",
              "      <td>0.912634</td>\n",
              "      <td>174</td>\n",
              "      <td>27</td>\n",
              "    </tr>\n",
              "    <tr>\n",
              "      <th>2</th>\n",
              "      <td>Naive Bayes</td>\n",
              "      <td>0.726817</td>\n",
              "      <td>0.547264</td>\n",
              "      <td>0.728177</td>\n",
              "      <td>110</td>\n",
              "      <td>91</td>\n",
              "    </tr>\n",
              "    <tr>\n",
              "      <th>3</th>\n",
              "      <td>XGBoost</td>\n",
              "      <td>0.944862</td>\n",
              "      <td>0.915423</td>\n",
              "      <td>0.945085</td>\n",
              "      <td>184</td>\n",
              "      <td>17</td>\n",
              "    </tr>\n",
              "  </tbody>\n",
              "</table>\n",
              "</div>"
            ],
            "text/plain": [
              "            Model       Acc    Recall       ROC   TP  FN\n",
              "0  Decision Tree   0.884712  0.880597  0.884743  177  24\n",
              "1   Random Forest  0.912281  0.865672  0.912634  174  27\n",
              "2     Naive Bayes  0.726817  0.547264  0.728177  110  91\n",
              "3         XGBoost  0.944862  0.915423  0.945085  184  17"
            ]
          },
          "metadata": {
            "tags": []
          },
          "execution_count": 21
        },
        {
          "output_type": "display_data",
          "data": {
            "image/png": "[encoded data removed]",
            "text/plain": [
              "<Figure size 432x288 with 2 Axes>"
            ]
          },
          "metadata": {
            "tags": [],
            "needs_background": "light"
          }
        }
      ]
    },
    {
      "cell_type": "markdown",
      "metadata": {
        "id": "bscPIw7Lo-kw"
      },
      "source": [
        "#K-Nearest Neighbor Machine Learning Model"
      ]
    },
    {
      "cell_type": "code",
      "metadata": {
        "id": "bI5o5ZXNo9oa",
        "outputId": "ef83e19c-2ff6-473e-aa1d-e17b5df4ac3e",
        "colab": {
          "base_uri": "https://localhost:8080/"
        }
      },
      "source": [
        "from sklearn.neighbors import KNeighborsClassifier\n",
        "from sklearn.metrics import confusion_matrix, classification_report\n",
        "\n",
        "knn_model = KNeighborsClassifier() \n",
        "knn_model.fit(xtrain, ytrain)"
      ],
      "execution_count": null,
      "outputs": [
        {
          "output_type": "execute_result",
          "data": {
            "text/plain": [
              "KNeighborsClassifier(algorithm='auto', leaf_size=30, metric='minkowski',\n",
              "                     metric_params=None, n_jobs=None, n_neighbors=5, p=2,\n",
              "                     weights='uniform')"
            ]
          },
          "metadata": {
            "tags": []
          },
          "execution_count": 22
        }
      ]
    },
    {
      "cell_type": "code",
      "metadata": {
        "id": "jdpL_6nSoJgB",
        "outputId": "5621f39a-1822-425d-895a-79834520db19",
        "colab": {
          "base_uri": "https://localhost:8080/",
          "height": 465
        }
      },
      "source": [
        "pred = knn_model.predict(X_test)\n",
        "print(classification_report(y_test, pred))\n",
        "# Визуелизација со матрица на конфузија\n",
        "cm=confusion_matrix(y_test,pred)\n",
        "names = ['bad', 'good'] \n",
        "\n",
        "cm = 100 * cm.astype('float') / cm.sum(axis=-1)[:, np.newaxis]  \n",
        "\n",
        "df = pd.DataFrame(data=cm, columns=names, index=names)\n",
        "g = sn.heatmap(df, annot=True, fmt=\".1f\", linewidths=.5, vmin=0, vmax=100,\n",
        "                    cmap='Blues')\n",
        "g.set_title('Confusion matrix')\n",
        "g.set_ylabel('True label')\n",
        "g.set_xlabel('Predicted label')\n",
        "g.plot()\n"
      ],
      "execution_count": null,
      "outputs": [
        {
          "output_type": "stream",
          "text": [
            "              precision    recall  f1-score   support\n",
            "\n",
            "           0       0.60      0.62      0.61       198\n",
            "           1       0.61      0.60      0.61       201\n",
            "\n",
            "    accuracy                           0.61       399\n",
            "   macro avg       0.61      0.61      0.61       399\n",
            "weighted avg       0.61      0.61      0.61       399\n",
            "\n"
          ],
          "name": "stdout"
        },
        {
          "output_type": "execute_result",
          "data": {
            "text/plain": [
              "[]"
            ]
          },
          "metadata": {
            "tags": []
          },
          "execution_count": 23
        },
        {
          "output_type": "display_data",
          "data": {
            "image/png": "[encoded data removed]",
            "text/plain": [
              "<Figure size 432x288 with 2 Axes>"
            ]
          },
          "metadata": {
            "tags": [],
            "needs_background": "light"
          }
        }
      ]
    },
    {
      "cell_type": "code",
      "metadata": {
        "id": "LtPvJEj4iVH8",
        "outputId": "58542115-9c63-4b78-ef11-6ca0e39d5a50",
        "colab": {
          "base_uri": "https://localhost:8080/",
          "height": 204
        }
      },
      "source": [
        "confusion = confusion_matrix(y_test, pred)\n",
        "TP = confusion[1, 1]\n",
        "TN = confusion[0, 0]\n",
        "FP = confusion[0, 1]\n",
        "FN = confusion[1, 0]\n",
        "\n",
        "df_Results.loc[4, \"Model\"] = \"KNN\"\n",
        "df_Results.loc[4, \"Acc\"] = accuracy_score(y_test, pred)\n",
        "df_Results.loc[4, \"Recall\"] = recall_score(y_test, pred)\n",
        "df_Results.loc[4, \"ROC\"] = roc_auc_score(y_test,pred)\n",
        "df_Results.loc[4, \"TP\"] = TP\n",
        "df_Results.loc[4, \"FN\"] = FN\n",
        "\n",
        "df_Results.head(10)"
      ],
      "execution_count": null,
      "outputs": [
        {
          "output_type": "execute_result",
          "data": {
            "text/html": [
              "<div>\n",
              "<style scoped>\n",
              "    .dataframe tbody tr th:only-of-type {\n",
              "        vertical-align: middle;\n",
              "    }\n",
              "\n",
              "    .dataframe tbody tr th {\n",
              "        vertical-align: top;\n",
              "    }\n",
              "\n",
              "    .dataframe thead th {\n",
              "        text-align: right;\n",
              "    }\n",
              "</style>\n",
              "<table border=\"1\" class=\"dataframe\">\n",
              "  <thead>\n",
              "    <tr style=\"text-align: right;\">\n",
              "      <th></th>\n",
              "      <th>Model</th>\n",
              "      <th>Acc</th>\n",
              "      <th>Recall</th>\n",
              "      <th>ROC</th>\n",
              "      <th>TP</th>\n",
              "      <th>FN</th>\n",
              "    </tr>\n",
              "  </thead>\n",
              "  <tbody>\n",
              "    <tr>\n",
              "      <th>0</th>\n",
              "      <td>Decision Tree</td>\n",
              "      <td>0.884712</td>\n",
              "      <td>0.880597</td>\n",
              "      <td>0.884743</td>\n",
              "      <td>177</td>\n",
              "      <td>24</td>\n",
              "    </tr>\n",
              "    <tr>\n",
              "      <th>1</th>\n",
              "      <td>Random Forest</td>\n",
              "      <td>0.912281</td>\n",
              "      <td>0.865672</td>\n",
              "      <td>0.912634</td>\n",
              "      <td>174</td>\n",
              "      <td>27</td>\n",
              "    </tr>\n",
              "    <tr>\n",
              "      <th>2</th>\n",
              "      <td>Naive Bayes</td>\n",
              "      <td>0.726817</td>\n",
              "      <td>0.547264</td>\n",
              "      <td>0.728177</td>\n",
              "      <td>110</td>\n",
              "      <td>91</td>\n",
              "    </tr>\n",
              "    <tr>\n",
              "      <th>3</th>\n",
              "      <td>XGBoost</td>\n",
              "      <td>0.944862</td>\n",
              "      <td>0.915423</td>\n",
              "      <td>0.945085</td>\n",
              "      <td>184</td>\n",
              "      <td>17</td>\n",
              "    </tr>\n",
              "    <tr>\n",
              "      <th>4</th>\n",
              "      <td>KNN</td>\n",
              "      <td>0.609023</td>\n",
              "      <td>0.60199</td>\n",
              "      <td>0.609076</td>\n",
              "      <td>121</td>\n",
              "      <td>80</td>\n",
              "    </tr>\n",
              "  </tbody>\n",
              "</table>\n",
              "</div>"
            ],
            "text/plain": [
              "            Model       Acc    Recall       ROC   TP  FN\n",
              "0  Decision Tree   0.884712  0.880597  0.884743  177  24\n",
              "1   Random Forest  0.912281  0.865672  0.912634  174  27\n",
              "2     Naive Bayes  0.726817  0.547264  0.728177  110  91\n",
              "3         XGBoost  0.944862  0.915423  0.945085  184  17\n",
              "4             KNN  0.609023   0.60199  0.609076  121  80"
            ]
          },
          "metadata": {
            "tags": []
          },
          "execution_count": 24
        }
      ]
    },
    {
      "cell_type": "markdown",
      "metadata": {
        "id": "7h2fBBENbsfo"
      },
      "source": [
        "#Пример невронскa мрежa"
      ]
    },
    {
      "cell_type": "code",
      "metadata": {
        "id": "NWTubFV1kZiX"
      },
      "source": [
        "import keras\n",
        "from keras.models import Sequential \n",
        "from keras.layers import Dense   \n",
        "from tensorflow.keras.callbacks import EarlyStopping"
      ],
      "execution_count": null,
      "outputs": []
    },
    {
      "cell_type": "code",
      "metadata": {
        "id": "VJ1RwU0fjBf5"
      },
      "source": [
        "from sklearn.preprocessing import StandardScaler\n",
        "scaler = StandardScaler()\n",
        "X_train_norm = scaler.fit_transform(X_train)\n",
        "X_val_norm = scaler.fit_transform(X_val)\n",
        "X_test_norm = scaler.fit_transform(X_test)"
      ],
      "execution_count": null,
      "outputs": []
    },
    {
      "cell_type": "code",
      "metadata": {
        "id": "T6-xkCEUkgQO",
        "outputId": "ab063ca5-27f3-43e1-d405-1082ff7e5c65",
        "colab": {
          "base_uri": "https://localhost:8080/"
        }
      },
      "source": [
        "classifier = Sequential()\n",
        "\n",
        "classifier.add(Dense(16, activation='relu', kernel_initializer='random_normal', input_dim=16))\n",
        "\n",
        "classifier.add(Dense(128, activation='relu', kernel_initializer='random_normal'))\n",
        "\n",
        "classifier.add(Dense(1, activation='sigmoid'))\n",
        "\n",
        "\n",
        "classifier.compile(optimizer ='adam',loss='binary_crossentropy', metrics =['accuracy'])\n",
        "es = EarlyStopping(monitor='val_loss', mode='min', verbose=1,patience=10)\n",
        "history_callback = classifier.fit(X_train_norm, y_train, epochs=500, batch_size=260,validation_data=(X_val_norm,y_val), callbacks=[es])\n"
      ],
      "execution_count": null,
      "outputs": [
        {
          "output_type": "stream",
          "text": [
            "Epoch 1/500\n",
            "6/6 [==============================] - 0s 29ms/step - loss: 0.6902 - accuracy: 0.5955 - val_loss: 0.6835 - val_accuracy: 0.6200\n",
            "Epoch 2/500\n",
            "6/6 [==============================] - 0s 5ms/step - loss: 0.6796 - accuracy: 0.6422 - val_loss: 0.6697 - val_accuracy: 0.6750\n",
            "Epoch 3/500\n",
            "6/6 [==============================] - 0s 5ms/step - loss: 0.6649 - accuracy: 0.6703 - val_loss: 0.6502 - val_accuracy: 0.7250\n",
            "Epoch 4/500\n",
            "6/6 [==============================] - 0s 5ms/step - loss: 0.6438 - accuracy: 0.7069 - val_loss: 0.6234 - val_accuracy: 0.7400\n",
            "Epoch 5/500\n",
            "6/6 [==============================] - 0s 4ms/step - loss: 0.6168 - accuracy: 0.7378 - val_loss: 0.5917 - val_accuracy: 0.7550\n",
            "Epoch 6/500\n",
            "6/6 [==============================] - 0s 5ms/step - loss: 0.5854 - accuracy: 0.7435 - val_loss: 0.5574 - val_accuracy: 0.7550\n",
            "Epoch 7/500\n",
            "6/6 [==============================] - 0s 4ms/step - loss: 0.5519 - accuracy: 0.7486 - val_loss: 0.5254 - val_accuracy: 0.7550\n",
            "Epoch 8/500\n",
            "6/6 [==============================] - 0s 4ms/step - loss: 0.5218 - accuracy: 0.7543 - val_loss: 0.4992 - val_accuracy: 0.7600\n",
            "Epoch 9/500\n",
            "6/6 [==============================] - 0s 4ms/step - loss: 0.4985 - accuracy: 0.7593 - val_loss: 0.4808 - val_accuracy: 0.7600\n",
            "Epoch 10/500\n",
            "6/6 [==============================] - 0s 4ms/step - loss: 0.4807 - accuracy: 0.7651 - val_loss: 0.4694 - val_accuracy: 0.7600\n",
            "Epoch 11/500\n",
            "6/6 [==============================] - 0s 5ms/step - loss: 0.4675 - accuracy: 0.7680 - val_loss: 0.4623 - val_accuracy: 0.7700\n",
            "Epoch 12/500\n",
            "6/6 [==============================] - 0s 5ms/step - loss: 0.4587 - accuracy: 0.7766 - val_loss: 0.4573 - val_accuracy: 0.7750\n",
            "Epoch 13/500\n",
            "6/6 [==============================] - 0s 4ms/step - loss: 0.4513 - accuracy: 0.7809 - val_loss: 0.4534 - val_accuracy: 0.7850\n",
            "Epoch 14/500\n",
            "6/6 [==============================] - 0s 4ms/step - loss: 0.4451 - accuracy: 0.7895 - val_loss: 0.4488 - val_accuracy: 0.7850\n",
            "Epoch 15/500\n",
            "6/6 [==============================] - 0s 4ms/step - loss: 0.4393 - accuracy: 0.7960 - val_loss: 0.4451 - val_accuracy: 0.7900\n",
            "Epoch 16/500\n",
            "6/6 [==============================] - 0s 4ms/step - loss: 0.4330 - accuracy: 0.8010 - val_loss: 0.4411 - val_accuracy: 0.7900\n",
            "Epoch 17/500\n",
            "6/6 [==============================] - 0s 4ms/step - loss: 0.4279 - accuracy: 0.7989 - val_loss: 0.4375 - val_accuracy: 0.7950\n",
            "Epoch 18/500\n",
            "6/6 [==============================] - 0s 4ms/step - loss: 0.4231 - accuracy: 0.8010 - val_loss: 0.4343 - val_accuracy: 0.7900\n",
            "Epoch 19/500\n",
            "6/6 [==============================] - 0s 5ms/step - loss: 0.4187 - accuracy: 0.8068 - val_loss: 0.4297 - val_accuracy: 0.7950\n",
            "Epoch 20/500\n",
            "6/6 [==============================] - 0s 4ms/step - loss: 0.4141 - accuracy: 0.8103 - val_loss: 0.4263 - val_accuracy: 0.7950\n",
            "Epoch 21/500\n",
            "6/6 [==============================] - 0s 5ms/step - loss: 0.4097 - accuracy: 0.8147 - val_loss: 0.4226 - val_accuracy: 0.7950\n",
            "Epoch 22/500\n",
            "6/6 [==============================] - 0s 5ms/step - loss: 0.4054 - accuracy: 0.8168 - val_loss: 0.4197 - val_accuracy: 0.8150\n",
            "Epoch 23/500\n",
            "6/6 [==============================] - 0s 4ms/step - loss: 0.4010 - accuracy: 0.8197 - val_loss: 0.4170 - val_accuracy: 0.8100\n",
            "Epoch 24/500\n",
            "6/6 [==============================] - 0s 5ms/step - loss: 0.3970 - accuracy: 0.8247 - val_loss: 0.4142 - val_accuracy: 0.8000\n",
            "Epoch 25/500\n",
            "6/6 [==============================] - 0s 5ms/step - loss: 0.3933 - accuracy: 0.8276 - val_loss: 0.4105 - val_accuracy: 0.8000\n",
            "Epoch 26/500\n",
            "6/6 [==============================] - 0s 4ms/step - loss: 0.3891 - accuracy: 0.8297 - val_loss: 0.4087 - val_accuracy: 0.8100\n",
            "Epoch 27/500\n",
            "6/6 [==============================] - 0s 5ms/step - loss: 0.3849 - accuracy: 0.8348 - val_loss: 0.4070 - val_accuracy: 0.8100\n",
            "Epoch 28/500\n",
            "6/6 [==============================] - 0s 5ms/step - loss: 0.3811 - accuracy: 0.8362 - val_loss: 0.4053 - val_accuracy: 0.8050\n",
            "Epoch 29/500\n",
            "6/6 [==============================] - 0s 4ms/step - loss: 0.3774 - accuracy: 0.8398 - val_loss: 0.4030 - val_accuracy: 0.8100\n",
            "Epoch 30/500\n",
            "6/6 [==============================] - 0s 4ms/step - loss: 0.3741 - accuracy: 0.8376 - val_loss: 0.4004 - val_accuracy: 0.8150\n",
            "Epoch 31/500\n",
            "6/6 [==============================] - 0s 5ms/step - loss: 0.3702 - accuracy: 0.8420 - val_loss: 0.3991 - val_accuracy: 0.8050\n",
            "Epoch 32/500\n",
            "6/6 [==============================] - 0s 5ms/step - loss: 0.3670 - accuracy: 0.8434 - val_loss: 0.3959 - val_accuracy: 0.8050\n",
            "Epoch 33/500\n",
            "6/6 [==============================] - 0s 5ms/step - loss: 0.3632 - accuracy: 0.8420 - val_loss: 0.3905 - val_accuracy: 0.8100\n",
            "Epoch 34/500\n",
            "6/6 [==============================] - 0s 4ms/step - loss: 0.3599 - accuracy: 0.8434 - val_loss: 0.3879 - val_accuracy: 0.8050\n",
            "Epoch 35/500\n",
            "6/6 [==============================] - 0s 4ms/step - loss: 0.3565 - accuracy: 0.8513 - val_loss: 0.3848 - val_accuracy: 0.8150\n",
            "Epoch 36/500\n",
            "6/6 [==============================] - 0s 4ms/step - loss: 0.3531 - accuracy: 0.8513 - val_loss: 0.3830 - val_accuracy: 0.8150\n",
            "Epoch 37/500\n",
            "6/6 [==============================] - 0s 5ms/step - loss: 0.3497 - accuracy: 0.8549 - val_loss: 0.3786 - val_accuracy: 0.8250\n",
            "Epoch 38/500\n",
            "6/6 [==============================] - 0s 5ms/step - loss: 0.3464 - accuracy: 0.8585 - val_loss: 0.3751 - val_accuracy: 0.8200\n",
            "Epoch 39/500\n",
            "6/6 [==============================] - 0s 5ms/step - loss: 0.3426 - accuracy: 0.8592 - val_loss: 0.3729 - val_accuracy: 0.8150\n",
            "Epoch 40/500\n",
            "6/6 [==============================] - 0s 5ms/step - loss: 0.3393 - accuracy: 0.8578 - val_loss: 0.3689 - val_accuracy: 0.8350\n",
            "Epoch 41/500\n",
            "6/6 [==============================] - 0s 4ms/step - loss: 0.3361 - accuracy: 0.8628 - val_loss: 0.3648 - val_accuracy: 0.8300\n",
            "Epoch 42/500\n",
            "6/6 [==============================] - 0s 4ms/step - loss: 0.3325 - accuracy: 0.8664 - val_loss: 0.3599 - val_accuracy: 0.8350\n",
            "Epoch 43/500\n",
            "6/6 [==============================] - 0s 5ms/step - loss: 0.3293 - accuracy: 0.8635 - val_loss: 0.3556 - val_accuracy: 0.8500\n",
            "Epoch 44/500\n",
            "6/6 [==============================] - 0s 5ms/step - loss: 0.3270 - accuracy: 0.8657 - val_loss: 0.3538 - val_accuracy: 0.8400\n",
            "Epoch 45/500\n",
            "6/6 [==============================] - 0s 5ms/step - loss: 0.3222 - accuracy: 0.8621 - val_loss: 0.3507 - val_accuracy: 0.8400\n",
            "Epoch 46/500\n",
            "6/6 [==============================] - 0s 4ms/step - loss: 0.3189 - accuracy: 0.8649 - val_loss: 0.3487 - val_accuracy: 0.8500\n",
            "Epoch 47/500\n",
            "6/6 [==============================] - 0s 4ms/step - loss: 0.3156 - accuracy: 0.8685 - val_loss: 0.3485 - val_accuracy: 0.8400\n",
            "Epoch 48/500\n",
            "6/6 [==============================] - 0s 5ms/step - loss: 0.3123 - accuracy: 0.8707 - val_loss: 0.3408 - val_accuracy: 0.8550\n",
            "Epoch 49/500\n",
            "6/6 [==============================] - 0s 4ms/step - loss: 0.3106 - accuracy: 0.8657 - val_loss: 0.3361 - val_accuracy: 0.8700\n",
            "Epoch 50/500\n",
            "6/6 [==============================] - 0s 5ms/step - loss: 0.3060 - accuracy: 0.8693 - val_loss: 0.3321 - val_accuracy: 0.8750\n",
            "Epoch 51/500\n",
            "6/6 [==============================] - 0s 5ms/step - loss: 0.3017 - accuracy: 0.8714 - val_loss: 0.3299 - val_accuracy: 0.8650\n",
            "Epoch 52/500\n",
            "6/6 [==============================] - 0s 5ms/step - loss: 0.2983 - accuracy: 0.8736 - val_loss: 0.3266 - val_accuracy: 0.8650\n",
            "Epoch 53/500\n",
            "6/6 [==============================] - 0s 5ms/step - loss: 0.2949 - accuracy: 0.8772 - val_loss: 0.3208 - val_accuracy: 0.8800\n",
            "Epoch 54/500\n",
            "6/6 [==============================] - 0s 4ms/step - loss: 0.2905 - accuracy: 0.8786 - val_loss: 0.3172 - val_accuracy: 0.8800\n",
            "Epoch 55/500\n",
            "6/6 [==============================] - 0s 5ms/step - loss: 0.2885 - accuracy: 0.8779 - val_loss: 0.3172 - val_accuracy: 0.8850\n",
            "Epoch 56/500\n",
            "6/6 [==============================] - 0s 4ms/step - loss: 0.2856 - accuracy: 0.8743 - val_loss: 0.3098 - val_accuracy: 0.8900\n",
            "Epoch 57/500\n",
            "6/6 [==============================] - 0s 6ms/step - loss: 0.2818 - accuracy: 0.8793 - val_loss: 0.3064 - val_accuracy: 0.8800\n",
            "Epoch 58/500\n",
            "6/6 [==============================] - 0s 5ms/step - loss: 0.2780 - accuracy: 0.8836 - val_loss: 0.3046 - val_accuracy: 0.8850\n",
            "Epoch 59/500\n",
            "6/6 [==============================] - 0s 4ms/step - loss: 0.2748 - accuracy: 0.8843 - val_loss: 0.2991 - val_accuracy: 0.8900\n",
            "Epoch 60/500\n",
            "6/6 [==============================] - 0s 4ms/step - loss: 0.2757 - accuracy: 0.8815 - val_loss: 0.2940 - val_accuracy: 0.8850\n",
            "Epoch 61/500\n",
            "6/6 [==============================] - 0s 5ms/step - loss: 0.2710 - accuracy: 0.8829 - val_loss: 0.3012 - val_accuracy: 0.8850\n",
            "Epoch 62/500\n",
            "6/6 [==============================] - 0s 5ms/step - loss: 0.2677 - accuracy: 0.8894 - val_loss: 0.2946 - val_accuracy: 0.8850\n",
            "Epoch 63/500\n",
            "6/6 [==============================] - 0s 4ms/step - loss: 0.2649 - accuracy: 0.8894 - val_loss: 0.2928 - val_accuracy: 0.8900\n",
            "Epoch 64/500\n",
            "6/6 [==============================] - 0s 5ms/step - loss: 0.2618 - accuracy: 0.8908 - val_loss: 0.2912 - val_accuracy: 0.8800\n",
            "Epoch 65/500\n",
            "6/6 [==============================] - 0s 5ms/step - loss: 0.2588 - accuracy: 0.8951 - val_loss: 0.2880 - val_accuracy: 0.8850\n",
            "Epoch 66/500\n",
            "6/6 [==============================] - 0s 4ms/step - loss: 0.2558 - accuracy: 0.8951 - val_loss: 0.2827 - val_accuracy: 0.8850\n",
            "Epoch 67/500\n",
            "6/6 [==============================] - 0s 4ms/step - loss: 0.2562 - accuracy: 0.8944 - val_loss: 0.2786 - val_accuracy: 0.8850\n",
            "Epoch 68/500\n",
            "6/6 [==============================] - 0s 4ms/step - loss: 0.2518 - accuracy: 0.9009 - val_loss: 0.2789 - val_accuracy: 0.8850\n",
            "Epoch 69/500\n",
            "6/6 [==============================] - 0s 5ms/step - loss: 0.2486 - accuracy: 0.8951 - val_loss: 0.2784 - val_accuracy: 0.8900\n",
            "Epoch 70/500\n",
            "6/6 [==============================] - 0s 6ms/step - loss: 0.2470 - accuracy: 0.8980 - val_loss: 0.2782 - val_accuracy: 0.8900\n",
            "Epoch 71/500\n",
            "6/6 [==============================] - 0s 5ms/step - loss: 0.2465 - accuracy: 0.8966 - val_loss: 0.2756 - val_accuracy: 0.8850\n",
            "Epoch 72/500\n",
            "6/6 [==============================] - 0s 6ms/step - loss: 0.2443 - accuracy: 0.8994 - val_loss: 0.2758 - val_accuracy: 0.9000\n",
            "Epoch 73/500\n",
            "6/6 [==============================] - 0s 4ms/step - loss: 0.2412 - accuracy: 0.9023 - val_loss: 0.2701 - val_accuracy: 0.9000\n",
            "Epoch 74/500\n",
            "6/6 [==============================] - 0s 4ms/step - loss: 0.2397 - accuracy: 0.9016 - val_loss: 0.2672 - val_accuracy: 0.9000\n",
            "Epoch 75/500\n",
            "6/6 [==============================] - 0s 4ms/step - loss: 0.2385 - accuracy: 0.9023 - val_loss: 0.2710 - val_accuracy: 0.9100\n",
            "Epoch 76/500\n",
            "6/6 [==============================] - 0s 4ms/step - loss: 0.2360 - accuracy: 0.9059 - val_loss: 0.2712 - val_accuracy: 0.9000\n",
            "Epoch 77/500\n",
            "6/6 [==============================] - 0s 5ms/step - loss: 0.2339 - accuracy: 0.9073 - val_loss: 0.2718 - val_accuracy: 0.9050\n",
            "Epoch 78/500\n",
            "6/6 [==============================] - 0s 5ms/step - loss: 0.2320 - accuracy: 0.9059 - val_loss: 0.2679 - val_accuracy: 0.9050\n",
            "Epoch 79/500\n",
            "6/6 [==============================] - 0s 4ms/step - loss: 0.2309 - accuracy: 0.9059 - val_loss: 0.2633 - val_accuracy: 0.9050\n",
            "Epoch 80/500\n",
            "6/6 [==============================] - 0s 6ms/step - loss: 0.2285 - accuracy: 0.9073 - val_loss: 0.2687 - val_accuracy: 0.9100\n",
            "Epoch 81/500\n",
            "6/6 [==============================] - 0s 6ms/step - loss: 0.2273 - accuracy: 0.9109 - val_loss: 0.2667 - val_accuracy: 0.9000\n",
            "Epoch 82/500\n",
            "6/6 [==============================] - 0s 5ms/step - loss: 0.2255 - accuracy: 0.9131 - val_loss: 0.2650 - val_accuracy: 0.9150\n",
            "Epoch 83/500\n",
            "6/6 [==============================] - 0s 5ms/step - loss: 0.2246 - accuracy: 0.9080 - val_loss: 0.2658 - val_accuracy: 0.9050\n",
            "Epoch 84/500\n",
            "6/6 [==============================] - 0s 5ms/step - loss: 0.2223 - accuracy: 0.9138 - val_loss: 0.2634 - val_accuracy: 0.9100\n",
            "Epoch 85/500\n",
            "6/6 [==============================] - 0s 4ms/step - loss: 0.2215 - accuracy: 0.9124 - val_loss: 0.2602 - val_accuracy: 0.9100\n",
            "Epoch 86/500\n",
            "6/6 [==============================] - 0s 5ms/step - loss: 0.2201 - accuracy: 0.9152 - val_loss: 0.2571 - val_accuracy: 0.9150\n",
            "Epoch 87/500\n",
            "6/6 [==============================] - 0s 4ms/step - loss: 0.2183 - accuracy: 0.9131 - val_loss: 0.2610 - val_accuracy: 0.9100\n",
            "Epoch 88/500\n",
            "6/6 [==============================] - 0s 4ms/step - loss: 0.2175 - accuracy: 0.9152 - val_loss: 0.2719 - val_accuracy: 0.8900\n",
            "Epoch 89/500\n",
            "6/6 [==============================] - 0s 4ms/step - loss: 0.2165 - accuracy: 0.9181 - val_loss: 0.2701 - val_accuracy: 0.8950\n",
            "Epoch 90/500\n",
            "6/6 [==============================] - 0s 7ms/step - loss: 0.2157 - accuracy: 0.9152 - val_loss: 0.2660 - val_accuracy: 0.9000\n",
            "Epoch 91/500\n",
            "6/6 [==============================] - 0s 5ms/step - loss: 0.2129 - accuracy: 0.9159 - val_loss: 0.2605 - val_accuracy: 0.9050\n",
            "Epoch 92/500\n",
            "6/6 [==============================] - 0s 5ms/step - loss: 0.2125 - accuracy: 0.9174 - val_loss: 0.2554 - val_accuracy: 0.9100\n",
            "Epoch 93/500\n",
            "6/6 [==============================] - 0s 5ms/step - loss: 0.2109 - accuracy: 0.9231 - val_loss: 0.2578 - val_accuracy: 0.9100\n",
            "Epoch 94/500\n",
            "6/6 [==============================] - 0s 6ms/step - loss: 0.2091 - accuracy: 0.9231 - val_loss: 0.2560 - val_accuracy: 0.9100\n",
            "Epoch 95/500\n",
            "6/6 [==============================] - 0s 5ms/step - loss: 0.2086 - accuracy: 0.9159 - val_loss: 0.2561 - val_accuracy: 0.9050\n",
            "Epoch 96/500\n",
            "6/6 [==============================] - 0s 5ms/step - loss: 0.2078 - accuracy: 0.9217 - val_loss: 0.2598 - val_accuracy: 0.9050\n",
            "Epoch 97/500\n",
            "6/6 [==============================] - 0s 5ms/step - loss: 0.2061 - accuracy: 0.9224 - val_loss: 0.2514 - val_accuracy: 0.9150\n",
            "Epoch 98/500\n",
            "6/6 [==============================] - 0s 5ms/step - loss: 0.2057 - accuracy: 0.9167 - val_loss: 0.2484 - val_accuracy: 0.9150\n",
            "Epoch 99/500\n",
            "6/6 [==============================] - 0s 5ms/step - loss: 0.2032 - accuracy: 0.9224 - val_loss: 0.2532 - val_accuracy: 0.9100\n",
            "Epoch 100/500\n",
            "6/6 [==============================] - 0s 6ms/step - loss: 0.2028 - accuracy: 0.9224 - val_loss: 0.2527 - val_accuracy: 0.9100\n",
            "Epoch 101/500\n",
            "6/6 [==============================] - 0s 5ms/step - loss: 0.2012 - accuracy: 0.9210 - val_loss: 0.2525 - val_accuracy: 0.9150\n",
            "Epoch 102/500\n",
            "6/6 [==============================] - 0s 5ms/step - loss: 0.1992 - accuracy: 0.9253 - val_loss: 0.2455 - val_accuracy: 0.9100\n",
            "Epoch 103/500\n",
            "6/6 [==============================] - 0s 5ms/step - loss: 0.1976 - accuracy: 0.9239 - val_loss: 0.2499 - val_accuracy: 0.9150\n",
            "Epoch 104/500\n",
            "6/6 [==============================] - 0s 5ms/step - loss: 0.1967 - accuracy: 0.9239 - val_loss: 0.2521 - val_accuracy: 0.9050\n",
            "Epoch 105/500\n",
            "6/6 [==============================] - 0s 4ms/step - loss: 0.1955 - accuracy: 0.9260 - val_loss: 0.2524 - val_accuracy: 0.9050\n",
            "Epoch 106/500\n",
            "6/6 [==============================] - 0s 5ms/step - loss: 0.1937 - accuracy: 0.9267 - val_loss: 0.2487 - val_accuracy: 0.9100\n",
            "Epoch 107/500\n",
            "6/6 [==============================] - 0s 5ms/step - loss: 0.1922 - accuracy: 0.9267 - val_loss: 0.2479 - val_accuracy: 0.9100\n",
            "Epoch 108/500\n",
            "6/6 [==============================] - 0s 5ms/step - loss: 0.1914 - accuracy: 0.9246 - val_loss: 0.2471 - val_accuracy: 0.9100\n",
            "Epoch 109/500\n",
            "6/6 [==============================] - 0s 5ms/step - loss: 0.1901 - accuracy: 0.9310 - val_loss: 0.2442 - val_accuracy: 0.9150\n",
            "Epoch 110/500\n",
            "6/6 [==============================] - 0s 5ms/step - loss: 0.1885 - accuracy: 0.9303 - val_loss: 0.2455 - val_accuracy: 0.9050\n",
            "Epoch 111/500\n",
            "6/6 [==============================] - 0s 5ms/step - loss: 0.1884 - accuracy: 0.9260 - val_loss: 0.2445 - val_accuracy: 0.9150\n",
            "Epoch 112/500\n",
            "6/6 [==============================] - 0s 4ms/step - loss: 0.1865 - accuracy: 0.9296 - val_loss: 0.2460 - val_accuracy: 0.9100\n",
            "Epoch 113/500\n",
            "6/6 [==============================] - 0s 4ms/step - loss: 0.1851 - accuracy: 0.9296 - val_loss: 0.2469 - val_accuracy: 0.9100\n",
            "Epoch 114/500\n",
            "6/6 [==============================] - 0s 5ms/step - loss: 0.1847 - accuracy: 0.9282 - val_loss: 0.2430 - val_accuracy: 0.9150\n",
            "Epoch 115/500\n",
            "6/6 [==============================] - 0s 5ms/step - loss: 0.1824 - accuracy: 0.9310 - val_loss: 0.2454 - val_accuracy: 0.9100\n",
            "Epoch 116/500\n",
            "6/6 [==============================] - 0s 6ms/step - loss: 0.1835 - accuracy: 0.9274 - val_loss: 0.2489 - val_accuracy: 0.8950\n",
            "Epoch 117/500\n",
            "6/6 [==============================] - 0s 6ms/step - loss: 0.1803 - accuracy: 0.9353 - val_loss: 0.2524 - val_accuracy: 0.9000\n",
            "Epoch 118/500\n",
            "6/6 [==============================] - 0s 5ms/step - loss: 0.1803 - accuracy: 0.9303 - val_loss: 0.2481 - val_accuracy: 0.9100\n",
            "Epoch 119/500\n",
            "6/6 [==============================] - 0s 5ms/step - loss: 0.1800 - accuracy: 0.9289 - val_loss: 0.2495 - val_accuracy: 0.9100\n",
            "Epoch 120/500\n",
            "6/6 [==============================] - 0s 5ms/step - loss: 0.1790 - accuracy: 0.9310 - val_loss: 0.2498 - val_accuracy: 0.8950\n",
            "Epoch 121/500\n",
            "6/6 [==============================] - 0s 5ms/step - loss: 0.1776 - accuracy: 0.9289 - val_loss: 0.2491 - val_accuracy: 0.9000\n",
            "Epoch 122/500\n",
            "6/6 [==============================] - 0s 5ms/step - loss: 0.1774 - accuracy: 0.9332 - val_loss: 0.2525 - val_accuracy: 0.8950\n",
            "Epoch 123/500\n",
            "6/6 [==============================] - 0s 5ms/step - loss: 0.1759 - accuracy: 0.9346 - val_loss: 0.2504 - val_accuracy: 0.8900\n",
            "Epoch 124/500\n",
            "6/6 [==============================] - 0s 6ms/step - loss: 0.1759 - accuracy: 0.9332 - val_loss: 0.2533 - val_accuracy: 0.9000\n",
            "Epoch 00124: early stopping\n"
          ],
          "name": "stdout"
        }
      ]
    },
    {
      "cell_type": "code",
      "metadata": {
        "id": "9mN7n6l7hzjq",
        "outputId": "09b3cca8-84e0-4e79-a461-0019cd49fbb8",
        "colab": {
          "base_uri": "https://localhost:8080/"
        }
      },
      "source": [
        "from sklearn.metrics import classification_report\n",
        "\n",
        "probs       = classifier.predict(X_test_norm)\n",
        "preds       = probs > 0.5\n",
        "print('Neural network score on test:\\n',classification_report(y_test, preds))"
      ],
      "execution_count": null,
      "outputs": [
        {
          "output_type": "stream",
          "text": [
            "Neural network score on test:\n",
            "               precision    recall  f1-score   support\n",
            "\n",
            "           0       0.82      0.84      0.83       198\n",
            "           1       0.84      0.82      0.83       201\n",
            "\n",
            "    accuracy                           0.83       399\n",
            "   macro avg       0.83      0.83      0.83       399\n",
            "weighted avg       0.83      0.83      0.83       399\n",
            "\n"
          ],
          "name": "stdout"
        }
      ]
    },
    {
      "cell_type": "code",
      "metadata": {
        "id": "gClJEaL3jiBv",
        "outputId": "6ae2067c-bb1a-4ae6-e970-a154ad5cc53a",
        "colab": {
          "base_uri": "https://localhost:8080/",
          "height": 715
        }
      },
      "source": [
        "# Визуелизација на вредностите на функцијата на загуба при тренирање и валидација\n",
        "import matplotlib.pyplot as plt\n",
        "\n",
        "loss_train = np.asarray(history_callback.history['loss'])\n",
        "loss_val = np.asarray(history_callback.history['val_loss'])\n",
        "epochs = range(1,loss_train.shape[0]+1)\n",
        "plt.axes([0,0,2.5,1])\n",
        "plt.plot(epochs, loss_train, 'g', label='Training loss')\n",
        "plt.plot(epochs, loss_val, 'b', label='Validation loss')\n",
        "plt.title('Training and Validation loss')\n",
        "plt.xlabel('Epochs')\n",
        "plt.ylabel('Loss')\n",
        "plt.legend()\n",
        "plt.show()\n",
        "\n",
        "# Визуелизација на вредностите на accuracy при тренирање и валидација\n",
        "acc_train = np.asarray(history_callback.history['accuracy'])\n",
        "acc_val = np.asarray(history_callback.history['val_accuracy'])\n",
        "epochs = range(1,acc_train.shape[0]+1)\n",
        "plt.axes([0,0,2.5,1])\n",
        "plt.plot(epochs, acc_train, 'r', label='Training accuracy')\n",
        "plt.plot(epochs, acc_val, 'orange', label='Validation accuracy')\n",
        "plt.title('Training and Validation accuracy')\n",
        "plt.xlabel('Epochs')\n",
        "plt.ylabel('Accuracy')\n",
        "plt.legend()\n",
        "plt.show()"
      ],
      "execution_count": null,
      "outputs": [
        {
          "output_type": "display_data",
          "data": {
            "image/png": "[encoded data removed]",
            "text/plain": [
              "<Figure size 432x288 with 1 Axes>"
            ]
          },
          "metadata": {
            "tags": [],
            "needs_background": "light"
          }
        },
        {
          "output_type": "display_data",
          "data": {
            "image/png": "[encoded data removed]",
            "text/plain": [
              "<Figure size 432x288 with 1 Axes>"
            ]
          },
          "metadata": {
            "tags": [],
            "needs_background": "light"
          }
        }
      ]
    },
    {
      "cell_type": "code",
      "metadata": {
        "id": "lhSvvGBbPfVo",
        "outputId": "6ca61fed-5c46-4fca-b973-450d8f95e77e",
        "colab": {
          "base_uri": "https://localhost:8080/",
          "height": 312
        }
      },
      "source": [
        "import seaborn as sn\n",
        "from sklearn.metrics import confusion_matrix\n",
        "import warnings\n",
        "warnings.simplefilter(action='ignore', category=FutureWarning)\n",
        "import pandas as pd\n",
        "\n",
        "cm=confusion_matrix(y_test,preds)\n",
        "names = ['bad', 'good'] \n",
        "cm = 100 * cm.astype('float') / cm.sum(axis=-1)[:, np.newaxis]  \n",
        " \n",
        "\n",
        "df = pd.DataFrame(data=cm, columns=names, index=names)\n",
        "g = sn.heatmap(df, annot=True, fmt=\".1f\", linewidths=.5, vmin=0, vmax=100,\n",
        "                    cmap='Blues')\n",
        "g.set_title('Confusion matrix')\n",
        "g.set_ylabel('True label')\n",
        "g.set_xlabel('Predicted label')\n",
        "g.plot()"
      ],
      "execution_count": null,
      "outputs": [
        {
          "output_type": "execute_result",
          "data": {
            "text/plain": [
              "[]"
            ]
          },
          "metadata": {
            "tags": []
          },
          "execution_count": 30
        },
        {
          "output_type": "display_data",
          "data": {
            "image/png": "[encoded data removed]",
            "text/plain": [
              "<Figure size 432x288 with 2 Axes>"
            ]
          },
          "metadata": {
            "tags": [],
            "needs_background": "light"
          }
        }
      ]
    },
    {
      "cell_type": "code",
      "metadata": {
        "id": "oILrT70ooJ6M",
        "outputId": "b337a20e-c9a0-4446-83b7-d4fbc74a429a",
        "colab": {
          "base_uri": "https://localhost:8080/",
          "height": 235
        }
      },
      "source": [
        "confusion = confusion_matrix(y_test, preds)\n",
        "TP = confusion[1, 1]\n",
        "TN = confusion[0, 0]\n",
        "FP = confusion[0, 1]\n",
        "FN = confusion[1, 0]\n",
        "\n",
        "\n",
        "df_Results.loc[5, \"Model\"] = \"NN #1\"\n",
        "df_Results.loc[5, \"Acc\"] = accuracy_score(y_test, preds)\n",
        "df_Results.loc[5, \"Recall\"] = recall_score(y_test, preds)\n",
        "df_Results.loc[5, \"ROC\"] = roc_auc_score(y_test,preds)\n",
        "df_Results.loc[5, \"TP\"] = TP\n",
        "df_Results.loc[5, \"FN\"] = FN\n",
        "\n",
        "df_Results.head(6)"
      ],
      "execution_count": null,
      "outputs": [
        {
          "output_type": "execute_result",
          "data": {
            "text/html": [
              "<div>\n",
              "<style scoped>\n",
              "    .dataframe tbody tr th:only-of-type {\n",
              "        vertical-align: middle;\n",
              "    }\n",
              "\n",
              "    .dataframe tbody tr th {\n",
              "        vertical-align: top;\n",
              "    }\n",
              "\n",
              "    .dataframe thead th {\n",
              "        text-align: right;\n",
              "    }\n",
              "</style>\n",
              "<table border=\"1\" class=\"dataframe\">\n",
              "  <thead>\n",
              "    <tr style=\"text-align: right;\">\n",
              "      <th></th>\n",
              "      <th>Model</th>\n",
              "      <th>Acc</th>\n",
              "      <th>Recall</th>\n",
              "      <th>ROC</th>\n",
              "      <th>TP</th>\n",
              "      <th>FN</th>\n",
              "    </tr>\n",
              "  </thead>\n",
              "  <tbody>\n",
              "    <tr>\n",
              "      <th>0</th>\n",
              "      <td>Decision Tree</td>\n",
              "      <td>0.884712</td>\n",
              "      <td>0.880597</td>\n",
              "      <td>0.884743</td>\n",
              "      <td>177</td>\n",
              "      <td>24</td>\n",
              "    </tr>\n",
              "    <tr>\n",
              "      <th>1</th>\n",
              "      <td>Random Forest</td>\n",
              "      <td>0.912281</td>\n",
              "      <td>0.865672</td>\n",
              "      <td>0.912634</td>\n",
              "      <td>174</td>\n",
              "      <td>27</td>\n",
              "    </tr>\n",
              "    <tr>\n",
              "      <th>2</th>\n",
              "      <td>Naive Bayes</td>\n",
              "      <td>0.726817</td>\n",
              "      <td>0.547264</td>\n",
              "      <td>0.728177</td>\n",
              "      <td>110</td>\n",
              "      <td>91</td>\n",
              "    </tr>\n",
              "    <tr>\n",
              "      <th>3</th>\n",
              "      <td>XGBoost</td>\n",
              "      <td>0.944862</td>\n",
              "      <td>0.915423</td>\n",
              "      <td>0.945085</td>\n",
              "      <td>184</td>\n",
              "      <td>17</td>\n",
              "    </tr>\n",
              "    <tr>\n",
              "      <th>4</th>\n",
              "      <td>KNN</td>\n",
              "      <td>0.609023</td>\n",
              "      <td>0.60199</td>\n",
              "      <td>0.609076</td>\n",
              "      <td>121</td>\n",
              "      <td>80</td>\n",
              "    </tr>\n",
              "    <tr>\n",
              "      <th>5</th>\n",
              "      <td>NN #1</td>\n",
              "      <td>0.829574</td>\n",
              "      <td>0.81592</td>\n",
              "      <td>0.829677</td>\n",
              "      <td>164</td>\n",
              "      <td>37</td>\n",
              "    </tr>\n",
              "  </tbody>\n",
              "</table>\n",
              "</div>"
            ],
            "text/plain": [
              "            Model       Acc    Recall       ROC   TP  FN\n",
              "0  Decision Tree   0.884712  0.880597  0.884743  177  24\n",
              "1   Random Forest  0.912281  0.865672  0.912634  174  27\n",
              "2     Naive Bayes  0.726817  0.547264  0.728177  110  91\n",
              "3         XGBoost  0.944862  0.915423  0.945085  184  17\n",
              "4             KNN  0.609023   0.60199  0.609076  121  80\n",
              "5           NN #1  0.829574   0.81592  0.829677  164  37"
            ]
          },
          "metadata": {
            "tags": []
          },
          "execution_count": 31
        }
      ]
    },
    {
      "cell_type": "code",
      "metadata": {
        "id": "hZS_Z2pelnKG"
      },
      "source": [
        "#Зачувување на моделот и тежините\n",
        "classifier.save(\"/content/drive/My Drive/neural_network_nova.h5\")\n",
        "classifier.save_weights(\"/content/drive/My Drive/neural_network_nova_weights.h5\")"
      ],
      "execution_count": null,
      "outputs": []
    },
    {
      "cell_type": "code",
      "metadata": {
        "id": "E4DBsi3tmLbX"
      },
      "source": [
        "# Зачувување на вредностите на функцијата на загуба при тренирање и валидација\n",
        "np.savetxt(\"/content/drive/My Drive/loss_train_nova.txt\", loss_train, delimiter=\",\")\n",
        "np.savetxt(\"/content/drive/My Drive/loss_val_nova.txt\", loss_val, delimiter=\",\")\n",
        "np.savetxt(\"/content/drive/My Drive/acc_train_nova.txt\", acc_train, delimiter=\",\")\n",
        "np.savetxt(\"/content/drive/My Drive/acc_val_nova.txt\", acc_val, delimiter=\",\")"
      ],
      "execution_count": null,
      "outputs": []
    },
    {
      "cell_type": "code",
      "metadata": {
        "id": "e9w9img-vOyd",
        "outputId": "6681e0f0-1622-464a-8a79-957238b2d6ee",
        "colab": {
          "base_uri": "https://localhost:8080/",
          "height": 715
        }
      },
      "source": [
        "tmp1 = np.loadtxt(\"/content/drive/My Drive/loss_train_dobra.txt\", delimiter=\",\")\n",
        "tmp2 = np.loadtxt(\"/content/drive/My Drive/loss_val_dobra.txt\", delimiter=\",\")\n",
        "epochs = range(1,tmp1.shape[0]+1)\n",
        "plt.axes([0,0,2.5,1])\n",
        "plt.plot(epochs, tmp1, 'g', label='Training loss')\n",
        "plt.plot(epochs, tmp2, 'b', label='Validation loss')\n",
        "plt.title('Model loss')\n",
        "plt.xlabel('Epochs')\n",
        "plt.ylabel('Loss')\n",
        "plt.legend()\n",
        "plt.show()\n",
        "\n",
        "tmp1 = np.loadtxt(\"/content/drive/My Drive/acc_train_dobra.txt\", delimiter=\",\")\n",
        "tmp2 = np.loadtxt(\"/content/drive/My Drive/acc_val_dobra.txt\", delimiter=\",\")\n",
        "epochs = range(1,tmp1.shape[0]+1)\n",
        "plt.axes([0,0,2.5,1])\n",
        "plt.plot(epochs, tmp1, 'r', label='Training accuracy')\n",
        "plt.plot(epochs, tmp2, 'orange', label='Validation accuracy')\n",
        "plt.title('Model accuracy')\n",
        "plt.xlabel('Epochs')\n",
        "plt.ylabel('Accuracy')\n",
        "plt.legend()\n",
        "plt.show()"
      ],
      "execution_count": null,
      "outputs": [
        {
          "output_type": "display_data",
          "data": {
            "image/png": "[encoded data removed]",
            "text/plain": [
              "<Figure size 432x288 with 1 Axes>"
            ]
          },
          "metadata": {
            "tags": [],
            "needs_background": "light"
          }
        },
        {
          "output_type": "display_data",
          "data": {
            "image/png": "[encoded data removed]",
            "text/plain": [
              "<Figure size 432x288 with 1 Axes>"
            ]
          },
          "metadata": {
            "tags": [],
            "needs_background": "light"
          }
        }
      ]
    },
    {
      "cell_type": "code",
      "metadata": {
        "id": "t4XdDAXbp5ob",
        "outputId": "73db994c-805d-4de6-ee5a-8bd17c3507dd",
        "colab": {
          "base_uri": "https://localhost:8080/",
          "height": 279
        }
      },
      "source": [
        "from sklearn.metrics import roc_curve, auc\n",
        "import matplotlib.pyplot as plt\n",
        "\n",
        "actual = y_test\n",
        "NN_prob = [p[0] for p in classifier.predict(X_test_norm)]\n",
        "\n",
        "\n",
        "\n",
        "NN_false_pos, NN_true_pos, _ = roc_curve(actual, NN_prob)\n",
        "NN_auc = auc(NN_false_pos, NN_true_pos)\n",
        "\n",
        "\n",
        "# plot\n",
        "plt.plot(NN_false_pos, NN_true_pos, 'g', label='Neural Network AUC = %0.2f'% NN_auc)\n",
        "\n",
        "plt.legend(loc='lower right')\n",
        "plt.plot([0,1], [0,1], 'r--')\n",
        "plt.ylabel('True Positive Rate')\n",
        "plt.xlabel('False Positive Rate')\n",
        "plt.show()"
      ],
      "execution_count": null,
      "outputs": [
        {
          "output_type": "display_data",
          "data": {
            "image/png": "[encoded data removed]",
            "text/plain": [
              "<Figure size 432x288 with 1 Axes>"
            ]
          },
          "metadata": {
            "tags": [],
            "needs_background": "light"
          }
        }
      ]
    },
    {
      "cell_type": "markdown",
      "metadata": {
        "id": "RsBDEylBEKZ0"
      },
      "source": [
        "#KNN со подесени параметри"
      ]
    },
    {
      "cell_type": "code",
      "metadata": {
        "id": "pgXg58TsDaHu",
        "outputId": "89e76f7e-1f77-4b44-a640-db1c6ee515f2",
        "colab": {
          "base_uri": "https://localhost:8080/",
          "height": 499
        }
      },
      "source": [
        "from sklearn.model_selection import GridSearchCV\n",
        "\n",
        "param_KNN = {\"n_neighbors\": np.arange(1, 20),\n",
        "              \"weights\": ['uniform','distance']}\n",
        "\n",
        "# Instantiate the GridSearchCV object: logreg_cv\n",
        "KNN_cv = GridSearchCV(knn_model, param_KNN, cv=5, scoring='roc_auc')\n",
        "\n",
        "# Fit it to the data\n",
        "KNN_cv.fit(xtrain, ytrain)\n",
        "\n",
        "# Print the tuned parameters and score\n",
        "print(\"Tuned KNN Parameters: {}\".format(KNN_cv.best_params_)) \n",
        "print(\"Best score is {}\".format(KNN_cv.best_score_))\n",
        "print(classification_report(y_test, KNN_cv.predict(X_test) ))\n",
        "\n",
        "cm=confusion_matrix(y_test,KNN_cv.predict(X_test))\n",
        "names = ['bad', 'good'] \n",
        "\n",
        "cm = 100 * cm.astype('float') / cm.sum(axis=-1)[:, np.newaxis]  \n",
        "\n",
        "df = pd.DataFrame(data=cm, columns=names, index=names)\n",
        "g = sn.heatmap(df, annot=True, fmt=\".1f\", linewidths=.5, vmin=0, vmax=100,\n",
        "                    cmap='Blues')\n",
        "g.set_title('Confusion matrix')\n",
        "g.set_ylabel('True label')\n",
        "g.set_xlabel('Predicted label')\n",
        "g.plot()"
      ],
      "execution_count": null,
      "outputs": [
        {
          "output_type": "stream",
          "text": [
            "Tuned KNN Parameters: {'n_neighbors': 19, 'weights': 'uniform'}\n",
            "Best score is 0.6678119561837123\n",
            "              precision    recall  f1-score   support\n",
            "\n",
            "           0       0.59      0.72      0.65       198\n",
            "           1       0.65      0.51      0.57       201\n",
            "\n",
            "    accuracy                           0.61       399\n",
            "   macro avg       0.62      0.61      0.61       399\n",
            "weighted avg       0.62      0.61      0.61       399\n",
            "\n"
          ],
          "name": "stdout"
        },
        {
          "output_type": "execute_result",
          "data": {
            "text/plain": [
              "[]"
            ]
          },
          "metadata": {
            "tags": []
          },
          "execution_count": 39
        },
        {
          "output_type": "display_data",
          "data": {
            "image/png": "[encoded data removed]",
            "text/plain": [
              "<Figure size 432x288 with 2 Axes>"
            ]
          },
          "metadata": {
            "tags": [],
            "needs_background": "light"
          }
        }
      ]
    },
    {
      "cell_type": "code",
      "metadata": {
        "id": "xlm1xT0HEWji",
        "outputId": "a97ad5f4-503f-4c83-c3bb-b4cf79d0a6ec",
        "colab": {
          "base_uri": "https://localhost:8080/",
          "height": 266
        }
      },
      "source": [
        "confusion = confusion_matrix(y_test, KNN_cv.predict(X_test))\n",
        "TP = confusion[1, 1]\n",
        "TN = confusion[0, 0]\n",
        "FP = confusion[0, 1]\n",
        "FN = confusion[1, 0]\n",
        "\n",
        "df_Results.loc[6, \"Model\"] = \"Tuned KNN\"\n",
        "df_Results.loc[6, \"Acc\"] = accuracy_score(y_test, KNN_cv.predict(X_test))\n",
        "df_Results.loc[6, \"Recall\"] = recall_score(y_test, KNN_cv.predict(X_test))\n",
        "df_Results.loc[6, \"ROC\"] = roc_auc_score(y_test,KNN_cv.predict(X_test))\n",
        "df_Results.loc[6, \"TP\"] = TP\n",
        "df_Results.loc[6, \"FN\"] = FN\n",
        "\n",
        "df_Results.head(10)"
      ],
      "execution_count": null,
      "outputs": [
        {
          "output_type": "execute_result",
          "data": {
            "text/html": [
              "<div>\n",
              "<style scoped>\n",
              "    .dataframe tbody tr th:only-of-type {\n",
              "        vertical-align: middle;\n",
              "    }\n",
              "\n",
              "    .dataframe tbody tr th {\n",
              "        vertical-align: top;\n",
              "    }\n",
              "\n",
              "    .dataframe thead th {\n",
              "        text-align: right;\n",
              "    }\n",
              "</style>\n",
              "<table border=\"1\" class=\"dataframe\">\n",
              "  <thead>\n",
              "    <tr style=\"text-align: right;\">\n",
              "      <th></th>\n",
              "      <th>Model</th>\n",
              "      <th>Acc</th>\n",
              "      <th>Recall</th>\n",
              "      <th>ROC</th>\n",
              "      <th>TP</th>\n",
              "      <th>FN</th>\n",
              "    </tr>\n",
              "  </thead>\n",
              "  <tbody>\n",
              "    <tr>\n",
              "      <th>0</th>\n",
              "      <td>Decision Tree</td>\n",
              "      <td>0.884712</td>\n",
              "      <td>0.880597</td>\n",
              "      <td>0.884743</td>\n",
              "      <td>177</td>\n",
              "      <td>24</td>\n",
              "    </tr>\n",
              "    <tr>\n",
              "      <th>1</th>\n",
              "      <td>Random Forest</td>\n",
              "      <td>0.912281</td>\n",
              "      <td>0.865672</td>\n",
              "      <td>0.912634</td>\n",
              "      <td>174</td>\n",
              "      <td>27</td>\n",
              "    </tr>\n",
              "    <tr>\n",
              "      <th>2</th>\n",
              "      <td>Naive Bayes</td>\n",
              "      <td>0.726817</td>\n",
              "      <td>0.547264</td>\n",
              "      <td>0.728177</td>\n",
              "      <td>110</td>\n",
              "      <td>91</td>\n",
              "    </tr>\n",
              "    <tr>\n",
              "      <th>3</th>\n",
              "      <td>XGBoost</td>\n",
              "      <td>0.944862</td>\n",
              "      <td>0.915423</td>\n",
              "      <td>0.945085</td>\n",
              "      <td>184</td>\n",
              "      <td>17</td>\n",
              "    </tr>\n",
              "    <tr>\n",
              "      <th>4</th>\n",
              "      <td>KNN</td>\n",
              "      <td>0.609023</td>\n",
              "      <td>0.60199</td>\n",
              "      <td>0.609076</td>\n",
              "      <td>121</td>\n",
              "      <td>80</td>\n",
              "    </tr>\n",
              "    <tr>\n",
              "      <th>5</th>\n",
              "      <td>NN #1</td>\n",
              "      <td>0.829574</td>\n",
              "      <td>0.81592</td>\n",
              "      <td>0.829677</td>\n",
              "      <td>164</td>\n",
              "      <td>37</td>\n",
              "    </tr>\n",
              "    <tr>\n",
              "      <th>6</th>\n",
              "      <td>Tuned KNN</td>\n",
              "      <td>0.611529</td>\n",
              "      <td>0.507463</td>\n",
              "      <td>0.612317</td>\n",
              "      <td>102</td>\n",
              "      <td>99</td>\n",
              "    </tr>\n",
              "  </tbody>\n",
              "</table>\n",
              "</div>"
            ],
            "text/plain": [
              "            Model       Acc    Recall       ROC   TP  FN\n",
              "0  Decision Tree   0.884712  0.880597  0.884743  177  24\n",
              "1   Random Forest  0.912281  0.865672  0.912634  174  27\n",
              "2     Naive Bayes  0.726817  0.547264  0.728177  110  91\n",
              "3         XGBoost  0.944862  0.915423  0.945085  184  17\n",
              "4             KNN  0.609023   0.60199  0.609076  121  80\n",
              "5           NN #1  0.829574   0.81592  0.829677  164  37\n",
              "6       Tuned KNN  0.611529  0.507463  0.612317  102  99"
            ]
          },
          "metadata": {
            "tags": []
          },
          "execution_count": 40
        }
      ]
    },
    {
      "cell_type": "code",
      "metadata": {
        "id": "ShMd_hFMn_2c",
        "outputId": "562fd23b-e7e1-43e5-f54a-0d81b5b40587",
        "colab": {
          "base_uri": "https://localhost:8080/",
          "height": 279
        }
      },
      "source": [
        "from sklearn.metrics import roc_curve, auc\n",
        "import matplotlib.pyplot as plt\n",
        "\n",
        "actual = y_test\n",
        "KNN_cv_prob = [p[1] for p in KNN_cv.predict_proba(X_test)]\n",
        "knn_model_prob = [p[1] for p in knn_model.predict_proba(X_test)]\n",
        "\n",
        "\n",
        "\n",
        "KNN_cv_false_pos, KNN_cv_true_pos, _ = roc_curve(actual, KNN_cv_prob)\n",
        "KNN_cv_auc = auc(KNN_cv_false_pos, KNN_cv_true_pos)\n",
        "\n",
        "knn_model_false_pos, knn_model_true_pos, _ = roc_curve(actual, knn_model_prob)\n",
        "knn_model_auc = auc(knn_model_false_pos, knn_model_true_pos)\n",
        "\n",
        "# plot\n",
        "plt.plot(KNN_cv_false_pos, KNN_cv_true_pos, 'g', label='Tuned KNN AUC = %0.2f'% KNN_cv_auc)\n",
        "plt.plot(knn_model_false_pos, knn_model_true_pos, 'b', label='KNN AUC = %0.2f'% knn_model_auc)\n",
        "\n",
        "plt.legend(loc='lower right')\n",
        "plt.plot([0,1], [0,1], 'r--')\n",
        "plt.ylabel('True Positive Rate')\n",
        "plt.xlabel('False Positive Rate')\n",
        "plt.show()"
      ],
      "execution_count": null,
      "outputs": [
        {
          "output_type": "display_data",
          "data": {
            "image/png": "[encoded data removed]",
            "text/plain": [
              "<Figure size 432x288 with 1 Axes>"
            ]
          },
          "metadata": {
            "tags": [],
            "needs_background": "light"
          }
        }
      ]
    },
    {
      "cell_type": "markdown",
      "metadata": {
        "id": "Frkj--yqNDw2"
      },
      "source": [
        "#Random Forest со подесени параметри"
      ]
    },
    {
      "cell_type": "code",
      "metadata": {
        "id": "PpqCJzObKuwG",
        "outputId": "6efc997c-92af-498a-868d-a8f6ebfa96df",
        "colab": {
          "base_uri": "https://localhost:8080/",
          "height": 686
        }
      },
      "source": [
        "\n",
        "from sklearn.ensemble import BaggingClassifier\n",
        "from sklearn.model_selection import StratifiedKFold, RandomizedSearchCV\n",
        "\n",
        "kf = StratifiedKFold(n_splits=5, shuffle=True)\n",
        "\n",
        "parameters5 = {\"base_estimator__max_depth\": [3,5,None],\n",
        "          \"base_estimator__max_features\": [None, \"auto\"],\n",
        "          \"base_estimator__min_samples_leaf\": [1, 5],\n",
        "          \"base_estimator__min_samples_split\": [2, 5],\n",
        "          'bootstrap_features': [False, True],\n",
        "          'max_features': [0.5, 1.0],\n",
        "          'max_samples': [0.5, 1.0],\n",
        "          'n_estimators': [2, 5],\n",
        "         }\n",
        "\n",
        "model_rf = BaggingClassifier(DecisionTreeClassifier(random_state=42))\n",
        "\n",
        "gs5 = RandomizedSearchCV(model_rf, parameters5, scoring='recall', n_jobs=3, cv=kf)\n",
        "gs5.fit(xtrain, ytrain)\n",
        "\n",
        "print(\"Best score: %0.3f\" % gs5.best_score_) \n",
        "print(\"Best parameters set:\" )\n",
        "best_parameters5 = gs5.best_estimator_.get_params()\n",
        "for param_name5 in sorted (parameters5 . keys()): \n",
        "                    print(\"\\t %s: %r\" % (param_name5, best_parameters5[param_name5]))\n",
        "        \n",
        "y_pred = gs5.predict(X_test)\n",
        "\n",
        "print(classification_report(y_test, y_pred))\n",
        "print(\"accuracy: \",accuracy_score(y_test, y_pred))\n",
        "print (\"\\n\")\n",
        "# Визуелизација со матрица на конфузија \n",
        "cm=confusion_matrix(y_test,y_pred)\n",
        "names = ['bad', 'good'] \n",
        "\n",
        "cm = 100 * cm.astype('float') / cm.sum(axis=-1)[:, np.newaxis]  \n",
        "\n",
        "df = pd.DataFrame(data=cm, columns=names, index=names)\n",
        "g = sn.heatmap(df, annot=True, fmt=\".1f\", linewidths=.5, vmin=0, vmax=100,\n",
        "                    cmap='Blues')\n",
        "g.set_title('Confusion matrix')\n",
        "g.set_ylabel('True label')\n",
        "g.set_xlabel('Predicted label')\n",
        "g.plot()\n"
      ],
      "execution_count": null,
      "outputs": [
        {
          "output_type": "stream",
          "text": [
            "Best score: 0.872\n",
            "Best parameters set:\n",
            "\t base_estimator__max_depth: None\n",
            "\t base_estimator__max_features: None\n",
            "\t base_estimator__min_samples_leaf: 5\n",
            "\t base_estimator__min_samples_split: 5\n",
            "\t bootstrap_features: False\n",
            "\t max_features: 1.0\n",
            "\t max_samples: 1.0\n",
            "\t n_estimators: 2\n",
            "              precision    recall  f1-score   support\n",
            "\n",
            "           0       0.90      0.95      0.93       198\n",
            "           1       0.95      0.90      0.92       201\n",
            "\n",
            "    accuracy                           0.92       399\n",
            "   macro avg       0.93      0.93      0.92       399\n",
            "weighted avg       0.93      0.92      0.92       399\n",
            "\n",
            "accuracy:  0.924812030075188\n",
            "\n",
            "\n"
          ],
          "name": "stdout"
        },
        {
          "output_type": "execute_result",
          "data": {
            "text/plain": [
              "[]"
            ]
          },
          "metadata": {
            "tags": []
          },
          "execution_count": 42
        },
        {
          "output_type": "display_data",
          "data": {
            "image/png": "[encoded data removed]",
            "text/plain": [
              "<Figure size 432x288 with 2 Axes>"
            ]
          },
          "metadata": {
            "tags": [],
            "needs_background": "light"
          }
        }
      ]
    },
    {
      "cell_type": "code",
      "metadata": {
        "id": "fVHfLXxnKtQ8",
        "outputId": "1ff972fd-f1a1-4a07-c0a2-b09e151d3bdb",
        "colab": {
          "base_uri": "https://localhost:8080/",
          "height": 297
        }
      },
      "source": [
        "confusion = confusion_matrix(y_test, y_pred)\n",
        "TP = confusion[1, 1]\n",
        "TN = confusion[0, 0]\n",
        "FP = confusion[0, 1]\n",
        "FN = confusion[1, 0]\n",
        "\n",
        "df_Results.loc[7, \"Model\"] = \"Tuned Random Forest\"\n",
        "df_Results.loc[7, \"Acc\"] = accuracy_score(y_test, y_pred)\n",
        "df_Results.loc[7, \"Recall\"] = recall_score(y_test, y_pred)\n",
        "df_Results.loc[7, \"ROC\"] = roc_auc_score(y_test,y_pred)\n",
        "df_Results.loc[7, \"TP\"] = TP\n",
        "df_Results.loc[7, \"FN\"] = FN\n",
        "\n",
        "df_Results.head(10)"
      ],
      "execution_count": null,
      "outputs": [
        {
          "output_type": "execute_result",
          "data": {
            "text/html": [
              "<div>\n",
              "<style scoped>\n",
              "    .dataframe tbody tr th:only-of-type {\n",
              "        vertical-align: middle;\n",
              "    }\n",
              "\n",
              "    .dataframe tbody tr th {\n",
              "        vertical-align: top;\n",
              "    }\n",
              "\n",
              "    .dataframe thead th {\n",
              "        text-align: right;\n",
              "    }\n",
              "</style>\n",
              "<table border=\"1\" class=\"dataframe\">\n",
              "  <thead>\n",
              "    <tr style=\"text-align: right;\">\n",
              "      <th></th>\n",
              "      <th>Model</th>\n",
              "      <th>Acc</th>\n",
              "      <th>Recall</th>\n",
              "      <th>ROC</th>\n",
              "      <th>TP</th>\n",
              "      <th>FN</th>\n",
              "    </tr>\n",
              "  </thead>\n",
              "  <tbody>\n",
              "    <tr>\n",
              "      <th>0</th>\n",
              "      <td>Decision Tree</td>\n",
              "      <td>0.884712</td>\n",
              "      <td>0.880597</td>\n",
              "      <td>0.884743</td>\n",
              "      <td>177</td>\n",
              "      <td>24</td>\n",
              "    </tr>\n",
              "    <tr>\n",
              "      <th>1</th>\n",
              "      <td>Random Forest</td>\n",
              "      <td>0.912281</td>\n",
              "      <td>0.865672</td>\n",
              "      <td>0.912634</td>\n",
              "      <td>174</td>\n",
              "      <td>27</td>\n",
              "    </tr>\n",
              "    <tr>\n",
              "      <th>2</th>\n",
              "      <td>Naive Bayes</td>\n",
              "      <td>0.726817</td>\n",
              "      <td>0.547264</td>\n",
              "      <td>0.728177</td>\n",
              "      <td>110</td>\n",
              "      <td>91</td>\n",
              "    </tr>\n",
              "    <tr>\n",
              "      <th>3</th>\n",
              "      <td>XGBoost</td>\n",
              "      <td>0.944862</td>\n",
              "      <td>0.915423</td>\n",
              "      <td>0.945085</td>\n",
              "      <td>184</td>\n",
              "      <td>17</td>\n",
              "    </tr>\n",
              "    <tr>\n",
              "      <th>4</th>\n",
              "      <td>KNN</td>\n",
              "      <td>0.609023</td>\n",
              "      <td>0.60199</td>\n",
              "      <td>0.609076</td>\n",
              "      <td>121</td>\n",
              "      <td>80</td>\n",
              "    </tr>\n",
              "    <tr>\n",
              "      <th>5</th>\n",
              "      <td>NN #1</td>\n",
              "      <td>0.829574</td>\n",
              "      <td>0.81592</td>\n",
              "      <td>0.829677</td>\n",
              "      <td>164</td>\n",
              "      <td>37</td>\n",
              "    </tr>\n",
              "    <tr>\n",
              "      <th>6</th>\n",
              "      <td>Tuned KNN</td>\n",
              "      <td>0.611529</td>\n",
              "      <td>0.507463</td>\n",
              "      <td>0.612317</td>\n",
              "      <td>102</td>\n",
              "      <td>99</td>\n",
              "    </tr>\n",
              "    <tr>\n",
              "      <th>7</th>\n",
              "      <td>Tuned Random Forest</td>\n",
              "      <td>0.924812</td>\n",
              "      <td>0.895522</td>\n",
              "      <td>0.925034</td>\n",
              "      <td>180</td>\n",
              "      <td>21</td>\n",
              "    </tr>\n",
              "  </tbody>\n",
              "</table>\n",
              "</div>"
            ],
            "text/plain": [
              "                 Model       Acc    Recall       ROC   TP  FN\n",
              "0       Decision Tree   0.884712  0.880597  0.884743  177  24\n",
              "1        Random Forest  0.912281  0.865672  0.912634  174  27\n",
              "2          Naive Bayes  0.726817  0.547264  0.728177  110  91\n",
              "3              XGBoost  0.944862  0.915423  0.945085  184  17\n",
              "4                  KNN  0.609023   0.60199  0.609076  121  80\n",
              "5                NN #1  0.829574   0.81592  0.829677  164  37\n",
              "6            Tuned KNN  0.611529  0.507463  0.612317  102  99\n",
              "7  Tuned Random Forest  0.924812  0.895522  0.925034  180  21"
            ]
          },
          "metadata": {
            "tags": []
          },
          "execution_count": 43
        }
      ]
    },
    {
      "cell_type": "code",
      "metadata": {
        "id": "AXuF_eSyoJ9H",
        "outputId": "871324f7-fbcf-4dd2-e6ca-73861635b30c",
        "colab": {
          "base_uri": "https://localhost:8080/",
          "height": 279
        }
      },
      "source": [
        "from sklearn.metrics import roc_curve, auc\n",
        "import matplotlib.pyplot as plt\n",
        "\n",
        "actual = y_test\n",
        "gs5_prob = [p[1] for p in gs5.predict_proba(X_test)]\n",
        "random_forest_prob = [p[1] for p in rfc.predict_proba(X_test)]\n",
        "\n",
        "\n",
        "\n",
        "gs5_false_pos, gs5_true_pos, _ = roc_curve(actual, gs5_prob)\n",
        "gs5_auc = auc(gs5_false_pos, gs5_true_pos)\n",
        "\n",
        "rf_false_pos, rf_true_pos, _ = roc_curve(actual, random_forest_prob)\n",
        "rf_auc = auc(rf_false_pos, rf_true_pos)\n",
        "\n",
        "# plot\n",
        "plt.plot(gs5_false_pos, gs5_true_pos, 'g', label='Tuned RF AUC = %0.3f'% gs5_auc)\n",
        "plt.plot(rf_false_pos, rf_true_pos, 'b', label='Random Forest AUC = %0.3f'% rf_auc)\n",
        "\n",
        "plt.legend(loc='lower right')\n",
        "plt.plot([0,1], [0,1], 'r--')\n",
        "plt.ylabel('True Positive Rate')\n",
        "plt.xlabel('False Positive Rate')\n",
        "plt.show()"
      ],
      "execution_count": null,
      "outputs": [
        {
          "output_type": "display_data",
          "data": {
            "image/png": "[encoded data removed]",
            "text/plain": [
              "<Figure size 432x288 with 1 Axes>"
            ]
          },
          "metadata": {
            "tags": [],
            "needs_background": "light"
          }
        }
      ]
    },
    {
      "cell_type": "markdown",
      "metadata": {
        "id": "rdpLGA62QuMQ"
      },
      "source": [
        "#SVM"
      ]
    },
    {
      "cell_type": "code",
      "metadata": {
        "id": "2qC2lnGDbJ69"
      },
      "source": [
        "X_train_norm = scaler.fit_transform(xtrain)"
      ],
      "execution_count": null,
      "outputs": []
    },
    {
      "cell_type": "code",
      "metadata": {
        "id": "t7GkkmAqQUKd",
        "outputId": "2fd6e045-506d-48ee-c07d-0366fa5b8715",
        "colab": {
          "base_uri": "https://localhost:8080/",
          "height": 465
        }
      },
      "source": [
        "from sklearn.svm import SVC\n",
        "SVM = SVC()\n",
        "\n",
        "SVM.probability = True\n",
        "SVM.fit(X_train_norm, ytrain)\n",
        "\n",
        "y_pred = SVM.predict(X_test_norm)\n",
        "\n",
        "from sklearn.metrics import classification_report\n",
        "print(classification_report(y_test, y_pred))\n",
        "\n",
        "\n",
        "confusion = confusion_matrix(y_test,y_pred)\n",
        "import seaborn as sn\n",
        "from sklearn.metrics import confusion_matrix\n",
        "import warnings\n",
        "warnings.simplefilter(action='ignore', category=FutureWarning)\n",
        "import pandas as pd\n",
        "\n",
        "# Визуелизација со матрица на конфузија \n",
        "names = ['bad', 'good'] \n",
        "\n",
        "confusion = 100 * confusion.astype('float') / confusion.sum(axis=-1)[:, np.newaxis]  \n",
        "\n",
        "df = pd.DataFrame(data=confusion, columns=names, index=names)\n",
        "g = sn.heatmap(df, annot=True, fmt=\".1f\", linewidths=.5, vmin=0, vmax=100,\n",
        "                    cmap='Blues')\n",
        "g.set_title('Confusion matrix')\n",
        "g.set_ylabel('True label')\n",
        "g.set_xlabel('Predicted label')\n",
        "g.plot()"
      ],
      "execution_count": null,
      "outputs": [
        {
          "output_type": "stream",
          "text": [
            "              precision    recall  f1-score   support\n",
            "\n",
            "           0       0.78      0.87      0.82       198\n",
            "           1       0.86      0.76      0.80       201\n",
            "\n",
            "    accuracy                           0.81       399\n",
            "   macro avg       0.82      0.81      0.81       399\n",
            "weighted avg       0.82      0.81      0.81       399\n",
            "\n"
          ],
          "name": "stdout"
        },
        {
          "output_type": "execute_result",
          "data": {
            "text/plain": [
              "[]"
            ]
          },
          "metadata": {
            "tags": []
          },
          "execution_count": 47
        },
        {
          "output_type": "display_data",
          "data": {
            "image/png": "[encoded data removed]",
            "text/plain": [
              "<Figure size 432x288 with 2 Axes>"
            ]
          },
          "metadata": {
            "tags": [],
            "needs_background": "light"
          }
        }
      ]
    },
    {
      "cell_type": "code",
      "metadata": {
        "id": "5UD74P8nVN_q",
        "outputId": "60bbd71a-e1f9-4959-ef97-52ec459fa68c",
        "colab": {
          "base_uri": "https://localhost:8080/",
          "height": 279
        }
      },
      "source": [
        "from sklearn.metrics import roc_curve, auc\n",
        "import matplotlib.pyplot as plt\n",
        "\n",
        "actual = y_test\n",
        "SVM_prob = [p[1] for p in SVM.predict_proba(X_test_norm)]\n",
        "\n",
        "\n",
        "SVM_false_pos, SVM_true_pos, _ = roc_curve(actual, SVM_prob)\n",
        "SVM_auc = auc(SVM_false_pos, SVM_true_pos)\n",
        "\n",
        "\n",
        "# plot\n",
        "plt.plot(SVM_false_pos, SVM_true_pos, 'g', label='SVM AUC = %0.2f'% SVM_auc)\n",
        "\n",
        "plt.legend(loc='lower right')\n",
        "plt.plot([0,1], [0,1], 'r--')\n",
        "plt.ylabel('True Positive Rate')\n",
        "plt.xlabel('False Positive Rate')\n",
        "plt.show()"
      ],
      "execution_count": null,
      "outputs": [
        {
          "output_type": "display_data",
          "data": {
            "image/png": "[encoded data removed]",
            "text/plain": [
              "<Figure size 432x288 with 1 Axes>"
            ]
          },
          "metadata": {
            "tags": [],
            "needs_background": "light"
          }
        }
      ]
    },
    {
      "cell_type": "code",
      "metadata": {
        "id": "lyu-v_tSShYa",
        "outputId": "dc9d992d-ec1d-4ed6-d648-f9b907975bc2",
        "colab": {
          "base_uri": "https://localhost:8080/",
          "height": 328
        }
      },
      "source": [
        "confusion = confusion_matrix(y_test, y_pred)\n",
        "TP = confusion[1, 1]\n",
        "TN = confusion[0, 0]\n",
        "FP = confusion[0, 1]\n",
        "FN = confusion[1, 0]\n",
        "\n",
        "df_Results.loc[8, \"Model\"] = \"SVM\"\n",
        "df_Results.loc[8, \"Acc\"] = accuracy_score(y_test, y_pred)\n",
        "df_Results.loc[8, \"Recall\"] = recall_score(y_test, y_pred)\n",
        "df_Results.loc[8, \"ROC\"] = roc_auc_score(y_test,y_pred)\n",
        "df_Results.loc[8, \"TP\"] = TP\n",
        "df_Results.loc[8, \"FN\"] = FN\n",
        "df_Results = df_Results.astype({\"TP\": int, \"FN\": int})\n",
        "\n",
        "df_Results.head(10)"
      ],
      "execution_count": null,
      "outputs": [
        {
          "output_type": "execute_result",
          "data": {
            "text/html": [
              "<div>\n",
              "<style scoped>\n",
              "    .dataframe tbody tr th:only-of-type {\n",
              "        vertical-align: middle;\n",
              "    }\n",
              "\n",
              "    .dataframe tbody tr th {\n",
              "        vertical-align: top;\n",
              "    }\n",
              "\n",
              "    .dataframe thead th {\n",
              "        text-align: right;\n",
              "    }\n",
              "</style>\n",
              "<table border=\"1\" class=\"dataframe\">\n",
              "  <thead>\n",
              "    <tr style=\"text-align: right;\">\n",
              "      <th></th>\n",
              "      <th>Model</th>\n",
              "      <th>Acc</th>\n",
              "      <th>Recall</th>\n",
              "      <th>ROC</th>\n",
              "      <th>TP</th>\n",
              "      <th>FN</th>\n",
              "    </tr>\n",
              "  </thead>\n",
              "  <tbody>\n",
              "    <tr>\n",
              "      <th>0</th>\n",
              "      <td>Decision Tree</td>\n",
              "      <td>0.884712</td>\n",
              "      <td>0.880597</td>\n",
              "      <td>0.884743</td>\n",
              "      <td>177</td>\n",
              "      <td>24</td>\n",
              "    </tr>\n",
              "    <tr>\n",
              "      <th>1</th>\n",
              "      <td>Random Forest</td>\n",
              "      <td>0.912281</td>\n",
              "      <td>0.865672</td>\n",
              "      <td>0.912634</td>\n",
              "      <td>174</td>\n",
              "      <td>27</td>\n",
              "    </tr>\n",
              "    <tr>\n",
              "      <th>2</th>\n",
              "      <td>Naive Bayes</td>\n",
              "      <td>0.726817</td>\n",
              "      <td>0.547264</td>\n",
              "      <td>0.728177</td>\n",
              "      <td>110</td>\n",
              "      <td>91</td>\n",
              "    </tr>\n",
              "    <tr>\n",
              "      <th>3</th>\n",
              "      <td>XGBoost</td>\n",
              "      <td>0.944862</td>\n",
              "      <td>0.915423</td>\n",
              "      <td>0.945085</td>\n",
              "      <td>184</td>\n",
              "      <td>17</td>\n",
              "    </tr>\n",
              "    <tr>\n",
              "      <th>4</th>\n",
              "      <td>KNN</td>\n",
              "      <td>0.609023</td>\n",
              "      <td>0.60199</td>\n",
              "      <td>0.609076</td>\n",
              "      <td>121</td>\n",
              "      <td>80</td>\n",
              "    </tr>\n",
              "    <tr>\n",
              "      <th>5</th>\n",
              "      <td>NN #1</td>\n",
              "      <td>0.829574</td>\n",
              "      <td>0.81592</td>\n",
              "      <td>0.829677</td>\n",
              "      <td>164</td>\n",
              "      <td>37</td>\n",
              "    </tr>\n",
              "    <tr>\n",
              "      <th>6</th>\n",
              "      <td>Tuned KNN</td>\n",
              "      <td>0.611529</td>\n",
              "      <td>0.507463</td>\n",
              "      <td>0.612317</td>\n",
              "      <td>102</td>\n",
              "      <td>99</td>\n",
              "    </tr>\n",
              "    <tr>\n",
              "      <th>7</th>\n",
              "      <td>Tuned Random Forest</td>\n",
              "      <td>0.924812</td>\n",
              "      <td>0.895522</td>\n",
              "      <td>0.925034</td>\n",
              "      <td>180</td>\n",
              "      <td>21</td>\n",
              "    </tr>\n",
              "    <tr>\n",
              "      <th>8</th>\n",
              "      <td>SVM</td>\n",
              "      <td>0.814536</td>\n",
              "      <td>0.756219</td>\n",
              "      <td>0.814978</td>\n",
              "      <td>152</td>\n",
              "      <td>49</td>\n",
              "    </tr>\n",
              "  </tbody>\n",
              "</table>\n",
              "</div>"
            ],
            "text/plain": [
              "                 Model       Acc    Recall       ROC   TP  FN\n",
              "0       Decision Tree   0.884712  0.880597  0.884743  177  24\n",
              "1        Random Forest  0.912281  0.865672  0.912634  174  27\n",
              "2          Naive Bayes  0.726817  0.547264  0.728177  110  91\n",
              "3              XGBoost  0.944862  0.915423  0.945085  184  17\n",
              "4                  KNN  0.609023   0.60199  0.609076  121  80\n",
              "5                NN #1  0.829574   0.81592  0.829677  164  37\n",
              "6            Tuned KNN  0.611529  0.507463  0.612317  102  99\n",
              "7  Tuned Random Forest  0.924812  0.895522  0.925034  180  21\n",
              "8                  SVM  0.814536  0.756219  0.814978  152  49"
            ]
          },
          "metadata": {
            "tags": []
          },
          "execution_count": 49
        }
      ]
    },
    {
      "cell_type": "markdown",
      "metadata": {
        "id": "EVSmb0nxoO8P"
      },
      "source": [
        "#Extra"
      ]
    },
    {
      "cell_type": "code",
      "metadata": {
        "id": "gt6nA4AYoSJi",
        "outputId": "dd33e6ae-1e29-47ec-9154-74b63c019e6b",
        "colab": {
          "base_uri": "https://localhost:8080/",
          "height": 279
        }
      },
      "source": [
        "from sklearn.metrics import roc_curve, auc\n",
        "import matplotlib.pyplot as plt\n",
        "\n",
        "actual = y_test\n",
        "gs5_prob = [p[1] for p in gs5.predict_proba(X_test)]\n",
        "random_forest_prob = [p[1] for p in rfc.predict_proba(X_test)]\n",
        "xgb_prob = [p[1] for p in xgb.predict_proba(X_test)]\n",
        "decision_tree_prob = [p[1] for p in dtc.predict_proba(X_test)]\n",
        "\n",
        "dt_false_pos, dt_true_pos, _ = roc_curve(actual, decision_tree_prob)\n",
        "dt_auc = auc(dt_false_pos, dt_true_pos)\n",
        "\n",
        "\n",
        "gs5_false_pos, gs5_true_pos, _ = roc_curve(actual, gs5_prob)\n",
        "gs5_auc = auc(gs5_false_pos, gs5_true_pos)\n",
        "\n",
        "rf_false_pos, rf_true_pos, _ = roc_curve(actual, random_forest_prob)\n",
        "rf_auc = auc(rf_false_pos, rf_true_pos)\n",
        "\n",
        "xgb_false_pos, xgb_true_pos, _ = roc_curve(actual, xgb_prob)\n",
        "xgb_auc = auc(xgb_false_pos, xgb_true_pos)\n",
        "\n",
        "# plot\n",
        "plt.plot(xgb_false_pos, xgb_true_pos, 'blue', label='XGBoost AUC = %0.3f'% xgb_auc)\n",
        "plt.plot(gs5_false_pos, gs5_true_pos, 'red', label='Tuned RF AUC = %0.3f'% gs5_auc)\n",
        "plt.plot(rf_false_pos, rf_true_pos, 'orange', label='Random Forest AUC = %0.3f'% rf_auc)\n",
        "plt.plot(dt_false_pos, dt_true_pos, 'green', label='Decision Tree AUC = %0.3f'% dt_auc)\n",
        "\n",
        "\n",
        "plt.legend(loc='lower right')\n",
        "plt.plot([0,1], [0,1], 'r--')\n",
        "plt.ylabel('True Positive Rate')\n",
        "plt.xlabel('False Positive Rate')\n",
        "plt.show()"
      ],
      "execution_count": null,
      "outputs": [
        {
          "output_type": "display_data",
          "data": {
            "image/png": "[encoded data removed]",
            "text/plain": [
              "<Figure size 432x288 with 1 Axes>"
            ]
          },
          "metadata": {
            "tags": [],
            "needs_background": "light"
          }
        }
      ]
    },
    {
      "cell_type": "code",
      "metadata": {
        "id": "fFlBqAtjb8IZ",
        "outputId": "90ae4ee6-a5a7-4147-8087-7a9f6286112d",
        "colab": {
          "base_uri": "https://localhost:8080/",
          "height": 328
        }
      },
      "source": [
        "df_Results_sorted = df_Results.sort_values(by=['Acc'],ascending=False)\n",
        "df_Results_sorted = df_Results_sorted.reset_index()\n",
        "df_Results_sorted = df_Results_sorted.reindex(index=range(0,9))\n",
        "df_Results_sorted = df_Results_sorted.drop('index',axis='columns')\n",
        "df_Results_sorted.head(10)"
      ],
      "execution_count": null,
      "outputs": [
        {
          "output_type": "execute_result",
          "data": {
            "text/html": [
              "<div>\n",
              "<style scoped>\n",
              "    .dataframe tbody tr th:only-of-type {\n",
              "        vertical-align: middle;\n",
              "    }\n",
              "\n",
              "    .dataframe tbody tr th {\n",
              "        vertical-align: top;\n",
              "    }\n",
              "\n",
              "    .dataframe thead th {\n",
              "        text-align: right;\n",
              "    }\n",
              "</style>\n",
              "<table border=\"1\" class=\"dataframe\">\n",
              "  <thead>\n",
              "    <tr style=\"text-align: right;\">\n",
              "      <th></th>\n",
              "      <th>Model</th>\n",
              "      <th>Acc</th>\n",
              "      <th>Recall</th>\n",
              "      <th>ROC</th>\n",
              "      <th>TP</th>\n",
              "      <th>FN</th>\n",
              "    </tr>\n",
              "  </thead>\n",
              "  <tbody>\n",
              "    <tr>\n",
              "      <th>0</th>\n",
              "      <td>XGBoost</td>\n",
              "      <td>0.944862</td>\n",
              "      <td>0.915423</td>\n",
              "      <td>0.945085</td>\n",
              "      <td>184</td>\n",
              "      <td>17</td>\n",
              "    </tr>\n",
              "    <tr>\n",
              "      <th>1</th>\n",
              "      <td>Tuned Random Forest</td>\n",
              "      <td>0.924812</td>\n",
              "      <td>0.895522</td>\n",
              "      <td>0.925034</td>\n",
              "      <td>180</td>\n",
              "      <td>21</td>\n",
              "    </tr>\n",
              "    <tr>\n",
              "      <th>2</th>\n",
              "      <td>Random Forest</td>\n",
              "      <td>0.912281</td>\n",
              "      <td>0.865672</td>\n",
              "      <td>0.912634</td>\n",
              "      <td>174</td>\n",
              "      <td>27</td>\n",
              "    </tr>\n",
              "    <tr>\n",
              "      <th>3</th>\n",
              "      <td>Decision Tree</td>\n",
              "      <td>0.884712</td>\n",
              "      <td>0.880597</td>\n",
              "      <td>0.884743</td>\n",
              "      <td>177</td>\n",
              "      <td>24</td>\n",
              "    </tr>\n",
              "    <tr>\n",
              "      <th>4</th>\n",
              "      <td>NN #1</td>\n",
              "      <td>0.829574</td>\n",
              "      <td>0.81592</td>\n",
              "      <td>0.829677</td>\n",
              "      <td>164</td>\n",
              "      <td>37</td>\n",
              "    </tr>\n",
              "    <tr>\n",
              "      <th>5</th>\n",
              "      <td>SVM</td>\n",
              "      <td>0.814536</td>\n",
              "      <td>0.756219</td>\n",
              "      <td>0.814978</td>\n",
              "      <td>152</td>\n",
              "      <td>49</td>\n",
              "    </tr>\n",
              "    <tr>\n",
              "      <th>6</th>\n",
              "      <td>Naive Bayes</td>\n",
              "      <td>0.726817</td>\n",
              "      <td>0.547264</td>\n",
              "      <td>0.728177</td>\n",
              "      <td>110</td>\n",
              "      <td>91</td>\n",
              "    </tr>\n",
              "    <tr>\n",
              "      <th>7</th>\n",
              "      <td>Tuned KNN</td>\n",
              "      <td>0.611529</td>\n",
              "      <td>0.507463</td>\n",
              "      <td>0.612317</td>\n",
              "      <td>102</td>\n",
              "      <td>99</td>\n",
              "    </tr>\n",
              "    <tr>\n",
              "      <th>8</th>\n",
              "      <td>KNN</td>\n",
              "      <td>0.609023</td>\n",
              "      <td>0.60199</td>\n",
              "      <td>0.609076</td>\n",
              "      <td>121</td>\n",
              "      <td>80</td>\n",
              "    </tr>\n",
              "  </tbody>\n",
              "</table>\n",
              "</div>"
            ],
            "text/plain": [
              "                 Model       Acc    Recall       ROC   TP  FN\n",
              "0              XGBoost  0.944862  0.915423  0.945085  184  17\n",
              "1  Tuned Random Forest  0.924812  0.895522  0.925034  180  21\n",
              "2        Random Forest  0.912281  0.865672  0.912634  174  27\n",
              "3       Decision Tree   0.884712  0.880597  0.884743  177  24\n",
              "4                NN #1  0.829574   0.81592  0.829677  164  37\n",
              "5                  SVM  0.814536  0.756219  0.814978  152  49\n",
              "6          Naive Bayes  0.726817  0.547264  0.728177  110  91\n",
              "7            Tuned KNN  0.611529  0.507463  0.612317  102  99\n",
              "8                  KNN  0.609023   0.60199  0.609076  121  80"
            ]
          },
          "metadata": {
            "tags": []
          },
          "execution_count": 60
        }
      ]
    },
    {
      "cell_type": "code",
      "metadata": {
        "id": "7FqaGD2GsUYb",
        "outputId": "1eee37f4-87a2-4649-9824-279e8f467664",
        "colab": {
          "base_uri": "https://localhost:8080/"
        }
      },
      "source": [
        "cd drive/My\\ Drive"
      ],
      "execution_count": null,
      "outputs": [
        {
          "output_type": "stream",
          "text": [
            "/content/drive/My Drive\n"
          ],
          "name": "stdout"
        }
      ]
    },
    {
      "cell_type": "code",
      "metadata": {
        "id": "fFNmyN-hrKx7"
      },
      "source": [
        "df_Results_sorted.to_csv(\"modeli2.csv\")"
      ],
      "execution_count": null,
      "outputs": []
    },
    {
      "cell_type": "code",
      "metadata": {
        "id": "0k9fPAwRrpWQ"
      },
      "source": [
        "ls"
      ],
      "execution_count": null,
      "outputs": []
    },
    {
      "cell_type": "code",
      "metadata": {
        "id": "lUv7-y5RrtH_",
        "outputId": "3f86669f-0b9e-4847-acc1-1120ca2484ec",
        "colab": {
          "base_uri": "https://localhost:8080/",
          "height": 328
        }
      },
      "source": [
        "modeli = pd.read_csv(\"/content/drive/My Drive/modeli2.csv\")\n",
        "modeli = modeli.drop(\"Unnamed: 0\", axis=\"columns\")\n",
        "modeli.head(10)"
      ],
      "execution_count": null,
      "outputs": [
        {
          "output_type": "execute_result",
          "data": {
            "text/html": [
              "<div>\n",
              "<style scoped>\n",
              "    .dataframe tbody tr th:only-of-type {\n",
              "        vertical-align: middle;\n",
              "    }\n",
              "\n",
              "    .dataframe tbody tr th {\n",
              "        vertical-align: top;\n",
              "    }\n",
              "\n",
              "    .dataframe thead th {\n",
              "        text-align: right;\n",
              "    }\n",
              "</style>\n",
              "<table border=\"1\" class=\"dataframe\">\n",
              "  <thead>\n",
              "    <tr style=\"text-align: right;\">\n",
              "      <th></th>\n",
              "      <th>Model</th>\n",
              "      <th>Acc</th>\n",
              "      <th>Recall</th>\n",
              "      <th>ROC</th>\n",
              "      <th>TP</th>\n",
              "      <th>FN</th>\n",
              "    </tr>\n",
              "  </thead>\n",
              "  <tbody>\n",
              "    <tr>\n",
              "      <th>0</th>\n",
              "      <td>XGBoost</td>\n",
              "      <td>0.944862</td>\n",
              "      <td>0.915423</td>\n",
              "      <td>0.945085</td>\n",
              "      <td>184</td>\n",
              "      <td>17</td>\n",
              "    </tr>\n",
              "    <tr>\n",
              "      <th>1</th>\n",
              "      <td>Tuned Random Forest</td>\n",
              "      <td>0.924812</td>\n",
              "      <td>0.895522</td>\n",
              "      <td>0.925034</td>\n",
              "      <td>180</td>\n",
              "      <td>21</td>\n",
              "    </tr>\n",
              "    <tr>\n",
              "      <th>2</th>\n",
              "      <td>Random Forest</td>\n",
              "      <td>0.912281</td>\n",
              "      <td>0.865672</td>\n",
              "      <td>0.912634</td>\n",
              "      <td>174</td>\n",
              "      <td>27</td>\n",
              "    </tr>\n",
              "    <tr>\n",
              "      <th>3</th>\n",
              "      <td>Decision Tree</td>\n",
              "      <td>0.884712</td>\n",
              "      <td>0.880597</td>\n",
              "      <td>0.884743</td>\n",
              "      <td>177</td>\n",
              "      <td>24</td>\n",
              "    </tr>\n",
              "    <tr>\n",
              "      <th>4</th>\n",
              "      <td>NN #1</td>\n",
              "      <td>0.829574</td>\n",
              "      <td>0.815920</td>\n",
              "      <td>0.829677</td>\n",
              "      <td>164</td>\n",
              "      <td>37</td>\n",
              "    </tr>\n",
              "    <tr>\n",
              "      <th>5</th>\n",
              "      <td>SVM</td>\n",
              "      <td>0.814536</td>\n",
              "      <td>0.756219</td>\n",
              "      <td>0.814978</td>\n",
              "      <td>152</td>\n",
              "      <td>49</td>\n",
              "    </tr>\n",
              "    <tr>\n",
              "      <th>6</th>\n",
              "      <td>Naive Bayes</td>\n",
              "      <td>0.726817</td>\n",
              "      <td>0.547264</td>\n",
              "      <td>0.728177</td>\n",
              "      <td>110</td>\n",
              "      <td>91</td>\n",
              "    </tr>\n",
              "    <tr>\n",
              "      <th>7</th>\n",
              "      <td>Tuned KNN</td>\n",
              "      <td>0.611529</td>\n",
              "      <td>0.507463</td>\n",
              "      <td>0.612317</td>\n",
              "      <td>102</td>\n",
              "      <td>99</td>\n",
              "    </tr>\n",
              "    <tr>\n",
              "      <th>8</th>\n",
              "      <td>KNN</td>\n",
              "      <td>0.609023</td>\n",
              "      <td>0.601990</td>\n",
              "      <td>0.609076</td>\n",
              "      <td>121</td>\n",
              "      <td>80</td>\n",
              "    </tr>\n",
              "  </tbody>\n",
              "</table>\n",
              "</div>"
            ],
            "text/plain": [
              "                 Model       Acc    Recall       ROC   TP  FN\n",
              "0              XGBoost  0.944862  0.915423  0.945085  184  17\n",
              "1  Tuned Random Forest  0.924812  0.895522  0.925034  180  21\n",
              "2        Random Forest  0.912281  0.865672  0.912634  174  27\n",
              "3       Decision Tree   0.884712  0.880597  0.884743  177  24\n",
              "4                NN #1  0.829574  0.815920  0.829677  164  37\n",
              "5                  SVM  0.814536  0.756219  0.814978  152  49\n",
              "6          Naive Bayes  0.726817  0.547264  0.728177  110  91\n",
              "7            Tuned KNN  0.611529  0.507463  0.612317  102  99\n",
              "8                  KNN  0.609023  0.601990  0.609076  121  80"
            ]
          },
          "metadata": {
            "tags": []
          },
          "execution_count": 64
        }
      ]
    }
  ]
}