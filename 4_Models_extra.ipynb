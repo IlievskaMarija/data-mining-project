{
  "nbformat": 4,
  "nbformat_minor": 0,
  "metadata": {
    "colab": {
      "name": "4_Models_extra.ipynb",
      "provenance": [],
      "collapsed_sections": [
        "ggZhYrMEPmp_",
        "7h2fBBENbsfo",
        "Frkj--yqNDw2"
      ],
      "include_colab_link": true
    },
    "kernelspec": {
      "name": "python3",
      "display_name": "Python 3"
    }
  },
  "cells": [
    {
      "cell_type": "markdown",
      "metadata": {
        "id": "view-in-github",
        "colab_type": "text"
      },
      "source": [
        "<a href=\"https://colab.research.google.com/github/MKrezheska/data-mining-project/blob/main/4_Models_extra.ipynb\" target=\"_parent\"><img src=\"https://colab.research.google.com/assets/colab-badge.svg\" alt=\"Open In Colab\"/></a>"
      ]
    },
    {
      "cell_type": "code",
      "metadata": {
        "id": "7s--VnmDJiRa"
      },
      "source": [
        "import numpy as np \n",
        "import pandas as pd \n",
        "import matplotlib.pyplot as plt\n",
        "import matplotlib.ticker as ticker\n",
        "from sklearn import datasets, linear_model\n",
        "from sklearn.decomposition import PCA\n",
        "from sklearn.preprocessing import MinMaxScaler\n",
        "from sklearn.manifold import TSNE\n",
        "import seaborn as sns\n",
        "from sklearn import tree\n",
        "from sklearn.metrics import accuracy_score\n",
        "%matplotlib inline\n",
        "from sklearn.tree import DecisionTreeClassifier, export_graphviz\n",
        "from sklearn.metrics import confusion_matrix, accuracy_score, precision_score, recall_score, roc_curve, auc, roc_auc_score\n"
      ],
      "execution_count": null,
      "outputs": []
    },
    {
      "cell_type": "markdown",
      "metadata": {
        "id": "uehVk7itL7Bd"
      },
      "source": [
        "#Вчитување на податоците"
      ]
    },
    {
      "cell_type": "code",
      "metadata": {
        "id": "k9cUWArMJqdG",
        "outputId": "335f5df2-f37c-463a-dc9b-d64006b964aa",
        "colab": {
          "base_uri": "https://localhost:8080/",
          "height": 34
        }
      },
      "source": [
        "from google.colab import drive\n",
        "drive.mount('/content/drive')"
      ],
      "execution_count": null,
      "outputs": [
        {
          "output_type": "stream",
          "text": [
            "Mounted at /content/drive\n"
          ],
          "name": "stdout"
        }
      ]
    },
    {
      "cell_type": "code",
      "metadata": {
        "id": "mNy92BYdJySH",
        "outputId": "f4965c05-a493-46bb-ea11-6db9ece009c7",
        "colab": {
          "base_uri": "https://localhost:8080/",
          "height": 34
        }
      },
      "source": [
        "df = pd.read_csv(\"/content/drive/My Drive/with_genres.csv\")\n",
        "df.shape"
      ],
      "execution_count": null,
      "outputs": [
        {
          "output_type": "execute_result",
          "data": {
            "text/plain": [
              "(1991, 23)"
            ]
          },
          "metadata": {
            "tags": []
          },
          "execution_count": 3
        }
      ]
    },
    {
      "cell_type": "code",
      "metadata": {
        "id": "DqcWoa29PuWm",
        "outputId": "d7414a9f-5ba1-487e-9b1c-bc728014e96a",
        "colab": {
          "base_uri": "https://localhost:8080/",
          "height": 762
        }
      },
      "source": [
        "df = df.drop([\"Unnamed: 0.1\",\"Unnamed: 0\"], axis=\"columns\")\n",
        "df.head(100)"
      ],
      "execution_count": null,
      "outputs": [
        {
          "output_type": "execute_result",
          "data": {
            "text/html": [
              "<div>\n",
              "<style scoped>\n",
              "    .dataframe tbody tr th:only-of-type {\n",
              "        vertical-align: middle;\n",
              "    }\n",
              "\n",
              "    .dataframe tbody tr th {\n",
              "        vertical-align: top;\n",
              "    }\n",
              "\n",
              "    .dataframe thead th {\n",
              "        text-align: right;\n",
              "    }\n",
              "</style>\n",
              "<table border=\"1\" class=\"dataframe\">\n",
              "  <thead>\n",
              "    <tr style=\"text-align: right;\">\n",
              "      <th></th>\n",
              "      <th>energy</th>\n",
              "      <th>liveness</th>\n",
              "      <th>tempo</th>\n",
              "      <th>speechiness</th>\n",
              "      <th>acousticness</th>\n",
              "      <th>instrumentalness</th>\n",
              "      <th>time_signature</th>\n",
              "      <th>danceability</th>\n",
              "      <th>key</th>\n",
              "      <th>duration_ms</th>\n",
              "      <th>loudness</th>\n",
              "      <th>valence</th>\n",
              "      <th>mode</th>\n",
              "      <th>type</th>\n",
              "      <th>popularity</th>\n",
              "      <th>uri</th>\n",
              "      <th>title</th>\n",
              "      <th>artist</th>\n",
              "      <th>year</th>\n",
              "      <th>target</th>\n",
              "      <th>genre</th>\n",
              "    </tr>\n",
              "  </thead>\n",
              "  <tbody>\n",
              "    <tr>\n",
              "      <th>0</th>\n",
              "      <td>0.425</td>\n",
              "      <td>0.1000</td>\n",
              "      <td>135.128</td>\n",
              "      <td>0.3750</td>\n",
              "      <td>0.328000</td>\n",
              "      <td>0.130000</td>\n",
              "      <td>4</td>\n",
              "      <td>0.701</td>\n",
              "      <td>7</td>\n",
              "      <td>194088</td>\n",
              "      <td>-10.965</td>\n",
              "      <td>0.5620</td>\n",
              "      <td>1</td>\n",
              "      <td>audio_features</td>\n",
              "      <td>89</td>\n",
              "      <td>spotify:track:2Fxmhks0bxGSBdJ92vM42m</td>\n",
              "      <td>bad guy</td>\n",
              "      <td>Billie Eilish</td>\n",
              "      <td>2019</td>\n",
              "      <td>1</td>\n",
              "      <td>22</td>\n",
              "    </tr>\n",
              "    <tr>\n",
              "      <th>1</th>\n",
              "      <td>0.125</td>\n",
              "      <td>0.2650</td>\n",
              "      <td>111.554</td>\n",
              "      <td>0.2390</td>\n",
              "      <td>0.751000</td>\n",
              "      <td>0.002070</td>\n",
              "      <td>4</td>\n",
              "      <td>0.521</td>\n",
              "      <td>9</td>\n",
              "      <td>243725</td>\n",
              "      <td>-17.832</td>\n",
              "      <td>0.0528</td>\n",
              "      <td>1</td>\n",
              "      <td>audio_features</td>\n",
              "      <td>78</td>\n",
              "      <td>spotify:track:4QIo4oxwzzafcBWkKjDpXY</td>\n",
              "      <td>xanny</td>\n",
              "      <td>Billie Eilish</td>\n",
              "      <td>2019</td>\n",
              "      <td>1</td>\n",
              "      <td>22</td>\n",
              "    </tr>\n",
              "    <tr>\n",
              "      <th>2</th>\n",
              "      <td>0.533</td>\n",
              "      <td>0.1390</td>\n",
              "      <td>150.455</td>\n",
              "      <td>0.1860</td>\n",
              "      <td>0.462000</td>\n",
              "      <td>0.219000</td>\n",
              "      <td>4</td>\n",
              "      <td>0.678</td>\n",
              "      <td>4</td>\n",
              "      <td>180953</td>\n",
              "      <td>-10.485</td>\n",
              "      <td>0.3230</td>\n",
              "      <td>1</td>\n",
              "      <td>audio_features</td>\n",
              "      <td>81</td>\n",
              "      <td>spotify:track:3XF5xLJHOQQRbWya6hBp7d</td>\n",
              "      <td>you should see me in a crown</td>\n",
              "      <td>Billie Eilish</td>\n",
              "      <td>2019</td>\n",
              "      <td>1</td>\n",
              "      <td>22</td>\n",
              "    </tr>\n",
              "    <tr>\n",
              "      <th>3</th>\n",
              "      <td>0.444</td>\n",
              "      <td>0.1770</td>\n",
              "      <td>185.044</td>\n",
              "      <td>0.3720</td>\n",
              "      <td>0.283000</td>\n",
              "      <td>0.143000</td>\n",
              "      <td>4</td>\n",
              "      <td>0.726</td>\n",
              "      <td>8</td>\n",
              "      <td>168840</td>\n",
              "      <td>-8.922</td>\n",
              "      <td>0.5690</td>\n",
              "      <td>0</td>\n",
              "      <td>audio_features</td>\n",
              "      <td>80</td>\n",
              "      <td>spotify:track:6IRdLKIyS4p7XNiP8r6rsx</td>\n",
              "      <td>all the good girls go to hell</td>\n",
              "      <td>Billie Eilish</td>\n",
              "      <td>2019</td>\n",
              "      <td>1</td>\n",
              "      <td>22</td>\n",
              "    </tr>\n",
              "    <tr>\n",
              "      <th>4</th>\n",
              "      <td>0.351</td>\n",
              "      <td>0.7520</td>\n",
              "      <td>118.028</td>\n",
              "      <td>0.2410</td>\n",
              "      <td>0.390000</td>\n",
              "      <td>0.000009</td>\n",
              "      <td>4</td>\n",
              "      <td>0.853</td>\n",
              "      <td>7</td>\n",
              "      <td>221543</td>\n",
              "      <td>-10.198</td>\n",
              "      <td>0.2820</td>\n",
              "      <td>1</td>\n",
              "      <td>audio_features</td>\n",
              "      <td>81</td>\n",
              "      <td>spotify:track:3Fj47GNK2kUF0uaEDgXLaD</td>\n",
              "      <td>wish you were gay</td>\n",
              "      <td>Billie Eilish</td>\n",
              "      <td>2019</td>\n",
              "      <td>1</td>\n",
              "      <td>22</td>\n",
              "    </tr>\n",
              "    <tr>\n",
              "      <th>...</th>\n",
              "      <td>...</td>\n",
              "      <td>...</td>\n",
              "      <td>...</td>\n",
              "      <td>...</td>\n",
              "      <td>...</td>\n",
              "      <td>...</td>\n",
              "      <td>...</td>\n",
              "      <td>...</td>\n",
              "      <td>...</td>\n",
              "      <td>...</td>\n",
              "      <td>...</td>\n",
              "      <td>...</td>\n",
              "      <td>...</td>\n",
              "      <td>...</td>\n",
              "      <td>...</td>\n",
              "      <td>...</td>\n",
              "      <td>...</td>\n",
              "      <td>...</td>\n",
              "      <td>...</td>\n",
              "      <td>...</td>\n",
              "      <td>...</td>\n",
              "    </tr>\n",
              "    <tr>\n",
              "      <th>95</th>\n",
              "      <td>0.836</td>\n",
              "      <td>0.0550</td>\n",
              "      <td>132.937</td>\n",
              "      <td>0.0438</td>\n",
              "      <td>0.000143</td>\n",
              "      <td>0.000507</td>\n",
              "      <td>4</td>\n",
              "      <td>0.484</td>\n",
              "      <td>1</td>\n",
              "      <td>494773</td>\n",
              "      <td>-4.658</td>\n",
              "      <td>0.4030</td>\n",
              "      <td>1</td>\n",
              "      <td>audio_features</td>\n",
              "      <td>41</td>\n",
              "      <td>spotify:track:5jE2hljNVTJZeodUXQu9Ea</td>\n",
              "      <td>Fixxxer</td>\n",
              "      <td>Metallica</td>\n",
              "      <td>1997</td>\n",
              "      <td>1</td>\n",
              "      <td>26</td>\n",
              "    </tr>\n",
              "    <tr>\n",
              "      <th>96</th>\n",
              "      <td>0.903</td>\n",
              "      <td>0.0979</td>\n",
              "      <td>157.825</td>\n",
              "      <td>0.0314</td>\n",
              "      <td>0.000022</td>\n",
              "      <td>0.052200</td>\n",
              "      <td>4</td>\n",
              "      <td>0.426</td>\n",
              "      <td>10</td>\n",
              "      <td>304400</td>\n",
              "      <td>-4.535</td>\n",
              "      <td>0.4420</td>\n",
              "      <td>0</td>\n",
              "      <td>audio_features</td>\n",
              "      <td>48</td>\n",
              "      <td>spotify:track:3QWzxUE2WA5WoSi82KCODk</td>\n",
              "      <td>Ain't My Bitch</td>\n",
              "      <td>Metallica</td>\n",
              "      <td>1996</td>\n",
              "      <td>1</td>\n",
              "      <td>26</td>\n",
              "    </tr>\n",
              "    <tr>\n",
              "      <th>97</th>\n",
              "      <td>0.907</td>\n",
              "      <td>0.5490</td>\n",
              "      <td>115.217</td>\n",
              "      <td>0.0345</td>\n",
              "      <td>0.000005</td>\n",
              "      <td>0.008570</td>\n",
              "      <td>4</td>\n",
              "      <td>0.512</td>\n",
              "      <td>1</td>\n",
              "      <td>328200</td>\n",
              "      <td>-4.432</td>\n",
              "      <td>0.6730</td>\n",
              "      <td>0</td>\n",
              "      <td>audio_features</td>\n",
              "      <td>45</td>\n",
              "      <td>spotify:track:0SwHR5lvAfgI8Z2D6YgvMd</td>\n",
              "      <td>2 X 4</td>\n",
              "      <td>Metallica</td>\n",
              "      <td>1996</td>\n",
              "      <td>1</td>\n",
              "      <td>26</td>\n",
              "    </tr>\n",
              "    <tr>\n",
              "      <th>98</th>\n",
              "      <td>0.859</td>\n",
              "      <td>0.1550</td>\n",
              "      <td>94.437</td>\n",
              "      <td>0.0307</td>\n",
              "      <td>0.000018</td>\n",
              "      <td>0.003410</td>\n",
              "      <td>4</td>\n",
              "      <td>0.478</td>\n",
              "      <td>4</td>\n",
              "      <td>398867</td>\n",
              "      <td>-5.347</td>\n",
              "      <td>0.2860</td>\n",
              "      <td>1</td>\n",
              "      <td>audio_features</td>\n",
              "      <td>45</td>\n",
              "      <td>spotify:track:2UmXstEJ8nkpUUfQRYieC6</td>\n",
              "      <td>The House That Jack Built</td>\n",
              "      <td>Metallica</td>\n",
              "      <td>1996</td>\n",
              "      <td>1</td>\n",
              "      <td>26</td>\n",
              "    </tr>\n",
              "    <tr>\n",
              "      <th>99</th>\n",
              "      <td>0.920</td>\n",
              "      <td>0.1490</td>\n",
              "      <td>113.394</td>\n",
              "      <td>0.0297</td>\n",
              "      <td>0.000248</td>\n",
              "      <td>0.071400</td>\n",
              "      <td>4</td>\n",
              "      <td>0.568</td>\n",
              "      <td>8</td>\n",
              "      <td>267933</td>\n",
              "      <td>-4.434</td>\n",
              "      <td>0.7190</td>\n",
              "      <td>0</td>\n",
              "      <td>audio_features</td>\n",
              "      <td>58</td>\n",
              "      <td>spotify:track:2Iv4HSoMX2fDeXFcOJWyWX</td>\n",
              "      <td>Until It Sleeps</td>\n",
              "      <td>Metallica</td>\n",
              "      <td>1996</td>\n",
              "      <td>1</td>\n",
              "      <td>26</td>\n",
              "    </tr>\n",
              "  </tbody>\n",
              "</table>\n",
              "<p>100 rows × 21 columns</p>\n",
              "</div>"
            ],
            "text/plain": [
              "    energy  liveness    tempo  speechiness  ...         artist  year  target  genre\n",
              "0    0.425    0.1000  135.128       0.3750  ...  Billie Eilish  2019       1     22\n",
              "1    0.125    0.2650  111.554       0.2390  ...  Billie Eilish  2019       1     22\n",
              "2    0.533    0.1390  150.455       0.1860  ...  Billie Eilish  2019       1     22\n",
              "3    0.444    0.1770  185.044       0.3720  ...  Billie Eilish  2019       1     22\n",
              "4    0.351    0.7520  118.028       0.2410  ...  Billie Eilish  2019       1     22\n",
              "..     ...       ...      ...          ...  ...            ...   ...     ...    ...\n",
              "95   0.836    0.0550  132.937       0.0438  ...      Metallica  1997       1     26\n",
              "96   0.903    0.0979  157.825       0.0314  ...      Metallica  1996       1     26\n",
              "97   0.907    0.5490  115.217       0.0345  ...      Metallica  1996       1     26\n",
              "98   0.859    0.1550   94.437       0.0307  ...      Metallica  1996       1     26\n",
              "99   0.920    0.1490  113.394       0.0297  ...      Metallica  1996       1     26\n",
              "\n",
              "[100 rows x 21 columns]"
            ]
          },
          "metadata": {
            "tags": []
          },
          "execution_count": 4
        }
      ]
    },
    {
      "cell_type": "code",
      "metadata": {
        "id": "fylOhvdlWHZV",
        "outputId": "d9799bf3-75cf-41ae-daa0-bdfef806654a",
        "colab": {
          "base_uri": "https://localhost:8080/",
          "height": 439
        }
      },
      "source": [
        "df.drop(['title','artist', 'uri', 'type'], axis=1, inplace=True)\n",
        "df.head(1991)"
      ],
      "execution_count": null,
      "outputs": [
        {
          "output_type": "execute_result",
          "data": {
            "text/html": [
              "<div>\n",
              "<style scoped>\n",
              "    .dataframe tbody tr th:only-of-type {\n",
              "        vertical-align: middle;\n",
              "    }\n",
              "\n",
              "    .dataframe tbody tr th {\n",
              "        vertical-align: top;\n",
              "    }\n",
              "\n",
              "    .dataframe thead th {\n",
              "        text-align: right;\n",
              "    }\n",
              "</style>\n",
              "<table border=\"1\" class=\"dataframe\">\n",
              "  <thead>\n",
              "    <tr style=\"text-align: right;\">\n",
              "      <th></th>\n",
              "      <th>energy</th>\n",
              "      <th>liveness</th>\n",
              "      <th>tempo</th>\n",
              "      <th>speechiness</th>\n",
              "      <th>acousticness</th>\n",
              "      <th>instrumentalness</th>\n",
              "      <th>time_signature</th>\n",
              "      <th>danceability</th>\n",
              "      <th>key</th>\n",
              "      <th>duration_ms</th>\n",
              "      <th>loudness</th>\n",
              "      <th>valence</th>\n",
              "      <th>mode</th>\n",
              "      <th>popularity</th>\n",
              "      <th>year</th>\n",
              "      <th>target</th>\n",
              "      <th>genre</th>\n",
              "    </tr>\n",
              "  </thead>\n",
              "  <tbody>\n",
              "    <tr>\n",
              "      <th>0</th>\n",
              "      <td>0.425</td>\n",
              "      <td>0.100</td>\n",
              "      <td>135.128</td>\n",
              "      <td>0.3750</td>\n",
              "      <td>0.32800</td>\n",
              "      <td>0.130000</td>\n",
              "      <td>4</td>\n",
              "      <td>0.701</td>\n",
              "      <td>7</td>\n",
              "      <td>194088</td>\n",
              "      <td>-10.965</td>\n",
              "      <td>0.5620</td>\n",
              "      <td>1</td>\n",
              "      <td>89</td>\n",
              "      <td>2019</td>\n",
              "      <td>1</td>\n",
              "      <td>22</td>\n",
              "    </tr>\n",
              "    <tr>\n",
              "      <th>1</th>\n",
              "      <td>0.125</td>\n",
              "      <td>0.265</td>\n",
              "      <td>111.554</td>\n",
              "      <td>0.2390</td>\n",
              "      <td>0.75100</td>\n",
              "      <td>0.002070</td>\n",
              "      <td>4</td>\n",
              "      <td>0.521</td>\n",
              "      <td>9</td>\n",
              "      <td>243725</td>\n",
              "      <td>-17.832</td>\n",
              "      <td>0.0528</td>\n",
              "      <td>1</td>\n",
              "      <td>78</td>\n",
              "      <td>2019</td>\n",
              "      <td>1</td>\n",
              "      <td>22</td>\n",
              "    </tr>\n",
              "    <tr>\n",
              "      <th>2</th>\n",
              "      <td>0.533</td>\n",
              "      <td>0.139</td>\n",
              "      <td>150.455</td>\n",
              "      <td>0.1860</td>\n",
              "      <td>0.46200</td>\n",
              "      <td>0.219000</td>\n",
              "      <td>4</td>\n",
              "      <td>0.678</td>\n",
              "      <td>4</td>\n",
              "      <td>180953</td>\n",
              "      <td>-10.485</td>\n",
              "      <td>0.3230</td>\n",
              "      <td>1</td>\n",
              "      <td>81</td>\n",
              "      <td>2019</td>\n",
              "      <td>1</td>\n",
              "      <td>22</td>\n",
              "    </tr>\n",
              "    <tr>\n",
              "      <th>3</th>\n",
              "      <td>0.444</td>\n",
              "      <td>0.177</td>\n",
              "      <td>185.044</td>\n",
              "      <td>0.3720</td>\n",
              "      <td>0.28300</td>\n",
              "      <td>0.143000</td>\n",
              "      <td>4</td>\n",
              "      <td>0.726</td>\n",
              "      <td>8</td>\n",
              "      <td>168840</td>\n",
              "      <td>-8.922</td>\n",
              "      <td>0.5690</td>\n",
              "      <td>0</td>\n",
              "      <td>80</td>\n",
              "      <td>2019</td>\n",
              "      <td>1</td>\n",
              "      <td>22</td>\n",
              "    </tr>\n",
              "    <tr>\n",
              "      <th>4</th>\n",
              "      <td>0.351</td>\n",
              "      <td>0.752</td>\n",
              "      <td>118.028</td>\n",
              "      <td>0.2410</td>\n",
              "      <td>0.39000</td>\n",
              "      <td>0.000009</td>\n",
              "      <td>4</td>\n",
              "      <td>0.853</td>\n",
              "      <td>7</td>\n",
              "      <td>221543</td>\n",
              "      <td>-10.198</td>\n",
              "      <td>0.2820</td>\n",
              "      <td>1</td>\n",
              "      <td>81</td>\n",
              "      <td>2019</td>\n",
              "      <td>1</td>\n",
              "      <td>22</td>\n",
              "    </tr>\n",
              "    <tr>\n",
              "      <th>...</th>\n",
              "      <td>...</td>\n",
              "      <td>...</td>\n",
              "      <td>...</td>\n",
              "      <td>...</td>\n",
              "      <td>...</td>\n",
              "      <td>...</td>\n",
              "      <td>...</td>\n",
              "      <td>...</td>\n",
              "      <td>...</td>\n",
              "      <td>...</td>\n",
              "      <td>...</td>\n",
              "      <td>...</td>\n",
              "      <td>...</td>\n",
              "      <td>...</td>\n",
              "      <td>...</td>\n",
              "      <td>...</td>\n",
              "      <td>...</td>\n",
              "    </tr>\n",
              "    <tr>\n",
              "      <th>1986</th>\n",
              "      <td>0.364</td>\n",
              "      <td>0.101</td>\n",
              "      <td>123.022</td>\n",
              "      <td>0.0287</td>\n",
              "      <td>0.54500</td>\n",
              "      <td>0.000069</td>\n",
              "      <td>4</td>\n",
              "      <td>0.340</td>\n",
              "      <td>9</td>\n",
              "      <td>203760</td>\n",
              "      <td>-8.331</td>\n",
              "      <td>0.1100</td>\n",
              "      <td>1</td>\n",
              "      <td>41</td>\n",
              "      <td>2019</td>\n",
              "      <td>0</td>\n",
              "      <td>16</td>\n",
              "    </tr>\n",
              "    <tr>\n",
              "      <th>1987</th>\n",
              "      <td>0.886</td>\n",
              "      <td>0.096</td>\n",
              "      <td>126.044</td>\n",
              "      <td>0.0443</td>\n",
              "      <td>0.00114</td>\n",
              "      <td>0.000014</td>\n",
              "      <td>4</td>\n",
              "      <td>0.490</td>\n",
              "      <td>8</td>\n",
              "      <td>213333</td>\n",
              "      <td>-5.404</td>\n",
              "      <td>0.4930</td>\n",
              "      <td>1</td>\n",
              "      <td>45</td>\n",
              "      <td>2019</td>\n",
              "      <td>0</td>\n",
              "      <td>16</td>\n",
              "    </tr>\n",
              "    <tr>\n",
              "      <th>1988</th>\n",
              "      <td>0.475</td>\n",
              "      <td>0.104</td>\n",
              "      <td>101.069</td>\n",
              "      <td>0.0265</td>\n",
              "      <td>0.34800</td>\n",
              "      <td>0.000025</td>\n",
              "      <td>4</td>\n",
              "      <td>0.475</td>\n",
              "      <td>2</td>\n",
              "      <td>275133</td>\n",
              "      <td>-7.319</td>\n",
              "      <td>0.1290</td>\n",
              "      <td>1</td>\n",
              "      <td>40</td>\n",
              "      <td>2019</td>\n",
              "      <td>0</td>\n",
              "      <td>16</td>\n",
              "    </tr>\n",
              "    <tr>\n",
              "      <th>1989</th>\n",
              "      <td>0.637</td>\n",
              "      <td>0.100</td>\n",
              "      <td>76.037</td>\n",
              "      <td>0.0313</td>\n",
              "      <td>0.24900</td>\n",
              "      <td>0.000006</td>\n",
              "      <td>4</td>\n",
              "      <td>0.568</td>\n",
              "      <td>7</td>\n",
              "      <td>192107</td>\n",
              "      <td>-5.977</td>\n",
              "      <td>0.4520</td>\n",
              "      <td>1</td>\n",
              "      <td>39</td>\n",
              "      <td>2019</td>\n",
              "      <td>0</td>\n",
              "      <td>16</td>\n",
              "    </tr>\n",
              "    <tr>\n",
              "      <th>1990</th>\n",
              "      <td>0.360</td>\n",
              "      <td>0.129</td>\n",
              "      <td>99.194</td>\n",
              "      <td>0.0303</td>\n",
              "      <td>0.84100</td>\n",
              "      <td>0.000006</td>\n",
              "      <td>4</td>\n",
              "      <td>0.580</td>\n",
              "      <td>6</td>\n",
              "      <td>210113</td>\n",
              "      <td>-7.930</td>\n",
              "      <td>0.3020</td>\n",
              "      <td>1</td>\n",
              "      <td>68</td>\n",
              "      <td>2019</td>\n",
              "      <td>0</td>\n",
              "      <td>16</td>\n",
              "    </tr>\n",
              "  </tbody>\n",
              "</table>\n",
              "<p>1991 rows × 17 columns</p>\n",
              "</div>"
            ],
            "text/plain": [
              "      energy  liveness    tempo  speechiness  ...  popularity  year  target  genre\n",
              "0      0.425     0.100  135.128       0.3750  ...          89  2019       1     22\n",
              "1      0.125     0.265  111.554       0.2390  ...          78  2019       1     22\n",
              "2      0.533     0.139  150.455       0.1860  ...          81  2019       1     22\n",
              "3      0.444     0.177  185.044       0.3720  ...          80  2019       1     22\n",
              "4      0.351     0.752  118.028       0.2410  ...          81  2019       1     22\n",
              "...      ...       ...      ...          ...  ...         ...   ...     ...    ...\n",
              "1986   0.364     0.101  123.022       0.0287  ...          41  2019       0     16\n",
              "1987   0.886     0.096  126.044       0.0443  ...          45  2019       0     16\n",
              "1988   0.475     0.104  101.069       0.0265  ...          40  2019       0     16\n",
              "1989   0.637     0.100   76.037       0.0313  ...          39  2019       0     16\n",
              "1990   0.360     0.129   99.194       0.0303  ...          68  2019       0     16\n",
              "\n",
              "[1991 rows x 17 columns]"
            ]
          },
          "metadata": {
            "tags": []
          },
          "execution_count": 5
        }
      ]
    },
    {
      "cell_type": "code",
      "metadata": {
        "id": "jJBICeJmND-a"
      },
      "source": [
        "cols = ['genre']  + [col for col in df if col != 'genre']\n",
        "df = df[cols]"
      ],
      "execution_count": null,
      "outputs": []
    },
    {
      "cell_type": "code",
      "metadata": {
        "id": "S70B_AYSQQPO",
        "outputId": "0a4f3b9a-e7d2-4697-8d44-38ddb14784e2",
        "colab": {
          "base_uri": "https://localhost:8080/",
          "height": 439
        }
      },
      "source": [
        "df.head(100)"
      ],
      "execution_count": null,
      "outputs": [
        {
          "output_type": "execute_result",
          "data": {
            "text/html": [
              "<div>\n",
              "<style scoped>\n",
              "    .dataframe tbody tr th:only-of-type {\n",
              "        vertical-align: middle;\n",
              "    }\n",
              "\n",
              "    .dataframe tbody tr th {\n",
              "        vertical-align: top;\n",
              "    }\n",
              "\n",
              "    .dataframe thead th {\n",
              "        text-align: right;\n",
              "    }\n",
              "</style>\n",
              "<table border=\"1\" class=\"dataframe\">\n",
              "  <thead>\n",
              "    <tr style=\"text-align: right;\">\n",
              "      <th></th>\n",
              "      <th>genre</th>\n",
              "      <th>energy</th>\n",
              "      <th>liveness</th>\n",
              "      <th>tempo</th>\n",
              "      <th>speechiness</th>\n",
              "      <th>acousticness</th>\n",
              "      <th>instrumentalness</th>\n",
              "      <th>time_signature</th>\n",
              "      <th>danceability</th>\n",
              "      <th>key</th>\n",
              "      <th>duration_ms</th>\n",
              "      <th>loudness</th>\n",
              "      <th>valence</th>\n",
              "      <th>mode</th>\n",
              "      <th>popularity</th>\n",
              "      <th>year</th>\n",
              "      <th>target</th>\n",
              "    </tr>\n",
              "  </thead>\n",
              "  <tbody>\n",
              "    <tr>\n",
              "      <th>0</th>\n",
              "      <td>22</td>\n",
              "      <td>0.425</td>\n",
              "      <td>0.1000</td>\n",
              "      <td>135.128</td>\n",
              "      <td>0.3750</td>\n",
              "      <td>0.328000</td>\n",
              "      <td>0.130000</td>\n",
              "      <td>4</td>\n",
              "      <td>0.701</td>\n",
              "      <td>7</td>\n",
              "      <td>194088</td>\n",
              "      <td>-10.965</td>\n",
              "      <td>0.5620</td>\n",
              "      <td>1</td>\n",
              "      <td>89</td>\n",
              "      <td>2019</td>\n",
              "      <td>1</td>\n",
              "    </tr>\n",
              "    <tr>\n",
              "      <th>1</th>\n",
              "      <td>22</td>\n",
              "      <td>0.125</td>\n",
              "      <td>0.2650</td>\n",
              "      <td>111.554</td>\n",
              "      <td>0.2390</td>\n",
              "      <td>0.751000</td>\n",
              "      <td>0.002070</td>\n",
              "      <td>4</td>\n",
              "      <td>0.521</td>\n",
              "      <td>9</td>\n",
              "      <td>243725</td>\n",
              "      <td>-17.832</td>\n",
              "      <td>0.0528</td>\n",
              "      <td>1</td>\n",
              "      <td>78</td>\n",
              "      <td>2019</td>\n",
              "      <td>1</td>\n",
              "    </tr>\n",
              "    <tr>\n",
              "      <th>2</th>\n",
              "      <td>22</td>\n",
              "      <td>0.533</td>\n",
              "      <td>0.1390</td>\n",
              "      <td>150.455</td>\n",
              "      <td>0.1860</td>\n",
              "      <td>0.462000</td>\n",
              "      <td>0.219000</td>\n",
              "      <td>4</td>\n",
              "      <td>0.678</td>\n",
              "      <td>4</td>\n",
              "      <td>180953</td>\n",
              "      <td>-10.485</td>\n",
              "      <td>0.3230</td>\n",
              "      <td>1</td>\n",
              "      <td>81</td>\n",
              "      <td>2019</td>\n",
              "      <td>1</td>\n",
              "    </tr>\n",
              "    <tr>\n",
              "      <th>3</th>\n",
              "      <td>22</td>\n",
              "      <td>0.444</td>\n",
              "      <td>0.1770</td>\n",
              "      <td>185.044</td>\n",
              "      <td>0.3720</td>\n",
              "      <td>0.283000</td>\n",
              "      <td>0.143000</td>\n",
              "      <td>4</td>\n",
              "      <td>0.726</td>\n",
              "      <td>8</td>\n",
              "      <td>168840</td>\n",
              "      <td>-8.922</td>\n",
              "      <td>0.5690</td>\n",
              "      <td>0</td>\n",
              "      <td>80</td>\n",
              "      <td>2019</td>\n",
              "      <td>1</td>\n",
              "    </tr>\n",
              "    <tr>\n",
              "      <th>4</th>\n",
              "      <td>22</td>\n",
              "      <td>0.351</td>\n",
              "      <td>0.7520</td>\n",
              "      <td>118.028</td>\n",
              "      <td>0.2410</td>\n",
              "      <td>0.390000</td>\n",
              "      <td>0.000009</td>\n",
              "      <td>4</td>\n",
              "      <td>0.853</td>\n",
              "      <td>7</td>\n",
              "      <td>221543</td>\n",
              "      <td>-10.198</td>\n",
              "      <td>0.2820</td>\n",
              "      <td>1</td>\n",
              "      <td>81</td>\n",
              "      <td>2019</td>\n",
              "      <td>1</td>\n",
              "    </tr>\n",
              "    <tr>\n",
              "      <th>...</th>\n",
              "      <td>...</td>\n",
              "      <td>...</td>\n",
              "      <td>...</td>\n",
              "      <td>...</td>\n",
              "      <td>...</td>\n",
              "      <td>...</td>\n",
              "      <td>...</td>\n",
              "      <td>...</td>\n",
              "      <td>...</td>\n",
              "      <td>...</td>\n",
              "      <td>...</td>\n",
              "      <td>...</td>\n",
              "      <td>...</td>\n",
              "      <td>...</td>\n",
              "      <td>...</td>\n",
              "      <td>...</td>\n",
              "      <td>...</td>\n",
              "    </tr>\n",
              "    <tr>\n",
              "      <th>95</th>\n",
              "      <td>26</td>\n",
              "      <td>0.836</td>\n",
              "      <td>0.0550</td>\n",
              "      <td>132.937</td>\n",
              "      <td>0.0438</td>\n",
              "      <td>0.000143</td>\n",
              "      <td>0.000507</td>\n",
              "      <td>4</td>\n",
              "      <td>0.484</td>\n",
              "      <td>1</td>\n",
              "      <td>494773</td>\n",
              "      <td>-4.658</td>\n",
              "      <td>0.4030</td>\n",
              "      <td>1</td>\n",
              "      <td>41</td>\n",
              "      <td>1997</td>\n",
              "      <td>1</td>\n",
              "    </tr>\n",
              "    <tr>\n",
              "      <th>96</th>\n",
              "      <td>26</td>\n",
              "      <td>0.903</td>\n",
              "      <td>0.0979</td>\n",
              "      <td>157.825</td>\n",
              "      <td>0.0314</td>\n",
              "      <td>0.000022</td>\n",
              "      <td>0.052200</td>\n",
              "      <td>4</td>\n",
              "      <td>0.426</td>\n",
              "      <td>10</td>\n",
              "      <td>304400</td>\n",
              "      <td>-4.535</td>\n",
              "      <td>0.4420</td>\n",
              "      <td>0</td>\n",
              "      <td>48</td>\n",
              "      <td>1996</td>\n",
              "      <td>1</td>\n",
              "    </tr>\n",
              "    <tr>\n",
              "      <th>97</th>\n",
              "      <td>26</td>\n",
              "      <td>0.907</td>\n",
              "      <td>0.5490</td>\n",
              "      <td>115.217</td>\n",
              "      <td>0.0345</td>\n",
              "      <td>0.000005</td>\n",
              "      <td>0.008570</td>\n",
              "      <td>4</td>\n",
              "      <td>0.512</td>\n",
              "      <td>1</td>\n",
              "      <td>328200</td>\n",
              "      <td>-4.432</td>\n",
              "      <td>0.6730</td>\n",
              "      <td>0</td>\n",
              "      <td>45</td>\n",
              "      <td>1996</td>\n",
              "      <td>1</td>\n",
              "    </tr>\n",
              "    <tr>\n",
              "      <th>98</th>\n",
              "      <td>26</td>\n",
              "      <td>0.859</td>\n",
              "      <td>0.1550</td>\n",
              "      <td>94.437</td>\n",
              "      <td>0.0307</td>\n",
              "      <td>0.000018</td>\n",
              "      <td>0.003410</td>\n",
              "      <td>4</td>\n",
              "      <td>0.478</td>\n",
              "      <td>4</td>\n",
              "      <td>398867</td>\n",
              "      <td>-5.347</td>\n",
              "      <td>0.2860</td>\n",
              "      <td>1</td>\n",
              "      <td>45</td>\n",
              "      <td>1996</td>\n",
              "      <td>1</td>\n",
              "    </tr>\n",
              "    <tr>\n",
              "      <th>99</th>\n",
              "      <td>26</td>\n",
              "      <td>0.920</td>\n",
              "      <td>0.1490</td>\n",
              "      <td>113.394</td>\n",
              "      <td>0.0297</td>\n",
              "      <td>0.000248</td>\n",
              "      <td>0.071400</td>\n",
              "      <td>4</td>\n",
              "      <td>0.568</td>\n",
              "      <td>8</td>\n",
              "      <td>267933</td>\n",
              "      <td>-4.434</td>\n",
              "      <td>0.7190</td>\n",
              "      <td>0</td>\n",
              "      <td>58</td>\n",
              "      <td>1996</td>\n",
              "      <td>1</td>\n",
              "    </tr>\n",
              "  </tbody>\n",
              "</table>\n",
              "<p>100 rows × 17 columns</p>\n",
              "</div>"
            ],
            "text/plain": [
              "    genre  energy  liveness    tempo  ...  mode  popularity  year  target\n",
              "0      22   0.425    0.1000  135.128  ...     1          89  2019       1\n",
              "1      22   0.125    0.2650  111.554  ...     1          78  2019       1\n",
              "2      22   0.533    0.1390  150.455  ...     1          81  2019       1\n",
              "3      22   0.444    0.1770  185.044  ...     0          80  2019       1\n",
              "4      22   0.351    0.7520  118.028  ...     1          81  2019       1\n",
              "..    ...     ...       ...      ...  ...   ...         ...   ...     ...\n",
              "95     26   0.836    0.0550  132.937  ...     1          41  1997       1\n",
              "96     26   0.903    0.0979  157.825  ...     0          48  1996       1\n",
              "97     26   0.907    0.5490  115.217  ...     0          45  1996       1\n",
              "98     26   0.859    0.1550   94.437  ...     1          45  1996       1\n",
              "99     26   0.920    0.1490  113.394  ...     0          58  1996       1\n",
              "\n",
              "[100 rows x 17 columns]"
            ]
          },
          "metadata": {
            "tags": []
          },
          "execution_count": 7
        }
      ]
    },
    {
      "cell_type": "code",
      "metadata": {
        "id": "jYPQCB5xiUjB",
        "outputId": "2171db02-9ab1-4b8b-fc42-725391b10382",
        "colab": {
          "base_uri": "https://localhost:8080/",
          "height": 439
        }
      },
      "source": [
        "from sklearn.utils import shuffle\n",
        "df = shuffle(df)\n",
        "df.head(1991)"
      ],
      "execution_count": null,
      "outputs": [
        {
          "output_type": "execute_result",
          "data": {
            "text/html": [
              "<div>\n",
              "<style scoped>\n",
              "    .dataframe tbody tr th:only-of-type {\n",
              "        vertical-align: middle;\n",
              "    }\n",
              "\n",
              "    .dataframe tbody tr th {\n",
              "        vertical-align: top;\n",
              "    }\n",
              "\n",
              "    .dataframe thead th {\n",
              "        text-align: right;\n",
              "    }\n",
              "</style>\n",
              "<table border=\"1\" class=\"dataframe\">\n",
              "  <thead>\n",
              "    <tr style=\"text-align: right;\">\n",
              "      <th></th>\n",
              "      <th>genre</th>\n",
              "      <th>energy</th>\n",
              "      <th>liveness</th>\n",
              "      <th>tempo</th>\n",
              "      <th>speechiness</th>\n",
              "      <th>acousticness</th>\n",
              "      <th>instrumentalness</th>\n",
              "      <th>time_signature</th>\n",
              "      <th>danceability</th>\n",
              "      <th>key</th>\n",
              "      <th>duration_ms</th>\n",
              "      <th>loudness</th>\n",
              "      <th>valence</th>\n",
              "      <th>mode</th>\n",
              "      <th>popularity</th>\n",
              "      <th>year</th>\n",
              "      <th>target</th>\n",
              "    </tr>\n",
              "  </thead>\n",
              "  <tbody>\n",
              "    <tr>\n",
              "      <th>847</th>\n",
              "      <td>19</td>\n",
              "      <td>0.569</td>\n",
              "      <td>0.1030</td>\n",
              "      <td>123.982</td>\n",
              "      <td>0.0917</td>\n",
              "      <td>0.001580</td>\n",
              "      <td>0.840000</td>\n",
              "      <td>4</td>\n",
              "      <td>0.840</td>\n",
              "      <td>8</td>\n",
              "      <td>258307</td>\n",
              "      <td>-8.100</td>\n",
              "      <td>0.439</td>\n",
              "      <td>0</td>\n",
              "      <td>37</td>\n",
              "      <td>2017</td>\n",
              "      <td>1</td>\n",
              "    </tr>\n",
              "    <tr>\n",
              "      <th>167</th>\n",
              "      <td>3</td>\n",
              "      <td>0.864</td>\n",
              "      <td>0.2090</td>\n",
              "      <td>105.143</td>\n",
              "      <td>0.0584</td>\n",
              "      <td>0.009580</td>\n",
              "      <td>0.000000</td>\n",
              "      <td>4</td>\n",
              "      <td>0.556</td>\n",
              "      <td>3</td>\n",
              "      <td>216880</td>\n",
              "      <td>-5.870</td>\n",
              "      <td>0.400</td>\n",
              "      <td>0</td>\n",
              "      <td>84</td>\n",
              "      <td>2000</td>\n",
              "      <td>1</td>\n",
              "    </tr>\n",
              "    <tr>\n",
              "      <th>359</th>\n",
              "      <td>0</td>\n",
              "      <td>0.628</td>\n",
              "      <td>0.1520</td>\n",
              "      <td>99.766</td>\n",
              "      <td>0.0355</td>\n",
              "      <td>0.000382</td>\n",
              "      <td>0.000069</td>\n",
              "      <td>4</td>\n",
              "      <td>0.178</td>\n",
              "      <td>2</td>\n",
              "      <td>222840</td>\n",
              "      <td>-8.267</td>\n",
              "      <td>0.456</td>\n",
              "      <td>1</td>\n",
              "      <td>34</td>\n",
              "      <td>1980</td>\n",
              "      <td>1</td>\n",
              "    </tr>\n",
              "    <tr>\n",
              "      <th>188</th>\n",
              "      <td>20</td>\n",
              "      <td>0.752</td>\n",
              "      <td>0.3940</td>\n",
              "      <td>89.950</td>\n",
              "      <td>0.0597</td>\n",
              "      <td>0.016900</td>\n",
              "      <td>0.000000</td>\n",
              "      <td>4</td>\n",
              "      <td>0.852</td>\n",
              "      <td>1</td>\n",
              "      <td>216600</td>\n",
              "      <td>-5.793</td>\n",
              "      <td>0.389</td>\n",
              "      <td>1</td>\n",
              "      <td>71</td>\n",
              "      <td>2020</td>\n",
              "      <td>1</td>\n",
              "    </tr>\n",
              "    <tr>\n",
              "      <th>1660</th>\n",
              "      <td>35</td>\n",
              "      <td>0.638</td>\n",
              "      <td>0.1050</td>\n",
              "      <td>141.044</td>\n",
              "      <td>0.1940</td>\n",
              "      <td>0.029400</td>\n",
              "      <td>0.000002</td>\n",
              "      <td>4</td>\n",
              "      <td>0.839</td>\n",
              "      <td>9</td>\n",
              "      <td>157093</td>\n",
              "      <td>-5.905</td>\n",
              "      <td>0.314</td>\n",
              "      <td>1</td>\n",
              "      <td>63</td>\n",
              "      <td>2018</td>\n",
              "      <td>0</td>\n",
              "    </tr>\n",
              "    <tr>\n",
              "      <th>...</th>\n",
              "      <td>...</td>\n",
              "      <td>...</td>\n",
              "      <td>...</td>\n",
              "      <td>...</td>\n",
              "      <td>...</td>\n",
              "      <td>...</td>\n",
              "      <td>...</td>\n",
              "      <td>...</td>\n",
              "      <td>...</td>\n",
              "      <td>...</td>\n",
              "      <td>...</td>\n",
              "      <td>...</td>\n",
              "      <td>...</td>\n",
              "      <td>...</td>\n",
              "      <td>...</td>\n",
              "      <td>...</td>\n",
              "      <td>...</td>\n",
              "    </tr>\n",
              "    <tr>\n",
              "      <th>53</th>\n",
              "      <td>0</td>\n",
              "      <td>0.900</td>\n",
              "      <td>0.1950</td>\n",
              "      <td>141.785</td>\n",
              "      <td>0.0488</td>\n",
              "      <td>0.559000</td>\n",
              "      <td>0.035800</td>\n",
              "      <td>4</td>\n",
              "      <td>0.592</td>\n",
              "      <td>5</td>\n",
              "      <td>265133</td>\n",
              "      <td>-8.302</td>\n",
              "      <td>0.861</td>\n",
              "      <td>1</td>\n",
              "      <td>23</td>\n",
              "      <td>1973</td>\n",
              "      <td>1</td>\n",
              "    </tr>\n",
              "    <tr>\n",
              "      <th>1551</th>\n",
              "      <td>19</td>\n",
              "      <td>0.463</td>\n",
              "      <td>0.1050</td>\n",
              "      <td>124.009</td>\n",
              "      <td>0.2810</td>\n",
              "      <td>0.071800</td>\n",
              "      <td>0.000016</td>\n",
              "      <td>4</td>\n",
              "      <td>0.751</td>\n",
              "      <td>1</td>\n",
              "      <td>293733</td>\n",
              "      <td>-10.966</td>\n",
              "      <td>0.276</td>\n",
              "      <td>1</td>\n",
              "      <td>47</td>\n",
              "      <td>2014</td>\n",
              "      <td>0</td>\n",
              "    </tr>\n",
              "    <tr>\n",
              "      <th>433</th>\n",
              "      <td>18</td>\n",
              "      <td>0.872</td>\n",
              "      <td>0.0344</td>\n",
              "      <td>129.827</td>\n",
              "      <td>0.0516</td>\n",
              "      <td>0.406000</td>\n",
              "      <td>0.000000</td>\n",
              "      <td>4</td>\n",
              "      <td>0.706</td>\n",
              "      <td>9</td>\n",
              "      <td>200880</td>\n",
              "      <td>-4.245</td>\n",
              "      <td>0.842</td>\n",
              "      <td>1</td>\n",
              "      <td>1</td>\n",
              "      <td>2013</td>\n",
              "      <td>1</td>\n",
              "    </tr>\n",
              "    <tr>\n",
              "      <th>923</th>\n",
              "      <td>33</td>\n",
              "      <td>0.517</td>\n",
              "      <td>0.1450</td>\n",
              "      <td>119.997</td>\n",
              "      <td>0.0297</td>\n",
              "      <td>0.014600</td>\n",
              "      <td>0.000002</td>\n",
              "      <td>4</td>\n",
              "      <td>0.649</td>\n",
              "      <td>1</td>\n",
              "      <td>219440</td>\n",
              "      <td>-7.428</td>\n",
              "      <td>0.350</td>\n",
              "      <td>0</td>\n",
              "      <td>72</td>\n",
              "      <td>2018</td>\n",
              "      <td>1</td>\n",
              "    </tr>\n",
              "    <tr>\n",
              "      <th>750</th>\n",
              "      <td>1</td>\n",
              "      <td>0.597</td>\n",
              "      <td>0.0730</td>\n",
              "      <td>123.990</td>\n",
              "      <td>0.0288</td>\n",
              "      <td>0.022600</td>\n",
              "      <td>0.793000</td>\n",
              "      <td>4</td>\n",
              "      <td>0.800</td>\n",
              "      <td>5</td>\n",
              "      <td>423053</td>\n",
              "      <td>-8.373</td>\n",
              "      <td>0.863</td>\n",
              "      <td>0</td>\n",
              "      <td>26</td>\n",
              "      <td>2014</td>\n",
              "      <td>1</td>\n",
              "    </tr>\n",
              "  </tbody>\n",
              "</table>\n",
              "<p>1991 rows × 17 columns</p>\n",
              "</div>"
            ],
            "text/plain": [
              "      genre  energy  liveness    tempo  ...  mode  popularity  year  target\n",
              "847      19   0.569    0.1030  123.982  ...     0          37  2017       1\n",
              "167       3   0.864    0.2090  105.143  ...     0          84  2000       1\n",
              "359       0   0.628    0.1520   99.766  ...     1          34  1980       1\n",
              "188      20   0.752    0.3940   89.950  ...     1          71  2020       1\n",
              "1660     35   0.638    0.1050  141.044  ...     1          63  2018       0\n",
              "...     ...     ...       ...      ...  ...   ...         ...   ...     ...\n",
              "53        0   0.900    0.1950  141.785  ...     1          23  1973       1\n",
              "1551     19   0.463    0.1050  124.009  ...     1          47  2014       0\n",
              "433      18   0.872    0.0344  129.827  ...     1           1  2013       1\n",
              "923      33   0.517    0.1450  119.997  ...     0          72  2018       1\n",
              "750       1   0.597    0.0730  123.990  ...     0          26  2014       1\n",
              "\n",
              "[1991 rows x 17 columns]"
            ]
          },
          "metadata": {
            "tags": []
          },
          "execution_count": 8
        }
      ]
    },
    {
      "cell_type": "markdown",
      "metadata": {
        "id": "NVBH3v1JJEDr"
      },
      "source": [
        "#Делење на податочното множество на тренирачко, валидациско и тестирачко "
      ]
    },
    {
      "cell_type": "markdown",
      "metadata": {
        "id": "v3Fp_dfCywo0"
      },
      "source": [
        "Делење на податочното множество на тренирачко, валидациско и тестирачко множество, \n",
        "    така што првите 70% од секоја од класите  се доделени во тренирачкото множество. \n",
        "    Следните 10% од секоја од класите влегуваат во валидациско множество, \n",
        "    а последните 20% од секоја од класите се дел од тестирачкото множество.\n",
        "    На крај се прави shuffle на множествата (заедно со соодветните лабели)."
      ]
    },
    {
      "cell_type": "code",
      "metadata": {
        "id": "iGyfg9Fnyvz6"
      },
      "source": [
        "tmp = df.values.tolist().copy()\n",
        "dataset =  [[row[i] if i != len(row)-1   else int(row[i]) for i in range(len(row))] for row in tmp]\n",
        "print(tmp)\n",
        "print(dataset)\n",
        "\n",
        "bad_classes = [x for x in dataset if x[-1] == 0]\n",
        "good_classes = [x for x in dataset if x[-1] == 1]\n",
        "\n",
        "train_set =  bad_classes[:int(len(bad_classes) * 0.7)] + good_classes[:int(len(good_classes) * 0.7)]\n",
        "val_set = bad_classes[int(len(bad_classes) * 0.7):int(len(bad_classes) * 0.8)] + good_classes[int(len(good_classes) * 0.7):int(len(good_classes) * 0.8)]\n",
        "test_set =  bad_classes[int(len(bad_classes) * 0.8):] + good_classes[int(len(good_classes) * 0.8):]\n",
        "\n",
        "train_x = [x[:-1] for x in train_set]\n",
        "train_y = [x[-1] for x in train_set]\n",
        "val_x = [x[:-1] for x in val_set]\n",
        "val_y = [x[-1] for x in val_set]\n",
        "test_x = [x[:-1] for x in test_set]\n",
        "test_y = [x[-1] for x in test_set]\n"
      ],
      "execution_count": null,
      "outputs": []
    },
    {
      "cell_type": "code",
      "metadata": {
        "id": "wYkGUFkT3yEA",
        "outputId": "23693dba-a1f3-4ec4-93a1-a7f17983f54c",
        "colab": {
          "base_uri": "https://localhost:8080/",
          "height": 102
        }
      },
      "source": [
        "import collections\n",
        "X_train = np.array(train_x)\n",
        "y_train = np.array(train_y)\n",
        "X_val = np.array(val_x)\n",
        "y_val = np.array(val_y)\n",
        "X_test = np.array(test_x)\n",
        "y_test = np.array(test_y)\n",
        "\n",
        "from sklearn.utils import shuffle\n",
        "X_train,y_train = shuffle(X_train,y_train,random_state=0)\n",
        "X_val, y_val = shuffle(X_val, y_val,random_state=0)\n",
        "X_test, y_test = shuffle(X_test, y_test,random_state=0)\n",
        "\n",
        "print(X_train.shape, X_val.shape, X_test.shape)\n",
        "print(y_train.shape, y_val.shape, y_test.shape)\n",
        "print(collections.Counter(y_train))\n",
        "print(collections.Counter(y_val))\n",
        "print(collections.Counter(y_test))"
      ],
      "execution_count": null,
      "outputs": [
        {
          "output_type": "stream",
          "text": [
            "(1392, 16) (200, 16) (399, 16)\n",
            "(1392,) (200,) (399,)\n",
            "Counter({1: 702, 0: 690})\n",
            "Counter({1: 101, 0: 99})\n",
            "Counter({1: 201, 0: 198})\n"
          ],
          "name": "stdout"
        }
      ]
    },
    {
      "cell_type": "markdown",
      "metadata": {
        "id": "3A2L0RbVb4dd"
      },
      "source": [
        "#Наивен Баесов, Дрво на одлука и Рандом Форест"
      ]
    },
    {
      "cell_type": "code",
      "metadata": {
        "id": "QIISLP-uYiii",
        "outputId": "bc63dd3f-2952-47d9-b342-c852bd5580e3",
        "colab": {
          "base_uri": "https://localhost:8080/",
          "height": 153
        }
      },
      "source": [
        "from sklearn.tree import DecisionTreeClassifier\n",
        "from sklearn.naive_bayes import GaussianNB\n",
        "from sklearn.ensemble import RandomForestClassifier\n",
        "\n",
        "dtc = DecisionTreeClassifier()\n",
        "nbc = GaussianNB()\n",
        "rfc = RandomForestClassifier()\n",
        "\n",
        "dtc.fit(X_train, y_train)\n",
        "nbc.fit(X_train, y_train)\n",
        "rfc.fit(X_train, y_train)"
      ],
      "execution_count": null,
      "outputs": [
        {
          "output_type": "execute_result",
          "data": {
            "text/plain": [
              "RandomForestClassifier(bootstrap=True, ccp_alpha=0.0, class_weight=None,\n",
              "                       criterion='gini', max_depth=None, max_features='auto',\n",
              "                       max_leaf_nodes=None, max_samples=None,\n",
              "                       min_impurity_decrease=0.0, min_impurity_split=None,\n",
              "                       min_samples_leaf=1, min_samples_split=2,\n",
              "                       min_weight_fraction_leaf=0.0, n_estimators=100,\n",
              "                       n_jobs=None, oob_score=False, random_state=None,\n",
              "                       verbose=0, warm_start=False)"
            ]
          },
          "metadata": {
            "tags": []
          },
          "execution_count": 85
        }
      ]
    },
    {
      "cell_type": "code",
      "metadata": {
        "id": "GWQ4N-HOLInm",
        "outputId": "18cb19d2-ab44-4d39-a1f6-2f2fad30dc6e",
        "colab": {
          "base_uri": "https://localhost:8080/",
          "height": 51
        }
      },
      "source": [
        "importances = list(rfc.feature_importances_)\n",
        "\n",
        "most_important_feature = importances.index(max(importances))\n",
        "least_important_feature = importances.index(min(importances))\n",
        "print('Most important feature: '+ df.columns[most_important_feature])\n",
        "print('Least important feature: '+ df.columns[least_important_feature])"
      ],
      "execution_count": null,
      "outputs": [
        {
          "output_type": "stream",
          "text": [
            "Most important feature: genre\n",
            "Least important feature: time_signature\n"
          ],
          "name": "stdout"
        }
      ]
    },
    {
      "cell_type": "code",
      "metadata": {
        "id": "JD4ff9Nrj9jd",
        "outputId": "233313b9-8cd8-46a0-ac6f-414d99ab5e8d",
        "colab": {
          "base_uri": "https://localhost:8080/",
          "height": 527
        }
      },
      "source": [
        "from sklearn.metrics import classification_report\n",
        "\n",
        "test_tree_predict = dtc.predict(X_test)\n",
        "test_naive_predict = nbc.predict(X_test)\n",
        "test_random_forest_predict = rfc.predict(X_test)\n",
        "\n",
        "print('Decision Tree score on test:\\n', classification_report( y_test,test_tree_predict))\n",
        "print('Naive Bayes score on test:\\n', classification_report( y_test,test_naive_predict))\n",
        "print('Random Forest score on test:\\n', classification_report( y_test,test_random_forest_predict))"
      ],
      "execution_count": null,
      "outputs": [
        {
          "output_type": "stream",
          "text": [
            "Decision Tree score on test:\n",
            "               precision    recall  f1-score   support\n",
            "\n",
            "           0       0.92      0.96      0.94       198\n",
            "           1       0.96      0.92      0.94       201\n",
            "\n",
            "    accuracy                           0.94       399\n",
            "   macro avg       0.94      0.94      0.94       399\n",
            "weighted avg       0.94      0.94      0.94       399\n",
            "\n",
            "Naive Bayes score on test:\n",
            "               precision    recall  f1-score   support\n",
            "\n",
            "           0       0.67      0.92      0.78       198\n",
            "           1       0.88      0.56      0.68       201\n",
            "\n",
            "    accuracy                           0.74       399\n",
            "   macro avg       0.77      0.74      0.73       399\n",
            "weighted avg       0.77      0.74      0.73       399\n",
            "\n",
            "Random Forest score on test:\n",
            "               precision    recall  f1-score   support\n",
            "\n",
            "           0       0.91      0.96      0.93       198\n",
            "           1       0.96      0.90      0.93       201\n",
            "\n",
            "    accuracy                           0.93       399\n",
            "   macro avg       0.93      0.93      0.93       399\n",
            "weighted avg       0.93      0.93      0.93       399\n",
            "\n"
          ],
          "name": "stdout"
        }
      ]
    },
    {
      "cell_type": "code",
      "metadata": {
        "id": "PGq1gJH5cXZ0",
        "outputId": "5fb1fa99-b0cd-44be-b6ca-89ac068bda38",
        "colab": {
          "base_uri": "https://localhost:8080/",
          "height": 358
        }
      },
      "source": [
        "confusion = confusion_matrix(y_test, test_tree_predict)\n",
        "TP = confusion[1, 1]\n",
        "TN = confusion[0, 0]\n",
        "FP = confusion[0, 1]\n",
        "FN = confusion[1, 0]\n",
        "\n",
        "df_Results = pd.DataFrame(columns = [\"Model\", \"Acc\",\"Recall\",\"ROC\",\"TP\",\"FN\"])\n",
        "df_Results.loc[0, \"Model\"] = \"Decision Tree \"\n",
        "df_Results.loc[0, \"Acc\"] = accuracy_score(y_test, test_tree_predict)\n",
        "df_Results.loc[0, \"Recall\"] = recall_score(y_test, test_tree_predict)\n",
        "df_Results.loc[0, \"ROC\"] = roc_auc_score(y_test,test_tree_predict)\n",
        "df_Results.loc[0, \"TP\"] = TP\n",
        "df_Results.loc[0, \"FN\"] = FN\n",
        "\n",
        "\n",
        "import seaborn as sn\n",
        "from sklearn.metrics import confusion_matrix\n",
        "import warnings\n",
        "warnings.simplefilter(action='ignore', category=FutureWarning)\n",
        "import pandas as pd\n",
        "\n",
        "# Визуелизација со матрица на конфузија \n",
        "names = ['bad', 'good'] \n",
        "\n",
        "confusion = 100 * confusion.astype('float') / confusion.sum(axis=-1)[:, np.newaxis]  \n",
        "\n",
        "df = pd.DataFrame(data=confusion, columns=names, index=names)\n",
        "g = sn.heatmap(df, annot=True, fmt=\".1f\", linewidths=.5, vmin=0, vmax=100,\n",
        "                    cmap='Blues')\n",
        "g.set_title('Confusion matrix')\n",
        "g.set_ylabel('True label')\n",
        "g.set_xlabel('Predicted label')\n",
        "g.plot()\n",
        "\n",
        "df_Results.head()\n"
      ],
      "execution_count": null,
      "outputs": [
        {
          "output_type": "execute_result",
          "data": {
            "text/html": [
              "<div>\n",
              "<style scoped>\n",
              "    .dataframe tbody tr th:only-of-type {\n",
              "        vertical-align: middle;\n",
              "    }\n",
              "\n",
              "    .dataframe tbody tr th {\n",
              "        vertical-align: top;\n",
              "    }\n",
              "\n",
              "    .dataframe thead th {\n",
              "        text-align: right;\n",
              "    }\n",
              "</style>\n",
              "<table border=\"1\" class=\"dataframe\">\n",
              "  <thead>\n",
              "    <tr style=\"text-align: right;\">\n",
              "      <th></th>\n",
              "      <th>Model</th>\n",
              "      <th>Acc</th>\n",
              "      <th>Recall</th>\n",
              "      <th>ROC</th>\n",
              "      <th>TP</th>\n",
              "      <th>FN</th>\n",
              "    </tr>\n",
              "  </thead>\n",
              "  <tbody>\n",
              "    <tr>\n",
              "      <th>0</th>\n",
              "      <td>Decision Tree</td>\n",
              "      <td>0.93985</td>\n",
              "      <td>0.920398</td>\n",
              "      <td>0.939997</td>\n",
              "      <td>185</td>\n",
              "      <td>16</td>\n",
              "    </tr>\n",
              "  </tbody>\n",
              "</table>\n",
              "</div>"
            ],
            "text/plain": [
              "            Model      Acc    Recall       ROC   TP  FN\n",
              "0  Decision Tree   0.93985  0.920398  0.939997  185  16"
            ]
          },
          "metadata": {
            "tags": []
          },
          "execution_count": 53
        },
        {
          "output_type": "display_data",
          "data": {
            "image/png": "[encoded data removed]",
            "text/plain": [
              "<Figure size 432x288 with 2 Axes>"
            ]
          },
          "metadata": {
            "tags": [],
            "needs_background": "light"
          }
        }
      ]
    },
    {
      "cell_type": "code",
      "metadata": {
        "id": "BY2982QdbPb5",
        "outputId": "9422cd6a-c1f4-4bc9-e617-1a430dfbfd50",
        "colab": {
          "base_uri": "https://localhost:8080/",
          "height": 389
        }
      },
      "source": [
        "confusion = confusion_matrix(y_test, test_random_forest_predict)\n",
        "TP = confusion[1, 1]\n",
        "TN = confusion[0, 0]\n",
        "FP = confusion[0, 1]\n",
        "FN = confusion[1, 0]\n",
        "\n",
        "df_Results.loc[1, \"Model\"] = \"Random Forest\"\n",
        "df_Results.loc[1, \"Acc\"] = accuracy_score(y_test, test_random_forest_predict)\n",
        "df_Results.loc[1, \"Recall\"] = recall_score(y_test, test_random_forest_predict)\n",
        "df_Results.loc[1, \"ROC\"] = roc_auc_score(y_test,test_random_forest_predict)\n",
        "df_Results.loc[1, \"TP\"] = TP\n",
        "df_Results.loc[1, \"FN\"] = FN\n",
        "\n",
        "import seaborn as sn\n",
        "from sklearn.metrics import confusion_matrix\n",
        "import warnings\n",
        "warnings.simplefilter(action='ignore', category=FutureWarning)\n",
        "import pandas as pd\n",
        "\n",
        "# Визуелизација со матрица на конфузија \n",
        "names = ['bad', 'good'] \n",
        "\n",
        "confusion = 100 * confusion.astype('float') / confusion.sum(axis=-1)[:, np.newaxis]  \n",
        "\n",
        "df = pd.DataFrame(data=confusion, columns=names, index=names)\n",
        "g = sn.heatmap(df, annot=True, fmt=\".1f\", linewidths=.5, vmin=0, vmax=100,\n",
        "                    cmap='Blues')\n",
        "g.set_title('Confusion matrix')\n",
        "g.set_ylabel('True label')\n",
        "g.set_xlabel('Predicted label')\n",
        "g.plot()\n",
        "\n",
        "df_Results.head()"
      ],
      "execution_count": null,
      "outputs": [
        {
          "output_type": "execute_result",
          "data": {
            "text/html": [
              "<div>\n",
              "<style scoped>\n",
              "    .dataframe tbody tr th:only-of-type {\n",
              "        vertical-align: middle;\n",
              "    }\n",
              "\n",
              "    .dataframe tbody tr th {\n",
              "        vertical-align: top;\n",
              "    }\n",
              "\n",
              "    .dataframe thead th {\n",
              "        text-align: right;\n",
              "    }\n",
              "</style>\n",
              "<table border=\"1\" class=\"dataframe\">\n",
              "  <thead>\n",
              "    <tr style=\"text-align: right;\">\n",
              "      <th></th>\n",
              "      <th>Model</th>\n",
              "      <th>Acc</th>\n",
              "      <th>Recall</th>\n",
              "      <th>ROC</th>\n",
              "      <th>TP</th>\n",
              "      <th>FN</th>\n",
              "    </tr>\n",
              "  </thead>\n",
              "  <tbody>\n",
              "    <tr>\n",
              "      <th>0</th>\n",
              "      <td>Decision Tree</td>\n",
              "      <td>0.93985</td>\n",
              "      <td>0.920398</td>\n",
              "      <td>0.939997</td>\n",
              "      <td>185</td>\n",
              "      <td>16</td>\n",
              "    </tr>\n",
              "    <tr>\n",
              "      <th>1</th>\n",
              "      <td>Random Forest</td>\n",
              "      <td>0.932331</td>\n",
              "      <td>0.900498</td>\n",
              "      <td>0.932572</td>\n",
              "      <td>181</td>\n",
              "      <td>20</td>\n",
              "    </tr>\n",
              "  </tbody>\n",
              "</table>\n",
              "</div>"
            ],
            "text/plain": [
              "            Model       Acc    Recall       ROC   TP  FN\n",
              "0  Decision Tree    0.93985  0.920398  0.939997  185  16\n",
              "1   Random Forest  0.932331  0.900498  0.932572  181  20"
            ]
          },
          "metadata": {
            "tags": []
          },
          "execution_count": 54
        },
        {
          "output_type": "display_data",
          "data": {
            "image/png": "[encoded data removed]",
            "text/plain": [
              "<Figure size 432x288 with 2 Axes>"
            ]
          },
          "metadata": {
            "tags": [],
            "needs_background": "light"
          }
        }
      ]
    },
    {
      "cell_type": "code",
      "metadata": {
        "id": "2f6pstjwdGaG",
        "outputId": "0c350b06-4f8c-43c9-8374-eb43268b10f3",
        "colab": {
          "base_uri": "https://localhost:8080/",
          "height": 420
        }
      },
      "source": [
        "confusion = confusion_matrix(y_test, test_naive_predict)\n",
        "TP = confusion[1, 1]\n",
        "TN = confusion[0, 0]\n",
        "FP = confusion[0, 1]\n",
        "FN = confusion[1, 0]\n",
        "\n",
        "df_Results.loc[2, \"Model\"] = \"Naive Bayes\"\n",
        "df_Results.loc[2, \"Acc\"] = accuracy_score(y_test, test_naive_predict)\n",
        "df_Results.loc[2, \"Recall\"] = recall_score(y_test, test_naive_predict)\n",
        "df_Results.loc[2, \"ROC\"] = roc_auc_score(y_test,test_naive_predict)\n",
        "df_Results.loc[2, \"TP\"] = TP\n",
        "df_Results.loc[2, \"FN\"] = FN\n",
        "\n",
        "import seaborn as sn\n",
        "from sklearn.metrics import confusion_matrix\n",
        "import warnings\n",
        "warnings.simplefilter(action='ignore', category=FutureWarning)\n",
        "import pandas as pd\n",
        "\n",
        "# Визуелизација со матрица на конфузија \n",
        "names = ['bad', 'good'] \n",
        "\n",
        "confusion = 100 * confusion.astype('float') / confusion.sum(axis=-1)[:, np.newaxis]  \n",
        "\n",
        "df = pd.DataFrame(data=confusion, columns=names, index=names)\n",
        "g = sn.heatmap(df, annot=True, fmt=\".1f\", linewidths=.5, vmin=0, vmax=100,\n",
        "                    cmap='Blues')\n",
        "g.set_title('Confusion matrix')\n",
        "g.set_ylabel('True label')\n",
        "g.set_xlabel('Predicted label')\n",
        "g.plot()\n",
        "\n",
        "df_Results.head(3)"
      ],
      "execution_count": null,
      "outputs": [
        {
          "output_type": "execute_result",
          "data": {
            "text/html": [
              "<div>\n",
              "<style scoped>\n",
              "    .dataframe tbody tr th:only-of-type {\n",
              "        vertical-align: middle;\n",
              "    }\n",
              "\n",
              "    .dataframe tbody tr th {\n",
              "        vertical-align: top;\n",
              "    }\n",
              "\n",
              "    .dataframe thead th {\n",
              "        text-align: right;\n",
              "    }\n",
              "</style>\n",
              "<table border=\"1\" class=\"dataframe\">\n",
              "  <thead>\n",
              "    <tr style=\"text-align: right;\">\n",
              "      <th></th>\n",
              "      <th>Model</th>\n",
              "      <th>Acc</th>\n",
              "      <th>Recall</th>\n",
              "      <th>ROC</th>\n",
              "      <th>TP</th>\n",
              "      <th>FN</th>\n",
              "    </tr>\n",
              "  </thead>\n",
              "  <tbody>\n",
              "    <tr>\n",
              "      <th>0</th>\n",
              "      <td>Decision Tree</td>\n",
              "      <td>0.93985</td>\n",
              "      <td>0.920398</td>\n",
              "      <td>0.939997</td>\n",
              "      <td>185</td>\n",
              "      <td>16</td>\n",
              "    </tr>\n",
              "    <tr>\n",
              "      <th>1</th>\n",
              "      <td>Random Forest</td>\n",
              "      <td>0.932331</td>\n",
              "      <td>0.900498</td>\n",
              "      <td>0.932572</td>\n",
              "      <td>181</td>\n",
              "      <td>20</td>\n",
              "    </tr>\n",
              "    <tr>\n",
              "      <th>2</th>\n",
              "      <td>Naive Bayes</td>\n",
              "      <td>0.736842</td>\n",
              "      <td>0.557214</td>\n",
              "      <td>0.738203</td>\n",
              "      <td>112</td>\n",
              "      <td>89</td>\n",
              "    </tr>\n",
              "  </tbody>\n",
              "</table>\n",
              "</div>"
            ],
            "text/plain": [
              "            Model       Acc    Recall       ROC   TP  FN\n",
              "0  Decision Tree    0.93985  0.920398  0.939997  185  16\n",
              "1   Random Forest  0.932331  0.900498  0.932572  181  20\n",
              "2     Naive Bayes  0.736842  0.557214  0.738203  112  89"
            ]
          },
          "metadata": {
            "tags": []
          },
          "execution_count": 55
        },
        {
          "output_type": "display_data",
          "data": {
            "image/png": "[encoded data removed]",
            "text/plain": [
              "<Figure size 432x288 with 2 Axes>"
            ]
          },
          "metadata": {
            "tags": [],
            "needs_background": "light"
          }
        }
      ]
    },
    {
      "cell_type": "code",
      "metadata": {
        "id": "Lw0SxTacbi4Y",
        "outputId": "65648efb-3274-4ce3-afcc-3c5a672329ab",
        "colab": {
          "base_uri": "https://localhost:8080/",
          "height": 279
        }
      },
      "source": [
        "from sklearn.metrics import roc_curve, auc\n",
        "import matplotlib.pyplot as plt\n",
        "\n",
        "actual = y_test\n",
        "decision_tree_prob = [p[1] for p in dtc.predict_proba(X_test)]\n",
        "naive_bayes_prob = [p[1] for p in nbc.predict_proba(X_test)]\n",
        "random_forest_prob = [p[1] for p in rfc.predict_proba(X_test)]\n",
        "\n",
        "dt_false_pos, dt_true_pos, _ = roc_curve(actual, decision_tree_prob)\n",
        "dt_auc = auc(dt_false_pos, dt_true_pos)\n",
        "\n",
        "nb_false_pos, nb_true_pos, _ = roc_curve(actual, naive_bayes_prob)\n",
        "nb_auc = auc(nb_false_pos, nb_true_pos)\n",
        "\n",
        "rf_false_pos, rf_true_pos, _ = roc_curve(actual, random_forest_prob)\n",
        "rf_auc = auc(rf_false_pos, rf_true_pos)\n",
        "\n",
        "# plot\n",
        "plt.plot(dt_false_pos, dt_true_pos, 'r', label='Decision Tree AUC = %0.2f'% dt_auc)\n",
        "plt.plot(nb_false_pos, nb_true_pos, 'g', label='Naive Bayes AUC = %0.2f'% nb_auc)\n",
        "plt.plot(rf_false_pos, rf_true_pos, 'b', label='Random Forest AUC = %0.2f'% rf_auc)\n",
        "\n",
        "plt.legend(loc='lower right')\n",
        "plt.plot([0,1], [0,1], 'r--')\n",
        "plt.ylabel('True Positive Rate')\n",
        "plt.xlabel('False Positive Rate')\n",
        "plt.show()"
      ],
      "execution_count": null,
      "outputs": [
        {
          "output_type": "display_data",
          "data": {
            "image/png": "[encoded data removed]",
            "text/plain": [
              "<Figure size 432x288 with 1 Axes>"
            ]
          },
          "metadata": {
            "tags": [],
            "needs_background": "light"
          }
        }
      ]
    },
    {
      "cell_type": "markdown",
      "metadata": {
        "id": "6pFeC4CvNd8r"
      },
      "source": [
        "#XGBOOST"
      ]
    },
    {
      "cell_type": "code",
      "metadata": {
        "id": "4wK9TdssqZC7"
      },
      "source": [
        "#80% train, 20% test\n",
        "xtrain = np.concatenate((X_train,X_val)) \n",
        "ytrain = np.concatenate((y_train,y_val))  "
      ],
      "execution_count": null,
      "outputs": []
    },
    {
      "cell_type": "code",
      "metadata": {
        "id": "g3WtdnCpNJot",
        "outputId": "13c9a8be-fe4e-487d-e2e1-8255e7e9d14a",
        "colab": {
          "base_uri": "https://localhost:8080/",
          "height": 737
        }
      },
      "source": [
        "from xgboost.sklearn import XGBClassifier\n",
        "import scipy.stats as st\n",
        "from sklearn.model_selection import RandomizedSearchCV\n",
        "\n",
        "model_xg = XGBClassifier(random_state=42,n_jobs=-1)\n",
        "\n",
        "one_to_left = st.beta(10, 1) \n",
        "\n",
        "parameters6 = {  \n",
        "    \"n_estimators\": st.randint(20,40), # Number of boosted trees to fit.\n",
        "    'reg_alpha': st.uniform(0.05,10),   # L1 regularization term on weights\n",
        "    \"max_depth\": st.randint(3, 12),     # Maximum tree depth for base learners.\n",
        "    \"learning_rate\": st.uniform(0.05, 0.4), #     Boosting learning rate (xgb’s “eta”)\n",
        "\n",
        "    \"colsample_bytree\": one_to_left, #     Subsample ratio of columns when constructing each tree.\n",
        "    \"subsample\": one_to_left,     # Subsample ratio of the training instance.\n",
        "    \"gamma\": st.uniform(0, 10), #     Minimum loss reduction required to make a further partition on a leaf node of the tree.\n",
        "    \"min_child_weight\": st.uniform(1,20), #    Minimum sum of instance weight(hessian) needed in a child.\n",
        "}\n",
        "\n",
        "xgb = RandomizedSearchCV(model_xg,parameters6, scoring='recall', n_iter=25, verbose= True)\n",
        "\n",
        "xgb.fit(xtrain, ytrain)\n",
        "\n",
        "print(\"Best score: %0.3f\" % xgb.best_score_) \n",
        "print(\"Best parameters set:\" )\n",
        "best_parameters6 = xgb.best_estimator_.get_params()\n",
        "for param_name6 in sorted (parameters6 . keys()): \n",
        "                    print(\"\\t %s: %r\" % (param_name6, best_parameters6[param_name6]))\n",
        "        \n",
        "y_pred = xgb.predict(X_test)\n",
        "\n",
        "print(classification_report(y_test, y_pred))\n",
        "print(\"accuracy: \",accuracy_score(y_test, y_pred))\n",
        "print (\"\\n\")\n",
        "# Визуелизација со матрица на конфузија \n",
        "cm=confusion_matrix(y_test,y_pred)\n",
        "names = ['bad', 'good'] \n",
        "\n",
        "cm = 100 * cm.astype('float') / cm.sum(axis=-1)[:, np.newaxis]  \n",
        "\n",
        "df = pd.DataFrame(data=cm, columns=names, index=names)\n",
        "g = sn.heatmap(df, annot=True, fmt=\".1f\", linewidths=.5, vmin=0, vmax=100,\n",
        "                    cmap='Blues')\n",
        "g.set_title('Confusion matrix')\n",
        "g.set_ylabel('True label')\n",
        "g.set_xlabel('Predicted label')\n",
        "g.plot()"
      ],
      "execution_count": null,
      "outputs": [
        {
          "output_type": "stream",
          "text": [
            "Fitting 5 folds for each of 25 candidates, totalling 125 fits\n"
          ],
          "name": "stdout"
        },
        {
          "output_type": "stream",
          "text": [
            "[Parallel(n_jobs=1)]: Using backend SequentialBackend with 1 concurrent workers.\n"
          ],
          "name": "stderr"
        },
        {
          "output_type": "stream",
          "text": [
            "Best score: 0.966\n",
            "Best parameters set:\n",
            "\t colsample_bytree: 0.9601679826133956\n",
            "\t gamma: 0.6476355319631466\n",
            "\t learning_rate: 0.2007507383560908\n",
            "\t max_depth: 9\n",
            "\t min_child_weight: 3.425222953941135\n",
            "\t n_estimators: 22\n",
            "\t reg_alpha: 0.08218955353701758\n",
            "\t subsample: 0.9998421131143174\n",
            "              precision    recall  f1-score   support\n",
            "\n",
            "           0       0.98      0.99      0.98       198\n",
            "           1       0.99      0.98      0.98       201\n",
            "\n",
            "    accuracy                           0.98       399\n",
            "   macro avg       0.98      0.98      0.98       399\n",
            "weighted avg       0.98      0.98      0.98       399\n",
            "\n",
            "accuracy:  0.9824561403508771\n",
            "\n",
            "\n"
          ],
          "name": "stdout"
        },
        {
          "output_type": "stream",
          "text": [
            "[Parallel(n_jobs=1)]: Done 125 out of 125 | elapsed:    6.7s finished\n"
          ],
          "name": "stderr"
        },
        {
          "output_type": "execute_result",
          "data": {
            "text/plain": [
              "[]"
            ]
          },
          "metadata": {
            "tags": []
          },
          "execution_count": 58
        },
        {
          "output_type": "display_data",
          "data": {
            "image/png": "[encoded data removed]",
            "text/plain": [
              "<Figure size 432x288 with 2 Axes>"
            ]
          },
          "metadata": {
            "tags": [],
            "needs_background": "light"
          }
        }
      ]
    },
    {
      "cell_type": "code",
      "metadata": {
        "id": "J4RehRGMP8Vq",
        "outputId": "151d2bb9-0043-4a25-b801-f4abd23eb7d7",
        "colab": {
          "base_uri": "https://localhost:8080/",
          "height": 295
        }
      },
      "source": [
        "from xgboost import plot_importance\n",
        "\n",
        "#f0 e genre, f14 e popularity\n",
        "plot_importance(xgb.best_estimator_, height = 0.8,max_num_features=5);"
      ],
      "execution_count": null,
      "outputs": [
        {
          "output_type": "display_data",
          "data": {
            "image/png": "[encoded data removed]",
            "text/plain": [
              "<Figure size 432x288 with 1 Axes>"
            ]
          },
          "metadata": {
            "tags": [],
            "needs_background": "light"
          }
        }
      ]
    },
    {
      "cell_type": "code",
      "metadata": {
        "id": "VXR1GX3chiML",
        "outputId": "42577327-5a54-48a3-9b9b-7126cd6d53df",
        "colab": {
          "base_uri": "https://localhost:8080/",
          "height": 451
        }
      },
      "source": [
        "confusion = confusion_matrix(y_test, y_pred)\n",
        "TP = confusion[1, 1]\n",
        "TN = confusion[0, 0]\n",
        "FP = confusion[0, 1]\n",
        "FN = confusion[1, 0]\n",
        "\n",
        "df_Results.loc[3, \"Model\"] = \"XGBoost\"\n",
        "df_Results.loc[3, \"Acc\"] = accuracy_score(y_test, y_pred)\n",
        "df_Results.loc[3, \"Recall\"] = recall_score(y_test, y_pred)\n",
        "df_Results.loc[3, \"ROC\"] = roc_auc_score(y_test,y_pred)\n",
        "df_Results.loc[3, \"TP\"] = TP\n",
        "df_Results.loc[3, \"FN\"] = FN\n",
        "\n",
        "import seaborn as sn\n",
        "from sklearn.metrics import confusion_matrix\n",
        "import warnings\n",
        "warnings.simplefilter(action='ignore', category=FutureWarning)\n",
        "import pandas as pd\n",
        "\n",
        "# Визуелизација со матрица на конфузија \n",
        "names = ['bad', 'good'] \n",
        "\n",
        "confusion = 100 * confusion.astype('float') / confusion.sum(axis=-1)[:, np.newaxis]  \n",
        "\n",
        "df = pd.DataFrame(data=confusion, columns=names, index=names)\n",
        "g = sn.heatmap(df, annot=True, fmt=\".1f\", linewidths=.5, vmin=0, vmax=100,\n",
        "                    cmap='Blues')\n",
        "g.set_title('Confusion matrix')\n",
        "g.set_ylabel('True label')\n",
        "g.set_xlabel('Predicted label')\n",
        "g.plot()\n",
        "\n",
        "df_Results.head()"
      ],
      "execution_count": null,
      "outputs": [
        {
          "output_type": "execute_result",
          "data": {
            "text/html": [
              "<div>\n",
              "<style scoped>\n",
              "    .dataframe tbody tr th:only-of-type {\n",
              "        vertical-align: middle;\n",
              "    }\n",
              "\n",
              "    .dataframe tbody tr th {\n",
              "        vertical-align: top;\n",
              "    }\n",
              "\n",
              "    .dataframe thead th {\n",
              "        text-align: right;\n",
              "    }\n",
              "</style>\n",
              "<table border=\"1\" class=\"dataframe\">\n",
              "  <thead>\n",
              "    <tr style=\"text-align: right;\">\n",
              "      <th></th>\n",
              "      <th>Model</th>\n",
              "      <th>Acc</th>\n",
              "      <th>Recall</th>\n",
              "      <th>ROC</th>\n",
              "      <th>TP</th>\n",
              "      <th>FN</th>\n",
              "    </tr>\n",
              "  </thead>\n",
              "  <tbody>\n",
              "    <tr>\n",
              "      <th>0</th>\n",
              "      <td>Decision Tree</td>\n",
              "      <td>0.93985</td>\n",
              "      <td>0.920398</td>\n",
              "      <td>0.939997</td>\n",
              "      <td>185</td>\n",
              "      <td>16</td>\n",
              "    </tr>\n",
              "    <tr>\n",
              "      <th>1</th>\n",
              "      <td>Random Forest</td>\n",
              "      <td>0.932331</td>\n",
              "      <td>0.900498</td>\n",
              "      <td>0.932572</td>\n",
              "      <td>181</td>\n",
              "      <td>20</td>\n",
              "    </tr>\n",
              "    <tr>\n",
              "      <th>2</th>\n",
              "      <td>Naive Bayes</td>\n",
              "      <td>0.736842</td>\n",
              "      <td>0.557214</td>\n",
              "      <td>0.738203</td>\n",
              "      <td>112</td>\n",
              "      <td>89</td>\n",
              "    </tr>\n",
              "    <tr>\n",
              "      <th>3</th>\n",
              "      <td>XGBoost</td>\n",
              "      <td>0.982456</td>\n",
              "      <td>0.975124</td>\n",
              "      <td>0.982512</td>\n",
              "      <td>196</td>\n",
              "      <td>5</td>\n",
              "    </tr>\n",
              "  </tbody>\n",
              "</table>\n",
              "</div>"
            ],
            "text/plain": [
              "            Model       Acc    Recall       ROC   TP  FN\n",
              "0  Decision Tree    0.93985  0.920398  0.939997  185  16\n",
              "1   Random Forest  0.932331  0.900498  0.932572  181  20\n",
              "2     Naive Bayes  0.736842  0.557214  0.738203  112  89\n",
              "3         XGBoost  0.982456  0.975124  0.982512  196   5"
            ]
          },
          "metadata": {
            "tags": []
          },
          "execution_count": 60
        },
        {
          "output_type": "display_data",
          "data": {
            "image/png": "[encoded data removed]",
            "text/plain": [
              "<Figure size 432x288 with 2 Axes>"
            ]
          },
          "metadata": {
            "tags": [],
            "needs_background": "light"
          }
        }
      ]
    },
    {
      "cell_type": "markdown",
      "metadata": {
        "id": "bscPIw7Lo-kw"
      },
      "source": [
        "#K-Nearest Neighbor Machine Learning Model"
      ]
    },
    {
      "cell_type": "code",
      "metadata": {
        "id": "bI5o5ZXNo9oa",
        "outputId": "6ef01718-563a-489a-de34-4dd8d940e777",
        "colab": {
          "base_uri": "https://localhost:8080/",
          "height": 68
        }
      },
      "source": [
        "from sklearn.neighbors import KNeighborsClassifier\n",
        "from sklearn.metrics import confusion_matrix, classification_report\n",
        "\n",
        "knn_model = KNeighborsClassifier() \n",
        "knn_model.fit(xtrain, ytrain)"
      ],
      "execution_count": null,
      "outputs": [
        {
          "output_type": "execute_result",
          "data": {
            "text/plain": [
              "KNeighborsClassifier(algorithm='auto', leaf_size=30, metric='minkowski',\n",
              "                     metric_params=None, n_jobs=None, n_neighbors=5, p=2,\n",
              "                     weights='uniform')"
            ]
          },
          "metadata": {
            "tags": []
          },
          "execution_count": 61
        }
      ]
    },
    {
      "cell_type": "code",
      "metadata": {
        "id": "jdpL_6nSoJgB",
        "outputId": "1f51f63f-a6a0-428a-b378-b676845372b5",
        "colab": {
          "base_uri": "https://localhost:8080/",
          "height": 465
        }
      },
      "source": [
        "pred = knn_model.predict(X_test)\n",
        "print(classification_report(y_test, pred))\n",
        "# Визуелизација со матрица на конфузија\n",
        "cm=confusion_matrix(y_test,pred)\n",
        "names = ['bad', 'good'] \n",
        "\n",
        "cm = 100 * cm.astype('float') / cm.sum(axis=-1)[:, np.newaxis]  \n",
        "\n",
        "df = pd.DataFrame(data=cm, columns=names, index=names)\n",
        "g = sn.heatmap(df, annot=True, fmt=\".1f\", linewidths=.5, vmin=0, vmax=100,\n",
        "                    cmap='Blues')\n",
        "g.set_title('Confusion matrix')\n",
        "g.set_ylabel('True label')\n",
        "g.set_xlabel('Predicted label')\n",
        "g.plot()\n"
      ],
      "execution_count": null,
      "outputs": [
        {
          "output_type": "stream",
          "text": [
            "              precision    recall  f1-score   support\n",
            "\n",
            "           0       0.60      0.63      0.62       198\n",
            "           1       0.62      0.59      0.61       201\n",
            "\n",
            "    accuracy                           0.61       399\n",
            "   macro avg       0.61      0.61      0.61       399\n",
            "weighted avg       0.61      0.61      0.61       399\n",
            "\n"
          ],
          "name": "stdout"
        },
        {
          "output_type": "execute_result",
          "data": {
            "text/plain": [
              "[]"
            ]
          },
          "metadata": {
            "tags": []
          },
          "execution_count": 62
        },
        {
          "output_type": "display_data",
          "data": {
            "image/png": "[encoded data removed]",
            "text/plain": [
              "<Figure size 432x288 with 2 Axes>"
            ]
          },
          "metadata": {
            "tags": [],
            "needs_background": "light"
          }
        }
      ]
    },
    {
      "cell_type": "code",
      "metadata": {
        "id": "LtPvJEj4iVH8",
        "outputId": "2fd9176b-0093-4c1d-be96-db877c2bc756",
        "colab": {
          "base_uri": "https://localhost:8080/",
          "height": 204
        }
      },
      "source": [
        "confusion = confusion_matrix(y_test, pred)\n",
        "TP = confusion[1, 1]\n",
        "TN = confusion[0, 0]\n",
        "FP = confusion[0, 1]\n",
        "FN = confusion[1, 0]\n",
        "\n",
        "df_Results.loc[4, \"Model\"] = \"KNN\"\n",
        "df_Results.loc[4, \"Acc\"] = accuracy_score(y_test, pred)\n",
        "df_Results.loc[4, \"Recall\"] = recall_score(y_test, pred)\n",
        "df_Results.loc[4, \"ROC\"] = roc_auc_score(y_test,pred)\n",
        "df_Results.loc[4, \"TP\"] = TP\n",
        "df_Results.loc[4, \"FN\"] = FN\n",
        "\n",
        "df_Results.head(10)"
      ],
      "execution_count": null,
      "outputs": [
        {
          "output_type": "execute_result",
          "data": {
            "text/html": [
              "<div>\n",
              "<style scoped>\n",
              "    .dataframe tbody tr th:only-of-type {\n",
              "        vertical-align: middle;\n",
              "    }\n",
              "\n",
              "    .dataframe tbody tr th {\n",
              "        vertical-align: top;\n",
              "    }\n",
              "\n",
              "    .dataframe thead th {\n",
              "        text-align: right;\n",
              "    }\n",
              "</style>\n",
              "<table border=\"1\" class=\"dataframe\">\n",
              "  <thead>\n",
              "    <tr style=\"text-align: right;\">\n",
              "      <th></th>\n",
              "      <th>Model</th>\n",
              "      <th>Acc</th>\n",
              "      <th>Recall</th>\n",
              "      <th>ROC</th>\n",
              "      <th>TP</th>\n",
              "      <th>FN</th>\n",
              "    </tr>\n",
              "  </thead>\n",
              "  <tbody>\n",
              "    <tr>\n",
              "      <th>0</th>\n",
              "      <td>Decision Tree</td>\n",
              "      <td>0.93985</td>\n",
              "      <td>0.920398</td>\n",
              "      <td>0.939997</td>\n",
              "      <td>185</td>\n",
              "      <td>16</td>\n",
              "    </tr>\n",
              "    <tr>\n",
              "      <th>1</th>\n",
              "      <td>Random Forest</td>\n",
              "      <td>0.932331</td>\n",
              "      <td>0.900498</td>\n",
              "      <td>0.932572</td>\n",
              "      <td>181</td>\n",
              "      <td>20</td>\n",
              "    </tr>\n",
              "    <tr>\n",
              "      <th>2</th>\n",
              "      <td>Naive Bayes</td>\n",
              "      <td>0.736842</td>\n",
              "      <td>0.557214</td>\n",
              "      <td>0.738203</td>\n",
              "      <td>112</td>\n",
              "      <td>89</td>\n",
              "    </tr>\n",
              "    <tr>\n",
              "      <th>3</th>\n",
              "      <td>XGBoost</td>\n",
              "      <td>0.982456</td>\n",
              "      <td>0.975124</td>\n",
              "      <td>0.982512</td>\n",
              "      <td>196</td>\n",
              "      <td>5</td>\n",
              "    </tr>\n",
              "    <tr>\n",
              "      <th>4</th>\n",
              "      <td>KNN</td>\n",
              "      <td>0.611529</td>\n",
              "      <td>0.59204</td>\n",
              "      <td>0.611676</td>\n",
              "      <td>119</td>\n",
              "      <td>82</td>\n",
              "    </tr>\n",
              "  </tbody>\n",
              "</table>\n",
              "</div>"
            ],
            "text/plain": [
              "            Model       Acc    Recall       ROC   TP  FN\n",
              "0  Decision Tree    0.93985  0.920398  0.939997  185  16\n",
              "1   Random Forest  0.932331  0.900498  0.932572  181  20\n",
              "2     Naive Bayes  0.736842  0.557214  0.738203  112  89\n",
              "3         XGBoost  0.982456  0.975124  0.982512  196   5\n",
              "4             KNN  0.611529   0.59204  0.611676  119  82"
            ]
          },
          "metadata": {
            "tags": []
          },
          "execution_count": 63
        }
      ]
    },
    {
      "cell_type": "markdown",
      "metadata": {
        "id": "7h2fBBENbsfo"
      },
      "source": [
        "#Пример невронскa мрежa"
      ]
    },
    {
      "cell_type": "code",
      "metadata": {
        "id": "NWTubFV1kZiX"
      },
      "source": [
        "import keras\n",
        "from keras.models import Sequential \n",
        "from keras.layers import Dense   \n",
        "from tensorflow.keras.callbacks import EarlyStopping"
      ],
      "execution_count": null,
      "outputs": []
    },
    {
      "cell_type": "code",
      "metadata": {
        "id": "VJ1RwU0fjBf5"
      },
      "source": [
        "from sklearn.preprocessing import StandardScaler\n",
        "scaler = StandardScaler()\n",
        "X_train_norm = scaler.fit_transform(X_train)\n",
        "X_val_norm = scaler.fit_transform(X_val)\n",
        "X_test_norm = scaler.fit_transform(X_test)"
      ],
      "execution_count": null,
      "outputs": []
    },
    {
      "cell_type": "code",
      "metadata": {
        "id": "T6-xkCEUkgQO",
        "outputId": "421c4810-07be-4c65-8c35-658a117c305c",
        "colab": {
          "base_uri": "https://localhost:8080/",
          "height": 1000
        }
      },
      "source": [
        "classifier = Sequential()\n",
        "\n",
        "classifier.add(Dense(16, activation='relu', kernel_initializer='random_normal', input_dim=16))\n",
        "\n",
        "classifier.add(Dense(128, activation='relu', kernel_initializer='random_normal'))\n",
        "\n",
        "classifier.add(Dense(1, activation='sigmoid'))\n",
        "\n",
        "\n",
        "classifier.compile(optimizer ='adam',loss='binary_crossentropy', metrics =['accuracy'])\n",
        "es = EarlyStopping(monitor='val_loss', mode='min', verbose=1,patience=10)\n",
        "history_callback = classifier.fit(X_train_norm, y_train, epochs=500, batch_size=260,validation_data=(X_val_norm,y_val), callbacks=[es])\n"
      ],
      "execution_count": null,
      "outputs": [
        {
          "output_type": "stream",
          "text": [
            "Epoch 1/500\n",
            "6/6 [==============================] - 0s 22ms/step - loss: 0.6921 - accuracy: 0.5553 - val_loss: 0.6874 - val_accuracy: 0.6300\n",
            "Epoch 2/500\n",
            "6/6 [==============================] - 0s 5ms/step - loss: 0.6837 - accuracy: 0.6724 - val_loss: 0.6790 - val_accuracy: 0.6550\n",
            "Epoch 3/500\n",
            "6/6 [==============================] - 0s 4ms/step - loss: 0.6719 - accuracy: 0.7134 - val_loss: 0.6648 - val_accuracy: 0.7100\n",
            "Epoch 4/500\n",
            "6/6 [==============================] - 0s 4ms/step - loss: 0.6526 - accuracy: 0.7392 - val_loss: 0.6442 - val_accuracy: 0.7100\n",
            "Epoch 5/500\n",
            "6/6 [==============================] - 0s 4ms/step - loss: 0.6263 - accuracy: 0.7514 - val_loss: 0.6169 - val_accuracy: 0.7150\n",
            "Epoch 6/500\n",
            "6/6 [==============================] - 0s 4ms/step - loss: 0.5930 - accuracy: 0.7500 - val_loss: 0.5858 - val_accuracy: 0.7150\n",
            "Epoch 7/500\n",
            "6/6 [==============================] - 0s 4ms/step - loss: 0.5572 - accuracy: 0.7557 - val_loss: 0.5546 - val_accuracy: 0.7400\n",
            "Epoch 8/500\n",
            "6/6 [==============================] - 0s 4ms/step - loss: 0.5229 - accuracy: 0.7615 - val_loss: 0.5284 - val_accuracy: 0.7450\n",
            "Epoch 9/500\n",
            "6/6 [==============================] - 0s 5ms/step - loss: 0.4965 - accuracy: 0.7622 - val_loss: 0.5117 - val_accuracy: 0.7550\n",
            "Epoch 10/500\n",
            "6/6 [==============================] - 0s 5ms/step - loss: 0.4788 - accuracy: 0.7636 - val_loss: 0.5043 - val_accuracy: 0.7450\n",
            "Epoch 11/500\n",
            "6/6 [==============================] - 0s 4ms/step - loss: 0.4686 - accuracy: 0.7658 - val_loss: 0.5005 - val_accuracy: 0.7600\n",
            "Epoch 12/500\n",
            "6/6 [==============================] - 0s 5ms/step - loss: 0.4610 - accuracy: 0.7708 - val_loss: 0.4952 - val_accuracy: 0.7550\n",
            "Epoch 13/500\n",
            "6/6 [==============================] - 0s 4ms/step - loss: 0.4547 - accuracy: 0.7759 - val_loss: 0.4910 - val_accuracy: 0.7450\n",
            "Epoch 14/500\n",
            "6/6 [==============================] - 0s 4ms/step - loss: 0.4481 - accuracy: 0.7823 - val_loss: 0.4863 - val_accuracy: 0.7500\n",
            "Epoch 15/500\n",
            "6/6 [==============================] - 0s 4ms/step - loss: 0.4429 - accuracy: 0.7902 - val_loss: 0.4803 - val_accuracy: 0.7650\n",
            "Epoch 16/500\n",
            "6/6 [==============================] - 0s 5ms/step - loss: 0.4381 - accuracy: 0.7931 - val_loss: 0.4767 - val_accuracy: 0.7650\n",
            "Epoch 17/500\n",
            "6/6 [==============================] - 0s 4ms/step - loss: 0.4340 - accuracy: 0.7945 - val_loss: 0.4744 - val_accuracy: 0.7650\n",
            "Epoch 18/500\n",
            "6/6 [==============================] - 0s 7ms/step - loss: 0.4304 - accuracy: 0.7945 - val_loss: 0.4711 - val_accuracy: 0.7600\n",
            "Epoch 19/500\n",
            "6/6 [==============================] - 0s 4ms/step - loss: 0.4266 - accuracy: 0.7967 - val_loss: 0.4684 - val_accuracy: 0.7650\n",
            "Epoch 20/500\n",
            "6/6 [==============================] - 0s 5ms/step - loss: 0.4233 - accuracy: 0.7967 - val_loss: 0.4670 - val_accuracy: 0.7650\n",
            "Epoch 21/500\n",
            "6/6 [==============================] - 0s 4ms/step - loss: 0.4204 - accuracy: 0.8010 - val_loss: 0.4664 - val_accuracy: 0.7700\n",
            "Epoch 22/500\n",
            "6/6 [==============================] - 0s 4ms/step - loss: 0.4175 - accuracy: 0.7996 - val_loss: 0.4650 - val_accuracy: 0.7600\n",
            "Epoch 23/500\n",
            "6/6 [==============================] - 0s 4ms/step - loss: 0.4142 - accuracy: 0.8039 - val_loss: 0.4629 - val_accuracy: 0.7650\n",
            "Epoch 24/500\n",
            "6/6 [==============================] - 0s 4ms/step - loss: 0.4110 - accuracy: 0.8096 - val_loss: 0.4621 - val_accuracy: 0.7700\n",
            "Epoch 25/500\n",
            "6/6 [==============================] - 0s 5ms/step - loss: 0.4080 - accuracy: 0.8089 - val_loss: 0.4597 - val_accuracy: 0.7650\n",
            "Epoch 26/500\n",
            "6/6 [==============================] - 0s 5ms/step - loss: 0.4046 - accuracy: 0.8068 - val_loss: 0.4585 - val_accuracy: 0.7700\n",
            "Epoch 27/500\n",
            "6/6 [==============================] - 0s 4ms/step - loss: 0.4015 - accuracy: 0.8096 - val_loss: 0.4581 - val_accuracy: 0.7750\n",
            "Epoch 28/500\n",
            "6/6 [==============================] - 0s 4ms/step - loss: 0.3990 - accuracy: 0.8125 - val_loss: 0.4585 - val_accuracy: 0.7800\n",
            "Epoch 29/500\n",
            "6/6 [==============================] - 0s 4ms/step - loss: 0.3951 - accuracy: 0.8132 - val_loss: 0.4543 - val_accuracy: 0.7800\n",
            "Epoch 30/500\n",
            "6/6 [==============================] - 0s 4ms/step - loss: 0.3924 - accuracy: 0.8175 - val_loss: 0.4496 - val_accuracy: 0.7750\n",
            "Epoch 31/500\n",
            "6/6 [==============================] - 0s 6ms/step - loss: 0.3898 - accuracy: 0.8175 - val_loss: 0.4453 - val_accuracy: 0.7900\n",
            "Epoch 32/500\n",
            "6/6 [==============================] - 0s 5ms/step - loss: 0.3858 - accuracy: 0.8211 - val_loss: 0.4459 - val_accuracy: 0.8050\n",
            "Epoch 33/500\n",
            "6/6 [==============================] - 0s 5ms/step - loss: 0.3824 - accuracy: 0.8240 - val_loss: 0.4456 - val_accuracy: 0.8000\n",
            "Epoch 34/500\n",
            "6/6 [==============================] - 0s 6ms/step - loss: 0.3785 - accuracy: 0.8276 - val_loss: 0.4441 - val_accuracy: 0.7950\n",
            "Epoch 35/500\n",
            "6/6 [==============================] - 0s 6ms/step - loss: 0.3752 - accuracy: 0.8290 - val_loss: 0.4437 - val_accuracy: 0.7950\n",
            "Epoch 36/500\n",
            "6/6 [==============================] - 0s 5ms/step - loss: 0.3720 - accuracy: 0.8348 - val_loss: 0.4424 - val_accuracy: 0.8050\n",
            "Epoch 37/500\n",
            "6/6 [==============================] - 0s 4ms/step - loss: 0.3683 - accuracy: 0.8369 - val_loss: 0.4384 - val_accuracy: 0.8100\n",
            "Epoch 38/500\n",
            "6/6 [==============================] - 0s 4ms/step - loss: 0.3646 - accuracy: 0.8384 - val_loss: 0.4358 - val_accuracy: 0.8150\n",
            "Epoch 39/500\n",
            "6/6 [==============================] - 0s 4ms/step - loss: 0.3613 - accuracy: 0.8405 - val_loss: 0.4353 - val_accuracy: 0.8150\n",
            "Epoch 40/500\n",
            "6/6 [==============================] - 0s 4ms/step - loss: 0.3575 - accuracy: 0.8448 - val_loss: 0.4317 - val_accuracy: 0.8150\n",
            "Epoch 41/500\n",
            "6/6 [==============================] - 0s 4ms/step - loss: 0.3544 - accuracy: 0.8506 - val_loss: 0.4323 - val_accuracy: 0.8150\n",
            "Epoch 42/500\n",
            "6/6 [==============================] - 0s 6ms/step - loss: 0.3511 - accuracy: 0.8499 - val_loss: 0.4291 - val_accuracy: 0.8200\n",
            "Epoch 43/500\n",
            "6/6 [==============================] - 0s 5ms/step - loss: 0.3476 - accuracy: 0.8542 - val_loss: 0.4260 - val_accuracy: 0.8300\n",
            "Epoch 44/500\n",
            "6/6 [==============================] - 0s 5ms/step - loss: 0.3439 - accuracy: 0.8585 - val_loss: 0.4249 - val_accuracy: 0.8300\n",
            "Epoch 45/500\n",
            "6/6 [==============================] - 0s 5ms/step - loss: 0.3399 - accuracy: 0.8592 - val_loss: 0.4226 - val_accuracy: 0.8300\n",
            "Epoch 46/500\n",
            "6/6 [==============================] - 0s 5ms/step - loss: 0.3361 - accuracy: 0.8614 - val_loss: 0.4224 - val_accuracy: 0.8150\n",
            "Epoch 47/500\n",
            "6/6 [==============================] - 0s 5ms/step - loss: 0.3327 - accuracy: 0.8614 - val_loss: 0.4235 - val_accuracy: 0.8200\n",
            "Epoch 48/500\n",
            "6/6 [==============================] - 0s 4ms/step - loss: 0.3291 - accuracy: 0.8628 - val_loss: 0.4199 - val_accuracy: 0.8250\n",
            "Epoch 49/500\n",
            "6/6 [==============================] - 0s 5ms/step - loss: 0.3256 - accuracy: 0.8671 - val_loss: 0.4198 - val_accuracy: 0.8200\n",
            "Epoch 50/500\n",
            "6/6 [==============================] - 0s 4ms/step - loss: 0.3222 - accuracy: 0.8685 - val_loss: 0.4220 - val_accuracy: 0.8200\n",
            "Epoch 51/500\n",
            "6/6 [==============================] - 0s 4ms/step - loss: 0.3196 - accuracy: 0.8714 - val_loss: 0.4215 - val_accuracy: 0.8250\n",
            "Epoch 52/500\n",
            "6/6 [==============================] - 0s 4ms/step - loss: 0.3154 - accuracy: 0.8700 - val_loss: 0.4190 - val_accuracy: 0.8250\n",
            "Epoch 53/500\n",
            "6/6 [==============================] - 0s 6ms/step - loss: 0.3129 - accuracy: 0.8743 - val_loss: 0.4180 - val_accuracy: 0.8250\n",
            "Epoch 54/500\n",
            "6/6 [==============================] - 0s 4ms/step - loss: 0.3096 - accuracy: 0.8757 - val_loss: 0.4166 - val_accuracy: 0.8150\n",
            "Epoch 55/500\n",
            "6/6 [==============================] - 0s 5ms/step - loss: 0.3065 - accuracy: 0.8757 - val_loss: 0.4157 - val_accuracy: 0.8200\n",
            "Epoch 56/500\n",
            "6/6 [==============================] - 0s 5ms/step - loss: 0.3033 - accuracy: 0.8736 - val_loss: 0.4166 - val_accuracy: 0.8250\n",
            "Epoch 57/500\n",
            "6/6 [==============================] - 0s 4ms/step - loss: 0.3004 - accuracy: 0.8750 - val_loss: 0.4134 - val_accuracy: 0.8250\n",
            "Epoch 58/500\n",
            "6/6 [==============================] - 0s 4ms/step - loss: 0.2974 - accuracy: 0.8772 - val_loss: 0.4138 - val_accuracy: 0.8300\n",
            "Epoch 59/500\n",
            "6/6 [==============================] - 0s 6ms/step - loss: 0.2946 - accuracy: 0.8800 - val_loss: 0.4140 - val_accuracy: 0.8300\n",
            "Epoch 60/500\n",
            "6/6 [==============================] - 0s 4ms/step - loss: 0.2914 - accuracy: 0.8843 - val_loss: 0.4114 - val_accuracy: 0.8250\n",
            "Epoch 61/500\n",
            "6/6 [==============================] - 0s 5ms/step - loss: 0.2886 - accuracy: 0.8865 - val_loss: 0.4089 - val_accuracy: 0.8250\n",
            "Epoch 62/500\n",
            "6/6 [==============================] - 0s 5ms/step - loss: 0.2860 - accuracy: 0.8851 - val_loss: 0.4080 - val_accuracy: 0.8250\n",
            "Epoch 63/500\n",
            "6/6 [==============================] - 0s 5ms/step - loss: 0.2829 - accuracy: 0.8836 - val_loss: 0.4104 - val_accuracy: 0.8200\n",
            "Epoch 64/500\n",
            "6/6 [==============================] - 0s 4ms/step - loss: 0.2810 - accuracy: 0.8865 - val_loss: 0.4108 - val_accuracy: 0.8250\n",
            "Epoch 65/500\n",
            "6/6 [==============================] - 0s 4ms/step - loss: 0.2781 - accuracy: 0.8915 - val_loss: 0.4095 - val_accuracy: 0.8200\n",
            "Epoch 66/500\n",
            "6/6 [==============================] - 0s 5ms/step - loss: 0.2753 - accuracy: 0.8944 - val_loss: 0.4075 - val_accuracy: 0.8250\n",
            "Epoch 67/500\n",
            "6/6 [==============================] - 0s 5ms/step - loss: 0.2731 - accuracy: 0.8930 - val_loss: 0.4085 - val_accuracy: 0.8250\n",
            "Epoch 68/500\n",
            "6/6 [==============================] - 0s 5ms/step - loss: 0.2702 - accuracy: 0.8951 - val_loss: 0.4114 - val_accuracy: 0.8200\n",
            "Epoch 69/500\n",
            "6/6 [==============================] - 0s 5ms/step - loss: 0.2682 - accuracy: 0.8951 - val_loss: 0.4118 - val_accuracy: 0.8200\n",
            "Epoch 70/500\n",
            "6/6 [==============================] - 0s 5ms/step - loss: 0.2660 - accuracy: 0.8958 - val_loss: 0.4118 - val_accuracy: 0.8150\n",
            "Epoch 71/500\n",
            "6/6 [==============================] - 0s 5ms/step - loss: 0.2631 - accuracy: 0.8958 - val_loss: 0.4080 - val_accuracy: 0.8150\n",
            "Epoch 72/500\n",
            "6/6 [==============================] - 0s 5ms/step - loss: 0.2611 - accuracy: 0.8930 - val_loss: 0.4080 - val_accuracy: 0.8250\n",
            "Epoch 73/500\n",
            "6/6 [==============================] - 0s 6ms/step - loss: 0.2584 - accuracy: 0.8922 - val_loss: 0.4089 - val_accuracy: 0.8200\n",
            "Epoch 74/500\n",
            "6/6 [==============================] - 0s 6ms/step - loss: 0.2564 - accuracy: 0.8951 - val_loss: 0.4096 - val_accuracy: 0.8150\n",
            "Epoch 75/500\n",
            "6/6 [==============================] - 0s 5ms/step - loss: 0.2548 - accuracy: 0.8966 - val_loss: 0.4099 - val_accuracy: 0.8200\n",
            "Epoch 76/500\n",
            "6/6 [==============================] - 0s 5ms/step - loss: 0.2527 - accuracy: 0.8958 - val_loss: 0.4078 - val_accuracy: 0.8150\n",
            "Epoch 00076: early stopping\n"
          ],
          "name": "stdout"
        }
      ]
    },
    {
      "cell_type": "code",
      "metadata": {
        "id": "9mN7n6l7hzjq",
        "outputId": "fff8f789-8065-4e32-9325-db4a703da0de",
        "colab": {
          "base_uri": "https://localhost:8080/",
          "height": 187
        }
      },
      "source": [
        "from sklearn.metrics import classification_report\n",
        "\n",
        "probs       = classifier.predict(X_test_norm)\n",
        "preds       = probs > 0.5\n",
        "print('Neural network score on test:\\n',classification_report(y_test, preds))"
      ],
      "execution_count": null,
      "outputs": [
        {
          "output_type": "stream",
          "text": [
            "Neural network score on test:\n",
            "               precision    recall  f1-score   support\n",
            "\n",
            "           0       0.80      0.91      0.85       198\n",
            "           1       0.90      0.77      0.83       201\n",
            "\n",
            "    accuracy                           0.84       399\n",
            "   macro avg       0.85      0.84      0.84       399\n",
            "weighted avg       0.85      0.84      0.84       399\n",
            "\n"
          ],
          "name": "stdout"
        }
      ]
    },
    {
      "cell_type": "code",
      "metadata": {
        "id": "gClJEaL3jiBv",
        "outputId": "ebe84b1f-46ca-4399-b8e4-3dd2d7108c76",
        "colab": {
          "base_uri": "https://localhost:8080/",
          "height": 715
        }
      },
      "source": [
        "# Визуелизација на вредностите на функцијата на загуба при тренирање и валидација\n",
        "import matplotlib.pyplot as plt\n",
        "\n",
        "loss_train = np.asarray(history_callback.history['loss'])\n",
        "loss_val = np.asarray(history_callback.history['val_loss'])\n",
        "epochs = range(1,loss_train.shape[0]+1)\n",
        "plt.axes([0,0,2.5,1])\n",
        "plt.plot(epochs, loss_train, 'g', label='Training loss')\n",
        "plt.plot(epochs, loss_val, 'b', label='Validation loss')\n",
        "plt.title('Training and Validation loss')\n",
        "plt.xlabel('Epochs')\n",
        "plt.ylabel('Loss')\n",
        "plt.legend()\n",
        "plt.show()\n",
        "\n",
        "# Визуелизација на вредностите на accuracy при тренирање и валидација\n",
        "acc_train = np.asarray(history_callback.history['accuracy'])\n",
        "acc_val = np.asarray(history_callback.history['val_accuracy'])\n",
        "epochs = range(1,acc_train.shape[0]+1)\n",
        "plt.axes([0,0,2.5,1])\n",
        "plt.plot(epochs, acc_train, 'r', label='Training accuracy')\n",
        "plt.plot(epochs, acc_val, 'orange', label='Validation accuracy')\n",
        "plt.title('Training and Validation accuracy')\n",
        "plt.xlabel('Epochs')\n",
        "plt.ylabel('Accuracy')\n",
        "plt.legend()\n",
        "plt.show()"
      ],
      "execution_count": null,
      "outputs": [
        {
          "output_type": "display_data",
          "data": {
            "image/png": "[encoded data removed]",
            "text/plain": [
              "<Figure size 432x288 with 1 Axes>"
            ]
          },
          "metadata": {
            "tags": [],
            "needs_background": "light"
          }
        },
        {
          "output_type": "display_data",
          "data": {
            "image/png": "[encoded data removed]",
            "text/plain": [
              "<Figure size 432x288 with 1 Axes>"
            ]
          },
          "metadata": {
            "tags": [],
            "needs_background": "light"
          }
        }
      ]
    },
    {
      "cell_type": "code",
      "metadata": {
        "id": "lhSvvGBbPfVo",
        "outputId": "43fd6170-e063-494a-82bf-564c362ac218",
        "colab": {
          "base_uri": "https://localhost:8080/",
          "height": 312
        }
      },
      "source": [
        "import seaborn as sn\n",
        "from sklearn.metrics import confusion_matrix\n",
        "import warnings\n",
        "warnings.simplefilter(action='ignore', category=FutureWarning)\n",
        "import pandas as pd\n",
        "\n",
        "cm=confusion_matrix(y_test,preds)\n",
        "names = ['bad', 'good'] \n",
        "cm = 100 * cm.astype('float') / cm.sum(axis=-1)[:, np.newaxis]  \n",
        " \n",
        "\n",
        "df = pd.DataFrame(data=cm, columns=names, index=names)\n",
        "g = sn.heatmap(df, annot=True, fmt=\".1f\", linewidths=.5, vmin=0, vmax=100,\n",
        "                    cmap='Blues')\n",
        "g.set_title('Confusion matrix')\n",
        "g.set_ylabel('True label')\n",
        "g.set_xlabel('Predicted label')\n",
        "g.plot()"
      ],
      "execution_count": null,
      "outputs": [
        {
          "output_type": "execute_result",
          "data": {
            "text/plain": [
              "[]"
            ]
          },
          "metadata": {
            "tags": []
          },
          "execution_count": 113
        },
        {
          "output_type": "display_data",
          "data": {
            "image/png": "[encoded data removed]",
            "text/plain": [
              "<Figure size 432x288 with 2 Axes>"
            ]
          },
          "metadata": {
            "tags": [],
            "needs_background": "light"
          }
        }
      ]
    },
    {
      "cell_type": "code",
      "metadata": {
        "id": "oILrT70ooJ6M",
        "outputId": "019d3a70-e66d-49c0-da7e-dff9e7e272bf",
        "colab": {
          "base_uri": "https://localhost:8080/",
          "height": 235
        }
      },
      "source": [
        "confusion = confusion_matrix(y_test, preds)\n",
        "TP = confusion[1, 1]\n",
        "TN = confusion[0, 0]\n",
        "FP = confusion[0, 1]\n",
        "FN = confusion[1, 0]\n",
        "\n",
        "\n",
        "df_Results.loc[5, \"Model\"] = \"NN #1\"\n",
        "df_Results.loc[5, \"Acc\"] = accuracy_score(y_test, preds)\n",
        "df_Results.loc[5, \"Recall\"] = recall_score(y_test, preds)\n",
        "df_Results.loc[5, \"ROC\"] = roc_auc_score(y_test,preds)\n",
        "df_Results.loc[5, \"TP\"] = TP\n",
        "df_Results.loc[5, \"FN\"] = FN\n",
        "\n",
        "df_Results.head(6)"
      ],
      "execution_count": null,
      "outputs": [
        {
          "output_type": "execute_result",
          "data": {
            "text/html": [
              "<div>\n",
              "<style scoped>\n",
              "    .dataframe tbody tr th:only-of-type {\n",
              "        vertical-align: middle;\n",
              "    }\n",
              "\n",
              "    .dataframe tbody tr th {\n",
              "        vertical-align: top;\n",
              "    }\n",
              "\n",
              "    .dataframe thead th {\n",
              "        text-align: right;\n",
              "    }\n",
              "</style>\n",
              "<table border=\"1\" class=\"dataframe\">\n",
              "  <thead>\n",
              "    <tr style=\"text-align: right;\">\n",
              "      <th></th>\n",
              "      <th>Model</th>\n",
              "      <th>Acc</th>\n",
              "      <th>Recall</th>\n",
              "      <th>ROC</th>\n",
              "      <th>TP</th>\n",
              "      <th>FN</th>\n",
              "    </tr>\n",
              "  </thead>\n",
              "  <tbody>\n",
              "    <tr>\n",
              "      <th>0</th>\n",
              "      <td>Decision Tree</td>\n",
              "      <td>0.93985</td>\n",
              "      <td>0.920398</td>\n",
              "      <td>0.939997</td>\n",
              "      <td>185</td>\n",
              "      <td>16</td>\n",
              "    </tr>\n",
              "    <tr>\n",
              "      <th>1</th>\n",
              "      <td>Random Forest</td>\n",
              "      <td>0.932331</td>\n",
              "      <td>0.900498</td>\n",
              "      <td>0.932572</td>\n",
              "      <td>181</td>\n",
              "      <td>20</td>\n",
              "    </tr>\n",
              "    <tr>\n",
              "      <th>2</th>\n",
              "      <td>Naive Bayes</td>\n",
              "      <td>0.736842</td>\n",
              "      <td>0.557214</td>\n",
              "      <td>0.738203</td>\n",
              "      <td>112</td>\n",
              "      <td>89</td>\n",
              "    </tr>\n",
              "    <tr>\n",
              "      <th>3</th>\n",
              "      <td>XGBoost</td>\n",
              "      <td>0.982456</td>\n",
              "      <td>0.975124</td>\n",
              "      <td>0.982512</td>\n",
              "      <td>196</td>\n",
              "      <td>5</td>\n",
              "    </tr>\n",
              "    <tr>\n",
              "      <th>4</th>\n",
              "      <td>KNN</td>\n",
              "      <td>0.611529</td>\n",
              "      <td>0.59204</td>\n",
              "      <td>0.611676</td>\n",
              "      <td>119</td>\n",
              "      <td>82</td>\n",
              "    </tr>\n",
              "    <tr>\n",
              "      <th>5</th>\n",
              "      <td>NN #1</td>\n",
              "      <td>0.839599</td>\n",
              "      <td>0.771144</td>\n",
              "      <td>0.840118</td>\n",
              "      <td>155</td>\n",
              "      <td>46</td>\n",
              "    </tr>\n",
              "  </tbody>\n",
              "</table>\n",
              "</div>"
            ],
            "text/plain": [
              "            Model       Acc    Recall       ROC   TP  FN\n",
              "0  Decision Tree    0.93985  0.920398  0.939997  185  16\n",
              "1   Random Forest  0.932331  0.900498  0.932572  181  20\n",
              "2     Naive Bayes  0.736842  0.557214  0.738203  112  89\n",
              "3         XGBoost  0.982456  0.975124  0.982512  196   5\n",
              "4             KNN  0.611529   0.59204  0.611676  119  82\n",
              "5           NN #1  0.839599  0.771144  0.840118  155  46"
            ]
          },
          "metadata": {
            "tags": []
          },
          "execution_count": 116
        }
      ]
    },
    {
      "cell_type": "code",
      "metadata": {
        "id": "hZS_Z2pelnKG"
      },
      "source": [
        "#Зачувување на моделот и тежините\n",
        "classifier.save(\"/content/drive/My Drive/neural_network.h5\")\n",
        "classifier.save_weights(\"/content/drive/My Drive/neural_network_weights.h5\")"
      ],
      "execution_count": null,
      "outputs": []
    },
    {
      "cell_type": "code",
      "metadata": {
        "id": "E4DBsi3tmLbX"
      },
      "source": [
        "# Зачувување на вредностите на функцијата на загуба при тренирање и валидација\n",
        "np.savetxt(\"/content/drive/My Drive/loss_train.txt\", loss_train, delimiter=\",\")\n",
        "np.savetxt(\"/content/drive/My Drive/loss_val.txt\", loss_val, delimiter=\",\")\n",
        "np.savetxt(\"/content/drive/My Drive/acc_train.txt\", acc_train, delimiter=\",\")\n",
        "np.savetxt(\"/content/drive/My Drive/acc_val.txt\", acc_val, delimiter=\",\")"
      ],
      "execution_count": null,
      "outputs": []
    },
    {
      "cell_type": "code",
      "metadata": {
        "id": "e9w9img-vOyd",
        "outputId": "8c38aa39-e8a5-473e-9c02-53ad83bcf661",
        "colab": {
          "base_uri": "https://localhost:8080/",
          "height": 715
        }
      },
      "source": [
        "tmp1 = np.loadtxt(\"/content/drive/My Drive/loss_train_dobra.txt\", delimiter=\",\")\n",
        "tmp2 = np.loadtxt(\"/content/drive/My Drive/loss_val_dobra.txt\", delimiter=\",\")\n",
        "epochs = range(1,tmp1.shape[0]+1)\n",
        "plt.axes([0,0,2.5,1])\n",
        "plt.plot(epochs, tmp1, 'g', label='Training loss')\n",
        "plt.plot(epochs, tmp2, 'b', label='Validation loss')\n",
        "plt.title('Model loss')\n",
        "plt.xlabel('Epochs')\n",
        "plt.ylabel('Loss')\n",
        "plt.legend()\n",
        "plt.show()\n",
        "\n",
        "tmp1 = np.loadtxt(\"/content/drive/My Drive/acc_train_dobra.txt\", delimiter=\",\")\n",
        "tmp2 = np.loadtxt(\"/content/drive/My Drive/acc_val_dobra.txt\", delimiter=\",\")\n",
        "epochs = range(1,tmp1.shape[0]+1)\n",
        "plt.axes([0,0,2.5,1])\n",
        "plt.plot(epochs, tmp1, 'r', label='Training accuracy')\n",
        "plt.plot(epochs, tmp2, 'orange', label='Validation accuracy')\n",
        "plt.title('Model accuracy')\n",
        "plt.xlabel('Epochs')\n",
        "plt.ylabel('Accuracy')\n",
        "plt.legend()\n",
        "plt.show()"
      ],
      "execution_count": null,
      "outputs": [
        {
          "output_type": "display_data",
          "data": {
            "image/png": "[encoded data removed]",
            "text/plain": [
              "<Figure size 432x288 with 1 Axes>"
            ]
          },
          "metadata": {
            "tags": [],
            "needs_background": "light"
          }
        },
        {
          "output_type": "display_data",
          "data": {
            "image/png": "[encoded data removed]",
            "text/plain": [
              "<Figure size 432x288 with 1 Axes>"
            ]
          },
          "metadata": {
            "tags": [],
            "needs_background": "light"
          }
        }
      ]
    },
    {
      "cell_type": "code",
      "metadata": {
        "id": "t4XdDAXbp5ob",
        "outputId": "2e05e776-b33c-46f0-a4ac-514b4a69c9b5",
        "colab": {
          "base_uri": "https://localhost:8080/",
          "height": 279
        }
      },
      "source": [
        "from sklearn.metrics import roc_curve, auc\n",
        "import matplotlib.pyplot as plt\n",
        "\n",
        "actual = y_test\n",
        "NN_prob = [p[0] for p in classifier.predict(X_test_norm)]\n",
        "\n",
        "\n",
        "\n",
        "NN_false_pos, NN_true_pos, _ = roc_curve(actual, NN_prob)\n",
        "NN_auc = auc(NN_false_pos, NN_true_pos)\n",
        "\n",
        "\n",
        "# plot\n",
        "plt.plot(NN_false_pos, NN_true_pos, 'g', label='Neural Network AUC = %0.2f'% NN_auc)\n",
        "\n",
        "plt.legend(loc='lower right')\n",
        "plt.plot([0,1], [0,1], 'r--')\n",
        "plt.ylabel('True Positive Rate')\n",
        "plt.xlabel('False Positive Rate')\n",
        "plt.show()"
      ],
      "execution_count": null,
      "outputs": [
        {
          "output_type": "display_data",
          "data": {
            "image/png": "[encoded data removed]",
            "text/plain": [
              "<Figure size 432x288 with 1 Axes>"
            ]
          },
          "metadata": {
            "tags": [],
            "needs_background": "light"
          }
        }
      ]
    },
    {
      "cell_type": "markdown",
      "metadata": {
        "id": "RsBDEylBEKZ0"
      },
      "source": [
        "#KNN со подесени параметри"
      ]
    },
    {
      "cell_type": "code",
      "metadata": {
        "id": "pgXg58TsDaHu",
        "outputId": "f991ee0a-53e3-4633-d983-8d765adfe0c8",
        "colab": {
          "base_uri": "https://localhost:8080/",
          "height": 499
        }
      },
      "source": [
        "from sklearn.model_selection import GridSearchCV\n",
        "\n",
        "param_KNN = {\"n_neighbors\": np.arange(1, 20),\n",
        "              \"weights\": ['uniform','distance']}\n",
        "\n",
        "# Instantiate the GridSearchCV object: logreg_cv\n",
        "KNN_cv = GridSearchCV(knn_model, param_KNN, cv=5, scoring='roc_auc')\n",
        "\n",
        "# Fit it to the data\n",
        "KNN_cv.fit(xtrain, ytrain)\n",
        "\n",
        "# Print the tuned parameters and score\n",
        "print(\"Tuned KNN Parameters: {}\".format(KNN_cv.best_params_)) \n",
        "print(\"Best score is {}\".format(KNN_cv.best_score_))\n",
        "print(classification_report(y_test, KNN_cv.predict(X_test) ))\n",
        "\n",
        "cm=confusion_matrix(y_test,KNN_cv.predict(X_test))\n",
        "names = ['bad', 'good'] \n",
        "\n",
        "cm = 100 * cm.astype('float') / cm.sum(axis=-1)[:, np.newaxis]  \n",
        "\n",
        "df = pd.DataFrame(data=cm, columns=names, index=names)\n",
        "g = sn.heatmap(df, annot=True, fmt=\".1f\", linewidths=.5, vmin=0, vmax=100,\n",
        "                    cmap='Blues')\n",
        "g.set_title('Confusion matrix')\n",
        "g.set_ylabel('True label')\n",
        "g.set_xlabel('Predicted label')\n",
        "g.plot()"
      ],
      "execution_count": null,
      "outputs": [
        {
          "output_type": "stream",
          "text": [
            "Tuned KNN Parameters: {'n_neighbors': 18, 'weights': 'uniform'}\n",
            "Best score is 0.647170071118338\n",
            "              precision    recall  f1-score   support\n",
            "\n",
            "           0       0.64      0.76      0.69       198\n",
            "           1       0.71      0.58      0.64       201\n",
            "\n",
            "    accuracy                           0.67       399\n",
            "   macro avg       0.67      0.67      0.66       399\n",
            "weighted avg       0.67      0.67      0.66       399\n",
            "\n"
          ],
          "name": "stdout"
        },
        {
          "output_type": "execute_result",
          "data": {
            "text/plain": [
              "[]"
            ]
          },
          "metadata": {
            "tags": []
          },
          "execution_count": 65
        },
        {
          "output_type": "display_data",
          "data": {
            "image/png": "[encoded data removed]",
            "text/plain": [
              "<Figure size 432x288 with 2 Axes>"
            ]
          },
          "metadata": {
            "tags": [],
            "needs_background": "light"
          }
        }
      ]
    },
    {
      "cell_type": "code",
      "metadata": {
        "id": "xlm1xT0HEWji",
        "outputId": "ac47c381-92a8-4cdd-e0d0-6c615f57bded",
        "colab": {
          "base_uri": "https://localhost:8080/",
          "height": 266
        }
      },
      "source": [
        "confusion = confusion_matrix(y_test, KNN_cv.predict(X_test))\n",
        "TP = confusion[1, 1]\n",
        "TN = confusion[0, 0]\n",
        "FP = confusion[0, 1]\n",
        "FN = confusion[1, 0]\n",
        "\n",
        "df_Results.loc[6, \"Model\"] = \"Tuned KNN\"\n",
        "df_Results.loc[6, \"Acc\"] = accuracy_score(y_test, KNN_cv.predict(X_test))\n",
        "df_Results.loc[6, \"Recall\"] = recall_score(y_test, KNN_cv.predict(X_test))\n",
        "df_Results.loc[6, \"ROC\"] = roc_auc_score(y_test,KNN_cv.predict(X_test))\n",
        "df_Results.loc[6, \"TP\"] = TP\n",
        "df_Results.loc[6, \"FN\"] = FN\n",
        "\n",
        "df_Results.head(10)"
      ],
      "execution_count": null,
      "outputs": [
        {
          "output_type": "execute_result",
          "data": {
            "text/html": [
              "<div>\n",
              "<style scoped>\n",
              "    .dataframe tbody tr th:only-of-type {\n",
              "        vertical-align: middle;\n",
              "    }\n",
              "\n",
              "    .dataframe tbody tr th {\n",
              "        vertical-align: top;\n",
              "    }\n",
              "\n",
              "    .dataframe thead th {\n",
              "        text-align: right;\n",
              "    }\n",
              "</style>\n",
              "<table border=\"1\" class=\"dataframe\">\n",
              "  <thead>\n",
              "    <tr style=\"text-align: right;\">\n",
              "      <th></th>\n",
              "      <th>Model</th>\n",
              "      <th>Acc</th>\n",
              "      <th>Recall</th>\n",
              "      <th>ROC</th>\n",
              "      <th>TP</th>\n",
              "      <th>FN</th>\n",
              "    </tr>\n",
              "  </thead>\n",
              "  <tbody>\n",
              "    <tr>\n",
              "      <th>0</th>\n",
              "      <td>Decision Tree</td>\n",
              "      <td>0.93985</td>\n",
              "      <td>0.920398</td>\n",
              "      <td>0.939997</td>\n",
              "      <td>185</td>\n",
              "      <td>16</td>\n",
              "    </tr>\n",
              "    <tr>\n",
              "      <th>1</th>\n",
              "      <td>Random Forest</td>\n",
              "      <td>0.932331</td>\n",
              "      <td>0.900498</td>\n",
              "      <td>0.932572</td>\n",
              "      <td>181</td>\n",
              "      <td>20</td>\n",
              "    </tr>\n",
              "    <tr>\n",
              "      <th>2</th>\n",
              "      <td>Naive Bayes</td>\n",
              "      <td>0.736842</td>\n",
              "      <td>0.557214</td>\n",
              "      <td>0.738203</td>\n",
              "      <td>112</td>\n",
              "      <td>89</td>\n",
              "    </tr>\n",
              "    <tr>\n",
              "      <th>3</th>\n",
              "      <td>XGBoost</td>\n",
              "      <td>0.982456</td>\n",
              "      <td>0.975124</td>\n",
              "      <td>0.982512</td>\n",
              "      <td>196</td>\n",
              "      <td>5</td>\n",
              "    </tr>\n",
              "    <tr>\n",
              "      <th>4</th>\n",
              "      <td>KNN</td>\n",
              "      <td>0.611529</td>\n",
              "      <td>0.59204</td>\n",
              "      <td>0.611676</td>\n",
              "      <td>119</td>\n",
              "      <td>82</td>\n",
              "    </tr>\n",
              "    <tr>\n",
              "      <th>5</th>\n",
              "      <td>NN #1</td>\n",
              "      <td>0.829574</td>\n",
              "      <td>0.80597</td>\n",
              "      <td>0.829753</td>\n",
              "      <td>162</td>\n",
              "      <td>39</td>\n",
              "    </tr>\n",
              "    <tr>\n",
              "      <th>6</th>\n",
              "      <td>Tuned KNN</td>\n",
              "      <td>0.666667</td>\n",
              "      <td>0.577114</td>\n",
              "      <td>0.667345</td>\n",
              "      <td>116</td>\n",
              "      <td>85</td>\n",
              "    </tr>\n",
              "  </tbody>\n",
              "</table>\n",
              "</div>"
            ],
            "text/plain": [
              "            Model       Acc    Recall       ROC   TP  FN\n",
              "0  Decision Tree    0.93985  0.920398  0.939997  185  16\n",
              "1   Random Forest  0.932331  0.900498  0.932572  181  20\n",
              "2     Naive Bayes  0.736842  0.557214  0.738203  112  89\n",
              "3         XGBoost  0.982456  0.975124  0.982512  196   5\n",
              "4             KNN  0.611529   0.59204  0.611676  119  82\n",
              "5           NN #1  0.829574   0.80597  0.829753  162  39\n",
              "6       Tuned KNN  0.666667  0.577114  0.667345  116  85"
            ]
          },
          "metadata": {
            "tags": []
          },
          "execution_count": 66
        }
      ]
    },
    {
      "cell_type": "code",
      "metadata": {
        "id": "ShMd_hFMn_2c",
        "outputId": "889e1961-7b7e-4dda-8d5d-8b44b089c897",
        "colab": {
          "base_uri": "https://localhost:8080/",
          "height": 279
        }
      },
      "source": [
        "from sklearn.metrics import roc_curve, auc\n",
        "import matplotlib.pyplot as plt\n",
        "\n",
        "actual = y_test\n",
        "KNN_cv_prob = [p[1] for p in KNN_cv.predict_proba(X_test)]\n",
        "knn_model_prob = [p[1] for p in knn_model.predict_proba(X_test)]\n",
        "\n",
        "\n",
        "\n",
        "KNN_cv_false_pos, KNN_cv_true_pos, _ = roc_curve(actual, KNN_cv_prob)\n",
        "KNN_cv_auc = auc(KNN_cv_false_pos, KNN_cv_true_pos)\n",
        "\n",
        "knn_model_false_pos, knn_model_true_pos, _ = roc_curve(actual, knn_model_prob)\n",
        "knn_model_auc = auc(knn_model_false_pos, knn_model_true_pos)\n",
        "\n",
        "# plot\n",
        "plt.plot(KNN_cv_false_pos, KNN_cv_true_pos, 'g', label='Tuned KNN AUC = %0.2f'% KNN_cv_auc)\n",
        "plt.plot(knn_model_false_pos, knn_model_true_pos, 'b', label='KNN AUC = %0.2f'% knn_model_auc)\n",
        "\n",
        "plt.legend(loc='lower right')\n",
        "plt.plot([0,1], [0,1], 'r--')\n",
        "plt.ylabel('True Positive Rate')\n",
        "plt.xlabel('False Positive Rate')\n",
        "plt.show()"
      ],
      "execution_count": null,
      "outputs": [
        {
          "output_type": "display_data",
          "data": {
            "image/png": "[encoded data removed]",
            "text/plain": [
              "<Figure size 432x288 with 1 Axes>"
            ]
          },
          "metadata": {
            "tags": [],
            "needs_background": "light"
          }
        }
      ]
    },
    {
      "cell_type": "markdown",
      "metadata": {
        "id": "Frkj--yqNDw2"
      },
      "source": [
        "#Random Forest со подесени параметри"
      ]
    },
    {
      "cell_type": "code",
      "metadata": {
        "id": "PpqCJzObKuwG",
        "outputId": "ee5ccce2-c2d1-42e7-be7d-28a69343881a",
        "colab": {
          "base_uri": "https://localhost:8080/",
          "height": 686
        }
      },
      "source": [
        "\n",
        "from sklearn.ensemble import BaggingClassifier\n",
        "from sklearn.model_selection import StratifiedKFold, RandomizedSearchCV\n",
        "\n",
        "kf = StratifiedKFold(n_splits=5, shuffle=True)\n",
        "\n",
        "parameters5 = {\"base_estimator__max_depth\": [3,5,None],\n",
        "          \"base_estimator__max_features\": [None, \"auto\"],\n",
        "          \"base_estimator__min_samples_leaf\": [1, 5],\n",
        "          \"base_estimator__min_samples_split\": [2, 5],\n",
        "          'bootstrap_features': [False, True],\n",
        "          'max_features': [0.5, 1.0],\n",
        "          'max_samples': [0.5, 1.0],\n",
        "          'n_estimators': [2, 5],\n",
        "         }\n",
        "\n",
        "model_rf = BaggingClassifier(DecisionTreeClassifier(random_state=42))\n",
        "\n",
        "gs5 = RandomizedSearchCV(model_rf, parameters5, scoring='recall', n_jobs=3, cv=kf)\n",
        "gs5.fit(xtrain, ytrain)\n",
        "\n",
        "print(\"Best score: %0.3f\" % gs5.best_score_) \n",
        "print(\"Best parameters set:\" )\n",
        "best_parameters5 = gs5.best_estimator_.get_params()\n",
        "for param_name5 in sorted (parameters5 . keys()): \n",
        "                    print(\"\\t %s: %r\" % (param_name5, best_parameters5[param_name5]))\n",
        "        \n",
        "y_pred = gs5.predict(X_test)\n",
        "\n",
        "print(classification_report(y_test, y_pred))\n",
        "print(\"accuracy: \",accuracy_score(y_test, y_pred))\n",
        "print (\"\\n\")\n",
        "# Визуелизација со матрица на конфузија \n",
        "cm=confusion_matrix(y_test,y_pred)\n",
        "names = ['bad', 'good'] \n",
        "\n",
        "cm = 100 * cm.astype('float') / cm.sum(axis=-1)[:, np.newaxis]  \n",
        "\n",
        "df = pd.DataFrame(data=cm, columns=names, index=names)\n",
        "g = sn.heatmap(df, annot=True, fmt=\".1f\", linewidths=.5, vmin=0, vmax=100,\n",
        "                    cmap='Blues')\n",
        "g.set_title('Confusion matrix')\n",
        "g.set_ylabel('True label')\n",
        "g.set_xlabel('Predicted label')\n",
        "g.plot()\n"
      ],
      "execution_count": null,
      "outputs": [
        {
          "output_type": "stream",
          "text": [
            "Best score: 0.909\n",
            "Best parameters set:\n",
            "\t base_estimator__max_depth: None\n",
            "\t base_estimator__max_features: None\n",
            "\t base_estimator__min_samples_leaf: 5\n",
            "\t base_estimator__min_samples_split: 2\n",
            "\t bootstrap_features: True\n",
            "\t max_features: 1.0\n",
            "\t max_samples: 1.0\n",
            "\t n_estimators: 5\n",
            "              precision    recall  f1-score   support\n",
            "\n",
            "           0       0.94      0.96      0.95       198\n",
            "           1       0.96      0.94      0.95       201\n",
            "\n",
            "    accuracy                           0.95       399\n",
            "   macro avg       0.95      0.95      0.95       399\n",
            "weighted avg       0.95      0.95      0.95       399\n",
            "\n",
            "accuracy:  0.949874686716792\n",
            "\n",
            "\n"
          ],
          "name": "stdout"
        },
        {
          "output_type": "execute_result",
          "data": {
            "text/plain": [
              "[]"
            ]
          },
          "metadata": {
            "tags": []
          },
          "execution_count": 68
        },
        {
          "output_type": "display_data",
          "data": {
            "image/png": "[encoded data removed]",
            "text/plain": [
              "<Figure size 432x288 with 2 Axes>"
            ]
          },
          "metadata": {
            "tags": [],
            "needs_background": "light"
          }
        }
      ]
    },
    {
      "cell_type": "code",
      "metadata": {
        "id": "fVHfLXxnKtQ8",
        "outputId": "0c6b491d-0ac3-4f8a-f8b0-ccca6206af2e",
        "colab": {
          "base_uri": "https://localhost:8080/",
          "height": 297
        }
      },
      "source": [
        "confusion = confusion_matrix(y_test, y_pred)\n",
        "TP = confusion[1, 1]\n",
        "TN = confusion[0, 0]\n",
        "FP = confusion[0, 1]\n",
        "FN = confusion[1, 0]\n",
        "\n",
        "df_Results.loc[7, \"Model\"] = \"Tuned Random Forest\"\n",
        "df_Results.loc[7, \"Acc\"] = accuracy_score(y_test, y_pred)\n",
        "df_Results.loc[7, \"Recall\"] = recall_score(y_test, y_pred)\n",
        "df_Results.loc[7, \"ROC\"] = roc_auc_score(y_test,y_pred)\n",
        "df_Results.loc[7, \"TP\"] = TP\n",
        "df_Results.loc[7, \"FN\"] = FN\n",
        "\n",
        "df_Results.head(10)"
      ],
      "execution_count": null,
      "outputs": [
        {
          "output_type": "execute_result",
          "data": {
            "text/html": [
              "<div>\n",
              "<style scoped>\n",
              "    .dataframe tbody tr th:only-of-type {\n",
              "        vertical-align: middle;\n",
              "    }\n",
              "\n",
              "    .dataframe tbody tr th {\n",
              "        vertical-align: top;\n",
              "    }\n",
              "\n",
              "    .dataframe thead th {\n",
              "        text-align: right;\n",
              "    }\n",
              "</style>\n",
              "<table border=\"1\" class=\"dataframe\">\n",
              "  <thead>\n",
              "    <tr style=\"text-align: right;\">\n",
              "      <th></th>\n",
              "      <th>Model</th>\n",
              "      <th>Acc</th>\n",
              "      <th>Recall</th>\n",
              "      <th>ROC</th>\n",
              "      <th>TP</th>\n",
              "      <th>FN</th>\n",
              "    </tr>\n",
              "  </thead>\n",
              "  <tbody>\n",
              "    <tr>\n",
              "      <th>0</th>\n",
              "      <td>Decision Tree</td>\n",
              "      <td>0.93985</td>\n",
              "      <td>0.920398</td>\n",
              "      <td>0.939997</td>\n",
              "      <td>185</td>\n",
              "      <td>16</td>\n",
              "    </tr>\n",
              "    <tr>\n",
              "      <th>1</th>\n",
              "      <td>Random Forest</td>\n",
              "      <td>0.932331</td>\n",
              "      <td>0.900498</td>\n",
              "      <td>0.932572</td>\n",
              "      <td>181</td>\n",
              "      <td>20</td>\n",
              "    </tr>\n",
              "    <tr>\n",
              "      <th>2</th>\n",
              "      <td>Naive Bayes</td>\n",
              "      <td>0.736842</td>\n",
              "      <td>0.557214</td>\n",
              "      <td>0.738203</td>\n",
              "      <td>112</td>\n",
              "      <td>89</td>\n",
              "    </tr>\n",
              "    <tr>\n",
              "      <th>3</th>\n",
              "      <td>XGBoost</td>\n",
              "      <td>0.982456</td>\n",
              "      <td>0.975124</td>\n",
              "      <td>0.982512</td>\n",
              "      <td>196</td>\n",
              "      <td>5</td>\n",
              "    </tr>\n",
              "    <tr>\n",
              "      <th>4</th>\n",
              "      <td>KNN</td>\n",
              "      <td>0.611529</td>\n",
              "      <td>0.59204</td>\n",
              "      <td>0.611676</td>\n",
              "      <td>119</td>\n",
              "      <td>82</td>\n",
              "    </tr>\n",
              "    <tr>\n",
              "      <th>5</th>\n",
              "      <td>NN #1</td>\n",
              "      <td>0.829574</td>\n",
              "      <td>0.80597</td>\n",
              "      <td>0.829753</td>\n",
              "      <td>162</td>\n",
              "      <td>39</td>\n",
              "    </tr>\n",
              "    <tr>\n",
              "      <th>6</th>\n",
              "      <td>Tuned KNN</td>\n",
              "      <td>0.666667</td>\n",
              "      <td>0.577114</td>\n",
              "      <td>0.667345</td>\n",
              "      <td>116</td>\n",
              "      <td>85</td>\n",
              "    </tr>\n",
              "    <tr>\n",
              "      <th>7</th>\n",
              "      <td>Tuned Random Forest</td>\n",
              "      <td>0.949875</td>\n",
              "      <td>0.935323</td>\n",
              "      <td>0.949985</td>\n",
              "      <td>188</td>\n",
              "      <td>13</td>\n",
              "    </tr>\n",
              "  </tbody>\n",
              "</table>\n",
              "</div>"
            ],
            "text/plain": [
              "                 Model       Acc    Recall       ROC   TP  FN\n",
              "0       Decision Tree    0.93985  0.920398  0.939997  185  16\n",
              "1        Random Forest  0.932331  0.900498  0.932572  181  20\n",
              "2          Naive Bayes  0.736842  0.557214  0.738203  112  89\n",
              "3              XGBoost  0.982456  0.975124  0.982512  196   5\n",
              "4                  KNN  0.611529   0.59204  0.611676  119  82\n",
              "5                NN #1  0.829574   0.80597  0.829753  162  39\n",
              "6            Tuned KNN  0.666667  0.577114  0.667345  116  85\n",
              "7  Tuned Random Forest  0.949875  0.935323  0.949985  188  13"
            ]
          },
          "metadata": {
            "tags": []
          },
          "execution_count": 69
        }
      ]
    },
    {
      "cell_type": "code",
      "metadata": {
        "id": "AXuF_eSyoJ9H",
        "outputId": "aaa8d5dd-a565-4948-e81c-b335041153ee",
        "colab": {
          "base_uri": "https://localhost:8080/",
          "height": 279
        }
      },
      "source": [
        "from sklearn.metrics import roc_curve, auc\n",
        "import matplotlib.pyplot as plt\n",
        "\n",
        "actual = y_test\n",
        "gs5_prob = [p[1] for p in gs5.predict_proba(X_test)]\n",
        "random_forest_prob = [p[1] for p in rfc.predict_proba(X_test)]\n",
        "\n",
        "\n",
        "\n",
        "gs5_false_pos, gs5_true_pos, _ = roc_curve(actual, gs5_prob)\n",
        "gs5_auc = auc(gs5_false_pos, gs5_true_pos)\n",
        "\n",
        "rf_false_pos, rf_true_pos, _ = roc_curve(actual, random_forest_prob)\n",
        "rf_auc = auc(rf_false_pos, rf_true_pos)\n",
        "\n",
        "# plot\n",
        "plt.plot(gs5_false_pos, gs5_true_pos, 'g', label='Tuned RF AUC = %0.3f'% gs5_auc)\n",
        "plt.plot(rf_false_pos, rf_true_pos, 'b', label='Random Forest AUC = %0.3f'% rf_auc)\n",
        "\n",
        "plt.legend(loc='lower right')\n",
        "plt.plot([0,1], [0,1], 'r--')\n",
        "plt.ylabel('True Positive Rate')\n",
        "plt.xlabel('False Positive Rate')\n",
        "plt.show()"
      ],
      "execution_count": null,
      "outputs": [
        {
          "output_type": "display_data",
          "data": {
            "image/png": "[encoded data removed]",
            "text/plain": [
              "<Figure size 432x288 with 1 Axes>"
            ]
          },
          "metadata": {
            "tags": [],
            "needs_background": "light"
          }
        }
      ]
    },
    {
      "cell_type": "markdown",
      "metadata": {
        "id": "rdpLGA62QuMQ"
      },
      "source": [
        "#SVM"
      ]
    },
    {
      "cell_type": "code",
      "metadata": {
        "id": "t7GkkmAqQUKd",
        "outputId": "eeb79cbf-bbf3-44c0-df42-06e1b60a4847",
        "colab": {
          "base_uri": "https://localhost:8080/",
          "height": 465
        }
      },
      "source": [
        "from sklearn.svm import SVC\n",
        "SVM = SVC()\n",
        "\n",
        "SVM.probability = True\n",
        "SVM.fit(X_train_norm, ytrain)\n",
        "\n",
        "y_pred = SVM.predict(X_test_norm)\n",
        "\n",
        "from sklearn.metrics import classification_report\n",
        "print(classification_report(y_test, y_pred))\n",
        "\n",
        "\n",
        "confusion = confusion_matrix(y_test,y_pred)\n",
        "import seaborn as sn\n",
        "from sklearn.metrics import confusion_matrix\n",
        "import warnings\n",
        "warnings.simplefilter(action='ignore', category=FutureWarning)\n",
        "import pandas as pd\n",
        "\n",
        "# Визуелизација со матрица на конфузија \n",
        "names = ['bad', 'good'] \n",
        "\n",
        "confusion = 100 * confusion.astype('float') / confusion.sum(axis=-1)[:, np.newaxis]  \n",
        "\n",
        "df = pd.DataFrame(data=confusion, columns=names, index=names)\n",
        "g = sn.heatmap(df, annot=True, fmt=\".1f\", linewidths=.5, vmin=0, vmax=100,\n",
        "                    cmap='Blues')\n",
        "g.set_title('Confusion matrix')\n",
        "g.set_ylabel('True label')\n",
        "g.set_xlabel('Predicted label')\n",
        "g.plot()"
      ],
      "execution_count": null,
      "outputs": [
        {
          "output_type": "stream",
          "text": [
            "              precision    recall  f1-score   support\n",
            "\n",
            "           0       0.79      0.87      0.83       198\n",
            "           1       0.86      0.77      0.81       201\n",
            "\n",
            "    accuracy                           0.82       399\n",
            "   macro avg       0.82      0.82      0.82       399\n",
            "weighted avg       0.82      0.82      0.82       399\n",
            "\n"
          ],
          "name": "stdout"
        },
        {
          "output_type": "execute_result",
          "data": {
            "text/plain": [
              "[]"
            ]
          },
          "metadata": {
            "tags": []
          },
          "execution_count": 45
        },
        {
          "output_type": "display_data",
          "data": {
            "image/png": "[encoded data removed]",
            "text/plain": [
              "<Figure size 432x288 with 2 Axes>"
            ]
          },
          "metadata": {
            "tags": [],
            "needs_background": "light"
          }
        }
      ]
    },
    {
      "cell_type": "code",
      "metadata": {
        "id": "5UD74P8nVN_q",
        "outputId": "d7febc06-4935-46f0-bbf9-b9577798deb6",
        "colab": {
          "base_uri": "https://localhost:8080/",
          "height": 279
        }
      },
      "source": [
        "from sklearn.metrics import roc_curve, auc\n",
        "import matplotlib.pyplot as plt\n",
        "\n",
        "actual = y_test\n",
        "SVM_prob = [p[1] for p in SVM.predict_proba(X_test_norm)]\n",
        "\n",
        "\n",
        "SVM_false_pos, SVM_true_pos, _ = roc_curve(actual, SVM_prob)\n",
        "SVM_auc = auc(SVM_false_pos, SVM_true_pos)\n",
        "\n",
        "\n",
        "# plot\n",
        "plt.plot(SVM_false_pos, SVM_true_pos, 'g', label='SVM AUC = %0.2f'% SVM_auc)\n",
        "\n",
        "plt.legend(loc='lower right')\n",
        "plt.plot([0,1], [0,1], 'r--')\n",
        "plt.ylabel('True Positive Rate')\n",
        "plt.xlabel('False Positive Rate')\n",
        "plt.show()"
      ],
      "execution_count": null,
      "outputs": [
        {
          "output_type": "display_data",
          "data": {
            "image/png": "[encoded data removed]",
            "text/plain": [
              "<Figure size 432x288 with 1 Axes>"
            ]
          },
          "metadata": {
            "tags": [],
            "needs_background": "light"
          }
        }
      ]
    },
    {
      "cell_type": "code",
      "metadata": {
        "id": "lyu-v_tSShYa",
        "outputId": "7b655e43-dcb9-4f34-bad8-38d837b805b5",
        "colab": {
          "base_uri": "https://localhost:8080/",
          "height": 328
        }
      },
      "source": [
        "confusion = confusion_matrix(y_test, y_pred)\n",
        "TP = confusion[1, 1]\n",
        "TN = confusion[0, 0]\n",
        "FP = confusion[0, 1]\n",
        "FN = confusion[1, 0]\n",
        "\n",
        "df_Results.loc[8, \"Model\"] = \"SVM\"\n",
        "df_Results.loc[8, \"Acc\"] = accuracy_score(y_test, y_pred)\n",
        "df_Results.loc[8, \"Recall\"] = recall_score(y_test, y_pred)\n",
        "df_Results.loc[8, \"ROC\"] = roc_auc_score(y_test,y_pred)\n",
        "df_Results.loc[8, \"TP\"] = TP\n",
        "df_Results.loc[8, \"FN\"] = FN\n",
        "df_Results = df_Results.astype({\"TP\": int, \"FN\": int})\n",
        "\n",
        "df_Results.head(10)"
      ],
      "execution_count": null,
      "outputs": [
        {
          "output_type": "execute_result",
          "data": {
            "text/html": [
              "<div>\n",
              "<style scoped>\n",
              "    .dataframe tbody tr th:only-of-type {\n",
              "        vertical-align: middle;\n",
              "    }\n",
              "\n",
              "    .dataframe tbody tr th {\n",
              "        vertical-align: top;\n",
              "    }\n",
              "\n",
              "    .dataframe thead th {\n",
              "        text-align: right;\n",
              "    }\n",
              "</style>\n",
              "<table border=\"1\" class=\"dataframe\">\n",
              "  <thead>\n",
              "    <tr style=\"text-align: right;\">\n",
              "      <th></th>\n",
              "      <th>Model</th>\n",
              "      <th>Acc</th>\n",
              "      <th>Recall</th>\n",
              "      <th>ROC</th>\n",
              "      <th>TP</th>\n",
              "      <th>FN</th>\n",
              "    </tr>\n",
              "  </thead>\n",
              "  <tbody>\n",
              "    <tr>\n",
              "      <th>0</th>\n",
              "      <td>Decision Tree</td>\n",
              "      <td>0.939850</td>\n",
              "      <td>0.920398</td>\n",
              "      <td>0.939997</td>\n",
              "      <td>185</td>\n",
              "      <td>16</td>\n",
              "    </tr>\n",
              "    <tr>\n",
              "      <th>1</th>\n",
              "      <td>Random Forest</td>\n",
              "      <td>0.932331</td>\n",
              "      <td>0.900498</td>\n",
              "      <td>0.932572</td>\n",
              "      <td>181</td>\n",
              "      <td>20</td>\n",
              "    </tr>\n",
              "    <tr>\n",
              "      <th>2</th>\n",
              "      <td>Naive Bayes</td>\n",
              "      <td>0.736842</td>\n",
              "      <td>0.557214</td>\n",
              "      <td>0.738203</td>\n",
              "      <td>112</td>\n",
              "      <td>89</td>\n",
              "    </tr>\n",
              "    <tr>\n",
              "      <th>3</th>\n",
              "      <td>XGBoost</td>\n",
              "      <td>0.982456</td>\n",
              "      <td>0.975124</td>\n",
              "      <td>0.982512</td>\n",
              "      <td>196</td>\n",
              "      <td>5</td>\n",
              "    </tr>\n",
              "    <tr>\n",
              "      <th>4</th>\n",
              "      <td>KNN</td>\n",
              "      <td>0.611529</td>\n",
              "      <td>0.592040</td>\n",
              "      <td>0.611676</td>\n",
              "      <td>119</td>\n",
              "      <td>82</td>\n",
              "    </tr>\n",
              "    <tr>\n",
              "      <th>5</th>\n",
              "      <td>NN #1</td>\n",
              "      <td>0.839599</td>\n",
              "      <td>0.771144</td>\n",
              "      <td>0.840118</td>\n",
              "      <td>155</td>\n",
              "      <td>46</td>\n",
              "    </tr>\n",
              "    <tr>\n",
              "      <th>6</th>\n",
              "      <td>Tuned KNN</td>\n",
              "      <td>0.666667</td>\n",
              "      <td>0.577114</td>\n",
              "      <td>0.667345</td>\n",
              "      <td>116</td>\n",
              "      <td>85</td>\n",
              "    </tr>\n",
              "    <tr>\n",
              "      <th>7</th>\n",
              "      <td>Tuned Random Forest</td>\n",
              "      <td>0.949875</td>\n",
              "      <td>0.935323</td>\n",
              "      <td>0.949985</td>\n",
              "      <td>188</td>\n",
              "      <td>13</td>\n",
              "    </tr>\n",
              "    <tr>\n",
              "      <th>8</th>\n",
              "      <td>SVM</td>\n",
              "      <td>0.819549</td>\n",
              "      <td>0.771144</td>\n",
              "      <td>0.819916</td>\n",
              "      <td>155</td>\n",
              "      <td>46</td>\n",
              "    </tr>\n",
              "  </tbody>\n",
              "</table>\n",
              "</div>"
            ],
            "text/plain": [
              "                 Model       Acc    Recall       ROC   TP  FN\n",
              "0       Decision Tree   0.939850  0.920398  0.939997  185  16\n",
              "1        Random Forest  0.932331  0.900498  0.932572  181  20\n",
              "2          Naive Bayes  0.736842  0.557214  0.738203  112  89\n",
              "3              XGBoost  0.982456  0.975124  0.982512  196   5\n",
              "4                  KNN  0.611529  0.592040  0.611676  119  82\n",
              "5                NN #1  0.839599  0.771144  0.840118  155  46\n",
              "6            Tuned KNN  0.666667  0.577114  0.667345  116  85\n",
              "7  Tuned Random Forest  0.949875  0.935323  0.949985  188  13\n",
              "8                  SVM  0.819549  0.771144  0.819916  155  46"
            ]
          },
          "metadata": {
            "tags": []
          },
          "execution_count": 47
        }
      ]
    },
    {
      "cell_type": "markdown",
      "metadata": {
        "id": "EVSmb0nxoO8P"
      },
      "source": [
        "#Extra"
      ]
    },
    {
      "cell_type": "code",
      "metadata": {
        "id": "gt6nA4AYoSJi",
        "outputId": "b0e9a997-55fd-4ede-83f7-e380018b7e46",
        "colab": {
          "base_uri": "https://localhost:8080/",
          "height": 279
        }
      },
      "source": [
        "from sklearn.metrics import roc_curve, auc\n",
        "import matplotlib.pyplot as plt\n",
        "\n",
        "actual = y_test\n",
        "gs5_prob = [p[1] for p in gs5.predict_proba(X_test)]\n",
        "random_forest_prob = [p[1] for p in rfc.predict_proba(X_test)]\n",
        "xgb_prob = [p[1] for p in xgb.predict_proba(X_test)]\n",
        "decision_tree_prob = [p[1] for p in dtc.predict_proba(X_test)]\n",
        "\n",
        "dt_false_pos, dt_true_pos, _ = roc_curve(actual, decision_tree_prob)\n",
        "dt_auc = auc(dt_false_pos, dt_true_pos)\n",
        "\n",
        "\n",
        "gs5_false_pos, gs5_true_pos, _ = roc_curve(actual, gs5_prob)\n",
        "gs5_auc = auc(gs5_false_pos, gs5_true_pos)\n",
        "\n",
        "rf_false_pos, rf_true_pos, _ = roc_curve(actual, random_forest_prob)\n",
        "rf_auc = auc(rf_false_pos, rf_true_pos)\n",
        "\n",
        "xgb_false_pos, xgb_true_pos, _ = roc_curve(actual, xgb_prob)\n",
        "xgb_auc = auc(xgb_false_pos, xgb_true_pos)\n",
        "\n",
        "# plot\n",
        "plt.plot(xgb_false_pos, xgb_true_pos, 'blue', label='XGBoost AUC = %0.3f'% xgb_auc)\n",
        "plt.plot(gs5_false_pos, gs5_true_pos, 'red', label='Tuned RF AUC = %0.3f'% gs5_auc)\n",
        "plt.plot(rf_false_pos, rf_true_pos, 'orange', label='Random Forest AUC = %0.3f'% rf_auc)\n",
        "plt.plot(dt_false_pos, dt_true_pos, 'green', label='Decision Tree AUC = %0.3f'% dt_auc)\n",
        "\n",
        "\n",
        "plt.legend(loc='lower right')\n",
        "plt.plot([0,1], [0,1], 'r--')\n",
        "plt.ylabel('True Positive Rate')\n",
        "plt.xlabel('False Positive Rate')\n",
        "plt.show()"
      ],
      "execution_count": null,
      "outputs": [
        {
          "output_type": "display_data",
          "data": {
            "image/png": "[encoded data removed]",
            "text/plain": [
              "<Figure size 432x288 with 1 Axes>"
            ]
          },
          "metadata": {
            "tags": [],
            "needs_background": "light"
          }
        }
      ]
    },
    {
      "cell_type": "code",
      "metadata": {
        "id": "7FqaGD2GsUYb",
        "outputId": "20b611b7-3219-4f57-8d3e-d8d412580f31",
        "colab": {
          "base_uri": "https://localhost:8080/",
          "height": 34
        }
      },
      "source": [
        "cd drive/My\\ Drive"
      ],
      "execution_count": null,
      "outputs": [
        {
          "output_type": "stream",
          "text": [
            "/content/drive/My Drive\n"
          ],
          "name": "stdout"
        }
      ]
    },
    {
      "cell_type": "code",
      "metadata": {
        "id": "fFNmyN-hrKx7"
      },
      "source": [
        "df_Results.to_csv(\"modeli.csv\")"
      ],
      "execution_count": null,
      "outputs": []
    },
    {
      "cell_type": "code",
      "metadata": {
        "id": "0k9fPAwRrpWQ"
      },
      "source": [
        "ls"
      ],
      "execution_count": null,
      "outputs": []
    },
    {
      "cell_type": "code",
      "metadata": {
        "id": "lUv7-y5RrtH_",
        "outputId": "b0155c6c-5231-4cc6-eb48-5254f00ecbad",
        "colab": {
          "base_uri": "https://localhost:8080/",
          "height": 328
        }
      },
      "source": [
        "modeli = pd.read_csv(\"/content/drive/My Drive/modeli.csv\")\n",
        "modeli = modeli.drop(\"Unnamed: 0\", axis=\"columns\")\n",
        "modeli.head(10)"
      ],
      "execution_count": null,
      "outputs": [
        {
          "output_type": "execute_result",
          "data": {
            "text/html": [
              "<div>\n",
              "<style scoped>\n",
              "    .dataframe tbody tr th:only-of-type {\n",
              "        vertical-align: middle;\n",
              "    }\n",
              "\n",
              "    .dataframe tbody tr th {\n",
              "        vertical-align: top;\n",
              "    }\n",
              "\n",
              "    .dataframe thead th {\n",
              "        text-align: right;\n",
              "    }\n",
              "</style>\n",
              "<table border=\"1\" class=\"dataframe\">\n",
              "  <thead>\n",
              "    <tr style=\"text-align: right;\">\n",
              "      <th></th>\n",
              "      <th>Model</th>\n",
              "      <th>Acc</th>\n",
              "      <th>Recall</th>\n",
              "      <th>ROC</th>\n",
              "      <th>TP</th>\n",
              "      <th>FN</th>\n",
              "    </tr>\n",
              "  </thead>\n",
              "  <tbody>\n",
              "    <tr>\n",
              "      <th>0</th>\n",
              "      <td>Decision Tree</td>\n",
              "      <td>0.939850</td>\n",
              "      <td>0.920398</td>\n",
              "      <td>0.939997</td>\n",
              "      <td>185</td>\n",
              "      <td>16</td>\n",
              "    </tr>\n",
              "    <tr>\n",
              "      <th>1</th>\n",
              "      <td>Random Forest</td>\n",
              "      <td>0.932331</td>\n",
              "      <td>0.900498</td>\n",
              "      <td>0.932572</td>\n",
              "      <td>181</td>\n",
              "      <td>20</td>\n",
              "    </tr>\n",
              "    <tr>\n",
              "      <th>2</th>\n",
              "      <td>Naive Bayes</td>\n",
              "      <td>0.736842</td>\n",
              "      <td>0.557214</td>\n",
              "      <td>0.738203</td>\n",
              "      <td>112</td>\n",
              "      <td>89</td>\n",
              "    </tr>\n",
              "    <tr>\n",
              "      <th>3</th>\n",
              "      <td>XGBoost</td>\n",
              "      <td>0.982456</td>\n",
              "      <td>0.975124</td>\n",
              "      <td>0.982512</td>\n",
              "      <td>196</td>\n",
              "      <td>5</td>\n",
              "    </tr>\n",
              "    <tr>\n",
              "      <th>4</th>\n",
              "      <td>KNN</td>\n",
              "      <td>0.611529</td>\n",
              "      <td>0.592040</td>\n",
              "      <td>0.611676</td>\n",
              "      <td>119</td>\n",
              "      <td>82</td>\n",
              "    </tr>\n",
              "    <tr>\n",
              "      <th>5</th>\n",
              "      <td>NN #1</td>\n",
              "      <td>0.839599</td>\n",
              "      <td>0.771144</td>\n",
              "      <td>0.840118</td>\n",
              "      <td>155</td>\n",
              "      <td>46</td>\n",
              "    </tr>\n",
              "    <tr>\n",
              "      <th>6</th>\n",
              "      <td>Tuned KNN</td>\n",
              "      <td>0.666667</td>\n",
              "      <td>0.577114</td>\n",
              "      <td>0.667345</td>\n",
              "      <td>116</td>\n",
              "      <td>85</td>\n",
              "    </tr>\n",
              "    <tr>\n",
              "      <th>7</th>\n",
              "      <td>Tuned Random Forest</td>\n",
              "      <td>0.949875</td>\n",
              "      <td>0.935323</td>\n",
              "      <td>0.949985</td>\n",
              "      <td>188</td>\n",
              "      <td>13</td>\n",
              "    </tr>\n",
              "    <tr>\n",
              "      <th>8</th>\n",
              "      <td>SVM</td>\n",
              "      <td>0.819549</td>\n",
              "      <td>0.771144</td>\n",
              "      <td>0.819916</td>\n",
              "      <td>155</td>\n",
              "      <td>46</td>\n",
              "    </tr>\n",
              "  </tbody>\n",
              "</table>\n",
              "</div>"
            ],
            "text/plain": [
              "                 Model       Acc    Recall       ROC   TP  FN\n",
              "0       Decision Tree   0.939850  0.920398  0.939997  185  16\n",
              "1        Random Forest  0.932331  0.900498  0.932572  181  20\n",
              "2          Naive Bayes  0.736842  0.557214  0.738203  112  89\n",
              "3              XGBoost  0.982456  0.975124  0.982512  196   5\n",
              "4                  KNN  0.611529  0.592040  0.611676  119  82\n",
              "5                NN #1  0.839599  0.771144  0.840118  155  46\n",
              "6            Tuned KNN  0.666667  0.577114  0.667345  116  85\n",
              "7  Tuned Random Forest  0.949875  0.935323  0.949985  188  13\n",
              "8                  SVM  0.819549  0.771144  0.819916  155  46"
            ]
          },
          "metadata": {
            "tags": []
          },
          "execution_count": 51
        }
      ]
    }
  ]
}