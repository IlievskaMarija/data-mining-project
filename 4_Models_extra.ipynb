{
  "nbformat": 4,
  "nbformat_minor": 0,
  "metadata": {
    "colab": {
      "name": "4_Models_extra.ipynb",
      "provenance": [],
      "collapsed_sections": [
        "ggZhYrMEPmp_",
        "7h2fBBENbsfo",
        "Frkj--yqNDw2"
      ],
      "include_colab_link": true
    },
    "kernelspec": {
      "name": "python3",
      "display_name": "Python 3"
    }
  },
  "cells": [
    {
      "cell_type": "markdown",
      "metadata": {
        "id": "view-in-github",
        "colab_type": "text"
      },
      "source": [
        "<a href=\"https://colab.research.google.com/github/MKrezheska/data-mining-project/blob/main/4_Models_extra.ipynb\" target=\"_parent\"><img src=\"https://colab.research.google.com/assets/colab-badge.svg\" alt=\"Open In Colab\"/></a>"
      ]
    },
    {
      "cell_type": "code",
      "metadata": {
        "id": "7s--VnmDJiRa"
      },
      "source": [
        "import numpy as np # linear algebra\n",
        "import pandas as pd # data processing, CSV file I/O (e.g. pd.read_csv)\n",
        "import matplotlib.pyplot as plt\n",
        "import matplotlib.ticker as ticker\n",
        "from sklearn import datasets, linear_model\n",
        "from sklearn.decomposition import PCA\n",
        "from sklearn.preprocessing import MinMaxScaler\n",
        "from sklearn.manifold import TSNE\n",
        "import seaborn as sns\n",
        "from sklearn import tree\n",
        "from sklearn.metrics import accuracy_score\n",
        "%matplotlib inline\n",
        "from sklearn.tree import DecisionTreeClassifier, export_graphviz\n",
        "from sklearn.metrics import confusion_matrix, accuracy_score, precision_score, recall_score, roc_curve, auc, roc_auc_score\n"
      ],
      "execution_count": null,
      "outputs": []
    },
    {
      "cell_type": "markdown",
      "metadata": {
        "id": "uehVk7itL7Bd"
      },
      "source": [
        "#Вчитување на податоците"
      ]
    },
    {
      "cell_type": "code",
      "metadata": {
        "id": "k9cUWArMJqdG",
        "outputId": "ad3de2ce-d0dc-4ab7-b191-9ad6f5fbd8dd",
        "colab": {
          "base_uri": "https://localhost:8080/",
          "height": 34
        }
      },
      "source": [
        "from google.colab import drive\n",
        "drive.mount('/content/drive')"
      ],
      "execution_count": null,
      "outputs": [
        {
          "output_type": "stream",
          "text": [
            "Mounted at /content/drive\n"
          ],
          "name": "stdout"
        }
      ]
    },
    {
      "cell_type": "code",
      "metadata": {
        "id": "mNy92BYdJySH",
        "outputId": "0e28f4a4-6579-4be9-9115-5b04eee00fc0",
        "colab": {
          "base_uri": "https://localhost:8080/",
          "height": 34
        }
      },
      "source": [
        "df = pd.read_csv(\"/content/drive/My Drive/with_genres.csv\")\n",
        "df.shape"
      ],
      "execution_count": null,
      "outputs": [
        {
          "output_type": "execute_result",
          "data": {
            "text/plain": [
              "(1991, 23)"
            ]
          },
          "metadata": {
            "tags": []
          },
          "execution_count": 3
        }
      ]
    },
    {
      "cell_type": "code",
      "metadata": {
        "id": "DqcWoa29PuWm",
        "outputId": "2ea13d32-efe2-4531-844e-07ba1d2ee2e3",
        "colab": {
          "base_uri": "https://localhost:8080/",
          "height": 762
        }
      },
      "source": [
        "df = df.drop([\"Unnamed: 0.1\",\"Unnamed: 0\"], axis=\"columns\")\n",
        "df.head(100)"
      ],
      "execution_count": null,
      "outputs": [
        {
          "output_type": "execute_result",
          "data": {
            "text/html": [
              "<div>\n",
              "<style scoped>\n",
              "    .dataframe tbody tr th:only-of-type {\n",
              "        vertical-align: middle;\n",
              "    }\n",
              "\n",
              "    .dataframe tbody tr th {\n",
              "        vertical-align: top;\n",
              "    }\n",
              "\n",
              "    .dataframe thead th {\n",
              "        text-align: right;\n",
              "    }\n",
              "</style>\n",
              "<table border=\"1\" class=\"dataframe\">\n",
              "  <thead>\n",
              "    <tr style=\"text-align: right;\">\n",
              "      <th></th>\n",
              "      <th>energy</th>\n",
              "      <th>liveness</th>\n",
              "      <th>tempo</th>\n",
              "      <th>speechiness</th>\n",
              "      <th>acousticness</th>\n",
              "      <th>instrumentalness</th>\n",
              "      <th>time_signature</th>\n",
              "      <th>danceability</th>\n",
              "      <th>key</th>\n",
              "      <th>duration_ms</th>\n",
              "      <th>loudness</th>\n",
              "      <th>valence</th>\n",
              "      <th>mode</th>\n",
              "      <th>type</th>\n",
              "      <th>popularity</th>\n",
              "      <th>uri</th>\n",
              "      <th>title</th>\n",
              "      <th>artist</th>\n",
              "      <th>year</th>\n",
              "      <th>target</th>\n",
              "      <th>genre</th>\n",
              "    </tr>\n",
              "  </thead>\n",
              "  <tbody>\n",
              "    <tr>\n",
              "      <th>0</th>\n",
              "      <td>0.425</td>\n",
              "      <td>0.1000</td>\n",
              "      <td>135.128</td>\n",
              "      <td>0.3750</td>\n",
              "      <td>0.328000</td>\n",
              "      <td>0.130000</td>\n",
              "      <td>4</td>\n",
              "      <td>0.701</td>\n",
              "      <td>7</td>\n",
              "      <td>194088</td>\n",
              "      <td>-10.965</td>\n",
              "      <td>0.5620</td>\n",
              "      <td>1</td>\n",
              "      <td>audio_features</td>\n",
              "      <td>89</td>\n",
              "      <td>spotify:track:2Fxmhks0bxGSBdJ92vM42m</td>\n",
              "      <td>bad guy</td>\n",
              "      <td>Billie Eilish</td>\n",
              "      <td>2019</td>\n",
              "      <td>1</td>\n",
              "      <td>22</td>\n",
              "    </tr>\n",
              "    <tr>\n",
              "      <th>1</th>\n",
              "      <td>0.125</td>\n",
              "      <td>0.2650</td>\n",
              "      <td>111.554</td>\n",
              "      <td>0.2390</td>\n",
              "      <td>0.751000</td>\n",
              "      <td>0.002070</td>\n",
              "      <td>4</td>\n",
              "      <td>0.521</td>\n",
              "      <td>9</td>\n",
              "      <td>243725</td>\n",
              "      <td>-17.832</td>\n",
              "      <td>0.0528</td>\n",
              "      <td>1</td>\n",
              "      <td>audio_features</td>\n",
              "      <td>78</td>\n",
              "      <td>spotify:track:4QIo4oxwzzafcBWkKjDpXY</td>\n",
              "      <td>xanny</td>\n",
              "      <td>Billie Eilish</td>\n",
              "      <td>2019</td>\n",
              "      <td>1</td>\n",
              "      <td>22</td>\n",
              "    </tr>\n",
              "    <tr>\n",
              "      <th>2</th>\n",
              "      <td>0.533</td>\n",
              "      <td>0.1390</td>\n",
              "      <td>150.455</td>\n",
              "      <td>0.1860</td>\n",
              "      <td>0.462000</td>\n",
              "      <td>0.219000</td>\n",
              "      <td>4</td>\n",
              "      <td>0.678</td>\n",
              "      <td>4</td>\n",
              "      <td>180953</td>\n",
              "      <td>-10.485</td>\n",
              "      <td>0.3230</td>\n",
              "      <td>1</td>\n",
              "      <td>audio_features</td>\n",
              "      <td>81</td>\n",
              "      <td>spotify:track:3XF5xLJHOQQRbWya6hBp7d</td>\n",
              "      <td>you should see me in a crown</td>\n",
              "      <td>Billie Eilish</td>\n",
              "      <td>2019</td>\n",
              "      <td>1</td>\n",
              "      <td>22</td>\n",
              "    </tr>\n",
              "    <tr>\n",
              "      <th>3</th>\n",
              "      <td>0.444</td>\n",
              "      <td>0.1770</td>\n",
              "      <td>185.044</td>\n",
              "      <td>0.3720</td>\n",
              "      <td>0.283000</td>\n",
              "      <td>0.143000</td>\n",
              "      <td>4</td>\n",
              "      <td>0.726</td>\n",
              "      <td>8</td>\n",
              "      <td>168840</td>\n",
              "      <td>-8.922</td>\n",
              "      <td>0.5690</td>\n",
              "      <td>0</td>\n",
              "      <td>audio_features</td>\n",
              "      <td>80</td>\n",
              "      <td>spotify:track:6IRdLKIyS4p7XNiP8r6rsx</td>\n",
              "      <td>all the good girls go to hell</td>\n",
              "      <td>Billie Eilish</td>\n",
              "      <td>2019</td>\n",
              "      <td>1</td>\n",
              "      <td>22</td>\n",
              "    </tr>\n",
              "    <tr>\n",
              "      <th>4</th>\n",
              "      <td>0.351</td>\n",
              "      <td>0.7520</td>\n",
              "      <td>118.028</td>\n",
              "      <td>0.2410</td>\n",
              "      <td>0.390000</td>\n",
              "      <td>0.000009</td>\n",
              "      <td>4</td>\n",
              "      <td>0.853</td>\n",
              "      <td>7</td>\n",
              "      <td>221543</td>\n",
              "      <td>-10.198</td>\n",
              "      <td>0.2820</td>\n",
              "      <td>1</td>\n",
              "      <td>audio_features</td>\n",
              "      <td>81</td>\n",
              "      <td>spotify:track:3Fj47GNK2kUF0uaEDgXLaD</td>\n",
              "      <td>wish you were gay</td>\n",
              "      <td>Billie Eilish</td>\n",
              "      <td>2019</td>\n",
              "      <td>1</td>\n",
              "      <td>22</td>\n",
              "    </tr>\n",
              "    <tr>\n",
              "      <th>...</th>\n",
              "      <td>...</td>\n",
              "      <td>...</td>\n",
              "      <td>...</td>\n",
              "      <td>...</td>\n",
              "      <td>...</td>\n",
              "      <td>...</td>\n",
              "      <td>...</td>\n",
              "      <td>...</td>\n",
              "      <td>...</td>\n",
              "      <td>...</td>\n",
              "      <td>...</td>\n",
              "      <td>...</td>\n",
              "      <td>...</td>\n",
              "      <td>...</td>\n",
              "      <td>...</td>\n",
              "      <td>...</td>\n",
              "      <td>...</td>\n",
              "      <td>...</td>\n",
              "      <td>...</td>\n",
              "      <td>...</td>\n",
              "      <td>...</td>\n",
              "    </tr>\n",
              "    <tr>\n",
              "      <th>95</th>\n",
              "      <td>0.836</td>\n",
              "      <td>0.0550</td>\n",
              "      <td>132.937</td>\n",
              "      <td>0.0438</td>\n",
              "      <td>0.000143</td>\n",
              "      <td>0.000507</td>\n",
              "      <td>4</td>\n",
              "      <td>0.484</td>\n",
              "      <td>1</td>\n",
              "      <td>494773</td>\n",
              "      <td>-4.658</td>\n",
              "      <td>0.4030</td>\n",
              "      <td>1</td>\n",
              "      <td>audio_features</td>\n",
              "      <td>41</td>\n",
              "      <td>spotify:track:5jE2hljNVTJZeodUXQu9Ea</td>\n",
              "      <td>Fixxxer</td>\n",
              "      <td>Metallica</td>\n",
              "      <td>1997</td>\n",
              "      <td>1</td>\n",
              "      <td>26</td>\n",
              "    </tr>\n",
              "    <tr>\n",
              "      <th>96</th>\n",
              "      <td>0.903</td>\n",
              "      <td>0.0979</td>\n",
              "      <td>157.825</td>\n",
              "      <td>0.0314</td>\n",
              "      <td>0.000022</td>\n",
              "      <td>0.052200</td>\n",
              "      <td>4</td>\n",
              "      <td>0.426</td>\n",
              "      <td>10</td>\n",
              "      <td>304400</td>\n",
              "      <td>-4.535</td>\n",
              "      <td>0.4420</td>\n",
              "      <td>0</td>\n",
              "      <td>audio_features</td>\n",
              "      <td>48</td>\n",
              "      <td>spotify:track:3QWzxUE2WA5WoSi82KCODk</td>\n",
              "      <td>Ain't My Bitch</td>\n",
              "      <td>Metallica</td>\n",
              "      <td>1996</td>\n",
              "      <td>1</td>\n",
              "      <td>26</td>\n",
              "    </tr>\n",
              "    <tr>\n",
              "      <th>97</th>\n",
              "      <td>0.907</td>\n",
              "      <td>0.5490</td>\n",
              "      <td>115.217</td>\n",
              "      <td>0.0345</td>\n",
              "      <td>0.000005</td>\n",
              "      <td>0.008570</td>\n",
              "      <td>4</td>\n",
              "      <td>0.512</td>\n",
              "      <td>1</td>\n",
              "      <td>328200</td>\n",
              "      <td>-4.432</td>\n",
              "      <td>0.6730</td>\n",
              "      <td>0</td>\n",
              "      <td>audio_features</td>\n",
              "      <td>45</td>\n",
              "      <td>spotify:track:0SwHR5lvAfgI8Z2D6YgvMd</td>\n",
              "      <td>2 X 4</td>\n",
              "      <td>Metallica</td>\n",
              "      <td>1996</td>\n",
              "      <td>1</td>\n",
              "      <td>26</td>\n",
              "    </tr>\n",
              "    <tr>\n",
              "      <th>98</th>\n",
              "      <td>0.859</td>\n",
              "      <td>0.1550</td>\n",
              "      <td>94.437</td>\n",
              "      <td>0.0307</td>\n",
              "      <td>0.000018</td>\n",
              "      <td>0.003410</td>\n",
              "      <td>4</td>\n",
              "      <td>0.478</td>\n",
              "      <td>4</td>\n",
              "      <td>398867</td>\n",
              "      <td>-5.347</td>\n",
              "      <td>0.2860</td>\n",
              "      <td>1</td>\n",
              "      <td>audio_features</td>\n",
              "      <td>45</td>\n",
              "      <td>spotify:track:2UmXstEJ8nkpUUfQRYieC6</td>\n",
              "      <td>The House That Jack Built</td>\n",
              "      <td>Metallica</td>\n",
              "      <td>1996</td>\n",
              "      <td>1</td>\n",
              "      <td>26</td>\n",
              "    </tr>\n",
              "    <tr>\n",
              "      <th>99</th>\n",
              "      <td>0.920</td>\n",
              "      <td>0.1490</td>\n",
              "      <td>113.394</td>\n",
              "      <td>0.0297</td>\n",
              "      <td>0.000248</td>\n",
              "      <td>0.071400</td>\n",
              "      <td>4</td>\n",
              "      <td>0.568</td>\n",
              "      <td>8</td>\n",
              "      <td>267933</td>\n",
              "      <td>-4.434</td>\n",
              "      <td>0.7190</td>\n",
              "      <td>0</td>\n",
              "      <td>audio_features</td>\n",
              "      <td>58</td>\n",
              "      <td>spotify:track:2Iv4HSoMX2fDeXFcOJWyWX</td>\n",
              "      <td>Until It Sleeps</td>\n",
              "      <td>Metallica</td>\n",
              "      <td>1996</td>\n",
              "      <td>1</td>\n",
              "      <td>26</td>\n",
              "    </tr>\n",
              "  </tbody>\n",
              "</table>\n",
              "<p>100 rows × 21 columns</p>\n",
              "</div>"
            ],
            "text/plain": [
              "    energy  liveness    tempo  speechiness  ...         artist  year  target  genre\n",
              "0    0.425    0.1000  135.128       0.3750  ...  Billie Eilish  2019       1     22\n",
              "1    0.125    0.2650  111.554       0.2390  ...  Billie Eilish  2019       1     22\n",
              "2    0.533    0.1390  150.455       0.1860  ...  Billie Eilish  2019       1     22\n",
              "3    0.444    0.1770  185.044       0.3720  ...  Billie Eilish  2019       1     22\n",
              "4    0.351    0.7520  118.028       0.2410  ...  Billie Eilish  2019       1     22\n",
              "..     ...       ...      ...          ...  ...            ...   ...     ...    ...\n",
              "95   0.836    0.0550  132.937       0.0438  ...      Metallica  1997       1     26\n",
              "96   0.903    0.0979  157.825       0.0314  ...      Metallica  1996       1     26\n",
              "97   0.907    0.5490  115.217       0.0345  ...      Metallica  1996       1     26\n",
              "98   0.859    0.1550   94.437       0.0307  ...      Metallica  1996       1     26\n",
              "99   0.920    0.1490  113.394       0.0297  ...      Metallica  1996       1     26\n",
              "\n",
              "[100 rows x 21 columns]"
            ]
          },
          "metadata": {
            "tags": []
          },
          "execution_count": 4
        }
      ]
    },
    {
      "cell_type": "code",
      "metadata": {
        "id": "fylOhvdlWHZV",
        "outputId": "ae7ac0ee-2e32-4fe6-d280-cf4e31a4d1ee",
        "colab": {
          "base_uri": "https://localhost:8080/",
          "height": 419
        }
      },
      "source": [
        "df.drop(['title','artist', 'uri', 'type'], axis=1, inplace=True)\n",
        "df.head(1991)"
      ],
      "execution_count": null,
      "outputs": [
        {
          "output_type": "execute_result",
          "data": {
            "text/html": [
              "<div>\n",
              "<style scoped>\n",
              "    .dataframe tbody tr th:only-of-type {\n",
              "        vertical-align: middle;\n",
              "    }\n",
              "\n",
              "    .dataframe tbody tr th {\n",
              "        vertical-align: top;\n",
              "    }\n",
              "\n",
              "    .dataframe thead th {\n",
              "        text-align: right;\n",
              "    }\n",
              "</style>\n",
              "<table border=\"1\" class=\"dataframe\">\n",
              "  <thead>\n",
              "    <tr style=\"text-align: right;\">\n",
              "      <th></th>\n",
              "      <th>energy</th>\n",
              "      <th>liveness</th>\n",
              "      <th>tempo</th>\n",
              "      <th>speechiness</th>\n",
              "      <th>acousticness</th>\n",
              "      <th>instrumentalness</th>\n",
              "      <th>time_signature</th>\n",
              "      <th>danceability</th>\n",
              "      <th>key</th>\n",
              "      <th>duration_ms</th>\n",
              "      <th>loudness</th>\n",
              "      <th>valence</th>\n",
              "      <th>mode</th>\n",
              "      <th>popularity</th>\n",
              "      <th>year</th>\n",
              "      <th>target</th>\n",
              "      <th>genre</th>\n",
              "    </tr>\n",
              "  </thead>\n",
              "  <tbody>\n",
              "    <tr>\n",
              "      <th>0</th>\n",
              "      <td>0.425</td>\n",
              "      <td>0.100</td>\n",
              "      <td>135.128</td>\n",
              "      <td>0.3750</td>\n",
              "      <td>0.32800</td>\n",
              "      <td>0.130000</td>\n",
              "      <td>4</td>\n",
              "      <td>0.701</td>\n",
              "      <td>7</td>\n",
              "      <td>194088</td>\n",
              "      <td>-10.965</td>\n",
              "      <td>0.5620</td>\n",
              "      <td>1</td>\n",
              "      <td>89</td>\n",
              "      <td>2019</td>\n",
              "      <td>1</td>\n",
              "      <td>22</td>\n",
              "    </tr>\n",
              "    <tr>\n",
              "      <th>1</th>\n",
              "      <td>0.125</td>\n",
              "      <td>0.265</td>\n",
              "      <td>111.554</td>\n",
              "      <td>0.2390</td>\n",
              "      <td>0.75100</td>\n",
              "      <td>0.002070</td>\n",
              "      <td>4</td>\n",
              "      <td>0.521</td>\n",
              "      <td>9</td>\n",
              "      <td>243725</td>\n",
              "      <td>-17.832</td>\n",
              "      <td>0.0528</td>\n",
              "      <td>1</td>\n",
              "      <td>78</td>\n",
              "      <td>2019</td>\n",
              "      <td>1</td>\n",
              "      <td>22</td>\n",
              "    </tr>\n",
              "    <tr>\n",
              "      <th>2</th>\n",
              "      <td>0.533</td>\n",
              "      <td>0.139</td>\n",
              "      <td>150.455</td>\n",
              "      <td>0.1860</td>\n",
              "      <td>0.46200</td>\n",
              "      <td>0.219000</td>\n",
              "      <td>4</td>\n",
              "      <td>0.678</td>\n",
              "      <td>4</td>\n",
              "      <td>180953</td>\n",
              "      <td>-10.485</td>\n",
              "      <td>0.3230</td>\n",
              "      <td>1</td>\n",
              "      <td>81</td>\n",
              "      <td>2019</td>\n",
              "      <td>1</td>\n",
              "      <td>22</td>\n",
              "    </tr>\n",
              "    <tr>\n",
              "      <th>3</th>\n",
              "      <td>0.444</td>\n",
              "      <td>0.177</td>\n",
              "      <td>185.044</td>\n",
              "      <td>0.3720</td>\n",
              "      <td>0.28300</td>\n",
              "      <td>0.143000</td>\n",
              "      <td>4</td>\n",
              "      <td>0.726</td>\n",
              "      <td>8</td>\n",
              "      <td>168840</td>\n",
              "      <td>-8.922</td>\n",
              "      <td>0.5690</td>\n",
              "      <td>0</td>\n",
              "      <td>80</td>\n",
              "      <td>2019</td>\n",
              "      <td>1</td>\n",
              "      <td>22</td>\n",
              "    </tr>\n",
              "    <tr>\n",
              "      <th>4</th>\n",
              "      <td>0.351</td>\n",
              "      <td>0.752</td>\n",
              "      <td>118.028</td>\n",
              "      <td>0.2410</td>\n",
              "      <td>0.39000</td>\n",
              "      <td>0.000009</td>\n",
              "      <td>4</td>\n",
              "      <td>0.853</td>\n",
              "      <td>7</td>\n",
              "      <td>221543</td>\n",
              "      <td>-10.198</td>\n",
              "      <td>0.2820</td>\n",
              "      <td>1</td>\n",
              "      <td>81</td>\n",
              "      <td>2019</td>\n",
              "      <td>1</td>\n",
              "      <td>22</td>\n",
              "    </tr>\n",
              "    <tr>\n",
              "      <th>...</th>\n",
              "      <td>...</td>\n",
              "      <td>...</td>\n",
              "      <td>...</td>\n",
              "      <td>...</td>\n",
              "      <td>...</td>\n",
              "      <td>...</td>\n",
              "      <td>...</td>\n",
              "      <td>...</td>\n",
              "      <td>...</td>\n",
              "      <td>...</td>\n",
              "      <td>...</td>\n",
              "      <td>...</td>\n",
              "      <td>...</td>\n",
              "      <td>...</td>\n",
              "      <td>...</td>\n",
              "      <td>...</td>\n",
              "      <td>...</td>\n",
              "    </tr>\n",
              "    <tr>\n",
              "      <th>1986</th>\n",
              "      <td>0.364</td>\n",
              "      <td>0.101</td>\n",
              "      <td>123.022</td>\n",
              "      <td>0.0287</td>\n",
              "      <td>0.54500</td>\n",
              "      <td>0.000069</td>\n",
              "      <td>4</td>\n",
              "      <td>0.340</td>\n",
              "      <td>9</td>\n",
              "      <td>203760</td>\n",
              "      <td>-8.331</td>\n",
              "      <td>0.1100</td>\n",
              "      <td>1</td>\n",
              "      <td>41</td>\n",
              "      <td>2019</td>\n",
              "      <td>0</td>\n",
              "      <td>16</td>\n",
              "    </tr>\n",
              "    <tr>\n",
              "      <th>1987</th>\n",
              "      <td>0.886</td>\n",
              "      <td>0.096</td>\n",
              "      <td>126.044</td>\n",
              "      <td>0.0443</td>\n",
              "      <td>0.00114</td>\n",
              "      <td>0.000014</td>\n",
              "      <td>4</td>\n",
              "      <td>0.490</td>\n",
              "      <td>8</td>\n",
              "      <td>213333</td>\n",
              "      <td>-5.404</td>\n",
              "      <td>0.4930</td>\n",
              "      <td>1</td>\n",
              "      <td>45</td>\n",
              "      <td>2019</td>\n",
              "      <td>0</td>\n",
              "      <td>16</td>\n",
              "    </tr>\n",
              "    <tr>\n",
              "      <th>1988</th>\n",
              "      <td>0.475</td>\n",
              "      <td>0.104</td>\n",
              "      <td>101.069</td>\n",
              "      <td>0.0265</td>\n",
              "      <td>0.34800</td>\n",
              "      <td>0.000025</td>\n",
              "      <td>4</td>\n",
              "      <td>0.475</td>\n",
              "      <td>2</td>\n",
              "      <td>275133</td>\n",
              "      <td>-7.319</td>\n",
              "      <td>0.1290</td>\n",
              "      <td>1</td>\n",
              "      <td>40</td>\n",
              "      <td>2019</td>\n",
              "      <td>0</td>\n",
              "      <td>16</td>\n",
              "    </tr>\n",
              "    <tr>\n",
              "      <th>1989</th>\n",
              "      <td>0.637</td>\n",
              "      <td>0.100</td>\n",
              "      <td>76.037</td>\n",
              "      <td>0.0313</td>\n",
              "      <td>0.24900</td>\n",
              "      <td>0.000006</td>\n",
              "      <td>4</td>\n",
              "      <td>0.568</td>\n",
              "      <td>7</td>\n",
              "      <td>192107</td>\n",
              "      <td>-5.977</td>\n",
              "      <td>0.4520</td>\n",
              "      <td>1</td>\n",
              "      <td>39</td>\n",
              "      <td>2019</td>\n",
              "      <td>0</td>\n",
              "      <td>16</td>\n",
              "    </tr>\n",
              "    <tr>\n",
              "      <th>1990</th>\n",
              "      <td>0.360</td>\n",
              "      <td>0.129</td>\n",
              "      <td>99.194</td>\n",
              "      <td>0.0303</td>\n",
              "      <td>0.84100</td>\n",
              "      <td>0.000006</td>\n",
              "      <td>4</td>\n",
              "      <td>0.580</td>\n",
              "      <td>6</td>\n",
              "      <td>210113</td>\n",
              "      <td>-7.930</td>\n",
              "      <td>0.3020</td>\n",
              "      <td>1</td>\n",
              "      <td>68</td>\n",
              "      <td>2019</td>\n",
              "      <td>0</td>\n",
              "      <td>16</td>\n",
              "    </tr>\n",
              "  </tbody>\n",
              "</table>\n",
              "<p>1991 rows × 17 columns</p>\n",
              "</div>"
            ],
            "text/plain": [
              "      energy  liveness    tempo  speechiness  ...  popularity  year  target  genre\n",
              "0      0.425     0.100  135.128       0.3750  ...          89  2019       1     22\n",
              "1      0.125     0.265  111.554       0.2390  ...          78  2019       1     22\n",
              "2      0.533     0.139  150.455       0.1860  ...          81  2019       1     22\n",
              "3      0.444     0.177  185.044       0.3720  ...          80  2019       1     22\n",
              "4      0.351     0.752  118.028       0.2410  ...          81  2019       1     22\n",
              "...      ...       ...      ...          ...  ...         ...   ...     ...    ...\n",
              "1986   0.364     0.101  123.022       0.0287  ...          41  2019       0     16\n",
              "1987   0.886     0.096  126.044       0.0443  ...          45  2019       0     16\n",
              "1988   0.475     0.104  101.069       0.0265  ...          40  2019       0     16\n",
              "1989   0.637     0.100   76.037       0.0313  ...          39  2019       0     16\n",
              "1990   0.360     0.129   99.194       0.0303  ...          68  2019       0     16\n",
              "\n",
              "[1991 rows x 17 columns]"
            ]
          },
          "metadata": {
            "tags": []
          },
          "execution_count": 5
        }
      ]
    },
    {
      "cell_type": "code",
      "metadata": {
        "id": "jJBICeJmND-a"
      },
      "source": [
        "cols = ['genre']  + [col for col in df if col != 'genre']\n",
        "df = df[cols]"
      ],
      "execution_count": null,
      "outputs": []
    },
    {
      "cell_type": "code",
      "metadata": {
        "id": "S70B_AYSQQPO",
        "outputId": "700b2393-4383-41d8-fab7-c097f44899ac",
        "colab": {
          "base_uri": "https://localhost:8080/",
          "height": 419
        }
      },
      "source": [
        "df.head(100)"
      ],
      "execution_count": null,
      "outputs": [
        {
          "output_type": "execute_result",
          "data": {
            "text/html": [
              "<div>\n",
              "<style scoped>\n",
              "    .dataframe tbody tr th:only-of-type {\n",
              "        vertical-align: middle;\n",
              "    }\n",
              "\n",
              "    .dataframe tbody tr th {\n",
              "        vertical-align: top;\n",
              "    }\n",
              "\n",
              "    .dataframe thead th {\n",
              "        text-align: right;\n",
              "    }\n",
              "</style>\n",
              "<table border=\"1\" class=\"dataframe\">\n",
              "  <thead>\n",
              "    <tr style=\"text-align: right;\">\n",
              "      <th></th>\n",
              "      <th>genre</th>\n",
              "      <th>energy</th>\n",
              "      <th>liveness</th>\n",
              "      <th>tempo</th>\n",
              "      <th>speechiness</th>\n",
              "      <th>acousticness</th>\n",
              "      <th>instrumentalness</th>\n",
              "      <th>time_signature</th>\n",
              "      <th>danceability</th>\n",
              "      <th>key</th>\n",
              "      <th>duration_ms</th>\n",
              "      <th>loudness</th>\n",
              "      <th>valence</th>\n",
              "      <th>mode</th>\n",
              "      <th>popularity</th>\n",
              "      <th>year</th>\n",
              "      <th>target</th>\n",
              "    </tr>\n",
              "  </thead>\n",
              "  <tbody>\n",
              "    <tr>\n",
              "      <th>0</th>\n",
              "      <td>22</td>\n",
              "      <td>0.425</td>\n",
              "      <td>0.1000</td>\n",
              "      <td>135.128</td>\n",
              "      <td>0.3750</td>\n",
              "      <td>0.328000</td>\n",
              "      <td>0.130000</td>\n",
              "      <td>4</td>\n",
              "      <td>0.701</td>\n",
              "      <td>7</td>\n",
              "      <td>194088</td>\n",
              "      <td>-10.965</td>\n",
              "      <td>0.5620</td>\n",
              "      <td>1</td>\n",
              "      <td>89</td>\n",
              "      <td>2019</td>\n",
              "      <td>1</td>\n",
              "    </tr>\n",
              "    <tr>\n",
              "      <th>1</th>\n",
              "      <td>22</td>\n",
              "      <td>0.125</td>\n",
              "      <td>0.2650</td>\n",
              "      <td>111.554</td>\n",
              "      <td>0.2390</td>\n",
              "      <td>0.751000</td>\n",
              "      <td>0.002070</td>\n",
              "      <td>4</td>\n",
              "      <td>0.521</td>\n",
              "      <td>9</td>\n",
              "      <td>243725</td>\n",
              "      <td>-17.832</td>\n",
              "      <td>0.0528</td>\n",
              "      <td>1</td>\n",
              "      <td>78</td>\n",
              "      <td>2019</td>\n",
              "      <td>1</td>\n",
              "    </tr>\n",
              "    <tr>\n",
              "      <th>2</th>\n",
              "      <td>22</td>\n",
              "      <td>0.533</td>\n",
              "      <td>0.1390</td>\n",
              "      <td>150.455</td>\n",
              "      <td>0.1860</td>\n",
              "      <td>0.462000</td>\n",
              "      <td>0.219000</td>\n",
              "      <td>4</td>\n",
              "      <td>0.678</td>\n",
              "      <td>4</td>\n",
              "      <td>180953</td>\n",
              "      <td>-10.485</td>\n",
              "      <td>0.3230</td>\n",
              "      <td>1</td>\n",
              "      <td>81</td>\n",
              "      <td>2019</td>\n",
              "      <td>1</td>\n",
              "    </tr>\n",
              "    <tr>\n",
              "      <th>3</th>\n",
              "      <td>22</td>\n",
              "      <td>0.444</td>\n",
              "      <td>0.1770</td>\n",
              "      <td>185.044</td>\n",
              "      <td>0.3720</td>\n",
              "      <td>0.283000</td>\n",
              "      <td>0.143000</td>\n",
              "      <td>4</td>\n",
              "      <td>0.726</td>\n",
              "      <td>8</td>\n",
              "      <td>168840</td>\n",
              "      <td>-8.922</td>\n",
              "      <td>0.5690</td>\n",
              "      <td>0</td>\n",
              "      <td>80</td>\n",
              "      <td>2019</td>\n",
              "      <td>1</td>\n",
              "    </tr>\n",
              "    <tr>\n",
              "      <th>4</th>\n",
              "      <td>22</td>\n",
              "      <td>0.351</td>\n",
              "      <td>0.7520</td>\n",
              "      <td>118.028</td>\n",
              "      <td>0.2410</td>\n",
              "      <td>0.390000</td>\n",
              "      <td>0.000009</td>\n",
              "      <td>4</td>\n",
              "      <td>0.853</td>\n",
              "      <td>7</td>\n",
              "      <td>221543</td>\n",
              "      <td>-10.198</td>\n",
              "      <td>0.2820</td>\n",
              "      <td>1</td>\n",
              "      <td>81</td>\n",
              "      <td>2019</td>\n",
              "      <td>1</td>\n",
              "    </tr>\n",
              "    <tr>\n",
              "      <th>...</th>\n",
              "      <td>...</td>\n",
              "      <td>...</td>\n",
              "      <td>...</td>\n",
              "      <td>...</td>\n",
              "      <td>...</td>\n",
              "      <td>...</td>\n",
              "      <td>...</td>\n",
              "      <td>...</td>\n",
              "      <td>...</td>\n",
              "      <td>...</td>\n",
              "      <td>...</td>\n",
              "      <td>...</td>\n",
              "      <td>...</td>\n",
              "      <td>...</td>\n",
              "      <td>...</td>\n",
              "      <td>...</td>\n",
              "      <td>...</td>\n",
              "    </tr>\n",
              "    <tr>\n",
              "      <th>95</th>\n",
              "      <td>26</td>\n",
              "      <td>0.836</td>\n",
              "      <td>0.0550</td>\n",
              "      <td>132.937</td>\n",
              "      <td>0.0438</td>\n",
              "      <td>0.000143</td>\n",
              "      <td>0.000507</td>\n",
              "      <td>4</td>\n",
              "      <td>0.484</td>\n",
              "      <td>1</td>\n",
              "      <td>494773</td>\n",
              "      <td>-4.658</td>\n",
              "      <td>0.4030</td>\n",
              "      <td>1</td>\n",
              "      <td>41</td>\n",
              "      <td>1997</td>\n",
              "      <td>1</td>\n",
              "    </tr>\n",
              "    <tr>\n",
              "      <th>96</th>\n",
              "      <td>26</td>\n",
              "      <td>0.903</td>\n",
              "      <td>0.0979</td>\n",
              "      <td>157.825</td>\n",
              "      <td>0.0314</td>\n",
              "      <td>0.000022</td>\n",
              "      <td>0.052200</td>\n",
              "      <td>4</td>\n",
              "      <td>0.426</td>\n",
              "      <td>10</td>\n",
              "      <td>304400</td>\n",
              "      <td>-4.535</td>\n",
              "      <td>0.4420</td>\n",
              "      <td>0</td>\n",
              "      <td>48</td>\n",
              "      <td>1996</td>\n",
              "      <td>1</td>\n",
              "    </tr>\n",
              "    <tr>\n",
              "      <th>97</th>\n",
              "      <td>26</td>\n",
              "      <td>0.907</td>\n",
              "      <td>0.5490</td>\n",
              "      <td>115.217</td>\n",
              "      <td>0.0345</td>\n",
              "      <td>0.000005</td>\n",
              "      <td>0.008570</td>\n",
              "      <td>4</td>\n",
              "      <td>0.512</td>\n",
              "      <td>1</td>\n",
              "      <td>328200</td>\n",
              "      <td>-4.432</td>\n",
              "      <td>0.6730</td>\n",
              "      <td>0</td>\n",
              "      <td>45</td>\n",
              "      <td>1996</td>\n",
              "      <td>1</td>\n",
              "    </tr>\n",
              "    <tr>\n",
              "      <th>98</th>\n",
              "      <td>26</td>\n",
              "      <td>0.859</td>\n",
              "      <td>0.1550</td>\n",
              "      <td>94.437</td>\n",
              "      <td>0.0307</td>\n",
              "      <td>0.000018</td>\n",
              "      <td>0.003410</td>\n",
              "      <td>4</td>\n",
              "      <td>0.478</td>\n",
              "      <td>4</td>\n",
              "      <td>398867</td>\n",
              "      <td>-5.347</td>\n",
              "      <td>0.2860</td>\n",
              "      <td>1</td>\n",
              "      <td>45</td>\n",
              "      <td>1996</td>\n",
              "      <td>1</td>\n",
              "    </tr>\n",
              "    <tr>\n",
              "      <th>99</th>\n",
              "      <td>26</td>\n",
              "      <td>0.920</td>\n",
              "      <td>0.1490</td>\n",
              "      <td>113.394</td>\n",
              "      <td>0.0297</td>\n",
              "      <td>0.000248</td>\n",
              "      <td>0.071400</td>\n",
              "      <td>4</td>\n",
              "      <td>0.568</td>\n",
              "      <td>8</td>\n",
              "      <td>267933</td>\n",
              "      <td>-4.434</td>\n",
              "      <td>0.7190</td>\n",
              "      <td>0</td>\n",
              "      <td>58</td>\n",
              "      <td>1996</td>\n",
              "      <td>1</td>\n",
              "    </tr>\n",
              "  </tbody>\n",
              "</table>\n",
              "<p>100 rows × 17 columns</p>\n",
              "</div>"
            ],
            "text/plain": [
              "    genre  energy  liveness    tempo  ...  mode  popularity  year  target\n",
              "0      22   0.425    0.1000  135.128  ...     1          89  2019       1\n",
              "1      22   0.125    0.2650  111.554  ...     1          78  2019       1\n",
              "2      22   0.533    0.1390  150.455  ...     1          81  2019       1\n",
              "3      22   0.444    0.1770  185.044  ...     0          80  2019       1\n",
              "4      22   0.351    0.7520  118.028  ...     1          81  2019       1\n",
              "..    ...     ...       ...      ...  ...   ...         ...   ...     ...\n",
              "95     26   0.836    0.0550  132.937  ...     1          41  1997       1\n",
              "96     26   0.903    0.0979  157.825  ...     0          48  1996       1\n",
              "97     26   0.907    0.5490  115.217  ...     0          45  1996       1\n",
              "98     26   0.859    0.1550   94.437  ...     1          45  1996       1\n",
              "99     26   0.920    0.1490  113.394  ...     0          58  1996       1\n",
              "\n",
              "[100 rows x 17 columns]"
            ]
          },
          "metadata": {
            "tags": []
          },
          "execution_count": 7
        }
      ]
    },
    {
      "cell_type": "code",
      "metadata": {
        "id": "jYPQCB5xiUjB",
        "outputId": "59702b34-0b82-4eef-9166-fe586d67c8f6",
        "colab": {
          "base_uri": "https://localhost:8080/",
          "height": 419
        }
      },
      "source": [
        "from sklearn.utils import shuffle\n",
        "df = shuffle(df)\n",
        "df.head(1991)"
      ],
      "execution_count": null,
      "outputs": [
        {
          "output_type": "execute_result",
          "data": {
            "text/html": [
              "<div>\n",
              "<style scoped>\n",
              "    .dataframe tbody tr th:only-of-type {\n",
              "        vertical-align: middle;\n",
              "    }\n",
              "\n",
              "    .dataframe tbody tr th {\n",
              "        vertical-align: top;\n",
              "    }\n",
              "\n",
              "    .dataframe thead th {\n",
              "        text-align: right;\n",
              "    }\n",
              "</style>\n",
              "<table border=\"1\" class=\"dataframe\">\n",
              "  <thead>\n",
              "    <tr style=\"text-align: right;\">\n",
              "      <th></th>\n",
              "      <th>genre</th>\n",
              "      <th>energy</th>\n",
              "      <th>liveness</th>\n",
              "      <th>tempo</th>\n",
              "      <th>speechiness</th>\n",
              "      <th>acousticness</th>\n",
              "      <th>instrumentalness</th>\n",
              "      <th>time_signature</th>\n",
              "      <th>danceability</th>\n",
              "      <th>key</th>\n",
              "      <th>duration_ms</th>\n",
              "      <th>loudness</th>\n",
              "      <th>valence</th>\n",
              "      <th>mode</th>\n",
              "      <th>popularity</th>\n",
              "      <th>year</th>\n",
              "      <th>target</th>\n",
              "    </tr>\n",
              "  </thead>\n",
              "  <tbody>\n",
              "    <tr>\n",
              "      <th>757</th>\n",
              "      <td>18</td>\n",
              "      <td>0.781</td>\n",
              "      <td>0.0907</td>\n",
              "      <td>86.946</td>\n",
              "      <td>0.0433</td>\n",
              "      <td>0.4030</td>\n",
              "      <td>0.000000</td>\n",
              "      <td>4</td>\n",
              "      <td>0.509</td>\n",
              "      <td>2</td>\n",
              "      <td>208413</td>\n",
              "      <td>-4.882</td>\n",
              "      <td>0.7850</td>\n",
              "      <td>1</td>\n",
              "      <td>7</td>\n",
              "      <td>2009</td>\n",
              "      <td>1</td>\n",
              "    </tr>\n",
              "    <tr>\n",
              "      <th>1550</th>\n",
              "      <td>19</td>\n",
              "      <td>0.656</td>\n",
              "      <td>0.2750</td>\n",
              "      <td>117.995</td>\n",
              "      <td>0.0397</td>\n",
              "      <td>0.0110</td>\n",
              "      <td>0.000401</td>\n",
              "      <td>4</td>\n",
              "      <td>0.721</td>\n",
              "      <td>2</td>\n",
              "      <td>228600</td>\n",
              "      <td>-5.501</td>\n",
              "      <td>0.3280</td>\n",
              "      <td>1</td>\n",
              "      <td>41</td>\n",
              "      <td>2012</td>\n",
              "      <td>0</td>\n",
              "    </tr>\n",
              "    <tr>\n",
              "      <th>1786</th>\n",
              "      <td>19</td>\n",
              "      <td>0.530</td>\n",
              "      <td>0.1210</td>\n",
              "      <td>111.939</td>\n",
              "      <td>0.0314</td>\n",
              "      <td>0.6090</td>\n",
              "      <td>0.000000</td>\n",
              "      <td>4</td>\n",
              "      <td>0.739</td>\n",
              "      <td>3</td>\n",
              "      <td>200333</td>\n",
              "      <td>-7.355</td>\n",
              "      <td>0.4700</td>\n",
              "      <td>1</td>\n",
              "      <td>50</td>\n",
              "      <td>2013</td>\n",
              "      <td>0</td>\n",
              "    </tr>\n",
              "    <tr>\n",
              "      <th>270</th>\n",
              "      <td>5</td>\n",
              "      <td>0.250</td>\n",
              "      <td>0.0988</td>\n",
              "      <td>102.031</td>\n",
              "      <td>0.0314</td>\n",
              "      <td>0.9750</td>\n",
              "      <td>0.018700</td>\n",
              "      <td>1</td>\n",
              "      <td>0.296</td>\n",
              "      <td>7</td>\n",
              "      <td>290636</td>\n",
              "      <td>-10.088</td>\n",
              "      <td>0.0898</td>\n",
              "      <td>1</td>\n",
              "      <td>55</td>\n",
              "      <td>2015</td>\n",
              "      <td>1</td>\n",
              "    </tr>\n",
              "    <tr>\n",
              "      <th>492</th>\n",
              "      <td>18</td>\n",
              "      <td>0.915</td>\n",
              "      <td>0.0611</td>\n",
              "      <td>152.443</td>\n",
              "      <td>0.0827</td>\n",
              "      <td>0.0184</td>\n",
              "      <td>0.002080</td>\n",
              "      <td>4</td>\n",
              "      <td>0.590</td>\n",
              "      <td>0</td>\n",
              "      <td>270160</td>\n",
              "      <td>-6.659</td>\n",
              "      <td>0.6720</td>\n",
              "      <td>1</td>\n",
              "      <td>8</td>\n",
              "      <td>1985</td>\n",
              "      <td>1</td>\n",
              "    </tr>\n",
              "    <tr>\n",
              "      <th>...</th>\n",
              "      <td>...</td>\n",
              "      <td>...</td>\n",
              "      <td>...</td>\n",
              "      <td>...</td>\n",
              "      <td>...</td>\n",
              "      <td>...</td>\n",
              "      <td>...</td>\n",
              "      <td>...</td>\n",
              "      <td>...</td>\n",
              "      <td>...</td>\n",
              "      <td>...</td>\n",
              "      <td>...</td>\n",
              "      <td>...</td>\n",
              "      <td>...</td>\n",
              "      <td>...</td>\n",
              "      <td>...</td>\n",
              "      <td>...</td>\n",
              "    </tr>\n",
              "    <tr>\n",
              "      <th>1361</th>\n",
              "      <td>16</td>\n",
              "      <td>0.960</td>\n",
              "      <td>0.3370</td>\n",
              "      <td>153.948</td>\n",
              "      <td>0.0953</td>\n",
              "      <td>0.0141</td>\n",
              "      <td>0.000000</td>\n",
              "      <td>4</td>\n",
              "      <td>0.454</td>\n",
              "      <td>11</td>\n",
              "      <td>171867</td>\n",
              "      <td>-2.777</td>\n",
              "      <td>0.5150</td>\n",
              "      <td>0</td>\n",
              "      <td>50</td>\n",
              "      <td>2013</td>\n",
              "      <td>0</td>\n",
              "    </tr>\n",
              "    <tr>\n",
              "      <th>1967</th>\n",
              "      <td>17</td>\n",
              "      <td>0.267</td>\n",
              "      <td>0.1110</td>\n",
              "      <td>98.808</td>\n",
              "      <td>0.0259</td>\n",
              "      <td>0.7580</td>\n",
              "      <td>0.000185</td>\n",
              "      <td>3</td>\n",
              "      <td>0.570</td>\n",
              "      <td>2</td>\n",
              "      <td>211213</td>\n",
              "      <td>-10.700</td>\n",
              "      <td>0.2820</td>\n",
              "      <td>1</td>\n",
              "      <td>14</td>\n",
              "      <td>2019</td>\n",
              "      <td>0</td>\n",
              "    </tr>\n",
              "    <tr>\n",
              "      <th>1750</th>\n",
              "      <td>27</td>\n",
              "      <td>0.693</td>\n",
              "      <td>0.1140</td>\n",
              "      <td>81.984</td>\n",
              "      <td>0.2770</td>\n",
              "      <td>0.1620</td>\n",
              "      <td>0.000000</td>\n",
              "      <td>4</td>\n",
              "      <td>0.862</td>\n",
              "      <td>10</td>\n",
              "      <td>223389</td>\n",
              "      <td>-4.096</td>\n",
              "      <td>0.4400</td>\n",
              "      <td>0</td>\n",
              "      <td>52</td>\n",
              "      <td>2019</td>\n",
              "      <td>0</td>\n",
              "    </tr>\n",
              "    <tr>\n",
              "      <th>1045</th>\n",
              "      <td>14</td>\n",
              "      <td>0.546</td>\n",
              "      <td>0.1020</td>\n",
              "      <td>147.986</td>\n",
              "      <td>0.0575</td>\n",
              "      <td>0.3000</td>\n",
              "      <td>0.000000</td>\n",
              "      <td>4</td>\n",
              "      <td>0.806</td>\n",
              "      <td>9</td>\n",
              "      <td>212867</td>\n",
              "      <td>-6.637</td>\n",
              "      <td>0.8740</td>\n",
              "      <td>1</td>\n",
              "      <td>84</td>\n",
              "      <td>2020</td>\n",
              "      <td>0</td>\n",
              "    </tr>\n",
              "    <tr>\n",
              "      <th>1893</th>\n",
              "      <td>34</td>\n",
              "      <td>0.657</td>\n",
              "      <td>0.3330</td>\n",
              "      <td>78.937</td>\n",
              "      <td>0.0381</td>\n",
              "      <td>0.5170</td>\n",
              "      <td>0.000000</td>\n",
              "      <td>4</td>\n",
              "      <td>0.485</td>\n",
              "      <td>3</td>\n",
              "      <td>183533</td>\n",
              "      <td>-4.103</td>\n",
              "      <td>0.8330</td>\n",
              "      <td>1</td>\n",
              "      <td>16</td>\n",
              "      <td>2002</td>\n",
              "      <td>0</td>\n",
              "    </tr>\n",
              "  </tbody>\n",
              "</table>\n",
              "<p>1991 rows × 17 columns</p>\n",
              "</div>"
            ],
            "text/plain": [
              "      genre  energy  liveness    tempo  ...  mode  popularity  year  target\n",
              "757      18   0.781    0.0907   86.946  ...     1           7  2009       1\n",
              "1550     19   0.656    0.2750  117.995  ...     1          41  2012       0\n",
              "1786     19   0.530    0.1210  111.939  ...     1          50  2013       0\n",
              "270       5   0.250    0.0988  102.031  ...     1          55  2015       1\n",
              "492      18   0.915    0.0611  152.443  ...     1           8  1985       1\n",
              "...     ...     ...       ...      ...  ...   ...         ...   ...     ...\n",
              "1361     16   0.960    0.3370  153.948  ...     0          50  2013       0\n",
              "1967     17   0.267    0.1110   98.808  ...     1          14  2019       0\n",
              "1750     27   0.693    0.1140   81.984  ...     0          52  2019       0\n",
              "1045     14   0.546    0.1020  147.986  ...     1          84  2020       0\n",
              "1893     34   0.657    0.3330   78.937  ...     1          16  2002       0\n",
              "\n",
              "[1991 rows x 17 columns]"
            ]
          },
          "metadata": {
            "tags": []
          },
          "execution_count": 8
        }
      ]
    },
    {
      "cell_type": "markdown",
      "metadata": {
        "id": "NVBH3v1JJEDr"
      },
      "source": [
        "#Делење на податочното множество на тренирачко, валидациско и тестирачко "
      ]
    },
    {
      "cell_type": "markdown",
      "metadata": {
        "id": "v3Fp_dfCywo0"
      },
      "source": [
        "Делење на податочното множество на тренирачко, валидациско и тестирачко множество, \n",
        "    така што првите 70% од секоја од класите  се доделени во тренирачкото множество. \n",
        "    Следните 10% од секоја од класите влегуваат во валидациско множество, \n",
        "    а последните 20% од секоја од класите се дел од тестирачкото множество.\n",
        "    На крај се прави shuffle на множествата (заедно со соодветните лабели)."
      ]
    },
    {
      "cell_type": "code",
      "metadata": {
        "id": "iGyfg9Fnyvz6"
      },
      "source": [
        "tmp = df.values.tolist()\n",
        "dataset =  [[row[i] if i != len(row)-1   else int(row[i]) for i in range(len(row))] for row in tmp]\n",
        "print(tmp)\n",
        "print(dataset)\n",
        "\n",
        "bad_classes = [x for x in dataset if x[-1] == 0]\n",
        "good_classes = [x for x in dataset if x[-1] == 1]\n",
        "\n",
        "train_set =  bad_classes[:int(len(bad_classes) * 0.7)] + good_classes[:int(len(good_classes) * 0.7)]\n",
        "val_set = bad_classes[int(len(bad_classes) * 0.7):int(len(bad_classes) * 0.8)] + good_classes[int(len(good_classes) * 0.7):int(len(good_classes) * 0.8)]\n",
        "test_set =  bad_classes[int(len(bad_classes) * 0.8):] + good_classes[int(len(good_classes) * 0.8):]\n",
        "\n",
        "train_x = [x[:-1] for x in train_set]\n",
        "train_y = [x[-1] for x in train_set]\n",
        "val_x = [x[:-1] for x in val_set]\n",
        "val_y = [x[-1] for x in val_set]\n",
        "test_x = [x[:-1] for x in test_set]\n",
        "test_y = [x[-1] for x in test_set]\n"
      ],
      "execution_count": null,
      "outputs": []
    },
    {
      "cell_type": "code",
      "metadata": {
        "id": "wYkGUFkT3yEA",
        "outputId": "b524d7f2-ab22-4ad0-b712-d08f550d6701",
        "colab": {
          "base_uri": "https://localhost:8080/",
          "height": 102
        }
      },
      "source": [
        "import collections\n",
        "X_train = np.array(train_x)\n",
        "y_train = np.array(train_y)\n",
        "X_val = np.array(val_x)\n",
        "y_val = np.array(val_y)\n",
        "X_test = np.array(test_x)\n",
        "y_test = np.array(test_y)\n",
        "\n",
        "from sklearn.utils import shuffle\n",
        "X_train,y_train = shuffle(X_train,y_train,random_state=0)\n",
        "X_val, y_val = shuffle(X_val, y_val,random_state=0)\n",
        "X_test, y_test = shuffle(X_test, y_test,random_state=0)\n",
        "\n",
        "print(X_train.shape, X_val.shape, X_test.shape)\n",
        "print(y_train.shape, y_val.shape, y_test.shape)\n",
        "print(collections.Counter(y_train))\n",
        "print(collections.Counter(y_val))\n",
        "print(collections.Counter(y_test))"
      ],
      "execution_count": null,
      "outputs": [
        {
          "output_type": "stream",
          "text": [
            "(1392, 16) (200, 16) (399, 16)\n",
            "(1392,) (200,) (399,)\n",
            "Counter({1: 702, 0: 690})\n",
            "Counter({1: 101, 0: 99})\n",
            "Counter({1: 201, 0: 198})\n"
          ],
          "name": "stdout"
        }
      ]
    },
    {
      "cell_type": "markdown",
      "metadata": {
        "id": "3A2L0RbVb4dd"
      },
      "source": [
        "#Наивен Баесов, Дрво на одлука и Рандом Форест"
      ]
    },
    {
      "cell_type": "code",
      "metadata": {
        "id": "QIISLP-uYiii",
        "outputId": "305a22a0-62ae-4c57-aa13-112114d3da36",
        "colab": {
          "base_uri": "https://localhost:8080/",
          "height": 153
        }
      },
      "source": [
        "from sklearn.tree import DecisionTreeClassifier\n",
        "from sklearn.naive_bayes import GaussianNB\n",
        "from sklearn.ensemble import RandomForestClassifier\n",
        "\n",
        "dtc = DecisionTreeClassifier()\n",
        "nbc = GaussianNB()\n",
        "rfc = RandomForestClassifier()\n",
        "\n",
        "dtc.fit(X_train, y_train)\n",
        "nbc.fit(X_train, y_train)\n",
        "rfc.fit(X_train, y_train)"
      ],
      "execution_count": null,
      "outputs": [
        {
          "output_type": "execute_result",
          "data": {
            "text/plain": [
              "RandomForestClassifier(bootstrap=True, ccp_alpha=0.0, class_weight=None,\n",
              "                       criterion='gini', max_depth=None, max_features='auto',\n",
              "                       max_leaf_nodes=None, max_samples=None,\n",
              "                       min_impurity_decrease=0.0, min_impurity_split=None,\n",
              "                       min_samples_leaf=1, min_samples_split=2,\n",
              "                       min_weight_fraction_leaf=0.0, n_estimators=100,\n",
              "                       n_jobs=None, oob_score=False, random_state=None,\n",
              "                       verbose=0, warm_start=False)"
            ]
          },
          "metadata": {
            "tags": []
          },
          "execution_count": 11
        }
      ]
    },
    {
      "cell_type": "code",
      "metadata": {
        "id": "GWQ4N-HOLInm",
        "outputId": "8c415508-be95-4b0f-da78-dba0cb8ad268",
        "colab": {
          "base_uri": "https://localhost:8080/",
          "height": 51
        }
      },
      "source": [
        "importances = list(rfc.feature_importances_)\n",
        "indices = np.argsort(importances)[::-1]\n",
        "\n",
        "most_important_feature = importances.index(max(importances))\n",
        "least_important_feature = importances.index(min(importances))\n",
        "print('Most important feature: '+ df.columns[most_important_feature])\n",
        "print('Least important feature: '+ df.columns[least_important_feature])"
      ],
      "execution_count": null,
      "outputs": [
        {
          "output_type": "stream",
          "text": [
            "Most important feature: genre\n",
            "Least important feature: time_signature\n"
          ],
          "name": "stdout"
        }
      ]
    },
    {
      "cell_type": "code",
      "metadata": {
        "id": "EKZDAckdZLiW",
        "outputId": "72affaff-2baf-48e4-b3f8-9bfdb27c4e79",
        "colab": {
          "base_uri": "https://localhost:8080/",
          "height": 527
        }
      },
      "source": [
        "from sklearn.metrics import classification_report\n",
        "\n",
        "tree_predict = dtc.predict(X_val)\n",
        "naive_predict = nbc.predict(X_val)\n",
        "random_forest_predict = rfc.predict(X_val)\n",
        "\n",
        "print('Decision Tree score on validation:\\n', classification_report( y_val,tree_predict))\n",
        "print('Naive Bayes score on validation:\\n', classification_report( y_val,naive_predict))\n",
        "print('Random Forest score on validation:\\n', classification_report( y_val,random_forest_predict))"
      ],
      "execution_count": null,
      "outputs": [
        {
          "output_type": "stream",
          "text": [
            "Decision Tree score on validation:\n",
            "               precision    recall  f1-score   support\n",
            "\n",
            "           0       0.97      0.93      0.95        99\n",
            "           1       0.93      0.97      0.95       101\n",
            "\n",
            "    accuracy                           0.95       200\n",
            "   macro avg       0.95      0.95      0.95       200\n",
            "weighted avg       0.95      0.95      0.95       200\n",
            "\n",
            "Naive Bayes score on validation:\n",
            "               precision    recall  f1-score   support\n",
            "\n",
            "           0       0.68      0.92      0.78        99\n",
            "           1       0.88      0.57      0.69       101\n",
            "\n",
            "    accuracy                           0.74       200\n",
            "   macro avg       0.78      0.75      0.74       200\n",
            "weighted avg       0.78      0.74      0.74       200\n",
            "\n",
            "Random Forest score on validation:\n",
            "               precision    recall  f1-score   support\n",
            "\n",
            "           0       0.92      0.94      0.93        99\n",
            "           1       0.94      0.92      0.93       101\n",
            "\n",
            "    accuracy                           0.93       200\n",
            "   macro avg       0.93      0.93      0.93       200\n",
            "weighted avg       0.93      0.93      0.93       200\n",
            "\n"
          ],
          "name": "stdout"
        }
      ]
    },
    {
      "cell_type": "code",
      "metadata": {
        "id": "JD4ff9Nrj9jd",
        "outputId": "aa0304f4-3545-42ee-9c9d-f19e25111fc3",
        "colab": {
          "base_uri": "https://localhost:8080/",
          "height": 527
        }
      },
      "source": [
        "from sklearn.metrics import classification_report\n",
        "\n",
        "test_tree_predict = dtc.predict(X_test)\n",
        "test_naive_predict = nbc.predict(X_test)\n",
        "test_random_forest_predict = rfc.predict(X_test)\n",
        "\n",
        "print('Decision Tree score on test:\\n', classification_report( y_test,test_tree_predict))\n",
        "print('Naive Bayes score on test:\\n', classification_report( y_test,test_naive_predict))\n",
        "print('Random Forest score on test:\\n', classification_report( y_test,test_random_forest_predict))"
      ],
      "execution_count": null,
      "outputs": [
        {
          "output_type": "stream",
          "text": [
            "Decision Tree score on test:\n",
            "               precision    recall  f1-score   support\n",
            "\n",
            "           0       0.93      0.95      0.94       198\n",
            "           1       0.95      0.93      0.94       201\n",
            "\n",
            "    accuracy                           0.94       399\n",
            "   macro avg       0.94      0.94      0.94       399\n",
            "weighted avg       0.94      0.94      0.94       399\n",
            "\n",
            "Naive Bayes score on test:\n",
            "               precision    recall  f1-score   support\n",
            "\n",
            "           0       0.67      0.91      0.77       198\n",
            "           1       0.87      0.55      0.67       201\n",
            "\n",
            "    accuracy                           0.73       399\n",
            "   macro avg       0.77      0.73      0.72       399\n",
            "weighted avg       0.77      0.73      0.72       399\n",
            "\n",
            "Random Forest score on test:\n",
            "               precision    recall  f1-score   support\n",
            "\n",
            "           0       0.90      0.95      0.93       198\n",
            "           1       0.95      0.90      0.92       201\n",
            "\n",
            "    accuracy                           0.92       399\n",
            "   macro avg       0.93      0.93      0.92       399\n",
            "weighted avg       0.93      0.92      0.92       399\n",
            "\n"
          ],
          "name": "stdout"
        }
      ]
    },
    {
      "cell_type": "code",
      "metadata": {
        "id": "PGq1gJH5cXZ0",
        "outputId": "a3f99871-5571-428b-986e-85d2122aa384",
        "colab": {
          "base_uri": "https://localhost:8080/",
          "height": 358
        }
      },
      "source": [
        "confusion = confusion_matrix(y_test, test_tree_predict)\n",
        "TP = confusion[1, 1]\n",
        "TN = confusion[0, 0]\n",
        "FP = confusion[0, 1]\n",
        "FN = confusion[1, 0]\n",
        "\n",
        "df_Results = pd.DataFrame(columns = [\"Model\", \"Acc\",\"Recall\",\"ROC\",\"TP\",\"FN\"])\n",
        "df_Results.loc[0, \"Model\"] = \"Decision Tree \"\n",
        "df_Results.loc[0, \"Acc\"] = accuracy_score(y_test, test_tree_predict)\n",
        "df_Results.loc[0, \"Recall\"] = recall_score(y_test, test_tree_predict)\n",
        "df_Results.loc[0, \"ROC\"] = roc_auc_score(y_test,test_tree_predict)\n",
        "df_Results.loc[0, \"TP\"] = TP\n",
        "df_Results.loc[0, \"FN\"] = FN\n",
        "\n",
        "\n",
        "import seaborn as sn\n",
        "from sklearn.metrics import confusion_matrix\n",
        "import warnings\n",
        "warnings.simplefilter(action='ignore', category=FutureWarning)\n",
        "import pandas as pd\n",
        "\n",
        "# Визуелизација со матрица на конфузија \n",
        "names = ['bad', 'good'] \n",
        "\n",
        "confusion = 100 * confusion.astype('float') / confusion.sum(axis=-1)[:, np.newaxis]  \n",
        "\n",
        "df = pd.DataFrame(data=confusion, columns=names, index=names)\n",
        "g = sn.heatmap(df, annot=True, fmt=\".1f\", linewidths=.5, vmin=0, vmax=100,\n",
        "                    cmap='Blues')\n",
        "g.set_title('Confusion matrix')\n",
        "g.set_ylabel('True label')\n",
        "g.set_xlabel('Predicted label')\n",
        "g.plot()\n",
        "\n",
        "df_Results.head()\n"
      ],
      "execution_count": null,
      "outputs": [
        {
          "output_type": "execute_result",
          "data": {
            "text/html": [
              "<div>\n",
              "<style scoped>\n",
              "    .dataframe tbody tr th:only-of-type {\n",
              "        vertical-align: middle;\n",
              "    }\n",
              "\n",
              "    .dataframe tbody tr th {\n",
              "        vertical-align: top;\n",
              "    }\n",
              "\n",
              "    .dataframe thead th {\n",
              "        text-align: right;\n",
              "    }\n",
              "</style>\n",
              "<table border=\"1\" class=\"dataframe\">\n",
              "  <thead>\n",
              "    <tr style=\"text-align: right;\">\n",
              "      <th></th>\n",
              "      <th>Model</th>\n",
              "      <th>Acc</th>\n",
              "      <th>Recall</th>\n",
              "      <th>ROC</th>\n",
              "      <th>TP</th>\n",
              "      <th>FN</th>\n",
              "    </tr>\n",
              "  </thead>\n",
              "  <tbody>\n",
              "    <tr>\n",
              "      <th>0</th>\n",
              "      <td>Decision Tree</td>\n",
              "      <td>0.93985</td>\n",
              "      <td>0.930348</td>\n",
              "      <td>0.939922</td>\n",
              "      <td>187</td>\n",
              "      <td>14</td>\n",
              "    </tr>\n",
              "  </tbody>\n",
              "</table>\n",
              "</div>"
            ],
            "text/plain": [
              "            Model      Acc    Recall       ROC   TP  FN\n",
              "0  Decision Tree   0.93985  0.930348  0.939922  187  14"
            ]
          },
          "metadata": {
            "tags": []
          },
          "execution_count": 159
        },
        {
          "output_type": "display_data",
          "data": {
            "image/png": "[encoded data removed]",
            "text/plain": [
              "<Figure size 432x288 with 2 Axes>"
            ]
          },
          "metadata": {
            "tags": [],
            "needs_background": "light"
          }
        }
      ]
    },
    {
      "cell_type": "code",
      "metadata": {
        "id": "BY2982QdbPb5",
        "outputId": "3e039fa0-8069-4609-c94f-e846289968bf",
        "colab": {
          "base_uri": "https://localhost:8080/",
          "height": 389
        }
      },
      "source": [
        "confusion = confusion_matrix(y_test, test_random_forest_predict)\n",
        "TP = confusion[1, 1]\n",
        "TN = confusion[0, 0]\n",
        "FP = confusion[0, 1]\n",
        "FN = confusion[1, 0]\n",
        "\n",
        "df_Results.loc[1, \"Model\"] = \"Random Forest\"\n",
        "df_Results.loc[1, \"Acc\"] = accuracy_score(y_test, test_random_forest_predict)\n",
        "df_Results.loc[1, \"Recall\"] = recall_score(y_test, test_random_forest_predict)\n",
        "df_Results.loc[1, \"ROC\"] = roc_auc_score(y_test,test_random_forest_predict)\n",
        "df_Results.loc[1, \"TP\"] = TP\n",
        "df_Results.loc[1, \"FN\"] = FN\n",
        "\n",
        "import seaborn as sn\n",
        "from sklearn.metrics import confusion_matrix\n",
        "import warnings\n",
        "warnings.simplefilter(action='ignore', category=FutureWarning)\n",
        "import pandas as pd\n",
        "\n",
        "# Визуелизација со матрица на конфузија \n",
        "names = ['bad', 'good'] \n",
        "\n",
        "confusion = 100 * confusion.astype('float') / confusion.sum(axis=-1)[:, np.newaxis]  \n",
        "\n",
        "df = pd.DataFrame(data=confusion, columns=names, index=names)\n",
        "g = sn.heatmap(df, annot=True, fmt=\".1f\", linewidths=.5, vmin=0, vmax=100,\n",
        "                    cmap='Blues')\n",
        "g.set_title('Confusion matrix')\n",
        "g.set_ylabel('True label')\n",
        "g.set_xlabel('Predicted label')\n",
        "g.plot()\n",
        "\n",
        "df_Results.head()"
      ],
      "execution_count": null,
      "outputs": [
        {
          "output_type": "execute_result",
          "data": {
            "text/html": [
              "<div>\n",
              "<style scoped>\n",
              "    .dataframe tbody tr th:only-of-type {\n",
              "        vertical-align: middle;\n",
              "    }\n",
              "\n",
              "    .dataframe tbody tr th {\n",
              "        vertical-align: top;\n",
              "    }\n",
              "\n",
              "    .dataframe thead th {\n",
              "        text-align: right;\n",
              "    }\n",
              "</style>\n",
              "<table border=\"1\" class=\"dataframe\">\n",
              "  <thead>\n",
              "    <tr style=\"text-align: right;\">\n",
              "      <th></th>\n",
              "      <th>Model</th>\n",
              "      <th>Acc</th>\n",
              "      <th>Recall</th>\n",
              "      <th>ROC</th>\n",
              "      <th>TP</th>\n",
              "      <th>FN</th>\n",
              "    </tr>\n",
              "  </thead>\n",
              "  <tbody>\n",
              "    <tr>\n",
              "      <th>0</th>\n",
              "      <td>Decision Tree</td>\n",
              "      <td>0.93985</td>\n",
              "      <td>0.930348</td>\n",
              "      <td>0.939922</td>\n",
              "      <td>187</td>\n",
              "      <td>14</td>\n",
              "    </tr>\n",
              "    <tr>\n",
              "      <th>1</th>\n",
              "      <td>Random Forest</td>\n",
              "      <td>0.924812</td>\n",
              "      <td>0.895522</td>\n",
              "      <td>0.925034</td>\n",
              "      <td>180</td>\n",
              "      <td>21</td>\n",
              "    </tr>\n",
              "  </tbody>\n",
              "</table>\n",
              "</div>"
            ],
            "text/plain": [
              "            Model       Acc    Recall       ROC   TP  FN\n",
              "0  Decision Tree    0.93985  0.930348  0.939922  187  14\n",
              "1   Random Forest  0.924812  0.895522  0.925034  180  21"
            ]
          },
          "metadata": {
            "tags": []
          },
          "execution_count": 161
        },
        {
          "output_type": "display_data",
          "data": {
            "image/png": "[encoded data removed]",
            "text/plain": [
              "<Figure size 432x288 with 2 Axes>"
            ]
          },
          "metadata": {
            "tags": [],
            "needs_background": "light"
          }
        }
      ]
    },
    {
      "cell_type": "code",
      "metadata": {
        "id": "2f6pstjwdGaG",
        "outputId": "378051a0-d2e4-4b57-faf6-363790eef435",
        "colab": {
          "base_uri": "https://localhost:8080/",
          "height": 420
        }
      },
      "source": [
        "confusion = confusion_matrix(y_test, test_naive_predict)\n",
        "TP = confusion[1, 1]\n",
        "TN = confusion[0, 0]\n",
        "FP = confusion[0, 1]\n",
        "FN = confusion[1, 0]\n",
        "\n",
        "df_Results.loc[2, \"Model\"] = \"Naive Bayes\"\n",
        "df_Results.loc[2, \"Acc\"] = accuracy_score(y_test, test_naive_predict)\n",
        "df_Results.loc[2, \"Recall\"] = recall_score(y_test, test_naive_predict)\n",
        "df_Results.loc[2, \"ROC\"] = roc_auc_score(y_test,test_naive_predict)\n",
        "df_Results.loc[2, \"TP\"] = TP\n",
        "df_Results.loc[2, \"FN\"] = FN\n",
        "\n",
        "import seaborn as sn\n",
        "from sklearn.metrics import confusion_matrix\n",
        "import warnings\n",
        "warnings.simplefilter(action='ignore', category=FutureWarning)\n",
        "import pandas as pd\n",
        "\n",
        "# Визуелизација со матрица на конфузија \n",
        "names = ['bad', 'good'] \n",
        "\n",
        "confusion = 100 * confusion.astype('float') / confusion.sum(axis=-1)[:, np.newaxis]  \n",
        "\n",
        "df = pd.DataFrame(data=confusion, columns=names, index=names)\n",
        "g = sn.heatmap(df, annot=True, fmt=\".1f\", linewidths=.5, vmin=0, vmax=100,\n",
        "                    cmap='Blues')\n",
        "g.set_title('Confusion matrix')\n",
        "g.set_ylabel('True label')\n",
        "g.set_xlabel('Predicted label')\n",
        "g.plot()\n",
        "\n",
        "df_Results.head(3)"
      ],
      "execution_count": null,
      "outputs": [
        {
          "output_type": "execute_result",
          "data": {
            "text/html": [
              "<div>\n",
              "<style scoped>\n",
              "    .dataframe tbody tr th:only-of-type {\n",
              "        vertical-align: middle;\n",
              "    }\n",
              "\n",
              "    .dataframe tbody tr th {\n",
              "        vertical-align: top;\n",
              "    }\n",
              "\n",
              "    .dataframe thead th {\n",
              "        text-align: right;\n",
              "    }\n",
              "</style>\n",
              "<table border=\"1\" class=\"dataframe\">\n",
              "  <thead>\n",
              "    <tr style=\"text-align: right;\">\n",
              "      <th></th>\n",
              "      <th>Model</th>\n",
              "      <th>Acc</th>\n",
              "      <th>Recall</th>\n",
              "      <th>ROC</th>\n",
              "      <th>TP</th>\n",
              "      <th>FN</th>\n",
              "    </tr>\n",
              "  </thead>\n",
              "  <tbody>\n",
              "    <tr>\n",
              "      <th>0</th>\n",
              "      <td>Decision Tree</td>\n",
              "      <td>0.93985</td>\n",
              "      <td>0.930348</td>\n",
              "      <td>0.939922</td>\n",
              "      <td>187</td>\n",
              "      <td>14</td>\n",
              "    </tr>\n",
              "    <tr>\n",
              "      <th>1</th>\n",
              "      <td>Random Forest</td>\n",
              "      <td>0.924812</td>\n",
              "      <td>0.895522</td>\n",
              "      <td>0.925034</td>\n",
              "      <td>180</td>\n",
              "      <td>21</td>\n",
              "    </tr>\n",
              "    <tr>\n",
              "      <th>2</th>\n",
              "      <td>Naive Bayes</td>\n",
              "      <td>0.729323</td>\n",
              "      <td>0.547264</td>\n",
              "      <td>0.730703</td>\n",
              "      <td>110</td>\n",
              "      <td>91</td>\n",
              "    </tr>\n",
              "  </tbody>\n",
              "</table>\n",
              "</div>"
            ],
            "text/plain": [
              "            Model       Acc    Recall       ROC   TP  FN\n",
              "0  Decision Tree    0.93985  0.930348  0.939922  187  14\n",
              "1   Random Forest  0.924812  0.895522  0.925034  180  21\n",
              "2     Naive Bayes  0.729323  0.547264  0.730703  110  91"
            ]
          },
          "metadata": {
            "tags": []
          },
          "execution_count": 163
        },
        {
          "output_type": "display_data",
          "data": {
            "image/png": "[encoded data removed]",
            "text/plain": [
              "<Figure size 432x288 with 2 Axes>"
            ]
          },
          "metadata": {
            "tags": [],
            "needs_background": "light"
          }
        }
      ]
    },
    {
      "cell_type": "code",
      "metadata": {
        "id": "Lw0SxTacbi4Y",
        "outputId": "58ba81ee-2fd1-4912-acdc-8c5d996ef570",
        "colab": {
          "base_uri": "https://localhost:8080/",
          "height": 279
        }
      },
      "source": [
        "from sklearn.metrics import roc_curve, auc\n",
        "import matplotlib.pyplot as plt\n",
        "\n",
        "actual = y_test\n",
        "decision_tree_prob = [p[1] for p in dtc.predict_proba(X_test)]\n",
        "naive_bayes_prob = [p[1] for p in nbc.predict_proba(X_test)]\n",
        "random_forest_prob = [p[1] for p in rfc.predict_proba(X_test)]\n",
        "\n",
        "dt_false_pos, dt_true_pos, _ = roc_curve(actual, decision_tree_prob)\n",
        "dt_auc = auc(dt_false_pos, dt_true_pos)\n",
        "\n",
        "nb_false_pos, nb_true_pos, _ = roc_curve(actual, naive_bayes_prob)\n",
        "nb_auc = auc(nb_false_pos, nb_true_pos)\n",
        "\n",
        "rf_false_pos, rf_true_pos, _ = roc_curve(actual, random_forest_prob)\n",
        "rf_auc = auc(rf_false_pos, rf_true_pos)\n",
        "\n",
        "# plot\n",
        "plt.plot(dt_false_pos, dt_true_pos, 'r', label='Decision Tree AUC = %0.2f'% dt_auc)\n",
        "plt.plot(nb_false_pos, nb_true_pos, 'g', label='Naive Bayes AUC = %0.2f'% nb_auc)\n",
        "plt.plot(rf_false_pos, rf_true_pos, 'b', label='Random Forest AUC = %0.2f'% rf_auc)\n",
        "\n",
        "plt.legend(loc='lower right')\n",
        "plt.plot([0,1], [0,1], 'r--')\n",
        "plt.ylabel('True Positive Rate')\n",
        "plt.xlabel('False Positive Rate')\n",
        "plt.show()"
      ],
      "execution_count": null,
      "outputs": [
        {
          "output_type": "display_data",
          "data": {
            "image/png": "[encoded data removed]",
            "text/plain": [
              "<Figure size 432x288 with 1 Axes>"
            ]
          },
          "metadata": {
            "tags": [],
            "needs_background": "light"
          }
        }
      ]
    },
    {
      "cell_type": "markdown",
      "metadata": {
        "id": "6pFeC4CvNd8r"
      },
      "source": [
        "#XGBOOST"
      ]
    },
    {
      "cell_type": "code",
      "metadata": {
        "id": "4wK9TdssqZC7"
      },
      "source": [
        "#80% train, 20% test\n",
        "xtrain = np.concatenate((X_train,X_val)) \n",
        "ytrain = np.concatenate((y_train,y_val))  "
      ],
      "execution_count": null,
      "outputs": []
    },
    {
      "cell_type": "code",
      "metadata": {
        "id": "g3WtdnCpNJot",
        "outputId": "63ab7b6a-5885-49f5-92a0-647ba8fbf2bb",
        "colab": {
          "base_uri": "https://localhost:8080/",
          "height": 737
        }
      },
      "source": [
        "from xgboost.sklearn import XGBClassifier\n",
        "import scipy.stats as st\n",
        "from sklearn.model_selection import RandomizedSearchCV\n",
        "\n",
        "model_xg = XGBClassifier(random_state=42,n_jobs=-1)\n",
        "\n",
        "one_to_left = st.beta(10, 1) \n",
        "\n",
        "parameters6 = {  \n",
        "    \"n_estimators\": st.randint(20,40), # Number of boosted trees to fit.\n",
        "    'reg_alpha': st.uniform(0.05,10),   # L1 regularization term on weights\n",
        "    \"max_depth\": st.randint(3, 12),     # Maximum tree depth for base learners.\n",
        "    \"learning_rate\": st.uniform(0.05, 0.4), #     Boosting learning rate (xgb’s “eta”)\n",
        "\n",
        "    \"colsample_bytree\": one_to_left, #     Subsample ratio of columns when constructing each tree.\n",
        "    \"subsample\": one_to_left,     # Subsample ratio of the training instance.\n",
        "    \"gamma\": st.uniform(0, 10), #     Minimum loss reduction required to make a further partition on a leaf node of the tree.\n",
        "    \"min_child_weight\": st.uniform(1,20), #    Minimum sum of instance weight(hessian) needed in a child.\n",
        "}\n",
        "\n",
        "xgb = RandomizedSearchCV(model_xg,parameters6, scoring='recall', n_iter=25, verbose= True)\n",
        "\n",
        "xgb.fit(xtrain, ytrain)\n",
        "\n",
        "print(\"Best score: %0.3f\" % xgb.best_score_) \n",
        "print(\"Best parameters set:\" )\n",
        "best_parameters6 = xgb.best_estimator_.get_params()\n",
        "for param_name6 in sorted (parameters6 . keys()): \n",
        "                    print(\"\\t %s: %r\" % (param_name6, best_parameters6[param_name6]))\n",
        "        \n",
        "y_pred = xgb.predict(X_test)\n",
        "\n",
        "print(classification_report(y_test, y_pred))\n",
        "print(\"accuracy: \",accuracy_score(y_test, y_pred))\n",
        "print (\"\\n\")\n",
        "# Визуелизација со матрица на конфузија \n",
        "cm=confusion_matrix(y_test,y_pred)\n",
        "names = ['bad', 'good'] \n",
        "\n",
        "cm = 100 * cm.astype('float') / cm.sum(axis=-1)[:, np.newaxis]  \n",
        "\n",
        "df = pd.DataFrame(data=cm, columns=names, index=names)\n",
        "g = sn.heatmap(df, annot=True, fmt=\".1f\", linewidths=.5, vmin=0, vmax=100,\n",
        "                    cmap='Blues')\n",
        "g.set_title('Confusion matrix')\n",
        "g.set_ylabel('True label')\n",
        "g.set_xlabel('Predicted label')\n",
        "g.plot()"
      ],
      "execution_count": null,
      "outputs": [
        {
          "output_type": "stream",
          "text": [
            "Fitting 5 folds for each of 25 candidates, totalling 125 fits\n"
          ],
          "name": "stdout"
        },
        {
          "output_type": "stream",
          "text": [
            "[Parallel(n_jobs=1)]: Using backend SequentialBackend with 1 concurrent workers.\n"
          ],
          "name": "stderr"
        },
        {
          "output_type": "stream",
          "text": [
            "Best score: 0.944\n",
            "Best parameters set:\n",
            "\t colsample_bytree: 0.7222084997198978\n",
            "\t gamma: 1.5817335453264947\n",
            "\t learning_rate: 0.38351392743823987\n",
            "\t max_depth: 10\n",
            "\t min_child_weight: 12.883433810436458\n",
            "\t n_estimators: 35\n",
            "\t reg_alpha: 2.458971341378877\n",
            "\t subsample: 0.9477565649672725\n",
            "              precision    recall  f1-score   support\n",
            "\n",
            "           0       0.97      0.96      0.97       198\n",
            "           1       0.97      0.97      0.97       201\n",
            "\n",
            "    accuracy                           0.97       399\n",
            "   macro avg       0.97      0.97      0.97       399\n",
            "weighted avg       0.97      0.97      0.97       399\n",
            "\n",
            "accuracy:  0.9674185463659147\n",
            "\n",
            "\n"
          ],
          "name": "stdout"
        },
        {
          "output_type": "stream",
          "text": [
            "[Parallel(n_jobs=1)]: Done 125 out of 125 | elapsed:    6.4s finished\n"
          ],
          "name": "stderr"
        },
        {
          "output_type": "execute_result",
          "data": {
            "text/plain": [
              "[]"
            ]
          },
          "metadata": {
            "tags": []
          },
          "execution_count": 166
        },
        {
          "output_type": "display_data",
          "data": {
            "image/png": "[encoded data removed]",
            "text/plain": [
              "<Figure size 432x288 with 2 Axes>"
            ]
          },
          "metadata": {
            "tags": [],
            "needs_background": "light"
          }
        }
      ]
    },
    {
      "cell_type": "code",
      "metadata": {
        "id": "J4RehRGMP8Vq",
        "outputId": "8a93e951-5d14-483b-96c5-e13dfca09f82",
        "colab": {
          "base_uri": "https://localhost:8080/",
          "height": 295
        }
      },
      "source": [
        "from xgboost import plot_importance\n",
        "\n",
        "#f0 e genre, f14 e popularity\n",
        "plot_importance(xgb.best_estimator_, height = 0.8,max_num_features=5);"
      ],
      "execution_count": null,
      "outputs": [
        {
          "output_type": "display_data",
          "data": {
            "image/png": "[encoded data removed]",
            "text/plain": [
              "<Figure size 432x288 with 1 Axes>"
            ]
          },
          "metadata": {
            "tags": [],
            "needs_background": "light"
          }
        }
      ]
    },
    {
      "cell_type": "code",
      "metadata": {
        "id": "VXR1GX3chiML",
        "outputId": "86482ef5-757e-48d3-cb67-1520f29b5672",
        "colab": {
          "base_uri": "https://localhost:8080/",
          "height": 451
        }
      },
      "source": [
        "confusion = confusion_matrix(y_test, y_pred)\n",
        "TP = confusion[1, 1]\n",
        "TN = confusion[0, 0]\n",
        "FP = confusion[0, 1]\n",
        "FN = confusion[1, 0]\n",
        "\n",
        "df_Results.loc[3, \"Model\"] = \"XGBoost\"\n",
        "df_Results.loc[3, \"Acc\"] = accuracy_score(y_test, y_pred)\n",
        "df_Results.loc[3, \"Recall\"] = recall_score(y_test, y_pred)\n",
        "df_Results.loc[3, \"ROC\"] = roc_auc_score(y_test,y_pred)\n",
        "df_Results.loc[3, \"TP\"] = TP\n",
        "df_Results.loc[3, \"FN\"] = FN\n",
        "\n",
        "import seaborn as sn\n",
        "from sklearn.metrics import confusion_matrix\n",
        "import warnings\n",
        "warnings.simplefilter(action='ignore', category=FutureWarning)\n",
        "import pandas as pd\n",
        "\n",
        "# Визуелизација со матрица на конфузија \n",
        "names = ['bad', 'good'] \n",
        "\n",
        "confusion = 100 * confusion.astype('float') / confusion.sum(axis=-1)[:, np.newaxis]  \n",
        "\n",
        "df = pd.DataFrame(data=confusion, columns=names, index=names)\n",
        "g = sn.heatmap(df, annot=True, fmt=\".1f\", linewidths=.5, vmin=0, vmax=100,\n",
        "                    cmap='Blues')\n",
        "g.set_title('Confusion matrix')\n",
        "g.set_ylabel('True label')\n",
        "g.set_xlabel('Predicted label')\n",
        "g.plot()\n",
        "\n",
        "df_Results.head()"
      ],
      "execution_count": null,
      "outputs": [
        {
          "output_type": "execute_result",
          "data": {
            "text/html": [
              "<div>\n",
              "<style scoped>\n",
              "    .dataframe tbody tr th:only-of-type {\n",
              "        vertical-align: middle;\n",
              "    }\n",
              "\n",
              "    .dataframe tbody tr th {\n",
              "        vertical-align: top;\n",
              "    }\n",
              "\n",
              "    .dataframe thead th {\n",
              "        text-align: right;\n",
              "    }\n",
              "</style>\n",
              "<table border=\"1\" class=\"dataframe\">\n",
              "  <thead>\n",
              "    <tr style=\"text-align: right;\">\n",
              "      <th></th>\n",
              "      <th>Model</th>\n",
              "      <th>Acc</th>\n",
              "      <th>Recall</th>\n",
              "      <th>ROC</th>\n",
              "      <th>TP</th>\n",
              "      <th>FN</th>\n",
              "    </tr>\n",
              "  </thead>\n",
              "  <tbody>\n",
              "    <tr>\n",
              "      <th>0</th>\n",
              "      <td>Decision Tree</td>\n",
              "      <td>0.93985</td>\n",
              "      <td>0.930348</td>\n",
              "      <td>0.939922</td>\n",
              "      <td>187</td>\n",
              "      <td>14</td>\n",
              "    </tr>\n",
              "    <tr>\n",
              "      <th>1</th>\n",
              "      <td>Random Forest</td>\n",
              "      <td>0.924812</td>\n",
              "      <td>0.895522</td>\n",
              "      <td>0.925034</td>\n",
              "      <td>180</td>\n",
              "      <td>21</td>\n",
              "    </tr>\n",
              "    <tr>\n",
              "      <th>2</th>\n",
              "      <td>Naive Bayes</td>\n",
              "      <td>0.729323</td>\n",
              "      <td>0.547264</td>\n",
              "      <td>0.730703</td>\n",
              "      <td>110</td>\n",
              "      <td>91</td>\n",
              "    </tr>\n",
              "    <tr>\n",
              "      <th>3</th>\n",
              "      <td>XGBoost</td>\n",
              "      <td>0.967419</td>\n",
              "      <td>0.970149</td>\n",
              "      <td>0.967398</td>\n",
              "      <td>195</td>\n",
              "      <td>6</td>\n",
              "    </tr>\n",
              "  </tbody>\n",
              "</table>\n",
              "</div>"
            ],
            "text/plain": [
              "            Model       Acc    Recall       ROC   TP  FN\n",
              "0  Decision Tree    0.93985  0.930348  0.939922  187  14\n",
              "1   Random Forest  0.924812  0.895522  0.925034  180  21\n",
              "2     Naive Bayes  0.729323  0.547264  0.730703  110  91\n",
              "3         XGBoost  0.967419  0.970149  0.967398  195   6"
            ]
          },
          "metadata": {
            "tags": []
          },
          "execution_count": 170
        },
        {
          "output_type": "display_data",
          "data": {
            "image/png": "[encoded data removed]",
            "text/plain": [
              "<Figure size 432x288 with 2 Axes>"
            ]
          },
          "metadata": {
            "tags": [],
            "needs_background": "light"
          }
        }
      ]
    },
    {
      "cell_type": "markdown",
      "metadata": {
        "id": "bscPIw7Lo-kw"
      },
      "source": [
        "#K-Nearest Neighbor Machine Learning Model"
      ]
    },
    {
      "cell_type": "code",
      "metadata": {
        "id": "bI5o5ZXNo9oa",
        "outputId": "97daf7aa-4c61-4696-c453-05088efaaafb",
        "colab": {
          "base_uri": "https://localhost:8080/",
          "height": 68
        }
      },
      "source": [
        "from sklearn.neighbors import KNeighborsClassifier\n",
        "from sklearn.metrics import confusion_matrix, classification_report\n",
        "\n",
        "knn_model = KNeighborsClassifier() \n",
        "knn_model.fit(xtrain, ytrain)"
      ],
      "execution_count": null,
      "outputs": [
        {
          "output_type": "execute_result",
          "data": {
            "text/plain": [
              "KNeighborsClassifier(algorithm='auto', leaf_size=30, metric='minkowski',\n",
              "                     metric_params=None, n_jobs=None, n_neighbors=5, p=2,\n",
              "                     weights='uniform')"
            ]
          },
          "metadata": {
            "tags": []
          },
          "execution_count": 132
        }
      ]
    },
    {
      "cell_type": "code",
      "metadata": {
        "id": "jdpL_6nSoJgB",
        "outputId": "60d44a46-4689-4518-b00a-4346148feb98",
        "colab": {
          "base_uri": "https://localhost:8080/",
          "height": 465
        }
      },
      "source": [
        "pred = knn_model.predict(X_test)\n",
        "print(classification_report(y_test, pred))\n",
        "# Визуелизација со матрица на конфузија\n",
        "cm=confusion_matrix(y_test,pred)\n",
        "names = ['bad', 'good'] \n",
        "\n",
        "cm = 100 * cm.astype('float') / cm.sum(axis=-1)[:, np.newaxis]  \n",
        "\n",
        "df = pd.DataFrame(data=cm, columns=names, index=names)\n",
        "g = sn.heatmap(df, annot=True, fmt=\".1f\", linewidths=.5, vmin=0, vmax=100,\n",
        "                    cmap='Blues')\n",
        "g.set_title('Confusion matrix')\n",
        "g.set_ylabel('True label')\n",
        "g.set_xlabel('Predicted label')\n",
        "g.plot()\n"
      ],
      "execution_count": null,
      "outputs": [
        {
          "output_type": "stream",
          "text": [
            "              precision    recall  f1-score   support\n",
            "\n",
            "           0       0.56      0.57      0.57       198\n",
            "           1       0.57      0.56      0.57       201\n",
            "\n",
            "    accuracy                           0.57       399\n",
            "   macro avg       0.57      0.57      0.57       399\n",
            "weighted avg       0.57      0.57      0.57       399\n",
            "\n"
          ],
          "name": "stdout"
        },
        {
          "output_type": "execute_result",
          "data": {
            "text/plain": [
              "[]"
            ]
          },
          "metadata": {
            "tags": []
          },
          "execution_count": 203
        },
        {
          "output_type": "display_data",
          "data": {
            "image/png": "[encoded data removed]",
            "text/plain": [
              "<Figure size 432x288 with 2 Axes>"
            ]
          },
          "metadata": {
            "tags": [],
            "needs_background": "light"
          }
        }
      ]
    },
    {
      "cell_type": "code",
      "metadata": {
        "id": "LtPvJEj4iVH8",
        "outputId": "3d211109-0e85-4580-856e-319f201dda58",
        "colab": {
          "base_uri": "https://localhost:8080/",
          "height": 204
        }
      },
      "source": [
        "confusion = confusion_matrix(y_test, pred)\n",
        "TP = confusion[1, 1]\n",
        "TN = confusion[0, 0]\n",
        "FP = confusion[0, 1]\n",
        "FN = confusion[1, 0]\n",
        "\n",
        "df_Results.loc[4, \"Model\"] = \"KNN\"\n",
        "df_Results.loc[4, \"Acc\"] = accuracy_score(y_test, pred)\n",
        "df_Results.loc[4, \"Recall\"] = recall_score(y_test, pred)\n",
        "df_Results.loc[4, \"ROC\"] = roc_auc_score(y_test,pred)\n",
        "df_Results.loc[4, \"TP\"] = TP\n",
        "df_Results.loc[4, \"FN\"] = FN\n",
        "\n",
        "df_Results.head(10)"
      ],
      "execution_count": null,
      "outputs": [
        {
          "output_type": "execute_result",
          "data": {
            "text/html": [
              "<div>\n",
              "<style scoped>\n",
              "    .dataframe tbody tr th:only-of-type {\n",
              "        vertical-align: middle;\n",
              "    }\n",
              "\n",
              "    .dataframe tbody tr th {\n",
              "        vertical-align: top;\n",
              "    }\n",
              "\n",
              "    .dataframe thead th {\n",
              "        text-align: right;\n",
              "    }\n",
              "</style>\n",
              "<table border=\"1\" class=\"dataframe\">\n",
              "  <thead>\n",
              "    <tr style=\"text-align: right;\">\n",
              "      <th></th>\n",
              "      <th>Model</th>\n",
              "      <th>Acc</th>\n",
              "      <th>Recall</th>\n",
              "      <th>ROC</th>\n",
              "      <th>TP</th>\n",
              "      <th>FN</th>\n",
              "    </tr>\n",
              "  </thead>\n",
              "  <tbody>\n",
              "    <tr>\n",
              "      <th>0</th>\n",
              "      <td>Decision Tree</td>\n",
              "      <td>0.93985</td>\n",
              "      <td>0.930348</td>\n",
              "      <td>0.939922</td>\n",
              "      <td>187</td>\n",
              "      <td>14</td>\n",
              "    </tr>\n",
              "    <tr>\n",
              "      <th>1</th>\n",
              "      <td>Random Forest</td>\n",
              "      <td>0.924812</td>\n",
              "      <td>0.895522</td>\n",
              "      <td>0.925034</td>\n",
              "      <td>180</td>\n",
              "      <td>21</td>\n",
              "    </tr>\n",
              "    <tr>\n",
              "      <th>2</th>\n",
              "      <td>Naive Bayes</td>\n",
              "      <td>0.729323</td>\n",
              "      <td>0.547264</td>\n",
              "      <td>0.730703</td>\n",
              "      <td>110</td>\n",
              "      <td>91</td>\n",
              "    </tr>\n",
              "    <tr>\n",
              "      <th>3</th>\n",
              "      <td>XGBoost</td>\n",
              "      <td>0.967419</td>\n",
              "      <td>0.970149</td>\n",
              "      <td>0.967398</td>\n",
              "      <td>195</td>\n",
              "      <td>6</td>\n",
              "    </tr>\n",
              "    <tr>\n",
              "      <th>4</th>\n",
              "      <td>KNN</td>\n",
              "      <td>0.566416</td>\n",
              "      <td>0.562189</td>\n",
              "      <td>0.566448</td>\n",
              "      <td>113</td>\n",
              "      <td>88</td>\n",
              "    </tr>\n",
              "  </tbody>\n",
              "</table>\n",
              "</div>"
            ],
            "text/plain": [
              "            Model       Acc    Recall       ROC   TP  FN\n",
              "0  Decision Tree    0.93985  0.930348  0.939922  187  14\n",
              "1   Random Forest  0.924812  0.895522  0.925034  180  21\n",
              "2     Naive Bayes  0.729323  0.547264  0.730703  110  91\n",
              "3         XGBoost  0.967419  0.970149  0.967398  195   6\n",
              "4             KNN  0.566416  0.562189  0.566448  113  88"
            ]
          },
          "metadata": {
            "tags": []
          },
          "execution_count": 194
        }
      ]
    },
    {
      "cell_type": "markdown",
      "metadata": {
        "id": "7h2fBBENbsfo"
      },
      "source": [
        "#Пример невронскa мрежa"
      ]
    },
    {
      "cell_type": "code",
      "metadata": {
        "id": "NWTubFV1kZiX"
      },
      "source": [
        "import keras\n",
        "from keras.models import Sequential \n",
        "from keras.layers import Dense      \n",
        "from tensorflow.keras.callbacks import EarlyStopping\n"
      ],
      "execution_count": null,
      "outputs": []
    },
    {
      "cell_type": "code",
      "metadata": {
        "id": "T6-xkCEUkgQO",
        "outputId": "7ee99eea-ccf9-4c37-de26-45379c548a54",
        "colab": {
          "base_uri": "https://localhost:8080/",
          "height": 1000
        }
      },
      "source": [
        "model = Sequential()\n",
        "model.add(Dense(16, activation='relu', input_shape=(16,)))\n",
        "model.add(BatchNormalization(axis=-1))\n",
        "model.add(Dropout(0.5))\n",
        "model.add(Dense(125,activation='tanh'))\n",
        "model.add(BatchNormalization(axis=-1))\n",
        "model.add(Dropout(0.5))\n",
        "model.add(Dense(16, activation='relu'))\n",
        "model.add(Dense(2, activation='softmax'))\n",
        "\n",
        "model.compile(optimizer = 'adam', loss = 'binary_crossentropy', metrics = ['accuracy'])\n",
        "\n",
        "es = EarlyStopping(monitor='val_loss', mode='min', verbose=1, patience=20)\n",
        "model.fit(X_train, y_train, epochs=32, batch_size=512,validation_data=(X_val,y_val),callbacks = [es])\n"
      ],
      "execution_count": null,
      "outputs": [
        {
          "output_type": "stream",
          "text": [
            "Epoch 1/32\n",
            "3/3 [==============================] - 0s 65ms/step - loss: 0.8935 - accuracy: 0.5158 - val_loss: 0.7210 - val_accuracy: 0.5100\n",
            "Epoch 2/32\n",
            "3/3 [==============================] - 0s 11ms/step - loss: 0.8455 - accuracy: 0.5194 - val_loss: 0.6989 - val_accuracy: 0.5400\n",
            "Epoch 3/32\n",
            "3/3 [==============================] - 0s 10ms/step - loss: 0.8221 - accuracy: 0.4871 - val_loss: 0.6976 - val_accuracy: 0.5300\n",
            "Epoch 4/32\n",
            "3/3 [==============================] - 0s 10ms/step - loss: 0.8069 - accuracy: 0.4928 - val_loss: 0.7017 - val_accuracy: 0.5450\n",
            "Epoch 5/32\n",
            "3/3 [==============================] - 0s 9ms/step - loss: 0.8083 - accuracy: 0.5115 - val_loss: 0.7061 - val_accuracy: 0.5350\n",
            "Epoch 6/32\n",
            "3/3 [==============================] - 0s 9ms/step - loss: 0.8061 - accuracy: 0.5115 - val_loss: 0.7039 - val_accuracy: 0.5250\n",
            "Epoch 7/32\n",
            "3/3 [==============================] - 0s 10ms/step - loss: 0.7858 - accuracy: 0.5244 - val_loss: 0.6965 - val_accuracy: 0.5300\n",
            "Epoch 8/32\n",
            "3/3 [==============================] - 0s 9ms/step - loss: 0.7792 - accuracy: 0.5158 - val_loss: 0.6961 - val_accuracy: 0.6450\n",
            "Epoch 9/32\n",
            "3/3 [==============================] - 0s 11ms/step - loss: 0.7768 - accuracy: 0.4842 - val_loss: 0.6975 - val_accuracy: 0.5800\n",
            "Epoch 10/32\n",
            "3/3 [==============================] - 0s 10ms/step - loss: 0.7686 - accuracy: 0.5057 - val_loss: 0.6973 - val_accuracy: 0.5650\n",
            "Epoch 11/32\n",
            "3/3 [==============================] - 0s 13ms/step - loss: 0.7635 - accuracy: 0.4885 - val_loss: 0.6962 - val_accuracy: 0.5650\n",
            "Epoch 12/32\n",
            "3/3 [==============================] - 0s 9ms/step - loss: 0.7593 - accuracy: 0.5057 - val_loss: 0.6954 - val_accuracy: 0.5650\n",
            "Epoch 13/32\n",
            "3/3 [==============================] - 0s 9ms/step - loss: 0.7506 - accuracy: 0.5065 - val_loss: 0.6951 - val_accuracy: 0.5400\n",
            "Epoch 14/32\n",
            "3/3 [==============================] - 0s 10ms/step - loss: 0.7477 - accuracy: 0.5093 - val_loss: 0.6951 - val_accuracy: 0.5100\n",
            "Epoch 15/32\n",
            "3/3 [==============================] - 0s 11ms/step - loss: 0.7450 - accuracy: 0.4727 - val_loss: 0.6949 - val_accuracy: 0.5100\n",
            "Epoch 16/32\n",
            "3/3 [==============================] - 0s 11ms/step - loss: 0.7390 - accuracy: 0.4993 - val_loss: 0.6947 - val_accuracy: 0.5100\n",
            "Epoch 17/32\n",
            "3/3 [==============================] - 0s 11ms/step - loss: 0.7413 - accuracy: 0.5172 - val_loss: 0.6942 - val_accuracy: 0.5100\n",
            "Epoch 18/32\n",
            "3/3 [==============================] - 0s 11ms/step - loss: 0.7376 - accuracy: 0.4856 - val_loss: 0.6936 - val_accuracy: 0.5350\n",
            "Epoch 19/32\n",
            "3/3 [==============================] - 0s 10ms/step - loss: 0.7332 - accuracy: 0.5122 - val_loss: 0.6933 - val_accuracy: 0.5800\n",
            "Epoch 20/32\n",
            "3/3 [==============================] - 0s 10ms/step - loss: 0.7295 - accuracy: 0.5065 - val_loss: 0.6933 - val_accuracy: 0.6250\n",
            "Epoch 21/32\n",
            "3/3 [==============================] - 0s 9ms/step - loss: 0.7312 - accuracy: 0.5237 - val_loss: 0.6933 - val_accuracy: 0.6350\n",
            "Epoch 22/32\n",
            "3/3 [==============================] - 0s 9ms/step - loss: 0.7240 - accuracy: 0.4885 - val_loss: 0.6933 - val_accuracy: 0.6250\n",
            "Epoch 23/32\n",
            "3/3 [==============================] - 0s 10ms/step - loss: 0.7202 - accuracy: 0.5158 - val_loss: 0.6933 - val_accuracy: 0.5900\n",
            "Epoch 24/32\n",
            "3/3 [==============================] - 0s 10ms/step - loss: 0.7205 - accuracy: 0.4935 - val_loss: 0.6933 - val_accuracy: 0.5750\n",
            "Epoch 25/32\n",
            "3/3 [==============================] - 0s 9ms/step - loss: 0.7184 - accuracy: 0.4698 - val_loss: 0.6933 - val_accuracy: 0.5750\n",
            "Epoch 26/32\n",
            "3/3 [==============================] - 0s 9ms/step - loss: 0.7217 - accuracy: 0.4842 - val_loss: 0.6933 - val_accuracy: 0.6000\n",
            "Epoch 27/32\n",
            "3/3 [==============================] - 0s 9ms/step - loss: 0.7200 - accuracy: 0.5000 - val_loss: 0.6933 - val_accuracy: 0.6050\n",
            "Epoch 28/32\n",
            "3/3 [==============================] - 0s 10ms/step - loss: 0.7183 - accuracy: 0.5180 - val_loss: 0.6932 - val_accuracy: 0.6000\n",
            "Epoch 29/32\n",
            "3/3 [==============================] - 0s 12ms/step - loss: 0.7166 - accuracy: 0.4964 - val_loss: 0.6932 - val_accuracy: 0.6050\n",
            "Epoch 30/32\n",
            "3/3 [==============================] - 0s 10ms/step - loss: 0.7126 - accuracy: 0.5072 - val_loss: 0.6932 - val_accuracy: 0.6100\n",
            "Epoch 31/32\n",
            "3/3 [==============================] - 0s 9ms/step - loss: 0.7135 - accuracy: 0.4770 - val_loss: 0.6932 - val_accuracy: 0.6250\n",
            "Epoch 32/32\n",
            "3/3 [==============================] - 0s 12ms/step - loss: 0.7126 - accuracy: 0.5057 - val_loss: 0.6932 - val_accuracy: 0.6600\n"
          ],
          "name": "stdout"
        },
        {
          "output_type": "execute_result",
          "data": {
            "text/plain": [
              "<tensorflow.python.keras.callbacks.History at 0x7f651f964b00>"
            ]
          },
          "metadata": {
            "tags": []
          },
          "execution_count": 108
        }
      ]
    },
    {
      "cell_type": "code",
      "metadata": {
        "id": "9mN7n6l7hzjq",
        "outputId": "e86717d6-b500-4106-e81d-8f47d2f1d057",
        "colab": {
          "base_uri": "https://localhost:8080/",
          "height": 187
        }
      },
      "source": [
        "probs       = model.predict(X_test)\n",
        "preds       = probs.argmax(axis = 1)\n",
        "print('Neural network score on test:\\n',classification_report(y_test, preds))"
      ],
      "execution_count": null,
      "outputs": [
        {
          "output_type": "stream",
          "text": [
            "Neural network score on test:\n",
            "               precision    recall  f1-score   support\n",
            "\n",
            "           0       0.59      0.83      0.69       198\n",
            "           1       0.72      0.42      0.53       201\n",
            "\n",
            "    accuracy                           0.62       399\n",
            "   macro avg       0.65      0.63      0.61       399\n",
            "weighted avg       0.65      0.62      0.61       399\n",
            "\n"
          ],
          "name": "stdout"
        }
      ]
    },
    {
      "cell_type": "code",
      "metadata": {
        "id": "lhSvvGBbPfVo",
        "outputId": "e12b37c4-4a0a-44b2-ec68-60340db15038",
        "colab": {
          "base_uri": "https://localhost:8080/",
          "height": 312
        }
      },
      "source": [
        "cm=confusion_matrix(y_test,preds)\n",
        "names = ['bad', 'good'] \n",
        "cm = 100 * cm.astype('float') / cm.sum(axis=-1)[:, np.newaxis]  \n",
        " \n",
        "\n",
        "df = pd.DataFrame(data=cm, columns=names, index=names)\n",
        "g = sn.heatmap(df, annot=True, fmt=\".1f\", linewidths=.5, vmin=0, vmax=100,\n",
        "                    cmap='Blues')\n",
        "g.set_title('Confusion matrix')\n",
        "g.set_ylabel('True label')\n",
        "g.set_xlabel('Predicted label')\n",
        "g.plot()"
      ],
      "execution_count": null,
      "outputs": [
        {
          "output_type": "execute_result",
          "data": {
            "text/plain": [
              "[]"
            ]
          },
          "metadata": {
            "tags": []
          },
          "execution_count": 172
        },
        {
          "output_type": "display_data",
          "data": {
            "image/png": "[encoded data removed]",
            "text/plain": [
              "<Figure size 432x288 with 2 Axes>"
            ]
          },
          "metadata": {
            "tags": [],
            "needs_background": "light"
          }
        }
      ]
    },
    {
      "cell_type": "code",
      "metadata": {
        "id": "oILrT70ooJ6M",
        "outputId": "c4f55c3f-d831-445c-a4ea-111976fc821b",
        "colab": {
          "base_uri": "https://localhost:8080/",
          "height": 235
        }
      },
      "source": [
        "confusion = confusion_matrix(y_test, preds)\n",
        "TP = confusion[1, 1]\n",
        "TN = confusion[0, 0]\n",
        "FP = confusion[0, 1]\n",
        "FN = confusion[1, 0]\n",
        "\n",
        "df_Results.loc[5, \"Model\"] = \"NN #1\"\n",
        "df_Results.loc[5, \"Acc\"] = accuracy_score(y_test, preds)\n",
        "df_Results.loc[5, \"Recall\"] = recall_score(y_test, preds)\n",
        "df_Results.loc[5, \"ROC\"] = roc_auc_score(y_test,preds)\n",
        "df_Results.loc[5, \"TP\"] = TP\n",
        "df_Results.loc[5, \"FN\"] = FN\n",
        "\n",
        "df_Results.head(10)"
      ],
      "execution_count": null,
      "outputs": [
        {
          "output_type": "execute_result",
          "data": {
            "text/html": [
              "<div>\n",
              "<style scoped>\n",
              "    .dataframe tbody tr th:only-of-type {\n",
              "        vertical-align: middle;\n",
              "    }\n",
              "\n",
              "    .dataframe tbody tr th {\n",
              "        vertical-align: top;\n",
              "    }\n",
              "\n",
              "    .dataframe thead th {\n",
              "        text-align: right;\n",
              "    }\n",
              "</style>\n",
              "<table border=\"1\" class=\"dataframe\">\n",
              "  <thead>\n",
              "    <tr style=\"text-align: right;\">\n",
              "      <th></th>\n",
              "      <th>Model</th>\n",
              "      <th>Acc</th>\n",
              "      <th>Recall</th>\n",
              "      <th>ROC</th>\n",
              "      <th>TP</th>\n",
              "      <th>FN</th>\n",
              "    </tr>\n",
              "  </thead>\n",
              "  <tbody>\n",
              "    <tr>\n",
              "      <th>0</th>\n",
              "      <td>Decision Tree</td>\n",
              "      <td>0.93985</td>\n",
              "      <td>0.930348</td>\n",
              "      <td>0.939922</td>\n",
              "      <td>187</td>\n",
              "      <td>14</td>\n",
              "    </tr>\n",
              "    <tr>\n",
              "      <th>1</th>\n",
              "      <td>Random Forest</td>\n",
              "      <td>0.924812</td>\n",
              "      <td>0.895522</td>\n",
              "      <td>0.925034</td>\n",
              "      <td>180</td>\n",
              "      <td>21</td>\n",
              "    </tr>\n",
              "    <tr>\n",
              "      <th>2</th>\n",
              "      <td>Naive Bayes</td>\n",
              "      <td>0.729323</td>\n",
              "      <td>0.547264</td>\n",
              "      <td>0.730703</td>\n",
              "      <td>110</td>\n",
              "      <td>91</td>\n",
              "    </tr>\n",
              "    <tr>\n",
              "      <th>3</th>\n",
              "      <td>XGBoost</td>\n",
              "      <td>0.967419</td>\n",
              "      <td>0.970149</td>\n",
              "      <td>0.967398</td>\n",
              "      <td>195</td>\n",
              "      <td>6</td>\n",
              "    </tr>\n",
              "    <tr>\n",
              "      <th>4</th>\n",
              "      <td>KNN</td>\n",
              "      <td>0.566416</td>\n",
              "      <td>0.562189</td>\n",
              "      <td>0.566448</td>\n",
              "      <td>113</td>\n",
              "      <td>88</td>\n",
              "    </tr>\n",
              "    <tr>\n",
              "      <th>5</th>\n",
              "      <td>NN #1</td>\n",
              "      <td>0.62406</td>\n",
              "      <td>0.41791</td>\n",
              "      <td>0.625622</td>\n",
              "      <td>84</td>\n",
              "      <td>117</td>\n",
              "    </tr>\n",
              "  </tbody>\n",
              "</table>\n",
              "</div>"
            ],
            "text/plain": [
              "            Model       Acc    Recall       ROC   TP   FN\n",
              "0  Decision Tree    0.93985  0.930348  0.939922  187   14\n",
              "1   Random Forest  0.924812  0.895522  0.925034  180   21\n",
              "2     Naive Bayes  0.729323  0.547264  0.730703  110   91\n",
              "3         XGBoost  0.967419  0.970149  0.967398  195    6\n",
              "4             KNN  0.566416  0.562189  0.566448  113   88\n",
              "5           NN #1   0.62406   0.41791  0.625622   84  117"
            ]
          },
          "metadata": {
            "tags": []
          },
          "execution_count": 195
        }
      ]
    },
    {
      "cell_type": "markdown",
      "metadata": {
        "id": "RsBDEylBEKZ0"
      },
      "source": [
        "#KNN со подесени параметри"
      ]
    },
    {
      "cell_type": "code",
      "metadata": {
        "id": "pgXg58TsDaHu",
        "outputId": "2aeba7be-f10a-4be3-d9a5-c2a5db700ef1",
        "colab": {
          "base_uri": "https://localhost:8080/",
          "height": 499
        }
      },
      "source": [
        "from sklearn.model_selection import GridSearchCV\n",
        "\n",
        "param_KNN = {\"n_neighbors\": np.arange(1, 20),\n",
        "              \"weights\": ['uniform','distance']}\n",
        "\n",
        "# Instantiate the GridSearchCV object: logreg_cv\n",
        "KNN_cv = GridSearchCV(knn_model, param_KNN, cv=5, scoring='roc_auc')\n",
        "\n",
        "# Fit it to the data\n",
        "KNN_cv.fit(xtrain, ytrain)\n",
        "\n",
        "# Print the tuned parameters and score\n",
        "print(\"Tuned KNN Parameters: {}\".format(KNN_cv.best_params_)) \n",
        "print(\"Best score is {}\".format(KNN_cv.best_score_))\n",
        "print(classification_report(y_test, KNN_cv.predict(X_test) ))\n",
        "\n",
        "cm=confusion_matrix(y_test,KNN_cv.predict(X_test))\n",
        "names = ['bad', 'good'] \n",
        "\n",
        "cm = 100 * cm.astype('float') / cm.sum(axis=-1)[:, np.newaxis]  \n",
        "\n",
        "df = pd.DataFrame(data=cm, columns=names, index=names)\n",
        "g = sn.heatmap(df, annot=True, fmt=\".1f\", linewidths=.5, vmin=0, vmax=100,\n",
        "                    cmap='Blues')\n",
        "g.set_title('Confusion matrix')\n",
        "g.set_ylabel('True label')\n",
        "g.set_xlabel('Predicted label')\n",
        "g.plot()"
      ],
      "execution_count": null,
      "outputs": [
        {
          "output_type": "stream",
          "text": [
            "Tuned KNN Parameters: {'n_neighbors': 17, 'weights': 'uniform'}\n",
            "Best score is 0.6521535076479192\n",
            "              precision    recall  f1-score   support\n",
            "\n",
            "           0       0.60      0.69      0.64       198\n",
            "           1       0.64      0.54      0.58       201\n",
            "\n",
            "    accuracy                           0.61       399\n",
            "   macro avg       0.62      0.61      0.61       399\n",
            "weighted avg       0.62      0.61      0.61       399\n",
            "\n"
          ],
          "name": "stdout"
        },
        {
          "output_type": "execute_result",
          "data": {
            "text/plain": [
              "[]"
            ]
          },
          "metadata": {
            "tags": []
          },
          "execution_count": 173
        },
        {
          "output_type": "display_data",
          "data": {
            "image/png": "[encoded data removed]",
            "text/plain": [
              "<Figure size 432x288 with 2 Axes>"
            ]
          },
          "metadata": {
            "tags": [],
            "needs_background": "light"
          }
        }
      ]
    },
    {
      "cell_type": "code",
      "metadata": {
        "id": "xlm1xT0HEWji",
        "outputId": "a9a0b6b8-9ec0-43de-ff61-9adfa2b2c089",
        "colab": {
          "base_uri": "https://localhost:8080/",
          "height": 266
        }
      },
      "source": [
        "confusion = confusion_matrix(y_test, KNN_cv.predict(X_test))\n",
        "TP = confusion[1, 1]\n",
        "TN = confusion[0, 0]\n",
        "FP = confusion[0, 1]\n",
        "FN = confusion[1, 0]\n",
        "\n",
        "df_Results.loc[6, \"Model\"] = \"Tuned KNN\"\n",
        "df_Results.loc[6, \"Acc\"] = accuracy_score(y_test, KNN_cv.predict(X_test))\n",
        "df_Results.loc[6, \"Recall\"] = recall_score(y_test, KNN_cv.predict(X_test))\n",
        "df_Results.loc[6, \"ROC\"] = roc_auc_score(y_test,KNN_cv.predict(X_test))\n",
        "df_Results.loc[6, \"TP\"] = TP\n",
        "df_Results.loc[6, \"FN\"] = FN\n",
        "\n",
        "df_Results.head(10)"
      ],
      "execution_count": null,
      "outputs": [
        {
          "output_type": "execute_result",
          "data": {
            "text/html": [
              "<div>\n",
              "<style scoped>\n",
              "    .dataframe tbody tr th:only-of-type {\n",
              "        vertical-align: middle;\n",
              "    }\n",
              "\n",
              "    .dataframe tbody tr th {\n",
              "        vertical-align: top;\n",
              "    }\n",
              "\n",
              "    .dataframe thead th {\n",
              "        text-align: right;\n",
              "    }\n",
              "</style>\n",
              "<table border=\"1\" class=\"dataframe\">\n",
              "  <thead>\n",
              "    <tr style=\"text-align: right;\">\n",
              "      <th></th>\n",
              "      <th>Model</th>\n",
              "      <th>Acc</th>\n",
              "      <th>Recall</th>\n",
              "      <th>ROC</th>\n",
              "      <th>TP</th>\n",
              "      <th>FN</th>\n",
              "    </tr>\n",
              "  </thead>\n",
              "  <tbody>\n",
              "    <tr>\n",
              "      <th>0</th>\n",
              "      <td>Decision Tree</td>\n",
              "      <td>0.93985</td>\n",
              "      <td>0.930348</td>\n",
              "      <td>0.939922</td>\n",
              "      <td>187</td>\n",
              "      <td>14</td>\n",
              "    </tr>\n",
              "    <tr>\n",
              "      <th>1</th>\n",
              "      <td>Random Forest</td>\n",
              "      <td>0.924812</td>\n",
              "      <td>0.895522</td>\n",
              "      <td>0.925034</td>\n",
              "      <td>180</td>\n",
              "      <td>21</td>\n",
              "    </tr>\n",
              "    <tr>\n",
              "      <th>2</th>\n",
              "      <td>Naive Bayes</td>\n",
              "      <td>0.729323</td>\n",
              "      <td>0.547264</td>\n",
              "      <td>0.730703</td>\n",
              "      <td>110</td>\n",
              "      <td>91</td>\n",
              "    </tr>\n",
              "    <tr>\n",
              "      <th>3</th>\n",
              "      <td>XGBoost</td>\n",
              "      <td>0.967419</td>\n",
              "      <td>0.970149</td>\n",
              "      <td>0.967398</td>\n",
              "      <td>195</td>\n",
              "      <td>6</td>\n",
              "    </tr>\n",
              "    <tr>\n",
              "      <th>4</th>\n",
              "      <td>KNN</td>\n",
              "      <td>0.566416</td>\n",
              "      <td>0.562189</td>\n",
              "      <td>0.566448</td>\n",
              "      <td>113</td>\n",
              "      <td>88</td>\n",
              "    </tr>\n",
              "    <tr>\n",
              "      <th>5</th>\n",
              "      <td>NN #1</td>\n",
              "      <td>0.62406</td>\n",
              "      <td>0.41791</td>\n",
              "      <td>0.625622</td>\n",
              "      <td>84</td>\n",
              "      <td>117</td>\n",
              "    </tr>\n",
              "    <tr>\n",
              "      <th>6</th>\n",
              "      <td>Tuned KNN</td>\n",
              "      <td>0.614035</td>\n",
              "      <td>0.537313</td>\n",
              "      <td>0.614616</td>\n",
              "      <td>108</td>\n",
              "      <td>93</td>\n",
              "    </tr>\n",
              "  </tbody>\n",
              "</table>\n",
              "</div>"
            ],
            "text/plain": [
              "            Model       Acc    Recall       ROC   TP   FN\n",
              "0  Decision Tree    0.93985  0.930348  0.939922  187   14\n",
              "1   Random Forest  0.924812  0.895522  0.925034  180   21\n",
              "2     Naive Bayes  0.729323  0.547264  0.730703  110   91\n",
              "3         XGBoost  0.967419  0.970149  0.967398  195    6\n",
              "4             KNN  0.566416  0.562189  0.566448  113   88\n",
              "5           NN #1   0.62406   0.41791  0.625622   84  117\n",
              "6       Tuned KNN  0.614035  0.537313  0.614616  108   93"
            ]
          },
          "metadata": {
            "tags": []
          },
          "execution_count": 196
        }
      ]
    },
    {
      "cell_type": "markdown",
      "metadata": {
        "id": "Frkj--yqNDw2"
      },
      "source": [
        "#Random Forest со подесени параметри"
      ]
    },
    {
      "cell_type": "code",
      "metadata": {
        "id": "PpqCJzObKuwG",
        "outputId": "9f1a090c-4db5-4aa1-9b39-1585aa17e745",
        "colab": {
          "base_uri": "https://localhost:8080/",
          "height": 686
        }
      },
      "source": [
        "\n",
        "from sklearn.ensemble import BaggingClassifier\n",
        "from sklearn.model_selection import StratifiedKFold, RandomizedSearchCV\n",
        "\n",
        "kf = StratifiedKFold(n_splits=5, shuffle=True)\n",
        "\n",
        "parameters5 = {\"base_estimator__max_depth\": [3,5,None],\n",
        "          \"base_estimator__max_features\": [None, \"auto\"],\n",
        "          \"base_estimator__min_samples_leaf\": [1, 5],\n",
        "          \"base_estimator__min_samples_split\": [2, 5],\n",
        "          'bootstrap_features': [False, True],\n",
        "          'max_features': [0.5, 1.0],\n",
        "          'max_samples': [0.5, 1.0],\n",
        "          'n_estimators': [2, 5],\n",
        "         }\n",
        "\n",
        "model_rf = BaggingClassifier(DecisionTreeClassifier(random_state=42))\n",
        "\n",
        "gs5 = RandomizedSearchCV(model_rf, parameters5, scoring='recall', n_jobs=3, cv=kf)\n",
        "gs5.fit(xtrain, ytrain)\n",
        "\n",
        "print(\"Best score: %0.3f\" % gs5.best_score_) \n",
        "print(\"Best parameters set:\" )\n",
        "best_parameters5 = gs5.best_estimator_.get_params()\n",
        "for param_name5 in sorted (parameters5 . keys()): \n",
        "                    print(\"\\t %s: %r\" % (param_name5, best_parameters5[param_name5]))\n",
        "        \n",
        "y_pred = gs5.predict(X_test)\n",
        "\n",
        "print(classification_report(y_test, y_pred))\n",
        "print(\"accuracy: \",accuracy_score(y_test, y_pred))\n",
        "print (\"\\n\")\n",
        "# Визуелизација со матрица на конфузија \n",
        "cm=confusion_matrix(y_test,y_pred)\n",
        "names = ['bad', 'good'] \n",
        "\n",
        "cm = 100 * cm.astype('float') / cm.sum(axis=-1)[:, np.newaxis]  \n",
        "\n",
        "df = pd.DataFrame(data=cm, columns=names, index=names)\n",
        "g = sn.heatmap(df, annot=True, fmt=\".1f\", linewidths=.5, vmin=0, vmax=100,\n",
        "                    cmap='Blues')\n",
        "g.set_title('Confusion matrix')\n",
        "g.set_ylabel('True label')\n",
        "g.set_xlabel('Predicted label')\n",
        "g.plot()\n"
      ],
      "execution_count": null,
      "outputs": [
        {
          "output_type": "stream",
          "text": [
            "Best score: 0.890\n",
            "Best parameters set:\n",
            "\t base_estimator__max_depth: None\n",
            "\t base_estimator__max_features: None\n",
            "\t base_estimator__min_samples_leaf: 1\n",
            "\t base_estimator__min_samples_split: 2\n",
            "\t bootstrap_features: False\n",
            "\t max_features: 0.5\n",
            "\t max_samples: 1.0\n",
            "\t n_estimators: 5\n",
            "              precision    recall  f1-score   support\n",
            "\n",
            "           0       0.97      0.96      0.96       198\n",
            "           1       0.96      0.97      0.97       201\n",
            "\n",
            "    accuracy                           0.96       399\n",
            "   macro avg       0.96      0.96      0.96       399\n",
            "weighted avg       0.96      0.96      0.96       399\n",
            "\n",
            "accuracy:  0.9649122807017544\n",
            "\n",
            "\n"
          ],
          "name": "stdout"
        },
        {
          "output_type": "execute_result",
          "data": {
            "text/plain": [
              "[]"
            ]
          },
          "metadata": {
            "tags": []
          },
          "execution_count": 186
        },
        {
          "output_type": "display_data",
          "data": {
            "image/png": "[encoded data removed]",
            "text/plain": [
              "<Figure size 432x288 with 2 Axes>"
            ]
          },
          "metadata": {
            "tags": [],
            "needs_background": "light"
          }
        }
      ]
    },
    {
      "cell_type": "code",
      "metadata": {
        "id": "fVHfLXxnKtQ8",
        "outputId": "45961500-1d0c-4931-9443-87fc77f875a7",
        "colab": {
          "base_uri": "https://localhost:8080/",
          "height": 297
        }
      },
      "source": [
        "confusion = confusion_matrix(y_test, y_pred)\n",
        "TP = confusion[1, 1]\n",
        "TN = confusion[0, 0]\n",
        "FP = confusion[0, 1]\n",
        "FN = confusion[1, 0]\n",
        "\n",
        "df_Results.loc[7, \"Model\"] = \"Tuned Random Forest\"\n",
        "df_Results.loc[7, \"Acc\"] = accuracy_score(y_test, y_pred)\n",
        "df_Results.loc[7, \"Recall\"] = recall_score(y_test, y_pred)\n",
        "df_Results.loc[7, \"ROC\"] = roc_auc_score(y_test,y_pred)\n",
        "df_Results.loc[7, \"TP\"] = TP\n",
        "df_Results.loc[7, \"FN\"] = FN\n",
        "\n",
        "df_Results.head(10)"
      ],
      "execution_count": null,
      "outputs": [
        {
          "output_type": "execute_result",
          "data": {
            "text/html": [
              "<div>\n",
              "<style scoped>\n",
              "    .dataframe tbody tr th:only-of-type {\n",
              "        vertical-align: middle;\n",
              "    }\n",
              "\n",
              "    .dataframe tbody tr th {\n",
              "        vertical-align: top;\n",
              "    }\n",
              "\n",
              "    .dataframe thead th {\n",
              "        text-align: right;\n",
              "    }\n",
              "</style>\n",
              "<table border=\"1\" class=\"dataframe\">\n",
              "  <thead>\n",
              "    <tr style=\"text-align: right;\">\n",
              "      <th></th>\n",
              "      <th>Model</th>\n",
              "      <th>Acc</th>\n",
              "      <th>Recall</th>\n",
              "      <th>ROC</th>\n",
              "      <th>TP</th>\n",
              "      <th>FN</th>\n",
              "    </tr>\n",
              "  </thead>\n",
              "  <tbody>\n",
              "    <tr>\n",
              "      <th>0</th>\n",
              "      <td>Decision Tree</td>\n",
              "      <td>0.93985</td>\n",
              "      <td>0.930348</td>\n",
              "      <td>0.939922</td>\n",
              "      <td>187</td>\n",
              "      <td>14</td>\n",
              "    </tr>\n",
              "    <tr>\n",
              "      <th>1</th>\n",
              "      <td>Random Forest</td>\n",
              "      <td>0.924812</td>\n",
              "      <td>0.895522</td>\n",
              "      <td>0.925034</td>\n",
              "      <td>180</td>\n",
              "      <td>21</td>\n",
              "    </tr>\n",
              "    <tr>\n",
              "      <th>2</th>\n",
              "      <td>Naive Bayes</td>\n",
              "      <td>0.729323</td>\n",
              "      <td>0.547264</td>\n",
              "      <td>0.730703</td>\n",
              "      <td>110</td>\n",
              "      <td>91</td>\n",
              "    </tr>\n",
              "    <tr>\n",
              "      <th>3</th>\n",
              "      <td>XGBoost</td>\n",
              "      <td>0.967419</td>\n",
              "      <td>0.970149</td>\n",
              "      <td>0.967398</td>\n",
              "      <td>195</td>\n",
              "      <td>6</td>\n",
              "    </tr>\n",
              "    <tr>\n",
              "      <th>4</th>\n",
              "      <td>KNN</td>\n",
              "      <td>0.566416</td>\n",
              "      <td>0.562189</td>\n",
              "      <td>0.566448</td>\n",
              "      <td>113</td>\n",
              "      <td>88</td>\n",
              "    </tr>\n",
              "    <tr>\n",
              "      <th>5</th>\n",
              "      <td>NN #1</td>\n",
              "      <td>0.62406</td>\n",
              "      <td>0.41791</td>\n",
              "      <td>0.625622</td>\n",
              "      <td>84</td>\n",
              "      <td>117</td>\n",
              "    </tr>\n",
              "    <tr>\n",
              "      <th>6</th>\n",
              "      <td>Tuned KNN</td>\n",
              "      <td>0.614035</td>\n",
              "      <td>0.537313</td>\n",
              "      <td>0.614616</td>\n",
              "      <td>108</td>\n",
              "      <td>93</td>\n",
              "    </tr>\n",
              "    <tr>\n",
              "      <th>7</th>\n",
              "      <td>Tuned Random Forest</td>\n",
              "      <td>0.964912</td>\n",
              "      <td>0.970149</td>\n",
              "      <td>0.964873</td>\n",
              "      <td>195</td>\n",
              "      <td>6</td>\n",
              "    </tr>\n",
              "  </tbody>\n",
              "</table>\n",
              "</div>"
            ],
            "text/plain": [
              "                 Model       Acc    Recall       ROC   TP   FN\n",
              "0       Decision Tree    0.93985  0.930348  0.939922  187   14\n",
              "1        Random Forest  0.924812  0.895522  0.925034  180   21\n",
              "2          Naive Bayes  0.729323  0.547264  0.730703  110   91\n",
              "3              XGBoost  0.967419  0.970149  0.967398  195    6\n",
              "4                  KNN  0.566416  0.562189  0.566448  113   88\n",
              "5                NN #1   0.62406   0.41791  0.625622   84  117\n",
              "6            Tuned KNN  0.614035  0.537313  0.614616  108   93\n",
              "7  Tuned Random Forest  0.964912  0.970149  0.964873  195    6"
            ]
          },
          "metadata": {
            "tags": []
          },
          "execution_count": 197
        }
      ]
    },
    {
      "cell_type": "code",
      "metadata": {
        "id": "7FqaGD2GsUYb"
      },
      "source": [
        "cd drive/My\\ Drive"
      ],
      "execution_count": null,
      "outputs": []
    },
    {
      "cell_type": "code",
      "metadata": {
        "id": "fFNmyN-hrKx7"
      },
      "source": [
        "df_Results.to_csv(\"modeli.csv\")"
      ],
      "execution_count": null,
      "outputs": []
    },
    {
      "cell_type": "code",
      "metadata": {
        "id": "0k9fPAwRrpWQ"
      },
      "source": [
        "ls"
      ],
      "execution_count": null,
      "outputs": []
    },
    {
      "cell_type": "code",
      "metadata": {
        "id": "lUv7-y5RrtH_",
        "outputId": "f6b6e1cb-1dcb-480e-db88-d57d8df15500",
        "colab": {
          "base_uri": "https://localhost:8080/",
          "height": 297
        }
      },
      "source": [
        "modeli = pd.read_csv(\"/content/drive/My Drive/modeli.csv\")\n",
        "modeli.head(10)"
      ],
      "execution_count": null,
      "outputs": [
        {
          "output_type": "execute_result",
          "data": {
            "text/html": [
              "<div>\n",
              "<style scoped>\n",
              "    .dataframe tbody tr th:only-of-type {\n",
              "        vertical-align: middle;\n",
              "    }\n",
              "\n",
              "    .dataframe tbody tr th {\n",
              "        vertical-align: top;\n",
              "    }\n",
              "\n",
              "    .dataframe thead th {\n",
              "        text-align: right;\n",
              "    }\n",
              "</style>\n",
              "<table border=\"1\" class=\"dataframe\">\n",
              "  <thead>\n",
              "    <tr style=\"text-align: right;\">\n",
              "      <th></th>\n",
              "      <th>Unnamed: 0</th>\n",
              "      <th>Model</th>\n",
              "      <th>Acc</th>\n",
              "      <th>Recall</th>\n",
              "      <th>ROC</th>\n",
              "      <th>TP</th>\n",
              "      <th>FN</th>\n",
              "    </tr>\n",
              "  </thead>\n",
              "  <tbody>\n",
              "    <tr>\n",
              "      <th>0</th>\n",
              "      <td>0</td>\n",
              "      <td>Decision Tree</td>\n",
              "      <td>0.939850</td>\n",
              "      <td>0.930348</td>\n",
              "      <td>0.939922</td>\n",
              "      <td>187</td>\n",
              "      <td>14</td>\n",
              "    </tr>\n",
              "    <tr>\n",
              "      <th>1</th>\n",
              "      <td>1</td>\n",
              "      <td>Random Forest</td>\n",
              "      <td>0.924812</td>\n",
              "      <td>0.895522</td>\n",
              "      <td>0.925034</td>\n",
              "      <td>180</td>\n",
              "      <td>21</td>\n",
              "    </tr>\n",
              "    <tr>\n",
              "      <th>2</th>\n",
              "      <td>2</td>\n",
              "      <td>Naive Bayes</td>\n",
              "      <td>0.729323</td>\n",
              "      <td>0.547264</td>\n",
              "      <td>0.730703</td>\n",
              "      <td>110</td>\n",
              "      <td>91</td>\n",
              "    </tr>\n",
              "    <tr>\n",
              "      <th>3</th>\n",
              "      <td>3</td>\n",
              "      <td>XGBoost</td>\n",
              "      <td>0.967419</td>\n",
              "      <td>0.970149</td>\n",
              "      <td>0.967398</td>\n",
              "      <td>195</td>\n",
              "      <td>6</td>\n",
              "    </tr>\n",
              "    <tr>\n",
              "      <th>4</th>\n",
              "      <td>4</td>\n",
              "      <td>KNN</td>\n",
              "      <td>0.566416</td>\n",
              "      <td>0.562189</td>\n",
              "      <td>0.566448</td>\n",
              "      <td>113</td>\n",
              "      <td>88</td>\n",
              "    </tr>\n",
              "    <tr>\n",
              "      <th>5</th>\n",
              "      <td>5</td>\n",
              "      <td>NN #1</td>\n",
              "      <td>0.624060</td>\n",
              "      <td>0.417910</td>\n",
              "      <td>0.625622</td>\n",
              "      <td>84</td>\n",
              "      <td>117</td>\n",
              "    </tr>\n",
              "    <tr>\n",
              "      <th>6</th>\n",
              "      <td>6</td>\n",
              "      <td>Tuned KNN</td>\n",
              "      <td>0.614035</td>\n",
              "      <td>0.537313</td>\n",
              "      <td>0.614616</td>\n",
              "      <td>108</td>\n",
              "      <td>93</td>\n",
              "    </tr>\n",
              "    <tr>\n",
              "      <th>7</th>\n",
              "      <td>7</td>\n",
              "      <td>Tuned Random Forest</td>\n",
              "      <td>0.964912</td>\n",
              "      <td>0.970149</td>\n",
              "      <td>0.964873</td>\n",
              "      <td>195</td>\n",
              "      <td>6</td>\n",
              "    </tr>\n",
              "  </tbody>\n",
              "</table>\n",
              "</div>"
            ],
            "text/plain": [
              "   Unnamed: 0                Model       Acc    Recall       ROC   TP   FN\n",
              "0           0       Decision Tree   0.939850  0.930348  0.939922  187   14\n",
              "1           1        Random Forest  0.924812  0.895522  0.925034  180   21\n",
              "2           2          Naive Bayes  0.729323  0.547264  0.730703  110   91\n",
              "3           3              XGBoost  0.967419  0.970149  0.967398  195    6\n",
              "4           4                  KNN  0.566416  0.562189  0.566448  113   88\n",
              "5           5                NN #1  0.624060  0.417910  0.625622   84  117\n",
              "6           6            Tuned KNN  0.614035  0.537313  0.614616  108   93\n",
              "7           7  Tuned Random Forest  0.964912  0.970149  0.964873  195    6"
            ]
          },
          "metadata": {
            "tags": []
          },
          "execution_count": 202
        }
      ]
    }
  ]
}